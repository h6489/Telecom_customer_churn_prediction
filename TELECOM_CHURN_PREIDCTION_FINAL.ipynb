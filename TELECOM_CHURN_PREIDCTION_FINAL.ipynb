{
  "cells": [
    {
      "cell_type": "markdown",
      "metadata": {
        "id": "a06f12b4"
      },
      "source": [
        "# Dataset and Data Dictionary\n",
        "\n",
        "The data dictionary contains meanings of abbreviations. Some frequent ones are loc (local), IC (incoming), OG (outgoing), T2T (telecom operator to telecom operator), T2O (telecom operator to another operator), RECH (recharge) etc.\n",
        "\n",
        "The attributes containing 6, 7, 8, 9 as suffixes imply that those correspond to the months 6, 7, 8, 9 respectively."
      ],
      "id": "a06f12b4"
    },
    {
      "cell_type": "markdown",
      "metadata": {
        "id": "d1e0df7d"
      },
      "source": [
        "Pandas is one of the most popular open-source frameworks available for Python and is used for Data Analysis.Series and DataFrames are the dataobjects of Pandas.\n",
        "Numpy is the arraybased library and is used for performing calculations and computations.\n",
        "matplot lib is a visualiztion library for visualizing the various basic plots like bar,line,pier,scatter plot etc.\n",
        "seaborn is based on the matplotlib and is bases on statistics analysis to summarize the data.\n",
        "collection is a python container used to store the data.\n",
        "Counter is imported from the collections and will count how many times equivalent values are added.Counter can be initialized in many ways.\n",
        "sklearn is a machine learning library of pyhton.It supports both supervised and unsupervised machine learning."
      ],
      "id": "d1e0df7d"
    },
    {
      "cell_type": "markdown",
      "metadata": {
        "id": "dc929d12"
      },
      "source": [
        "Import the required libraries"
      ],
      "id": "dc929d12"
    },
    {
      "cell_type": "code",
      "execution_count": 9,
      "metadata": {
        "colab": {
          "base_uri": "https://localhost:8080/"
        },
        "id": "9kWyWr9FvaX9",
        "outputId": "c55aea51-1ea2-47fb-b000-7cb492799f0d"
      },
      "outputs": [
        {
          "output_type": "stream",
          "name": "stdout",
          "text": [
            "\n",
            "UNRAR 5.50 freeware      Copyright (c) 1993-2017 Alexander Roshal\n",
            "\n",
            "\n",
            "Extracting from /content/telecom_churn_data.rar\n",
            "\n",
            "\n",
            "Would you like to replace the existing file telecom_churn_data.csv\n",
            "79156935 bytes, modified on 2018-10-26 07:31\n",
            "with a new one\n",
            "79156935 bytes, modified on 2018-10-26 07:31\n",
            "\n",
            "[Y]es, [N]o, [A]ll, n[E]ver, [R]ename, [Q]uit Q\n",
            "\n",
            "Program aborted\n"
          ]
        }
      ],
      "source": [
        "!unrar X /content/telecom_churn_data.rar"
      ],
      "id": "9kWyWr9FvaX9"
    },
    {
      "cell_type": "code",
      "execution_count": 3,
      "metadata": {
        "id": "87b3f6aa",
        "colab": {
          "base_uri": "https://localhost:8080/"
        },
        "outputId": "7929f22f-4348-403c-985a-594a545bf931"
      },
      "outputs": [
        {
          "output_type": "stream",
          "name": "stderr",
          "text": [
            "/usr/local/lib/python3.7/dist-packages/statsmodels/tools/_testing.py:19: FutureWarning: pandas.util.testing is deprecated. Use the functions in the public API at pandas.testing instead.\n",
            "  import pandas.util.testing as tm\n"
          ]
        }
      ],
      "source": [
        "import pandas as pd\n",
        "import numpy as np\n",
        "import matplotlib.pyplot as plt\n",
        "import seaborn as sns\n",
        "\n",
        "from collections import Counter\n",
        "\n",
        "from sklearn.model_selection import train_test_split, cross_val_score, StratifiedKFold, RandomizedSearchCV, GridSearchCV\n",
        "\n",
        "import statsmodels.api as sm\n",
        "from sklearn.linear_model import LogisticRegression, RidgeClassifier\n",
        "from sklearn.neighbors import KNeighborsClassifier\n",
        "from sklearn.tree import DecisionTreeClassifier\n",
        "from sklearn.ensemble import RandomForestClassifier, ExtraTreesClassifier, GradientBoostingClassifier, AdaBoostClassifier\n",
        "from xgboost import XGBClassifier\n",
        "\n",
        "from sklearn.metrics import confusion_matrix, classification_report, accuracy_score, precision_score, recall_score, f1_score,roc_auc_score, roc_curve\n",
        "from sklearn.decomposition import PCA\n",
        "\n",
        "%matplotlib inline\n",
        "RANDOM_STATE = 42"
      ],
      "id": "87b3f6aa"
    },
    {
      "cell_type": "markdown",
      "metadata": {
        "id": "abe8b99c"
      },
      "source": [
        "LOADING DATASET"
      ],
      "id": "abe8b99c"
    },
    {
      "cell_type": "markdown",
      "metadata": {
        "id": "78e362cc"
      },
      "source": [
        "The pandas function read_csv() reads in values, where the delimiter is a comma character.\n",
        "This will convert the dataset into dataframe(object of pandas)."
      ],
      "id": "78e362cc"
    },
    {
      "cell_type": "code",
      "execution_count": 4,
      "metadata": {
        "colab": {
          "base_uri": "https://localhost:8080/",
          "height": 423
        },
        "id": "af21c852",
        "outputId": "0e4d8149-3ba5-4d66-ce8b-200568d5276b"
      },
      "outputs": [
        {
          "output_type": "execute_result",
          "data": {
            "text/plain": [
              "                         0           1           2           3           4\n",
              "mobile_number   7000842753  7001865778  7001625959  7001204172  7000142493\n",
              "circle_id              109         109         109         109         109\n",
              "loc_og_t2o_mou         0.0         0.0         0.0         0.0         0.0\n",
              "std_og_t2o_mou         0.0         0.0         0.0         0.0         0.0\n",
              "loc_ic_t2o_mou         0.0         0.0         0.0         0.0         0.0\n",
              "...                    ...         ...         ...         ...         ...\n",
              "aon                    968        1006        1103        2491        1526\n",
              "aug_vbc_3g            30.4         0.0         0.0         0.0         0.0\n",
              "jul_vbc_3g             0.0         0.0         0.0         0.0         0.0\n",
              "jun_vbc_3g           101.2         0.0        4.17         0.0         0.0\n",
              "sep_vbc_3g            3.58         0.0         0.0         0.0         0.0\n",
              "\n",
              "[226 rows x 5 columns]"
            ],
            "text/html": [
              "\n",
              "  <div id=\"df-43e04c2d-14ee-457a-924e-dfbe5d4fd632\">\n",
              "    <div class=\"colab-df-container\">\n",
              "      <div>\n",
              "<style scoped>\n",
              "    .dataframe tbody tr th:only-of-type {\n",
              "        vertical-align: middle;\n",
              "    }\n",
              "\n",
              "    .dataframe tbody tr th {\n",
              "        vertical-align: top;\n",
              "    }\n",
              "\n",
              "    .dataframe thead th {\n",
              "        text-align: right;\n",
              "    }\n",
              "</style>\n",
              "<table border=\"1\" class=\"dataframe\">\n",
              "  <thead>\n",
              "    <tr style=\"text-align: right;\">\n",
              "      <th></th>\n",
              "      <th>0</th>\n",
              "      <th>1</th>\n",
              "      <th>2</th>\n",
              "      <th>3</th>\n",
              "      <th>4</th>\n",
              "    </tr>\n",
              "  </thead>\n",
              "  <tbody>\n",
              "    <tr>\n",
              "      <th>mobile_number</th>\n",
              "      <td>7000842753</td>\n",
              "      <td>7001865778</td>\n",
              "      <td>7001625959</td>\n",
              "      <td>7001204172</td>\n",
              "      <td>7000142493</td>\n",
              "    </tr>\n",
              "    <tr>\n",
              "      <th>circle_id</th>\n",
              "      <td>109</td>\n",
              "      <td>109</td>\n",
              "      <td>109</td>\n",
              "      <td>109</td>\n",
              "      <td>109</td>\n",
              "    </tr>\n",
              "    <tr>\n",
              "      <th>loc_og_t2o_mou</th>\n",
              "      <td>0.0</td>\n",
              "      <td>0.0</td>\n",
              "      <td>0.0</td>\n",
              "      <td>0.0</td>\n",
              "      <td>0.0</td>\n",
              "    </tr>\n",
              "    <tr>\n",
              "      <th>std_og_t2o_mou</th>\n",
              "      <td>0.0</td>\n",
              "      <td>0.0</td>\n",
              "      <td>0.0</td>\n",
              "      <td>0.0</td>\n",
              "      <td>0.0</td>\n",
              "    </tr>\n",
              "    <tr>\n",
              "      <th>loc_ic_t2o_mou</th>\n",
              "      <td>0.0</td>\n",
              "      <td>0.0</td>\n",
              "      <td>0.0</td>\n",
              "      <td>0.0</td>\n",
              "      <td>0.0</td>\n",
              "    </tr>\n",
              "    <tr>\n",
              "      <th>...</th>\n",
              "      <td>...</td>\n",
              "      <td>...</td>\n",
              "      <td>...</td>\n",
              "      <td>...</td>\n",
              "      <td>...</td>\n",
              "    </tr>\n",
              "    <tr>\n",
              "      <th>aon</th>\n",
              "      <td>968</td>\n",
              "      <td>1006</td>\n",
              "      <td>1103</td>\n",
              "      <td>2491</td>\n",
              "      <td>1526</td>\n",
              "    </tr>\n",
              "    <tr>\n",
              "      <th>aug_vbc_3g</th>\n",
              "      <td>30.4</td>\n",
              "      <td>0.0</td>\n",
              "      <td>0.0</td>\n",
              "      <td>0.0</td>\n",
              "      <td>0.0</td>\n",
              "    </tr>\n",
              "    <tr>\n",
              "      <th>jul_vbc_3g</th>\n",
              "      <td>0.0</td>\n",
              "      <td>0.0</td>\n",
              "      <td>0.0</td>\n",
              "      <td>0.0</td>\n",
              "      <td>0.0</td>\n",
              "    </tr>\n",
              "    <tr>\n",
              "      <th>jun_vbc_3g</th>\n",
              "      <td>101.2</td>\n",
              "      <td>0.0</td>\n",
              "      <td>4.17</td>\n",
              "      <td>0.0</td>\n",
              "      <td>0.0</td>\n",
              "    </tr>\n",
              "    <tr>\n",
              "      <th>sep_vbc_3g</th>\n",
              "      <td>3.58</td>\n",
              "      <td>0.0</td>\n",
              "      <td>0.0</td>\n",
              "      <td>0.0</td>\n",
              "      <td>0.0</td>\n",
              "    </tr>\n",
              "  </tbody>\n",
              "</table>\n",
              "<p>226 rows × 5 columns</p>\n",
              "</div>\n",
              "      <button class=\"colab-df-convert\" onclick=\"convertToInteractive('df-43e04c2d-14ee-457a-924e-dfbe5d4fd632')\"\n",
              "              title=\"Convert this dataframe to an interactive table.\"\n",
              "              style=\"display:none;\">\n",
              "        \n",
              "  <svg xmlns=\"http://www.w3.org/2000/svg\" height=\"24px\"viewBox=\"0 0 24 24\"\n",
              "       width=\"24px\">\n",
              "    <path d=\"M0 0h24v24H0V0z\" fill=\"none\"/>\n",
              "    <path d=\"M18.56 5.44l.94 2.06.94-2.06 2.06-.94-2.06-.94-.94-2.06-.94 2.06-2.06.94zm-11 1L8.5 8.5l.94-2.06 2.06-.94-2.06-.94L8.5 2.5l-.94 2.06-2.06.94zm10 10l.94 2.06.94-2.06 2.06-.94-2.06-.94-.94-2.06-.94 2.06-2.06.94z\"/><path d=\"M17.41 7.96l-1.37-1.37c-.4-.4-.92-.59-1.43-.59-.52 0-1.04.2-1.43.59L10.3 9.45l-7.72 7.72c-.78.78-.78 2.05 0 2.83L4 21.41c.39.39.9.59 1.41.59.51 0 1.02-.2 1.41-.59l7.78-7.78 2.81-2.81c.8-.78.8-2.07 0-2.86zM5.41 20L4 18.59l7.72-7.72 1.47 1.35L5.41 20z\"/>\n",
              "  </svg>\n",
              "      </button>\n",
              "      \n",
              "  <style>\n",
              "    .colab-df-container {\n",
              "      display:flex;\n",
              "      flex-wrap:wrap;\n",
              "      gap: 12px;\n",
              "    }\n",
              "\n",
              "    .colab-df-convert {\n",
              "      background-color: #E8F0FE;\n",
              "      border: none;\n",
              "      border-radius: 50%;\n",
              "      cursor: pointer;\n",
              "      display: none;\n",
              "      fill: #1967D2;\n",
              "      height: 32px;\n",
              "      padding: 0 0 0 0;\n",
              "      width: 32px;\n",
              "    }\n",
              "\n",
              "    .colab-df-convert:hover {\n",
              "      background-color: #E2EBFA;\n",
              "      box-shadow: 0px 1px 2px rgba(60, 64, 67, 0.3), 0px 1px 3px 1px rgba(60, 64, 67, 0.15);\n",
              "      fill: #174EA6;\n",
              "    }\n",
              "\n",
              "    [theme=dark] .colab-df-convert {\n",
              "      background-color: #3B4455;\n",
              "      fill: #D2E3FC;\n",
              "    }\n",
              "\n",
              "    [theme=dark] .colab-df-convert:hover {\n",
              "      background-color: #434B5C;\n",
              "      box-shadow: 0px 1px 3px 1px rgba(0, 0, 0, 0.15);\n",
              "      filter: drop-shadow(0px 1px 2px rgba(0, 0, 0, 0.3));\n",
              "      fill: #FFFFFF;\n",
              "    }\n",
              "  </style>\n",
              "\n",
              "      <script>\n",
              "        const buttonEl =\n",
              "          document.querySelector('#df-43e04c2d-14ee-457a-924e-dfbe5d4fd632 button.colab-df-convert');\n",
              "        buttonEl.style.display =\n",
              "          google.colab.kernel.accessAllowed ? 'block' : 'none';\n",
              "\n",
              "        async function convertToInteractive(key) {\n",
              "          const element = document.querySelector('#df-43e04c2d-14ee-457a-924e-dfbe5d4fd632');\n",
              "          const dataTable =\n",
              "            await google.colab.kernel.invokeFunction('convertToInteractive',\n",
              "                                                     [key], {});\n",
              "          if (!dataTable) return;\n",
              "\n",
              "          const docLinkHtml = 'Like what you see? Visit the ' +\n",
              "            '<a target=\"_blank\" href=https://colab.research.google.com/notebooks/data_table.ipynb>data table notebook</a>'\n",
              "            + ' to learn more about interactive tables.';\n",
              "          element.innerHTML = '';\n",
              "          dataTable['output_type'] = 'display_data';\n",
              "          await google.colab.output.renderOutput(dataTable, element);\n",
              "          const docLink = document.createElement('div');\n",
              "          docLink.innerHTML = docLinkHtml;\n",
              "          element.appendChild(docLink);\n",
              "        }\n",
              "      </script>\n",
              "    </div>\n",
              "  </div>\n",
              "  "
            ]
          },
          "metadata": {},
          "execution_count": 4
        }
      ],
      "source": [
        "data=pd.read_csv('telecom_churn_data.csv')\n",
        "#for transpose the datset ,we use .T\n",
        "data.head().T\n"
      ],
      "id": "af21c852"
    },
    {
      "cell_type": "markdown",
      "metadata": {
        "id": "7c3ed2f5"
      },
      "source": [
        "# EDA(EXPLORATORY DATA ANALYSIS)"
      ],
      "id": "7c3ed2f5"
    },
    {
      "cell_type": "markdown",
      "metadata": {
        "id": "36933956"
      },
      "source": [
        "Exploratory Data Analysis (EDA) is an analysis approach that identifies general patterns in the data. \n",
        "These patterns include outliers and features of the data that might be unexpected.\n",
        "\n",
        "EDA is an important first step in any data analysis. Understanding where outliers occur and how variables are related can \n",
        "help one design statistical analyses that yield meaningful results."
      ],
      "id": "36933956"
    },
    {
      "cell_type": "code",
      "execution_count": 5,
      "metadata": {
        "colab": {
          "base_uri": "https://localhost:8080/"
        },
        "id": "63ba5658",
        "outputId": "f862df67-05bf-4ebd-b7d0-8932e0edf031"
      },
      "outputs": [
        {
          "output_type": "execute_result",
          "data": {
            "text/plain": [
              "(99999, 226)"
            ]
          },
          "metadata": {},
          "execution_count": 5
        }
      ],
      "source": [
        "data.shape"
      ],
      "id": "63ba5658"
    },
    {
      "cell_type": "markdown",
      "metadata": {
        "id": "9b9a5ebf"
      },
      "source": [
        "There is 99,999 rows and 226 columns present in the original datasets"
      ],
      "id": "9b9a5ebf"
    },
    {
      "cell_type": "markdown",
      "metadata": {
        "id": "a62487f0"
      },
      "source": [
        "In Python, the NumPy sum() function is used for computing the summation of the total number of items present in the given array.\n",
        "The numPy.where() function is used to locate where exactly is the element with the specified conditions positioned in the array which has been entered. This can be done by using both single argument as well as specifying multiple arguments.\n",
        "np.where(condition)-->It return array of indices of the elements which satisfied the condition.\n"
      ],
      "id": "a62487f0"
    },
    {
      "cell_type": "code",
      "execution_count": 6,
      "metadata": {
        "id": "b8d0e41d"
      },
      "outputs": [],
      "source": [
        "#we are classifying on the bases of sept month\n",
        "churn_cols = ['total_ic_mou_9', 'total_og_mou_9', 'vol_2g_mb_9', 'vol_3g_mb_9']\n",
        "data['churn'] = np.where(data[churn_cols].sum(axis=1)==0,1,0)\n",
        "#if these 4 columns sum is zero then churn will be done i.e.1 and if sum is not zero then churning will not be done i.e.0"
      ],
      "id": "b8d0e41d"
    },
    {
      "cell_type": "markdown",
      "metadata": {
        "id": "48d7d361"
      },
      "source": [
        "data.drop() function Remove rows or columns by specifying label names and corresponding axis, or by specifying directly \n",
        "index or column names. When using a multi-index, labels on different levels can be removed by specifying the level.It returns\n",
        "dataframe after dropping.\n",
        "axis parameter is used to specify whether to drop specific label or columns.axis=1 is used for columns and axis=0 is for labels.\n",
        "str.contains()-->This methid Test if pattern or regex is contained within a string of a Series or Index.It Return boolean Series or Index based on whether a given pattern or regex is contained within a string of a Series or Index."
      ],
      "id": "48d7d361"
    },
    {
      "cell_type": "code",
      "execution_count": 7,
      "metadata": {
        "id": "143bdd6e"
      },
      "outputs": [],
      "source": [
        "regex_str='_9|sep'\n",
        "data=data.drop(data.columns[data.columns.str.contains(regex_str)],axis=1)"
      ],
      "id": "143bdd6e"
    },
    {
      "cell_type": "code",
      "execution_count": 8,
      "metadata": {
        "colab": {
          "base_uri": "https://localhost:8080/"
        },
        "id": "dbacb90a",
        "outputId": "f2cd04cd-19e3-41ee-8b3e-eb03d046a0d1"
      },
      "outputs": [
        {
          "output_type": "execute_result",
          "data": {
            "text/plain": [
              "(99999, 172)"
            ]
          },
          "metadata": {},
          "execution_count": 8
        }
      ],
      "source": [
        "data.shape"
      ],
      "id": "dbacb90a"
    },
    {
      "cell_type": "code",
      "execution_count": 9,
      "metadata": {
        "colab": {
          "base_uri": "https://localhost:8080/",
          "height": 487
        },
        "id": "c30d3465",
        "outputId": "6727c0c9-c3e0-41e6-c121-2d57ebaaf160"
      },
      "outputs": [
        {
          "output_type": "execute_result",
          "data": {
            "text/plain": [
              "       mobile_number  circle_id  loc_og_t2o_mou  std_og_t2o_mou  \\\n",
              "0         7000842753        109             0.0             0.0   \n",
              "1         7001865778        109             0.0             0.0   \n",
              "2         7001625959        109             0.0             0.0   \n",
              "3         7001204172        109             0.0             0.0   \n",
              "4         7000142493        109             0.0             0.0   \n",
              "...              ...        ...             ...             ...   \n",
              "99994     7001548952        109             0.0             0.0   \n",
              "99995     7000607688        109             0.0             0.0   \n",
              "99996     7000087541        109             0.0             0.0   \n",
              "99997     7000498689        109             0.0             0.0   \n",
              "99998     7001905007        109             0.0             0.0   \n",
              "\n",
              "       loc_ic_t2o_mou last_date_of_month_6 last_date_of_month_7  \\\n",
              "0                 0.0            6/30/2014            7/31/2014   \n",
              "1                 0.0            6/30/2014            7/31/2014   \n",
              "2                 0.0            6/30/2014            7/31/2014   \n",
              "3                 0.0            6/30/2014            7/31/2014   \n",
              "4                 0.0            6/30/2014            7/31/2014   \n",
              "...               ...                  ...                  ...   \n",
              "99994             0.0            6/30/2014            7/31/2014   \n",
              "99995             0.0            6/30/2014            7/31/2014   \n",
              "99996             0.0            6/30/2014            7/31/2014   \n",
              "99997             0.0            6/30/2014            7/31/2014   \n",
              "99998             0.0            6/30/2014            7/31/2014   \n",
              "\n",
              "      last_date_of_month_8   arpu_6   arpu_7  ...  sachet_3g_7  sachet_3g_8  \\\n",
              "0                8/31/2014  197.385  214.816  ...            0            0   \n",
              "1                8/31/2014   34.047  355.074  ...            0            0   \n",
              "2                8/31/2014  167.690  189.058  ...            0            0   \n",
              "3                8/31/2014  221.338  251.102  ...            0            0   \n",
              "4                8/31/2014  261.636  309.876  ...            0            0   \n",
              "...                    ...      ...      ...  ...          ...          ...   \n",
              "99994            8/31/2014   18.471   69.161  ...            0            0   \n",
              "99995            8/31/2014  112.201   77.811  ...            0            0   \n",
              "99996            8/31/2014  229.187    0.000  ...            0            0   \n",
              "99997            8/31/2014  322.991  303.386  ...            0            0   \n",
              "99998            8/31/2014  687.065    0.000  ...            0            0   \n",
              "\n",
              "       fb_user_6  fb_user_7  fb_user_8   aon  aug_vbc_3g  jul_vbc_3g  \\\n",
              "0            1.0        1.0        1.0   968       30.40        0.00   \n",
              "1            NaN        1.0        1.0  1006        0.00        0.00   \n",
              "2            NaN        NaN        NaN  1103        0.00        0.00   \n",
              "3            NaN        NaN        NaN  2491        0.00        0.00   \n",
              "4            0.0        NaN        NaN  1526        0.00        0.00   \n",
              "...          ...        ...        ...   ...         ...         ...   \n",
              "99994        NaN        NaN        NaN  3199        0.00        0.00   \n",
              "99995        NaN        NaN        NaN  2052        0.00        0.00   \n",
              "99996        1.0        NaN        NaN   185        0.00        0.00   \n",
              "99997        1.0        1.0        1.0   478     1445.74     1151.03   \n",
              "99998        1.0        NaN        NaN   751        0.00        0.00   \n",
              "\n",
              "       jun_vbc_3g  churn  \n",
              "0          101.20      1  \n",
              "1            0.00      0  \n",
              "2            4.17      0  \n",
              "3            0.00      0  \n",
              "4            0.00      0  \n",
              "...           ...    ...  \n",
              "99994        0.00      0  \n",
              "99995        0.00      0  \n",
              "99996        0.00      1  \n",
              "99997     1173.18      0  \n",
              "99998        0.00      1  \n",
              "\n",
              "[99999 rows x 172 columns]"
            ],
            "text/html": [
              "\n",
              "  <div id=\"df-6c920f18-3b10-4c88-b3ad-4808cd969d5a\">\n",
              "    <div class=\"colab-df-container\">\n",
              "      <div>\n",
              "<style scoped>\n",
              "    .dataframe tbody tr th:only-of-type {\n",
              "        vertical-align: middle;\n",
              "    }\n",
              "\n",
              "    .dataframe tbody tr th {\n",
              "        vertical-align: top;\n",
              "    }\n",
              "\n",
              "    .dataframe thead th {\n",
              "        text-align: right;\n",
              "    }\n",
              "</style>\n",
              "<table border=\"1\" class=\"dataframe\">\n",
              "  <thead>\n",
              "    <tr style=\"text-align: right;\">\n",
              "      <th></th>\n",
              "      <th>mobile_number</th>\n",
              "      <th>circle_id</th>\n",
              "      <th>loc_og_t2o_mou</th>\n",
              "      <th>std_og_t2o_mou</th>\n",
              "      <th>loc_ic_t2o_mou</th>\n",
              "      <th>last_date_of_month_6</th>\n",
              "      <th>last_date_of_month_7</th>\n",
              "      <th>last_date_of_month_8</th>\n",
              "      <th>arpu_6</th>\n",
              "      <th>arpu_7</th>\n",
              "      <th>...</th>\n",
              "      <th>sachet_3g_7</th>\n",
              "      <th>sachet_3g_8</th>\n",
              "      <th>fb_user_6</th>\n",
              "      <th>fb_user_7</th>\n",
              "      <th>fb_user_8</th>\n",
              "      <th>aon</th>\n",
              "      <th>aug_vbc_3g</th>\n",
              "      <th>jul_vbc_3g</th>\n",
              "      <th>jun_vbc_3g</th>\n",
              "      <th>churn</th>\n",
              "    </tr>\n",
              "  </thead>\n",
              "  <tbody>\n",
              "    <tr>\n",
              "      <th>0</th>\n",
              "      <td>7000842753</td>\n",
              "      <td>109</td>\n",
              "      <td>0.0</td>\n",
              "      <td>0.0</td>\n",
              "      <td>0.0</td>\n",
              "      <td>6/30/2014</td>\n",
              "      <td>7/31/2014</td>\n",
              "      <td>8/31/2014</td>\n",
              "      <td>197.385</td>\n",
              "      <td>214.816</td>\n",
              "      <td>...</td>\n",
              "      <td>0</td>\n",
              "      <td>0</td>\n",
              "      <td>1.0</td>\n",
              "      <td>1.0</td>\n",
              "      <td>1.0</td>\n",
              "      <td>968</td>\n",
              "      <td>30.40</td>\n",
              "      <td>0.00</td>\n",
              "      <td>101.20</td>\n",
              "      <td>1</td>\n",
              "    </tr>\n",
              "    <tr>\n",
              "      <th>1</th>\n",
              "      <td>7001865778</td>\n",
              "      <td>109</td>\n",
              "      <td>0.0</td>\n",
              "      <td>0.0</td>\n",
              "      <td>0.0</td>\n",
              "      <td>6/30/2014</td>\n",
              "      <td>7/31/2014</td>\n",
              "      <td>8/31/2014</td>\n",
              "      <td>34.047</td>\n",
              "      <td>355.074</td>\n",
              "      <td>...</td>\n",
              "      <td>0</td>\n",
              "      <td>0</td>\n",
              "      <td>NaN</td>\n",
              "      <td>1.0</td>\n",
              "      <td>1.0</td>\n",
              "      <td>1006</td>\n",
              "      <td>0.00</td>\n",
              "      <td>0.00</td>\n",
              "      <td>0.00</td>\n",
              "      <td>0</td>\n",
              "    </tr>\n",
              "    <tr>\n",
              "      <th>2</th>\n",
              "      <td>7001625959</td>\n",
              "      <td>109</td>\n",
              "      <td>0.0</td>\n",
              "      <td>0.0</td>\n",
              "      <td>0.0</td>\n",
              "      <td>6/30/2014</td>\n",
              "      <td>7/31/2014</td>\n",
              "      <td>8/31/2014</td>\n",
              "      <td>167.690</td>\n",
              "      <td>189.058</td>\n",
              "      <td>...</td>\n",
              "      <td>0</td>\n",
              "      <td>0</td>\n",
              "      <td>NaN</td>\n",
              "      <td>NaN</td>\n",
              "      <td>NaN</td>\n",
              "      <td>1103</td>\n",
              "      <td>0.00</td>\n",
              "      <td>0.00</td>\n",
              "      <td>4.17</td>\n",
              "      <td>0</td>\n",
              "    </tr>\n",
              "    <tr>\n",
              "      <th>3</th>\n",
              "      <td>7001204172</td>\n",
              "      <td>109</td>\n",
              "      <td>0.0</td>\n",
              "      <td>0.0</td>\n",
              "      <td>0.0</td>\n",
              "      <td>6/30/2014</td>\n",
              "      <td>7/31/2014</td>\n",
              "      <td>8/31/2014</td>\n",
              "      <td>221.338</td>\n",
              "      <td>251.102</td>\n",
              "      <td>...</td>\n",
              "      <td>0</td>\n",
              "      <td>0</td>\n",
              "      <td>NaN</td>\n",
              "      <td>NaN</td>\n",
              "      <td>NaN</td>\n",
              "      <td>2491</td>\n",
              "      <td>0.00</td>\n",
              "      <td>0.00</td>\n",
              "      <td>0.00</td>\n",
              "      <td>0</td>\n",
              "    </tr>\n",
              "    <tr>\n",
              "      <th>4</th>\n",
              "      <td>7000142493</td>\n",
              "      <td>109</td>\n",
              "      <td>0.0</td>\n",
              "      <td>0.0</td>\n",
              "      <td>0.0</td>\n",
              "      <td>6/30/2014</td>\n",
              "      <td>7/31/2014</td>\n",
              "      <td>8/31/2014</td>\n",
              "      <td>261.636</td>\n",
              "      <td>309.876</td>\n",
              "      <td>...</td>\n",
              "      <td>0</td>\n",
              "      <td>0</td>\n",
              "      <td>0.0</td>\n",
              "      <td>NaN</td>\n",
              "      <td>NaN</td>\n",
              "      <td>1526</td>\n",
              "      <td>0.00</td>\n",
              "      <td>0.00</td>\n",
              "      <td>0.00</td>\n",
              "      <td>0</td>\n",
              "    </tr>\n",
              "    <tr>\n",
              "      <th>...</th>\n",
              "      <td>...</td>\n",
              "      <td>...</td>\n",
              "      <td>...</td>\n",
              "      <td>...</td>\n",
              "      <td>...</td>\n",
              "      <td>...</td>\n",
              "      <td>...</td>\n",
              "      <td>...</td>\n",
              "      <td>...</td>\n",
              "      <td>...</td>\n",
              "      <td>...</td>\n",
              "      <td>...</td>\n",
              "      <td>...</td>\n",
              "      <td>...</td>\n",
              "      <td>...</td>\n",
              "      <td>...</td>\n",
              "      <td>...</td>\n",
              "      <td>...</td>\n",
              "      <td>...</td>\n",
              "      <td>...</td>\n",
              "      <td>...</td>\n",
              "    </tr>\n",
              "    <tr>\n",
              "      <th>99994</th>\n",
              "      <td>7001548952</td>\n",
              "      <td>109</td>\n",
              "      <td>0.0</td>\n",
              "      <td>0.0</td>\n",
              "      <td>0.0</td>\n",
              "      <td>6/30/2014</td>\n",
              "      <td>7/31/2014</td>\n",
              "      <td>8/31/2014</td>\n",
              "      <td>18.471</td>\n",
              "      <td>69.161</td>\n",
              "      <td>...</td>\n",
              "      <td>0</td>\n",
              "      <td>0</td>\n",
              "      <td>NaN</td>\n",
              "      <td>NaN</td>\n",
              "      <td>NaN</td>\n",
              "      <td>3199</td>\n",
              "      <td>0.00</td>\n",
              "      <td>0.00</td>\n",
              "      <td>0.00</td>\n",
              "      <td>0</td>\n",
              "    </tr>\n",
              "    <tr>\n",
              "      <th>99995</th>\n",
              "      <td>7000607688</td>\n",
              "      <td>109</td>\n",
              "      <td>0.0</td>\n",
              "      <td>0.0</td>\n",
              "      <td>0.0</td>\n",
              "      <td>6/30/2014</td>\n",
              "      <td>7/31/2014</td>\n",
              "      <td>8/31/2014</td>\n",
              "      <td>112.201</td>\n",
              "      <td>77.811</td>\n",
              "      <td>...</td>\n",
              "      <td>0</td>\n",
              "      <td>0</td>\n",
              "      <td>NaN</td>\n",
              "      <td>NaN</td>\n",
              "      <td>NaN</td>\n",
              "      <td>2052</td>\n",
              "      <td>0.00</td>\n",
              "      <td>0.00</td>\n",
              "      <td>0.00</td>\n",
              "      <td>0</td>\n",
              "    </tr>\n",
              "    <tr>\n",
              "      <th>99996</th>\n",
              "      <td>7000087541</td>\n",
              "      <td>109</td>\n",
              "      <td>0.0</td>\n",
              "      <td>0.0</td>\n",
              "      <td>0.0</td>\n",
              "      <td>6/30/2014</td>\n",
              "      <td>7/31/2014</td>\n",
              "      <td>8/31/2014</td>\n",
              "      <td>229.187</td>\n",
              "      <td>0.000</td>\n",
              "      <td>...</td>\n",
              "      <td>0</td>\n",
              "      <td>0</td>\n",
              "      <td>1.0</td>\n",
              "      <td>NaN</td>\n",
              "      <td>NaN</td>\n",
              "      <td>185</td>\n",
              "      <td>0.00</td>\n",
              "      <td>0.00</td>\n",
              "      <td>0.00</td>\n",
              "      <td>1</td>\n",
              "    </tr>\n",
              "    <tr>\n",
              "      <th>99997</th>\n",
              "      <td>7000498689</td>\n",
              "      <td>109</td>\n",
              "      <td>0.0</td>\n",
              "      <td>0.0</td>\n",
              "      <td>0.0</td>\n",
              "      <td>6/30/2014</td>\n",
              "      <td>7/31/2014</td>\n",
              "      <td>8/31/2014</td>\n",
              "      <td>322.991</td>\n",
              "      <td>303.386</td>\n",
              "      <td>...</td>\n",
              "      <td>0</td>\n",
              "      <td>0</td>\n",
              "      <td>1.0</td>\n",
              "      <td>1.0</td>\n",
              "      <td>1.0</td>\n",
              "      <td>478</td>\n",
              "      <td>1445.74</td>\n",
              "      <td>1151.03</td>\n",
              "      <td>1173.18</td>\n",
              "      <td>0</td>\n",
              "    </tr>\n",
              "    <tr>\n",
              "      <th>99998</th>\n",
              "      <td>7001905007</td>\n",
              "      <td>109</td>\n",
              "      <td>0.0</td>\n",
              "      <td>0.0</td>\n",
              "      <td>0.0</td>\n",
              "      <td>6/30/2014</td>\n",
              "      <td>7/31/2014</td>\n",
              "      <td>8/31/2014</td>\n",
              "      <td>687.065</td>\n",
              "      <td>0.000</td>\n",
              "      <td>...</td>\n",
              "      <td>0</td>\n",
              "      <td>0</td>\n",
              "      <td>1.0</td>\n",
              "      <td>NaN</td>\n",
              "      <td>NaN</td>\n",
              "      <td>751</td>\n",
              "      <td>0.00</td>\n",
              "      <td>0.00</td>\n",
              "      <td>0.00</td>\n",
              "      <td>1</td>\n",
              "    </tr>\n",
              "  </tbody>\n",
              "</table>\n",
              "<p>99999 rows × 172 columns</p>\n",
              "</div>\n",
              "      <button class=\"colab-df-convert\" onclick=\"convertToInteractive('df-6c920f18-3b10-4c88-b3ad-4808cd969d5a')\"\n",
              "              title=\"Convert this dataframe to an interactive table.\"\n",
              "              style=\"display:none;\">\n",
              "        \n",
              "  <svg xmlns=\"http://www.w3.org/2000/svg\" height=\"24px\"viewBox=\"0 0 24 24\"\n",
              "       width=\"24px\">\n",
              "    <path d=\"M0 0h24v24H0V0z\" fill=\"none\"/>\n",
              "    <path d=\"M18.56 5.44l.94 2.06.94-2.06 2.06-.94-2.06-.94-.94-2.06-.94 2.06-2.06.94zm-11 1L8.5 8.5l.94-2.06 2.06-.94-2.06-.94L8.5 2.5l-.94 2.06-2.06.94zm10 10l.94 2.06.94-2.06 2.06-.94-2.06-.94-.94-2.06-.94 2.06-2.06.94z\"/><path d=\"M17.41 7.96l-1.37-1.37c-.4-.4-.92-.59-1.43-.59-.52 0-1.04.2-1.43.59L10.3 9.45l-7.72 7.72c-.78.78-.78 2.05 0 2.83L4 21.41c.39.39.9.59 1.41.59.51 0 1.02-.2 1.41-.59l7.78-7.78 2.81-2.81c.8-.78.8-2.07 0-2.86zM5.41 20L4 18.59l7.72-7.72 1.47 1.35L5.41 20z\"/>\n",
              "  </svg>\n",
              "      </button>\n",
              "      \n",
              "  <style>\n",
              "    .colab-df-container {\n",
              "      display:flex;\n",
              "      flex-wrap:wrap;\n",
              "      gap: 12px;\n",
              "    }\n",
              "\n",
              "    .colab-df-convert {\n",
              "      background-color: #E8F0FE;\n",
              "      border: none;\n",
              "      border-radius: 50%;\n",
              "      cursor: pointer;\n",
              "      display: none;\n",
              "      fill: #1967D2;\n",
              "      height: 32px;\n",
              "      padding: 0 0 0 0;\n",
              "      width: 32px;\n",
              "    }\n",
              "\n",
              "    .colab-df-convert:hover {\n",
              "      background-color: #E2EBFA;\n",
              "      box-shadow: 0px 1px 2px rgba(60, 64, 67, 0.3), 0px 1px 3px 1px rgba(60, 64, 67, 0.15);\n",
              "      fill: #174EA6;\n",
              "    }\n",
              "\n",
              "    [theme=dark] .colab-df-convert {\n",
              "      background-color: #3B4455;\n",
              "      fill: #D2E3FC;\n",
              "    }\n",
              "\n",
              "    [theme=dark] .colab-df-convert:hover {\n",
              "      background-color: #434B5C;\n",
              "      box-shadow: 0px 1px 3px 1px rgba(0, 0, 0, 0.15);\n",
              "      filter: drop-shadow(0px 1px 2px rgba(0, 0, 0, 0.3));\n",
              "      fill: #FFFFFF;\n",
              "    }\n",
              "  </style>\n",
              "\n",
              "      <script>\n",
              "        const buttonEl =\n",
              "          document.querySelector('#df-6c920f18-3b10-4c88-b3ad-4808cd969d5a button.colab-df-convert');\n",
              "        buttonEl.style.display =\n",
              "          google.colab.kernel.accessAllowed ? 'block' : 'none';\n",
              "\n",
              "        async function convertToInteractive(key) {\n",
              "          const element = document.querySelector('#df-6c920f18-3b10-4c88-b3ad-4808cd969d5a');\n",
              "          const dataTable =\n",
              "            await google.colab.kernel.invokeFunction('convertToInteractive',\n",
              "                                                     [key], {});\n",
              "          if (!dataTable) return;\n",
              "\n",
              "          const docLinkHtml = 'Like what you see? Visit the ' +\n",
              "            '<a target=\"_blank\" href=https://colab.research.google.com/notebooks/data_table.ipynb>data table notebook</a>'\n",
              "            + ' to learn more about interactive tables.';\n",
              "          element.innerHTML = '';\n",
              "          dataTable['output_type'] = 'display_data';\n",
              "          await google.colab.output.renderOutput(dataTable, element);\n",
              "          const docLink = document.createElement('div');\n",
              "          docLink.innerHTML = docLinkHtml;\n",
              "          element.appendChild(docLink);\n",
              "        }\n",
              "      </script>\n",
              "    </div>\n",
              "  </div>\n",
              "  "
            ]
          },
          "metadata": {},
          "execution_count": 9
        }
      ],
      "source": [
        "data"
      ],
      "id": "c30d3465"
    },
    {
      "cell_type": "code",
      "execution_count": 10,
      "metadata": {
        "colab": {
          "base_uri": "https://localhost:8080/"
        },
        "id": "9b3dfde2",
        "outputId": "cd797a13-2f63-4766-9ab9-79644074c952"
      },
      "outputs": [
        {
          "output_type": "stream",
          "name": "stdout",
          "text": [
            "mobile_number 99999\n",
            "circle_id 1\n",
            "loc_og_t2o_mou 2\n",
            "std_og_t2o_mou 2\n",
            "loc_ic_t2o_mou 2\n",
            "last_date_of_month_6 1\n",
            "last_date_of_month_7 2\n",
            "last_date_of_month_8 2\n",
            "arpu_6 85681\n",
            "arpu_7 85308\n",
            "arpu_8 83615\n",
            "onnet_mou_6 24314\n",
            "onnet_mou_7 24337\n",
            "onnet_mou_8 24090\n",
            "offnet_mou_6 31141\n",
            "offnet_mou_7 31024\n",
            "offnet_mou_8 30909\n",
            "roam_ic_mou_6 6513\n",
            "roam_ic_mou_7 5231\n",
            "roam_ic_mou_8 5316\n",
            "roam_og_mou_6 8039\n",
            "roam_og_mou_7 6640\n",
            "roam_og_mou_8 6505\n",
            "loc_og_t2t_mou_6 13540\n",
            "loc_og_t2t_mou_7 13412\n",
            "loc_og_t2t_mou_8 13337\n",
            "loc_og_t2m_mou_6 20906\n",
            "loc_og_t2m_mou_7 20638\n",
            "loc_og_t2m_mou_8 20545\n",
            "loc_og_t2f_mou_6 3861\n",
            "loc_og_t2f_mou_7 3864\n",
            "loc_og_t2f_mou_8 3808\n",
            "loc_og_t2c_mou_6 2236\n",
            "loc_og_t2c_mou_7 2427\n",
            "loc_og_t2c_mou_8 2517\n",
            "loc_og_mou_6 26373\n",
            "loc_og_mou_7 26092\n",
            "loc_og_mou_8 25991\n",
            "std_og_t2t_mou_6 18245\n",
            "std_og_t2t_mou_7 18568\n",
            "std_og_t2t_mou_8 18292\n",
            "std_og_t2m_mou_6 19735\n",
            "std_og_t2m_mou_7 20019\n",
            "std_og_t2m_mou_8 19787\n",
            "std_og_t2f_mou_6 2451\n",
            "std_og_t2f_mou_7 2392\n",
            "std_og_t2f_mou_8 2334\n",
            "std_og_t2c_mou_6 2\n",
            "std_og_t2c_mou_7 2\n",
            "std_og_t2c_mou_8 2\n",
            "std_og_mou_6 27503\n",
            "std_og_mou_7 27952\n",
            "std_og_mou_8 27492\n",
            "isd_og_mou_6 1382\n",
            "isd_og_mou_7 1381\n",
            "isd_og_mou_8 1277\n",
            "spl_og_mou_6 3966\n",
            "spl_og_mou_7 4397\n",
            "spl_og_mou_8 4391\n",
            "og_others_6 1019\n",
            "og_others_7 188\n",
            "og_others_8 217\n",
            "total_og_mou_6 40327\n",
            "total_og_mou_7 40477\n",
            "total_og_mou_8 40074\n",
            "loc_ic_t2t_mou_6 13541\n",
            "loc_ic_t2t_mou_7 13512\n",
            "loc_ic_t2t_mou_8 13347\n",
            "loc_ic_t2m_mou_6 22066\n",
            "loc_ic_t2m_mou_7 21919\n",
            "loc_ic_t2m_mou_8 21887\n",
            "loc_ic_t2f_mou_6 7251\n",
            "loc_ic_t2f_mou_7 7396\n",
            "loc_ic_t2f_mou_8 7098\n",
            "loc_ic_mou_6 28570\n",
            "loc_ic_mou_7 28391\n",
            "loc_ic_mou_8 28201\n",
            "std_ic_t2t_mou_6 6280\n",
            "std_ic_t2t_mou_7 6482\n",
            "std_ic_t2t_mou_8 6353\n",
            "std_ic_t2m_mou_6 9309\n",
            "std_ic_t2m_mou_7 9465\n",
            "std_ic_t2m_mou_8 9305\n",
            "std_ic_t2f_mou_6 3126\n",
            "std_ic_t2f_mou_7 3210\n",
            "std_ic_t2f_mou_8 3052\n",
            "std_ic_t2o_mou_6 2\n",
            "std_ic_t2o_mou_7 2\n",
            "std_ic_t2o_mou_8 2\n",
            "std_ic_mou_6 11647\n",
            "std_ic_mou_7 11890\n",
            "std_ic_mou_8 11663\n",
            "total_ic_mou_6 32247\n",
            "total_ic_mou_7 32242\n",
            "total_ic_mou_8 32128\n",
            "spl_ic_mou_6 85\n",
            "spl_ic_mou_7 108\n",
            "spl_ic_mou_8 103\n",
            "isd_ic_mou_6 5522\n",
            "isd_ic_mou_7 5790\n",
            "isd_ic_mou_8 5845\n",
            "ic_others_6 1818\n",
            "ic_others_7 2003\n",
            "ic_others_8 1897\n",
            "total_rech_num_6 102\n",
            "total_rech_num_7 101\n",
            "total_rech_num_8 96\n",
            "total_rech_amt_6 2305\n",
            "total_rech_amt_7 2329\n",
            "total_rech_amt_8 2347\n",
            "max_rech_amt_6 202\n",
            "max_rech_amt_7 183\n",
            "max_rech_amt_8 213\n",
            "date_of_last_rech_6 31\n",
            "date_of_last_rech_7 32\n",
            "date_of_last_rech_8 32\n",
            "last_day_rch_amt_6 186\n",
            "last_day_rch_amt_7 173\n",
            "last_day_rch_amt_8 199\n",
            "date_of_last_rech_data_6 31\n",
            "date_of_last_rech_data_7 32\n",
            "date_of_last_rech_data_8 32\n",
            "total_rech_data_6 38\n",
            "total_rech_data_7 43\n",
            "total_rech_data_8 47\n",
            "max_rech_data_6 49\n",
            "max_rech_data_7 49\n",
            "max_rech_data_8 51\n",
            "count_rech_2g_6 32\n",
            "count_rech_2g_7 37\n",
            "count_rech_2g_8 35\n",
            "count_rech_3g_6 26\n",
            "count_rech_3g_7 29\n",
            "count_rech_3g_8 30\n",
            "av_rech_amt_data_6 888\n",
            "av_rech_amt_data_7 962\n",
            "av_rech_amt_data_8 974\n",
            "vol_2g_mb_6 15201\n",
            "vol_2g_mb_7 15114\n",
            "vol_2g_mb_8 14994\n",
            "vol_3g_mb_6 13773\n",
            "vol_3g_mb_7 14519\n",
            "vol_3g_mb_8 14960\n",
            "arpu_3g_6 7419\n",
            "arpu_3g_7 7247\n",
            "arpu_3g_8 7788\n",
            "arpu_2g_6 6991\n",
            "arpu_2g_7 6587\n",
            "arpu_2g_8 6653\n",
            "night_pck_user_6 3\n",
            "night_pck_user_7 3\n",
            "night_pck_user_8 3\n",
            "monthly_2g_6 5\n",
            "monthly_2g_7 6\n",
            "monthly_2g_8 6\n",
            "sachet_2g_6 32\n",
            "sachet_2g_7 35\n",
            "sachet_2g_8 34\n",
            "monthly_3g_6 12\n",
            "monthly_3g_7 15\n",
            "monthly_3g_8 12\n",
            "sachet_3g_6 25\n",
            "sachet_3g_7 27\n",
            "sachet_3g_8 29\n",
            "fb_user_6 3\n",
            "fb_user_7 3\n",
            "fb_user_8 3\n",
            "aon 3489\n",
            "aug_vbc_3g 14676\n",
            "jul_vbc_3g 14162\n",
            "jun_vbc_3g 13312\n",
            "churn 2\n"
          ]
        }
      ],
      "source": [
        "# Get the unique count\n",
        "for col in data.columns:\n",
        "    print(col, len(data[col].unique()))"
      ],
      "id": "9b3dfde2"
    },
    {
      "cell_type": "code",
      "execution_count": 11,
      "metadata": {
        "colab": {
          "base_uri": "https://localhost:8080/",
          "height": 270
        },
        "id": "0eccad50",
        "outputId": "3af1d952-2b26-4922-c8b3-004b54e64fe2",
        "scrolled": true
      },
      "outputs": [
        {
          "output_type": "execute_result",
          "data": {
            "text/plain": [
              "   mobile_number  circle_id last_date_of_month_6 last_date_of_month_7  \\\n",
              "0     7000842753        109            6/30/2014            7/31/2014   \n",
              "1     7001865778        109            6/30/2014            7/31/2014   \n",
              "2     7001625959        109            6/30/2014            7/31/2014   \n",
              "3     7001204172        109            6/30/2014            7/31/2014   \n",
              "4     7000142493        109            6/30/2014            7/31/2014   \n",
              "\n",
              "  last_date_of_month_8  loc_og_t2o_mou  std_og_t2o_mou  loc_ic_t2o_mou  \\\n",
              "0            8/31/2014             0.0             0.0             0.0   \n",
              "1            8/31/2014             0.0             0.0             0.0   \n",
              "2            8/31/2014             0.0             0.0             0.0   \n",
              "3            8/31/2014             0.0             0.0             0.0   \n",
              "4            8/31/2014             0.0             0.0             0.0   \n",
              "\n",
              "   std_og_t2c_mou_6  std_og_t2c_mou_7  std_og_t2c_mou_8  std_ic_t2o_mou_6  \\\n",
              "0               NaN               NaN               0.0               NaN   \n",
              "1               0.0               0.0               0.0               0.0   \n",
              "2               0.0               0.0               0.0               0.0   \n",
              "3               0.0               0.0               0.0               0.0   \n",
              "4               0.0               0.0               0.0               0.0   \n",
              "\n",
              "   std_ic_t2o_mou_7  std_ic_t2o_mou_8  \n",
              "0               NaN               0.0  \n",
              "1               0.0               0.0  \n",
              "2               0.0               0.0  \n",
              "3               0.0               0.0  \n",
              "4               0.0               0.0  "
            ],
            "text/html": [
              "\n",
              "  <div id=\"df-bc6ca15a-86d7-45f7-9b16-2b427961f680\">\n",
              "    <div class=\"colab-df-container\">\n",
              "      <div>\n",
              "<style scoped>\n",
              "    .dataframe tbody tr th:only-of-type {\n",
              "        vertical-align: middle;\n",
              "    }\n",
              "\n",
              "    .dataframe tbody tr th {\n",
              "        vertical-align: top;\n",
              "    }\n",
              "\n",
              "    .dataframe thead th {\n",
              "        text-align: right;\n",
              "    }\n",
              "</style>\n",
              "<table border=\"1\" class=\"dataframe\">\n",
              "  <thead>\n",
              "    <tr style=\"text-align: right;\">\n",
              "      <th></th>\n",
              "      <th>mobile_number</th>\n",
              "      <th>circle_id</th>\n",
              "      <th>last_date_of_month_6</th>\n",
              "      <th>last_date_of_month_7</th>\n",
              "      <th>last_date_of_month_8</th>\n",
              "      <th>loc_og_t2o_mou</th>\n",
              "      <th>std_og_t2o_mou</th>\n",
              "      <th>loc_ic_t2o_mou</th>\n",
              "      <th>std_og_t2c_mou_6</th>\n",
              "      <th>std_og_t2c_mou_7</th>\n",
              "      <th>std_og_t2c_mou_8</th>\n",
              "      <th>std_ic_t2o_mou_6</th>\n",
              "      <th>std_ic_t2o_mou_7</th>\n",
              "      <th>std_ic_t2o_mou_8</th>\n",
              "    </tr>\n",
              "  </thead>\n",
              "  <tbody>\n",
              "    <tr>\n",
              "      <th>0</th>\n",
              "      <td>7000842753</td>\n",
              "      <td>109</td>\n",
              "      <td>6/30/2014</td>\n",
              "      <td>7/31/2014</td>\n",
              "      <td>8/31/2014</td>\n",
              "      <td>0.0</td>\n",
              "      <td>0.0</td>\n",
              "      <td>0.0</td>\n",
              "      <td>NaN</td>\n",
              "      <td>NaN</td>\n",
              "      <td>0.0</td>\n",
              "      <td>NaN</td>\n",
              "      <td>NaN</td>\n",
              "      <td>0.0</td>\n",
              "    </tr>\n",
              "    <tr>\n",
              "      <th>1</th>\n",
              "      <td>7001865778</td>\n",
              "      <td>109</td>\n",
              "      <td>6/30/2014</td>\n",
              "      <td>7/31/2014</td>\n",
              "      <td>8/31/2014</td>\n",
              "      <td>0.0</td>\n",
              "      <td>0.0</td>\n",
              "      <td>0.0</td>\n",
              "      <td>0.0</td>\n",
              "      <td>0.0</td>\n",
              "      <td>0.0</td>\n",
              "      <td>0.0</td>\n",
              "      <td>0.0</td>\n",
              "      <td>0.0</td>\n",
              "    </tr>\n",
              "    <tr>\n",
              "      <th>2</th>\n",
              "      <td>7001625959</td>\n",
              "      <td>109</td>\n",
              "      <td>6/30/2014</td>\n",
              "      <td>7/31/2014</td>\n",
              "      <td>8/31/2014</td>\n",
              "      <td>0.0</td>\n",
              "      <td>0.0</td>\n",
              "      <td>0.0</td>\n",
              "      <td>0.0</td>\n",
              "      <td>0.0</td>\n",
              "      <td>0.0</td>\n",
              "      <td>0.0</td>\n",
              "      <td>0.0</td>\n",
              "      <td>0.0</td>\n",
              "    </tr>\n",
              "    <tr>\n",
              "      <th>3</th>\n",
              "      <td>7001204172</td>\n",
              "      <td>109</td>\n",
              "      <td>6/30/2014</td>\n",
              "      <td>7/31/2014</td>\n",
              "      <td>8/31/2014</td>\n",
              "      <td>0.0</td>\n",
              "      <td>0.0</td>\n",
              "      <td>0.0</td>\n",
              "      <td>0.0</td>\n",
              "      <td>0.0</td>\n",
              "      <td>0.0</td>\n",
              "      <td>0.0</td>\n",
              "      <td>0.0</td>\n",
              "      <td>0.0</td>\n",
              "    </tr>\n",
              "    <tr>\n",
              "      <th>4</th>\n",
              "      <td>7000142493</td>\n",
              "      <td>109</td>\n",
              "      <td>6/30/2014</td>\n",
              "      <td>7/31/2014</td>\n",
              "      <td>8/31/2014</td>\n",
              "      <td>0.0</td>\n",
              "      <td>0.0</td>\n",
              "      <td>0.0</td>\n",
              "      <td>0.0</td>\n",
              "      <td>0.0</td>\n",
              "      <td>0.0</td>\n",
              "      <td>0.0</td>\n",
              "      <td>0.0</td>\n",
              "      <td>0.0</td>\n",
              "    </tr>\n",
              "  </tbody>\n",
              "</table>\n",
              "</div>\n",
              "      <button class=\"colab-df-convert\" onclick=\"convertToInteractive('df-bc6ca15a-86d7-45f7-9b16-2b427961f680')\"\n",
              "              title=\"Convert this dataframe to an interactive table.\"\n",
              "              style=\"display:none;\">\n",
              "        \n",
              "  <svg xmlns=\"http://www.w3.org/2000/svg\" height=\"24px\"viewBox=\"0 0 24 24\"\n",
              "       width=\"24px\">\n",
              "    <path d=\"M0 0h24v24H0V0z\" fill=\"none\"/>\n",
              "    <path d=\"M18.56 5.44l.94 2.06.94-2.06 2.06-.94-2.06-.94-.94-2.06-.94 2.06-2.06.94zm-11 1L8.5 8.5l.94-2.06 2.06-.94-2.06-.94L8.5 2.5l-.94 2.06-2.06.94zm10 10l.94 2.06.94-2.06 2.06-.94-2.06-.94-.94-2.06-.94 2.06-2.06.94z\"/><path d=\"M17.41 7.96l-1.37-1.37c-.4-.4-.92-.59-1.43-.59-.52 0-1.04.2-1.43.59L10.3 9.45l-7.72 7.72c-.78.78-.78 2.05 0 2.83L4 21.41c.39.39.9.59 1.41.59.51 0 1.02-.2 1.41-.59l7.78-7.78 2.81-2.81c.8-.78.8-2.07 0-2.86zM5.41 20L4 18.59l7.72-7.72 1.47 1.35L5.41 20z\"/>\n",
              "  </svg>\n",
              "      </button>\n",
              "      \n",
              "  <style>\n",
              "    .colab-df-container {\n",
              "      display:flex;\n",
              "      flex-wrap:wrap;\n",
              "      gap: 12px;\n",
              "    }\n",
              "\n",
              "    .colab-df-convert {\n",
              "      background-color: #E8F0FE;\n",
              "      border: none;\n",
              "      border-radius: 50%;\n",
              "      cursor: pointer;\n",
              "      display: none;\n",
              "      fill: #1967D2;\n",
              "      height: 32px;\n",
              "      padding: 0 0 0 0;\n",
              "      width: 32px;\n",
              "    }\n",
              "\n",
              "    .colab-df-convert:hover {\n",
              "      background-color: #E2EBFA;\n",
              "      box-shadow: 0px 1px 2px rgba(60, 64, 67, 0.3), 0px 1px 3px 1px rgba(60, 64, 67, 0.15);\n",
              "      fill: #174EA6;\n",
              "    }\n",
              "\n",
              "    [theme=dark] .colab-df-convert {\n",
              "      background-color: #3B4455;\n",
              "      fill: #D2E3FC;\n",
              "    }\n",
              "\n",
              "    [theme=dark] .colab-df-convert:hover {\n",
              "      background-color: #434B5C;\n",
              "      box-shadow: 0px 1px 3px 1px rgba(0, 0, 0, 0.15);\n",
              "      filter: drop-shadow(0px 1px 2px rgba(0, 0, 0, 0.3));\n",
              "      fill: #FFFFFF;\n",
              "    }\n",
              "  </style>\n",
              "\n",
              "      <script>\n",
              "        const buttonEl =\n",
              "          document.querySelector('#df-bc6ca15a-86d7-45f7-9b16-2b427961f680 button.colab-df-convert');\n",
              "        buttonEl.style.display =\n",
              "          google.colab.kernel.accessAllowed ? 'block' : 'none';\n",
              "\n",
              "        async function convertToInteractive(key) {\n",
              "          const element = document.querySelector('#df-bc6ca15a-86d7-45f7-9b16-2b427961f680');\n",
              "          const dataTable =\n",
              "            await google.colab.kernel.invokeFunction('convertToInteractive',\n",
              "                                                     [key], {});\n",
              "          if (!dataTable) return;\n",
              "\n",
              "          const docLinkHtml = 'Like what you see? Visit the ' +\n",
              "            '<a target=\"_blank\" href=https://colab.research.google.com/notebooks/data_table.ipynb>data table notebook</a>'\n",
              "            + ' to learn more about interactive tables.';\n",
              "          element.innerHTML = '';\n",
              "          dataTable['output_type'] = 'display_data';\n",
              "          await google.colab.output.renderOutput(dataTable, element);\n",
              "          const docLink = document.createElement('div');\n",
              "          docLink.innerHTML = docLinkHtml;\n",
              "          element.appendChild(docLink);\n",
              "        }\n",
              "      </script>\n",
              "    </div>\n",
              "  </div>\n",
              "  "
            ]
          },
          "metadata": {},
          "execution_count": 11
        }
      ],
      "source": [
        "data[['mobile_number','circle_id','last_date_of_month_6','last_date_of_month_7','last_date_of_month_8',\\\n",
        "           'loc_og_t2o_mou', 'std_og_t2o_mou', 'loc_ic_t2o_mou','std_og_t2c_mou_6','std_og_t2c_mou_7','std_og_t2c_mou_8',\\\n",
        "           'std_ic_t2o_mou_6','std_ic_t2o_mou_7','std_ic_t2o_mou_8']].head(5)"
      ],
      "id": "0eccad50"
    },
    {
      "cell_type": "markdown",
      "metadata": {
        "id": "c7a5a0f2"
      },
      "source": [
        "These columns dono effect the dataset too much thats we are dropping the columns"
      ],
      "id": "c7a5a0f2"
    },
    {
      "cell_type": "code",
      "execution_count": 12,
      "metadata": {
        "id": "317fcba6"
      },
      "outputs": [],
      "source": [
        "# Remove unwanted columns\n",
        "data.drop(['mobile_number','circle_id','last_date_of_month_6','last_date_of_month_7','last_date_of_month_8',\\\n",
        "           'loc_og_t2o_mou', 'std_og_t2o_mou', 'loc_ic_t2o_mou','std_og_t2c_mou_6','std_og_t2c_mou_7','std_og_t2c_mou_8',\\\n",
        "           'std_ic_t2o_mou_6','std_ic_t2o_mou_7','std_ic_t2o_mou_8'], axis=1, inplace=True)"
      ],
      "id": "317fcba6"
    },
    {
      "cell_type": "code",
      "execution_count": 13,
      "metadata": {
        "colab": {
          "base_uri": "https://localhost:8080/"
        },
        "id": "85c6ddaa",
        "outputId": "c7308abd-dea0-4880-eba2-198835cca5ad"
      },
      "outputs": [
        {
          "output_type": "execute_result",
          "data": {
            "text/plain": [
              "(99999, 158)"
            ]
          },
          "metadata": {},
          "execution_count": 13
        }
      ],
      "source": [
        "data.shape"
      ],
      "id": "85c6ddaa"
    },
    {
      "cell_type": "markdown",
      "metadata": {
        "id": "4df4be3c"
      },
      "source": [
        "select_dtypes() Return a subset of the DataFrame’s columns based on the column dtypes."
      ],
      "id": "4df4be3c"
    },
    {
      "cell_type": "code",
      "execution_count": 14,
      "metadata": {
        "colab": {
          "base_uri": "https://localhost:8080/"
        },
        "id": "a763b7ff",
        "outputId": "c42977da-fe51-477f-ff45-fa7697770485"
      },
      "outputs": [
        {
          "output_type": "stream",
          "name": "stdout",
          "text": [
            "<class 'pandas.core.frame.DataFrame'>\n",
            "RangeIndex: 99999 entries, 0 to 99998\n",
            "Data columns (total 6 columns):\n",
            " #   Column                    Non-Null Count  Dtype \n",
            "---  ------                    --------------  ----- \n",
            " 0   date_of_last_rech_6       98392 non-null  object\n",
            " 1   date_of_last_rech_7       98232 non-null  object\n",
            " 2   date_of_last_rech_8       96377 non-null  object\n",
            " 3   date_of_last_rech_data_6  25153 non-null  object\n",
            " 4   date_of_last_rech_data_7  25571 non-null  object\n",
            " 5   date_of_last_rech_data_8  26339 non-null  object\n",
            "dtypes: object(6)\n",
            "memory usage: 4.6+ MB\n"
          ]
        }
      ],
      "source": [
        "data.select_dtypes(include=\"object\").info()"
      ],
      "id": "a763b7ff"
    },
    {
      "cell_type": "markdown",
      "metadata": {
        "id": "3e93e7c8"
      },
      "source": [
        "to check columns having object datatypes \n",
        "12 columns haviing object datatype\n"
      ],
      "id": "3e93e7c8"
    },
    {
      "cell_type": "markdown",
      "metadata": {
        "id": "3f272763"
      },
      "source": [
        "only date columns having object datatypes"
      ],
      "id": "3f272763"
    },
    {
      "cell_type": "code",
      "execution_count": 15,
      "metadata": {
        "colab": {
          "base_uri": "https://localhost:8080/"
        },
        "id": "e19b6e6a",
        "outputId": "8a481bb0-b5bc-4146-a9d4-bb27d6857939"
      },
      "outputs": [
        {
          "output_type": "stream",
          "name": "stdout",
          "text": [
            "<class 'pandas.core.frame.DataFrame'>\n",
            "RangeIndex: 99999 entries, 0 to 99998\n",
            "Columns: 152 entries, arpu_6 to churn\n",
            "dtypes: float64(126), int64(26)\n",
            "memory usage: 116.0 MB\n"
          ]
        }
      ],
      "source": [
        "data.select_dtypes(exclude=\"object\").info()"
      ],
      "id": "e19b6e6a"
    },
    {
      "cell_type": "code",
      "execution_count": 16,
      "metadata": {
        "colab": {
          "base_uri": "https://localhost:8080/"
        },
        "id": "291b84ec",
        "outputId": "2f4ed5b1-3b25-4ec0-fa14-1c89c2e0f978"
      },
      "outputs": [
        {
          "output_type": "stream",
          "name": "stdout",
          "text": [
            "<class 'pandas.core.frame.DataFrame'>\n",
            "RangeIndex: 99999 entries, 0 to 99998\n",
            "Columns: 158 entries, arpu_6 to churn\n",
            "dtypes: float64(126), int64(26), object(6)\n",
            "memory usage: 120.5+ MB\n"
          ]
        }
      ],
      "source": [
        "data.info()"
      ],
      "id": "291b84ec"
    },
    {
      "cell_type": "code",
      "execution_count": 17,
      "metadata": {
        "id": "a00d4be9"
      },
      "outputs": [],
      "source": [
        "X=data.drop(\"churn\",axis=1)\n",
        "Y=data[\"churn\"]"
      ],
      "id": "a00d4be9"
    },
    {
      "cell_type": "markdown",
      "metadata": {
        "id": "2093a438"
      },
      "source": [
        "# UNIVARIANT ANALYSIS"
      ],
      "id": "2093a438"
    },
    {
      "cell_type": "markdown",
      "metadata": {
        "id": "3c47ad48"
      },
      "source": [
        "Pandas Series.value_counts() function return a Series containing counts of unique values. The resulting object will be in \n",
        "descending order so that the first element is the most frequently-occurring element. \n",
        "Excludes NA values by default."
      ],
      "id": "3c47ad48"
    },
    {
      "cell_type": "code",
      "execution_count": 18,
      "metadata": {
        "colab": {
          "base_uri": "https://localhost:8080/"
        },
        "id": "287a7632",
        "outputId": "42c1be37-a0ca-4524-bd55-a99cb794c0d1"
      },
      "outputs": [
        {
          "output_type": "execute_result",
          "data": {
            "text/plain": [
              "0    89808\n",
              "1    10191\n",
              "Name: churn, dtype: int64"
            ]
          },
          "metadata": {},
          "execution_count": 18
        }
      ],
      "source": [
        "Y.value_counts()\n",
        "#churn count"
      ],
      "id": "287a7632"
    },
    {
      "cell_type": "markdown",
      "metadata": {
        "id": "228943c0"
      },
      "source": [
        "countplot Show the counts of observations in each categorical bin using bars.\n",
        "\n",
        "for nominal categorical column ,we can plot the CountPlot PieChart"
      ],
      "id": "228943c0"
    },
    {
      "cell_type": "code",
      "execution_count": 19,
      "metadata": {
        "colab": {
          "base_uri": "https://localhost:8080/",
          "height": 351
        },
        "id": "9043521e",
        "outputId": "1002e271-bcac-487a-c215-c0b549b3cbac"
      },
      "outputs": [
        {
          "output_type": "stream",
          "name": "stderr",
          "text": [
            "/usr/local/lib/python3.7/dist-packages/seaborn/_decorators.py:43: FutureWarning: Pass the following variable as a keyword arg: x. From version 0.12, the only valid positional argument will be `data`, and passing other arguments without an explicit keyword will result in an error or misinterpretation.\n",
            "  FutureWarning\n"
          ]
        },
        {
          "output_type": "execute_result",
          "data": {
            "text/plain": [
              "<matplotlib.axes._subplots.AxesSubplot at 0x7fa12d67cad0>"
            ]
          },
          "metadata": {},
          "execution_count": 19
        },
        {
          "output_type": "display_data",
          "data": {
            "text/plain": [
              "<Figure size 432x288 with 1 Axes>"
            ],
            "image/png": "[encoded data removed]"
          },
          "metadata": {
            "needs_background": "light"
          }
        }
      ],
      "source": [
        "sns.countplot(data[\"churn\"])"
      ],
      "id": "9043521e"
    },
    {
      "cell_type": "markdown",
      "metadata": {
        "id": "1bf3ba07"
      },
      "source": [
        "# CATEGORICAL COLUMNS(NOMINAL CATEGORICAL)"
      ],
      "id": "1bf3ba07"
    },
    {
      "cell_type": "code",
      "execution_count": 20,
      "metadata": {
        "colab": {
          "base_uri": "https://localhost:8080/",
          "height": 266
        },
        "id": "af84efd7",
        "outputId": "8a1f0b3b-c1c2-476a-d8c2-957063afa123"
      },
      "outputs": [
        {
          "output_type": "execute_result",
          "data": {
            "text/plain": [
              "<matplotlib.axes._subplots.AxesSubplot at 0x7fa12d6d0b50>"
            ]
          },
          "metadata": {},
          "execution_count": 20
        },
        {
          "output_type": "display_data",
          "data": {
            "text/plain": [
              "<Figure size 432x288 with 1 Axes>"
            ],
            "image/png": "[encoded data removed]"
          },
          "metadata": {}
        }
      ],
      "source": [
        "data['churn'].value_counts().plot(kind='pie',autopct='%.2f')\n",
        "#autopct is used to show the percentage till 2 decimal places"
      ],
      "id": "af84efd7"
    },
    {
      "cell_type": "markdown",
      "metadata": {
        "id": "8b10f342"
      },
      "source": [
        "Approximately 10% customers get churned."
      ],
      "id": "8b10f342"
    },
    {
      "cell_type": "markdown",
      "metadata": {
        "id": "6acc6800"
      },
      "source": [
        "# NUMERICAL COLUMNS"
      ],
      "id": "6acc6800"
    },
    {
      "cell_type": "code",
      "execution_count": 21,
      "metadata": {
        "colab": {
          "base_uri": "https://localhost:8080/",
          "height": 423
        },
        "id": "ccd332c6",
        "outputId": "aa60addc-7fc1-49fc-de2c-5eb14d22f7dd"
      },
      "outputs": [
        {
          "output_type": "execute_result",
          "data": {
            "text/plain": [
              "        aon\n",
              "0       968\n",
              "1      1006\n",
              "2      1103\n",
              "3      2491\n",
              "4      1526\n",
              "...     ...\n",
              "99994  3199\n",
              "99995  2052\n",
              "99996   185\n",
              "99997   478\n",
              "99998   751\n",
              "\n",
              "[99999 rows x 1 columns]"
            ],
            "text/html": [
              "\n",
              "  <div id=\"df-2405124d-361b-480f-8223-f1b7a99a8ac1\">\n",
              "    <div class=\"colab-df-container\">\n",
              "      <div>\n",
              "<style scoped>\n",
              "    .dataframe tbody tr th:only-of-type {\n",
              "        vertical-align: middle;\n",
              "    }\n",
              "\n",
              "    .dataframe tbody tr th {\n",
              "        vertical-align: top;\n",
              "    }\n",
              "\n",
              "    .dataframe thead th {\n",
              "        text-align: right;\n",
              "    }\n",
              "</style>\n",
              "<table border=\"1\" class=\"dataframe\">\n",
              "  <thead>\n",
              "    <tr style=\"text-align: right;\">\n",
              "      <th></th>\n",
              "      <th>aon</th>\n",
              "    </tr>\n",
              "  </thead>\n",
              "  <tbody>\n",
              "    <tr>\n",
              "      <th>0</th>\n",
              "      <td>968</td>\n",
              "    </tr>\n",
              "    <tr>\n",
              "      <th>1</th>\n",
              "      <td>1006</td>\n",
              "    </tr>\n",
              "    <tr>\n",
              "      <th>2</th>\n",
              "      <td>1103</td>\n",
              "    </tr>\n",
              "    <tr>\n",
              "      <th>3</th>\n",
              "      <td>2491</td>\n",
              "    </tr>\n",
              "    <tr>\n",
              "      <th>4</th>\n",
              "      <td>1526</td>\n",
              "    </tr>\n",
              "    <tr>\n",
              "      <th>...</th>\n",
              "      <td>...</td>\n",
              "    </tr>\n",
              "    <tr>\n",
              "      <th>99994</th>\n",
              "      <td>3199</td>\n",
              "    </tr>\n",
              "    <tr>\n",
              "      <th>99995</th>\n",
              "      <td>2052</td>\n",
              "    </tr>\n",
              "    <tr>\n",
              "      <th>99996</th>\n",
              "      <td>185</td>\n",
              "    </tr>\n",
              "    <tr>\n",
              "      <th>99997</th>\n",
              "      <td>478</td>\n",
              "    </tr>\n",
              "    <tr>\n",
              "      <th>99998</th>\n",
              "      <td>751</td>\n",
              "    </tr>\n",
              "  </tbody>\n",
              "</table>\n",
              "<p>99999 rows × 1 columns</p>\n",
              "</div>\n",
              "      <button class=\"colab-df-convert\" onclick=\"convertToInteractive('df-2405124d-361b-480f-8223-f1b7a99a8ac1')\"\n",
              "              title=\"Convert this dataframe to an interactive table.\"\n",
              "              style=\"display:none;\">\n",
              "        \n",
              "  <svg xmlns=\"http://www.w3.org/2000/svg\" height=\"24px\"viewBox=\"0 0 24 24\"\n",
              "       width=\"24px\">\n",
              "    <path d=\"M0 0h24v24H0V0z\" fill=\"none\"/>\n",
              "    <path d=\"M18.56 5.44l.94 2.06.94-2.06 2.06-.94-2.06-.94-.94-2.06-.94 2.06-2.06.94zm-11 1L8.5 8.5l.94-2.06 2.06-.94-2.06-.94L8.5 2.5l-.94 2.06-2.06.94zm10 10l.94 2.06.94-2.06 2.06-.94-2.06-.94-.94-2.06-.94 2.06-2.06.94z\"/><path d=\"M17.41 7.96l-1.37-1.37c-.4-.4-.92-.59-1.43-.59-.52 0-1.04.2-1.43.59L10.3 9.45l-7.72 7.72c-.78.78-.78 2.05 0 2.83L4 21.41c.39.39.9.59 1.41.59.51 0 1.02-.2 1.41-.59l7.78-7.78 2.81-2.81c.8-.78.8-2.07 0-2.86zM5.41 20L4 18.59l7.72-7.72 1.47 1.35L5.41 20z\"/>\n",
              "  </svg>\n",
              "      </button>\n",
              "      \n",
              "  <style>\n",
              "    .colab-df-container {\n",
              "      display:flex;\n",
              "      flex-wrap:wrap;\n",
              "      gap: 12px;\n",
              "    }\n",
              "\n",
              "    .colab-df-convert {\n",
              "      background-color: #E8F0FE;\n",
              "      border: none;\n",
              "      border-radius: 50%;\n",
              "      cursor: pointer;\n",
              "      display: none;\n",
              "      fill: #1967D2;\n",
              "      height: 32px;\n",
              "      padding: 0 0 0 0;\n",
              "      width: 32px;\n",
              "    }\n",
              "\n",
              "    .colab-df-convert:hover {\n",
              "      background-color: #E2EBFA;\n",
              "      box-shadow: 0px 1px 2px rgba(60, 64, 67, 0.3), 0px 1px 3px 1px rgba(60, 64, 67, 0.15);\n",
              "      fill: #174EA6;\n",
              "    }\n",
              "\n",
              "    [theme=dark] .colab-df-convert {\n",
              "      background-color: #3B4455;\n",
              "      fill: #D2E3FC;\n",
              "    }\n",
              "\n",
              "    [theme=dark] .colab-df-convert:hover {\n",
              "      background-color: #434B5C;\n",
              "      box-shadow: 0px 1px 3px 1px rgba(0, 0, 0, 0.15);\n",
              "      filter: drop-shadow(0px 1px 2px rgba(0, 0, 0, 0.3));\n",
              "      fill: #FFFFFF;\n",
              "    }\n",
              "  </style>\n",
              "\n",
              "      <script>\n",
              "        const buttonEl =\n",
              "          document.querySelector('#df-2405124d-361b-480f-8223-f1b7a99a8ac1 button.colab-df-convert');\n",
              "        buttonEl.style.display =\n",
              "          google.colab.kernel.accessAllowed ? 'block' : 'none';\n",
              "\n",
              "        async function convertToInteractive(key) {\n",
              "          const element = document.querySelector('#df-2405124d-361b-480f-8223-f1b7a99a8ac1');\n",
              "          const dataTable =\n",
              "            await google.colab.kernel.invokeFunction('convertToInteractive',\n",
              "                                                     [key], {});\n",
              "          if (!dataTable) return;\n",
              "\n",
              "          const docLinkHtml = 'Like what you see? Visit the ' +\n",
              "            '<a target=\"_blank\" href=https://colab.research.google.com/notebooks/data_table.ipynb>data table notebook</a>'\n",
              "            + ' to learn more about interactive tables.';\n",
              "          element.innerHTML = '';\n",
              "          dataTable['output_type'] = 'display_data';\n",
              "          await google.colab.output.renderOutput(dataTable, element);\n",
              "          const docLink = document.createElement('div');\n",
              "          docLink.innerHTML = docLinkHtml;\n",
              "          element.appendChild(docLink);\n",
              "        }\n",
              "      </script>\n",
              "    </div>\n",
              "  </div>\n",
              "  "
            ]
          },
          "metadata": {},
          "execution_count": 21
        }
      ],
      "source": [
        "aon=pd.DataFrame(data['aon'])\n",
        "aon"
      ],
      "id": "ccd332c6"
    },
    {
      "cell_type": "markdown",
      "metadata": {
        "id": "10877f8f"
      },
      "source": [
        "in univarinat analysis,in numerical columns\n",
        "we can draw histogram,dist plot ect."
      ],
      "id": "10877f8f"
    },
    {
      "cell_type": "code",
      "execution_count": 22,
      "metadata": {
        "colab": {
          "base_uri": "https://localhost:8080/",
          "height": 352
        },
        "id": "b684d7ec",
        "outputId": "eacbcc91-f602-434b-bd2b-c9e25dbe559a"
      },
      "outputs": [
        {
          "output_type": "execute_result",
          "data": {
            "text/plain": [
              "(array([35708., 20096., 12559.,  7111.,  4849.,  7794.,  5973.,  3926.,\n",
              "         1904.,    79.]),\n",
              " array([ 180. ,  595.7, 1011.4, 1427.1, 1842.8, 2258.5, 2674.2, 3089.9,\n",
              "        3505.6, 3921.3, 4337. ]),\n",
              " <a list of 10 Patch objects>)"
            ]
          },
          "metadata": {},
          "execution_count": 22
        },
        {
          "output_type": "display_data",
          "data": {
            "text/plain": [
              "<Figure size 432x288 with 1 Axes>"
            ],
            "image/png": "[encoded data removed]"
          },
          "metadata": {
            "needs_background": "light"
          }
        }
      ],
      "source": [
        "#histogram for aon \n",
        "plt.hist(data['aon'])\n"
      ],
      "id": "b684d7ec"
    },
    {
      "cell_type": "markdown",
      "metadata": {
        "id": "71a2ba43"
      },
      "source": [
        "from the histogram,we can say that age on network is positively skewed.\n"
      ],
      "id": "71a2ba43"
    },
    {
      "cell_type": "markdown",
      "metadata": {
        "id": "61cd6081"
      },
      "source": [
        "subplots() helps in creating common layouts of subplots, including the enclosing figure object, in a single call.\n",
        "Plt.subplots(nrows, ncols)\n",
        "Seaborn distplot lets you show a histogram with a line on it. This can be shown in all kinds of variations. We use seaborn in combination with matplotlib, the Python plotting module.\n",
        "\n",
        "\n"
      ],
      "id": "61cd6081"
    },
    {
      "cell_type": "code",
      "execution_count": 23,
      "metadata": {
        "colab": {
          "base_uri": "https://localhost:8080/",
          "height": 449
        },
        "id": "3c7b5332",
        "outputId": "1220c614-fcf5-4243-bda2-856a2231df33"
      },
      "outputs": [
        {
          "output_type": "stream",
          "name": "stderr",
          "text": [
            "/usr/local/lib/python3.7/dist-packages/seaborn/distributions.py:2619: FutureWarning: `distplot` is a deprecated function and will be removed in a future version. Please adapt your code to use either `displot` (a figure-level function with similar flexibility) or `histplot` (an axes-level function for histograms).\n",
            "  warnings.warn(msg, FutureWarning)\n"
          ]
        },
        {
          "output_type": "execute_result",
          "data": {
            "text/plain": [
              "<matplotlib.axes._subplots.AxesSubplot at 0x7fa12cf382d0>"
            ]
          },
          "metadata": {},
          "execution_count": 23
        },
        {
          "output_type": "display_data",
          "data": {
            "text/plain": [
              "<Figure size 1440x432 with 2 Axes>"
            ],
            "image/png": "[encoded data removed]"
          },
          "metadata": {
            "needs_background": "light"
          }
        }
      ],
      "source": [
        "fig,(ax1,ax2)= plt.subplots(1,2,figsize=(20, 6))\n",
        "\n",
        "# distribution plot for aon\n",
        "sns.distplot(data['aon'], ax=ax1)\n",
        "\n",
        "# bin the aon column with yearwise segments and plot the counts for each segments\n",
        "bins = [0, 0.5, 1, 2, 3, 4, 5, 6, 7, 8, 9, 10, 11, 12]\n",
        "labels = [0.5, 1, 2, 3, 4, 5, 6, 7, 8, 9, 10, 11, 12]\n",
        "#sns.countplot(pd.cut(round(((data['aon']/30)/12),1), bins = bins, labels = labels ), ax =ax1)\n",
        "pd.crosstab(pd.cut(round(((data['aon']/30)/12),1), bins = bins, labels = labels ), data['churn']).plot(kind='bar', stacked=True, ax = ax2)"
      ],
      "id": "3c7b5332"
    },
    {
      "cell_type": "markdown",
      "metadata": {
        "id": "2fd18920"
      },
      "source": [
        "As shown through distplot(shows distribution of data) ,data is positively skewed.\n",
        "Pandas dataframe.isna() function is used to detect missing values. It return a boolean same-sized object indicating if the values are NA."
      ],
      "id": "2fd18920"
    },
    {
      "cell_type": "markdown",
      "metadata": {
        "id": "5f3998e1"
      },
      "source": [
        "# HANDLING MISSING VALUES"
      ],
      "id": "5f3998e1"
    },
    {
      "cell_type": "code",
      "execution_count": 24,
      "metadata": {
        "colab": {
          "base_uri": "https://localhost:8080/"
        },
        "id": "0bc7b9b6",
        "outputId": "977c22df-9552-45c7-e248-ee484274d216"
      },
      "outputs": [
        {
          "output_type": "execute_result",
          "data": {
            "text/plain": [
              "arpu_6         0.000000\n",
              "arpu_7         0.000000\n",
              "arpu_8         0.000000\n",
              "onnet_mou_6    3.937039\n",
              "onnet_mou_7    3.859039\n",
              "                 ...   \n",
              "aon            0.000000\n",
              "aug_vbc_3g     0.000000\n",
              "jul_vbc_3g     0.000000\n",
              "jun_vbc_3g     0.000000\n",
              "churn          0.000000\n",
              "Length: 158, dtype: float64"
            ]
          },
          "metadata": {},
          "execution_count": 24
        }
      ],
      "source": [
        "data.isna().mean()*100\n",
        "#to find the null values percentage"
      ],
      "id": "0bc7b9b6"
    },
    {
      "cell_type": "markdown",
      "metadata": {
        "id": "5941b10d"
      },
      "source": [
        "if null values for any columns are less than 5% then we can use dropna() i.e. complete case analysis\n",
        "but here in this dataset ,in various columns,missing values are more than 10%\n",
        "Hence we can not drop the na values."
      ],
      "id": "5941b10d"
    },
    {
      "cell_type": "markdown",
      "metadata": {
        "id": "78856fb7"
      },
      "source": [
        "The any() method returns one value for each column, True if ANY value in that column is True, otherwise False.\n",
        "any() does a logical OR operation on a row or column of a DataFrame and returns the resultant Boolean value."
      ],
      "id": "78856fb7"
    },
    {
      "cell_type": "code",
      "execution_count": 25,
      "metadata": {
        "id": "be6071f6"
      },
      "outputs": [],
      "source": [
        "def get_cols_split(df):\n",
        "\n",
        "    col_len = len(df.columns)\n",
        "\n",
        "    jun_cols = []\n",
        "    jul_cols = []\n",
        "    aug_cols = []\n",
        "    sep_cols = []\n",
        "    common_cols = []\n",
        "    date_cols = []\n",
        "    \n",
        "    for i in range(0, col_len):\n",
        "        if any(pd.Series(df.columns[i]).str.contains('_6|jun')):\n",
        "            jun_cols.append(df.columns[i])\n",
        "        elif any(pd.Series(df.columns[i]).str.contains('_7|jul')):\n",
        "            jul_cols.append(df.columns[i])\n",
        "        elif any(pd.Series(df.columns[i]).str.contains('_8|aug')):\n",
        "            aug_cols.append(df.columns[i])\n",
        "        elif any(pd.Series(df.columns[i]).str.contains('_9|sep')):\n",
        "            sep_cols.append(df.columns[i])\n",
        "        else:\n",
        "            common_cols.append(df.columns[i])\n",
        "        \n",
        "        if any(pd.Series(df.columns[i]).str.contains('date')):\n",
        "            date_cols.append(df.columns[i])\n",
        "            \n",
        "    return jun_cols,jul_cols,aug_cols,sep_cols,common_cols,date_cols"
      ],
      "id": "be6071f6"
    },
    {
      "cell_type": "code",
      "execution_count": 26,
      "metadata": {
        "id": "286d0d0a"
      },
      "outputs": [],
      "source": [
        "def get_cols_sub_split(col_list):\n",
        "    call_usage_cols = []\n",
        "    recharge_cols = []\n",
        "    ic_usage_cols = []\n",
        "    og_usage_cols = []\n",
        "\n",
        "    call_usage_search_for = ['og','ic','mou']\n",
        "\n",
        "    for i in range(0, len(col_list)):\n",
        "        if any(pd.Series(col_list[i]).str.contains('|'.join(['rech','rch']))):\n",
        "            recharge_cols.append(col_list[i])\n",
        "        elif any(pd.Series(col_list[i]).str.contains('|'.join(call_usage_search_for))):\n",
        "            call_usage_cols.append(col_list[i])\n",
        "\n",
        "        if any(pd.Series(col_list[i]).str.contains('ic')):\n",
        "            ic_usage_cols.append(col_list[i])\n",
        "        elif any(pd.Series(col_list[i]).str.contains('og')):\n",
        "            og_usage_cols.append(col_list[i])\n",
        "            \n",
        "    return call_usage_cols,recharge_cols,ic_usage_cols,og_usage_cols       "
      ],
      "id": "286d0d0a"
    },
    {
      "cell_type": "markdown",
      "metadata": {
        "id": "a3835661"
      },
      "source": [
        "Pandas unique () function extracts a unique data from the dataset. \n",
        "The unique () method does not take any parameter and returns the numpy array of unique values\n",
        "in that particular column."
      ],
      "id": "a3835661"
    },
    {
      "cell_type": "code",
      "execution_count": 27,
      "metadata": {
        "colab": {
          "base_uri": "https://localhost:8080/"
        },
        "id": "3c8f90c5",
        "outputId": "5ec19479-9f24-406e-8aff-32705d9a2cf9"
      },
      "outputs": [
        {
          "output_type": "execute_result",
          "data": {
            "text/plain": [
              "array([ 0., nan,  1.])"
            ]
          },
          "metadata": {},
          "execution_count": 27
        }
      ],
      "source": [
        "data['fb_user_6'].unique()\n",
        "data['fb_user_7'].unique()\n",
        "data['fb_user_8'].unique()\n",
        "data['night_pck_user_6'].unique()\n",
        "data['night_pck_user_7'].unique()\n",
        "data['night_pck_user_8'].unique()"
      ],
      "id": "3c8f90c5"
    },
    {
      "cell_type": "markdown",
      "metadata": {
        "id": "1d6cbad7"
      },
      "source": [
        "As we have seen above that missing values are not randomly distributed .Hence we can not do the mean,median imputation or css\n",
        "We can prefer arbitarary imputation"
      ],
      "id": "1d6cbad7"
    },
    {
      "cell_type": "markdown",
      "metadata": {
        "id": "1474a334"
      },
      "source": [
        "categorical missing values"
      ],
      "id": "1474a334"
    },
    {
      "cell_type": "markdown",
      "metadata": {
        "id": "96111233"
      },
      "source": [
        "default value of inplace parameter is false.\n",
        "Pandas Series.value_counts() function return a Series containing counts of unique values. The resulting object will be in descending order so that the first element is the most frequently-occurring element. Excludes NA values by default.\n",
        "The sort_values() method sorts the DataFrame by the specified label.\n",
        "The fillna () method replaces the NULL values with a specified value. The fillna () method returns a new DataFrame object unless the inplace parameter is set to True, in that case the fillna () method does the replacing in the original DataFrame instead."
      ],
      "id": "96111233"
    },
    {
      "cell_type": "code",
      "execution_count": 28,
      "metadata": {
        "colab": {
          "base_uri": "https://localhost:8080/",
          "height": 303
        },
        "id": "8b180a4b",
        "outputId": "594cb620-87d6-4046-9bfa-c0f4809fbfe0"
      },
      "outputs": [
        {
          "output_type": "execute_result",
          "data": {
            "text/plain": [
              "Text(0, 0.5, 'no. of customers')"
            ]
          },
          "metadata": {},
          "execution_count": 28
        },
        {
          "output_type": "display_data",
          "data": {
            "text/plain": [
              "<Figure size 432x288 with 1 Axes>"
            ],
            "image/png": "[encoded data removed]"
          },
          "metadata": {
            "needs_background": "light"
          }
        }
      ],
      "source": [
        "data['fb_user_6'].value_counts().sort_values(ascending=False).plot.bar()\n",
        "#X_train['fb_user_7'].value_counts().sort_values(ascending=False).plot.bar()\n",
        "data['fb_user_6'].fillna(2, inplace=True)\n",
        "plt.xlabel('fb_user_6')\n",
        "plt.ylabel('no. of customers')"
      ],
      "id": "8b180a4b"
    },
    {
      "cell_type": "code",
      "execution_count": 29,
      "metadata": {
        "colab": {
          "base_uri": "https://localhost:8080/",
          "height": 303
        },
        "id": "acce0e2b",
        "outputId": "52cf675d-2685-4f50-c703-41c03fc33f3e"
      },
      "outputs": [
        {
          "output_type": "execute_result",
          "data": {
            "text/plain": [
              "Text(0, 0.5, 'no. of customers')"
            ]
          },
          "metadata": {},
          "execution_count": 29
        },
        {
          "output_type": "display_data",
          "data": {
            "text/plain": [
              "<Figure size 432x288 with 1 Axes>"
            ],
            "image/png": "[encoded data removed]"
          },
          "metadata": {
            "needs_background": "light"
          }
        }
      ],
      "source": [
        "data['fb_user_6'].value_counts().sort_values(ascending=False).plot.bar()\n",
        "plt.xlabel('fb_user_6')\n",
        "plt.ylabel('no. of customers')"
      ],
      "id": "acce0e2b"
    },
    {
      "cell_type": "code",
      "execution_count": 30,
      "metadata": {
        "colab": {
          "base_uri": "https://localhost:8080/",
          "height": 303
        },
        "id": "c30fc0ca",
        "outputId": "619c6f81-07f9-4f09-c9d1-cd5cebc6bba8"
      },
      "outputs": [
        {
          "output_type": "execute_result",
          "data": {
            "text/plain": [
              "Text(0, 0.5, 'no. of customers')"
            ]
          },
          "metadata": {},
          "execution_count": 30
        },
        {
          "output_type": "display_data",
          "data": {
            "text/plain": [
              "<Figure size 432x288 with 1 Axes>"
            ],
            "image/png": "[encoded data removed]"
          },
          "metadata": {
            "needs_background": "light"
          }
        }
      ],
      "source": [
        "data['fb_user_7'].value_counts().sort_values(ascending=False).plot.bar()\n",
        "data['fb_user_7'].fillna(2, inplace=True)\n",
        "plt.xlabel('fb_user_7')\n",
        "plt.ylabel('no. of customers')"
      ],
      "id": "c30fc0ca"
    },
    {
      "cell_type": "code",
      "execution_count": 31,
      "metadata": {
        "colab": {
          "base_uri": "https://localhost:8080/",
          "height": 303
        },
        "id": "d101d6d0",
        "outputId": "8345284c-1580-49ad-8449-1ef984b1aec4"
      },
      "outputs": [
        {
          "output_type": "execute_result",
          "data": {
            "text/plain": [
              "Text(0, 0.5, 'no. of customers')"
            ]
          },
          "metadata": {},
          "execution_count": 31
        },
        {
          "output_type": "display_data",
          "data": {
            "text/plain": [
              "<Figure size 432x288 with 1 Axes>"
            ],
            "image/png": "[encoded data removed]"
          },
          "metadata": {
            "needs_background": "light"
          }
        }
      ],
      "source": [
        "data['fb_user_7'].value_counts().sort_values(ascending=False).plot.bar()\n",
        "plt.xlabel('fb_user_7')\n",
        "plt.ylabel('no. of customers')"
      ],
      "id": "d101d6d0"
    },
    {
      "cell_type": "code",
      "execution_count": 32,
      "metadata": {
        "colab": {
          "base_uri": "https://localhost:8080/",
          "height": 303
        },
        "id": "045940f4",
        "outputId": "39763a17-615d-4fe8-c84d-fb741f760c71"
      },
      "outputs": [
        {
          "output_type": "execute_result",
          "data": {
            "text/plain": [
              "Text(0, 0.5, 'no. of customers')"
            ]
          },
          "metadata": {},
          "execution_count": 32
        },
        {
          "output_type": "display_data",
          "data": {
            "text/plain": [
              "<Figure size 432x288 with 1 Axes>"
            ],
            "image/png": "[encoded data removed]"
          },
          "metadata": {
            "needs_background": "light"
          }
        }
      ],
      "source": [
        "data['fb_user_8'].value_counts().sort_values(ascending=False).plot.bar()\n",
        "data['fb_user_8'].fillna(2, inplace=True)\n",
        "plt.xlabel('fb_user_8')\n",
        "plt.ylabel('no. of customers')"
      ],
      "id": "045940f4"
    },
    {
      "cell_type": "code",
      "execution_count": 33,
      "metadata": {
        "colab": {
          "base_uri": "https://localhost:8080/",
          "height": 303
        },
        "id": "cf708d50",
        "outputId": "2831a052-1c40-457b-c1a0-3a1c4f427ace"
      },
      "outputs": [
        {
          "output_type": "execute_result",
          "data": {
            "text/plain": [
              "Text(0, 0.5, 'no. of customers')"
            ]
          },
          "metadata": {},
          "execution_count": 33
        },
        {
          "output_type": "display_data",
          "data": {
            "text/plain": [
              "<Figure size 432x288 with 1 Axes>"
            ],
            "image/png": "[encoded data removed]"
          },
          "metadata": {
            "needs_background": "light"
          }
        }
      ],
      "source": [
        "data['fb_user_8'].value_counts().sort_values(ascending=False).plot.bar()\n",
        "plt.xlabel('fb_user_8')\n",
        "plt.ylabel('no. of customers')"
      ],
      "id": "cf708d50"
    },
    {
      "cell_type": "markdown",
      "metadata": {
        "id": "62144b4e"
      },
      "source": [
        "In the fb_users,missing values are filled with 2 and is more than 50k"
      ],
      "id": "62144b4e"
    },
    {
      "cell_type": "code",
      "execution_count": 34,
      "metadata": {
        "colab": {
          "base_uri": "https://localhost:8080/",
          "height": 303
        },
        "id": "a41cc2c2",
        "outputId": "7b5a7d99-6d40-47c3-cc38-7e3e977671fc"
      },
      "outputs": [
        {
          "output_type": "execute_result",
          "data": {
            "text/plain": [
              "Text(0, 0.5, 'no. of customers')"
            ]
          },
          "metadata": {},
          "execution_count": 34
        },
        {
          "output_type": "display_data",
          "data": {
            "text/plain": [
              "<Figure size 432x288 with 1 Axes>"
            ],
            "image/png": "[encoded data removed]"
          },
          "metadata": {
            "needs_background": "light"
          }
        }
      ],
      "source": [
        "data['night_pck_user_6'].value_counts().sort_values(ascending=False).plot.bar()\n",
        "data['night_pck_user_6'].fillna(2, inplace=True)\n",
        "plt.xlabel('night_pck_user_6')\n",
        "plt.ylabel('no. of customers')"
      ],
      "id": "a41cc2c2"
    },
    {
      "cell_type": "code",
      "execution_count": 35,
      "metadata": {
        "colab": {
          "base_uri": "https://localhost:8080/",
          "height": 303
        },
        "id": "5e217b82",
        "outputId": "c996e1e9-dd13-4836-94d4-e8f80b686583"
      },
      "outputs": [
        {
          "output_type": "execute_result",
          "data": {
            "text/plain": [
              "Text(0, 0.5, 'no. of customers')"
            ]
          },
          "metadata": {},
          "execution_count": 35
        },
        {
          "output_type": "display_data",
          "data": {
            "text/plain": [
              "<Figure size 432x288 with 1 Axes>"
            ],
            "image/png": "[encoded data removed]"
          },
          "metadata": {
            "needs_background": "light"
          }
        }
      ],
      "source": [
        "data['night_pck_user_6'].value_counts().sort_values(ascending=False).plot.bar()\n",
        "plt.xlabel('night_pck_user_6')\n",
        "plt.ylabel('no. of customers')"
      ],
      "id": "5e217b82"
    },
    {
      "cell_type": "code",
      "execution_count": 36,
      "metadata": {
        "colab": {
          "base_uri": "https://localhost:8080/",
          "height": 303
        },
        "id": "d68035d8",
        "outputId": "d3617862-c17a-4484-ccc1-66aef000fcfb"
      },
      "outputs": [
        {
          "output_type": "execute_result",
          "data": {
            "text/plain": [
              "Text(0, 0.5, 'no. of customers')"
            ]
          },
          "metadata": {},
          "execution_count": 36
        },
        {
          "output_type": "display_data",
          "data": {
            "text/plain": [
              "<Figure size 432x288 with 1 Axes>"
            ],
            "image/png": "[encoded data removed]"
          },
          "metadata": {
            "needs_background": "light"
          }
        }
      ],
      "source": [
        "data['night_pck_user_7'].value_counts().sort_values(ascending=False).plot.bar()\n",
        "data['night_pck_user_7'].fillna(2, inplace=True)\n",
        "plt.xlabel('night_pck_user_7')\n",
        "plt.ylabel('no. of customers')"
      ],
      "id": "d68035d8"
    },
    {
      "cell_type": "code",
      "execution_count": 37,
      "metadata": {
        "colab": {
          "base_uri": "https://localhost:8080/",
          "height": 303
        },
        "id": "e86d3266",
        "outputId": "58b5f987-73d5-4550-edfd-6b16553c333b"
      },
      "outputs": [
        {
          "output_type": "execute_result",
          "data": {
            "text/plain": [
              "Text(0, 0.5, 'no. of customers')"
            ]
          },
          "metadata": {},
          "execution_count": 37
        },
        {
          "output_type": "display_data",
          "data": {
            "text/plain": [
              "<Figure size 432x288 with 1 Axes>"
            ],
            "image/png": "[encoded data removed]"
          },
          "metadata": {
            "needs_background": "light"
          }
        }
      ],
      "source": [
        "data['night_pck_user_7'].value_counts().sort_values(ascending=False).plot.bar()\n",
        "plt.xlabel('night_pck_user_7')\n",
        "plt.ylabel('no. of customers')"
      ],
      "id": "e86d3266"
    },
    {
      "cell_type": "code",
      "execution_count": 38,
      "metadata": {
        "colab": {
          "base_uri": "https://localhost:8080/",
          "height": 303
        },
        "id": "d41fb9aa",
        "outputId": "180756ce-a180-4d8e-ff66-a50f88a02ecb"
      },
      "outputs": [
        {
          "output_type": "execute_result",
          "data": {
            "text/plain": [
              "Text(0, 0.5, 'no. of customers')"
            ]
          },
          "metadata": {},
          "execution_count": 38
        },
        {
          "output_type": "display_data",
          "data": {
            "text/plain": [
              "<Figure size 432x288 with 1 Axes>"
            ],
            "image/png": "[encoded data removed]"
          },
          "metadata": {
            "needs_background": "light"
          }
        }
      ],
      "source": [
        "data['night_pck_user_8'].value_counts().sort_values(ascending=False).plot.bar()\n",
        "data['night_pck_user_8'].fillna(2, inplace=True)\n",
        "plt.xlabel('night_pck_user_8')\n",
        "plt.ylabel('no. of customers')"
      ],
      "id": "d41fb9aa"
    },
    {
      "cell_type": "code",
      "execution_count": 39,
      "metadata": {
        "colab": {
          "base_uri": "https://localhost:8080/",
          "height": 303
        },
        "id": "59838d04",
        "outputId": "6be3b2e4-26c3-4403-f6c3-218f5123a503"
      },
      "outputs": [
        {
          "output_type": "execute_result",
          "data": {
            "text/plain": [
              "Text(0, 0.5, 'no. of customers')"
            ]
          },
          "metadata": {},
          "execution_count": 39
        },
        {
          "output_type": "display_data",
          "data": {
            "text/plain": [
              "<Figure size 432x288 with 1 Axes>"
            ],
            "image/png": "[encoded data removed]"
          },
          "metadata": {
            "needs_background": "light"
          }
        }
      ],
      "source": [
        "data['night_pck_user_8'].value_counts().sort_values(ascending=False).plot.bar()\n",
        "plt.xlabel('night_pck_user_8')\n",
        "plt.ylabel('no. of customers')"
      ],
      "id": "59838d04"
    },
    {
      "cell_type": "markdown",
      "metadata": {
        "id": "acbcfab6"
      },
      "source": [
        "In the night pack user,missing values are filled with 2 value and is more than 50k"
      ],
      "id": "acbcfab6"
    },
    {
      "cell_type": "markdown",
      "metadata": {
        "id": "901e9382"
      },
      "source": [
        "# NUMERICAL COLUMNS IMPUTATION"
      ],
      "id": "901e9382"
    },
    {
      "cell_type": "code",
      "execution_count": 40,
      "metadata": {
        "id": "ad3c3109"
      },
      "outputs": [],
      "source": [
        "# Get the columns split to months\n",
        "jun_cols, jul_cols, aug_cols, sep_cols, common_cols, date_cols = get_cols_split(data)"
      ],
      "id": "ad3c3109"
    },
    {
      "cell_type": "code",
      "execution_count": 41,
      "metadata": {
        "id": "f704dfb4"
      },
      "outputs": [],
      "source": [
        "jun_call_usage_cols, jun_recharge_cols, jun_ic_usage_cols, jun_og_usage_cols = get_cols_sub_split(jun_cols)\n",
        "jul_call_usage_cols, jul_recharge_cols, jul_ic_usage_cols, jul_og_usage_cols = get_cols_sub_split(jul_cols)\n",
        "aug_call_usage_cols, aug_recharge_cols, aug_ic_usage_cols, aug_og_usage_cols = get_cols_sub_split(aug_cols)"
      ],
      "id": "f704dfb4"
    },
    {
      "cell_type": "code",
      "execution_count": 42,
      "metadata": {
        "id": "f43f1876"
      },
      "outputs": [],
      "source": [
        "cols_6 = ['count_rech_3g_6','max_rech_data_6','av_rech_amt_data_6','arpu_3g_6','total_rech_data_6','count_rech_2g_6','arpu_2g_6']\n",
        "cols_7 = ['count_rech_3g_7','max_rech_data_7','av_rech_amt_data_7','arpu_3g_7','total_rech_data_7','count_rech_2g_7','arpu_2g_7']\n",
        "cols_8 = ['count_rech_3g_8','max_rech_data_8','av_rech_amt_data_8','arpu_3g_8','total_rech_data_8','count_rech_2g_8','arpu_2g_8']\n",
        "\n",
        "data[cols_6] = data[cols_6].fillna(0)\n",
        "data[cols_7] = data[cols_7].fillna(0)\n",
        "data[cols_8] = data[cols_8].fillna(0)"
      ],
      "id": "f43f1876"
    },
    {
      "cell_type": "code",
      "execution_count": 43,
      "metadata": {
        "id": "777677d7"
      },
      "outputs": [],
      "source": [
        "data[jun_call_usage_cols] = data[jun_call_usage_cols].fillna(0)\n",
        "data[jul_call_usage_cols] = data[jul_call_usage_cols].fillna(0)\n",
        "data[aug_call_usage_cols] = data[aug_call_usage_cols].fillna(0)"
      ],
      "id": "777677d7"
    },
    {
      "cell_type": "markdown",
      "metadata": {
        "id": "a19d1058"
      },
      "source": [
        "The pandas isnull () function is used for detecting missing values in an array-like object. \n",
        "obj – This is the object which is passed to the function for finding missing values in it. \n",
        "The result of this function is a boolean value. \n",
        "Based on the input provided, the boolean result is obtained."
      ],
      "id": "a19d1058"
    },
    {
      "cell_type": "code",
      "execution_count": 44,
      "metadata": {
        "colab": {
          "base_uri": "https://localhost:8080/",
          "height": 238
        },
        "id": "3ae2b5cc",
        "outputId": "c6222161-3742-46ea-8b92-831b3db58924"
      },
      "outputs": [
        {
          "output_type": "execute_result",
          "data": {
            "text/plain": [
              "                        index  missing_cnt\n",
              "105  date_of_last_rech_data_6        74846\n",
              "106  date_of_last_rech_data_7        74428\n",
              "107  date_of_last_rech_data_8        73660\n",
              "101       date_of_last_rech_8         3622\n",
              "100       date_of_last_rech_7         1767\n",
              "99        date_of_last_rech_6         1607"
            ],
            "text/html": [
              "\n",
              "  <div id=\"df-51501fd2-d49b-477e-9437-a7146e3dca4c\">\n",
              "    <div class=\"colab-df-container\">\n",
              "      <div>\n",
              "<style scoped>\n",
              "    .dataframe tbody tr th:only-of-type {\n",
              "        vertical-align: middle;\n",
              "    }\n",
              "\n",
              "    .dataframe tbody tr th {\n",
              "        vertical-align: top;\n",
              "    }\n",
              "\n",
              "    .dataframe thead th {\n",
              "        text-align: right;\n",
              "    }\n",
              "</style>\n",
              "<table border=\"1\" class=\"dataframe\">\n",
              "  <thead>\n",
              "    <tr style=\"text-align: right;\">\n",
              "      <th></th>\n",
              "      <th>index</th>\n",
              "      <th>missing_cnt</th>\n",
              "    </tr>\n",
              "  </thead>\n",
              "  <tbody>\n",
              "    <tr>\n",
              "      <th>105</th>\n",
              "      <td>date_of_last_rech_data_6</td>\n",
              "      <td>74846</td>\n",
              "    </tr>\n",
              "    <tr>\n",
              "      <th>106</th>\n",
              "      <td>date_of_last_rech_data_7</td>\n",
              "      <td>74428</td>\n",
              "    </tr>\n",
              "    <tr>\n",
              "      <th>107</th>\n",
              "      <td>date_of_last_rech_data_8</td>\n",
              "      <td>73660</td>\n",
              "    </tr>\n",
              "    <tr>\n",
              "      <th>101</th>\n",
              "      <td>date_of_last_rech_8</td>\n",
              "      <td>3622</td>\n",
              "    </tr>\n",
              "    <tr>\n",
              "      <th>100</th>\n",
              "      <td>date_of_last_rech_7</td>\n",
              "      <td>1767</td>\n",
              "    </tr>\n",
              "    <tr>\n",
              "      <th>99</th>\n",
              "      <td>date_of_last_rech_6</td>\n",
              "      <td>1607</td>\n",
              "    </tr>\n",
              "  </tbody>\n",
              "</table>\n",
              "</div>\n",
              "      <button class=\"colab-df-convert\" onclick=\"convertToInteractive('df-51501fd2-d49b-477e-9437-a7146e3dca4c')\"\n",
              "              title=\"Convert this dataframe to an interactive table.\"\n",
              "              style=\"display:none;\">\n",
              "        \n",
              "  <svg xmlns=\"http://www.w3.org/2000/svg\" height=\"24px\"viewBox=\"0 0 24 24\"\n",
              "       width=\"24px\">\n",
              "    <path d=\"M0 0h24v24H0V0z\" fill=\"none\"/>\n",
              "    <path d=\"M18.56 5.44l.94 2.06.94-2.06 2.06-.94-2.06-.94-.94-2.06-.94 2.06-2.06.94zm-11 1L8.5 8.5l.94-2.06 2.06-.94-2.06-.94L8.5 2.5l-.94 2.06-2.06.94zm10 10l.94 2.06.94-2.06 2.06-.94-2.06-.94-.94-2.06-.94 2.06-2.06.94z\"/><path d=\"M17.41 7.96l-1.37-1.37c-.4-.4-.92-.59-1.43-.59-.52 0-1.04.2-1.43.59L10.3 9.45l-7.72 7.72c-.78.78-.78 2.05 0 2.83L4 21.41c.39.39.9.59 1.41.59.51 0 1.02-.2 1.41-.59l7.78-7.78 2.81-2.81c.8-.78.8-2.07 0-2.86zM5.41 20L4 18.59l7.72-7.72 1.47 1.35L5.41 20z\"/>\n",
              "  </svg>\n",
              "      </button>\n",
              "      \n",
              "  <style>\n",
              "    .colab-df-container {\n",
              "      display:flex;\n",
              "      flex-wrap:wrap;\n",
              "      gap: 12px;\n",
              "    }\n",
              "\n",
              "    .colab-df-convert {\n",
              "      background-color: #E8F0FE;\n",
              "      border: none;\n",
              "      border-radius: 50%;\n",
              "      cursor: pointer;\n",
              "      display: none;\n",
              "      fill: #1967D2;\n",
              "      height: 32px;\n",
              "      padding: 0 0 0 0;\n",
              "      width: 32px;\n",
              "    }\n",
              "\n",
              "    .colab-df-convert:hover {\n",
              "      background-color: #E2EBFA;\n",
              "      box-shadow: 0px 1px 2px rgba(60, 64, 67, 0.3), 0px 1px 3px 1px rgba(60, 64, 67, 0.15);\n",
              "      fill: #174EA6;\n",
              "    }\n",
              "\n",
              "    [theme=dark] .colab-df-convert {\n",
              "      background-color: #3B4455;\n",
              "      fill: #D2E3FC;\n",
              "    }\n",
              "\n",
              "    [theme=dark] .colab-df-convert:hover {\n",
              "      background-color: #434B5C;\n",
              "      box-shadow: 0px 1px 3px 1px rgba(0, 0, 0, 0.15);\n",
              "      filter: drop-shadow(0px 1px 2px rgba(0, 0, 0, 0.3));\n",
              "      fill: #FFFFFF;\n",
              "    }\n",
              "  </style>\n",
              "\n",
              "      <script>\n",
              "        const buttonEl =\n",
              "          document.querySelector('#df-51501fd2-d49b-477e-9437-a7146e3dca4c button.colab-df-convert');\n",
              "        buttonEl.style.display =\n",
              "          google.colab.kernel.accessAllowed ? 'block' : 'none';\n",
              "\n",
              "        async function convertToInteractive(key) {\n",
              "          const element = document.querySelector('#df-51501fd2-d49b-477e-9437-a7146e3dca4c');\n",
              "          const dataTable =\n",
              "            await google.colab.kernel.invokeFunction('convertToInteractive',\n",
              "                                                     [key], {});\n",
              "          if (!dataTable) return;\n",
              "\n",
              "          const docLinkHtml = 'Like what you see? Visit the ' +\n",
              "            '<a target=\"_blank\" href=https://colab.research.google.com/notebooks/data_table.ipynb>data table notebook</a>'\n",
              "            + ' to learn more about interactive tables.';\n",
              "          element.innerHTML = '';\n",
              "          dataTable['output_type'] = 'display_data';\n",
              "          await google.colab.output.renderOutput(dataTable, element);\n",
              "          const docLink = document.createElement('div');\n",
              "          docLink.innerHTML = docLinkHtml;\n",
              "          element.appendChild(docLink);\n",
              "        }\n",
              "      </script>\n",
              "    </div>\n",
              "  </div>\n",
              "  "
            ]
          },
          "metadata": {},
          "execution_count": 44
        }
      ],
      "source": [
        "data_missing = data.isnull().sum().reset_index(name='missing_cnt')\n",
        "data_missing.loc[data_missing['missing_cnt']>0].sort_values('missing_cnt', ascending=False)"
      ],
      "id": "3ae2b5cc"
    },
    {
      "cell_type": "markdown",
      "metadata": {
        "id": "93cfbd44"
      },
      "source": [
        "We have filled all the normal column missing values with zero and date columns are remaining."
      ],
      "id": "93cfbd44"
    },
    {
      "cell_type": "markdown",
      "metadata": {
        "id": "7ebd4818"
      },
      "source": [
        "# OUTLIER DETECTION"
      ],
      "id": "7ebd4818"
    },
    {
      "cell_type": "markdown",
      "metadata": {
        "id": "7206693c"
      },
      "source": [
        "when data values are not in the given range where maximum data lies then tese data values are said as outliers.\n",
        "These outliers can be treated by z-score method,IQR method or by percentile based method.\n",
        "Z-score method is applicable for normal distributed data only.BUt our data is right skewed.Hence we can Use IQR method or Box plot to detect the outliers."
      ],
      "id": "7206693c"
    },
    {
      "cell_type": "markdown",
      "metadata": {
        "id": "3158faa4"
      },
      "source": [
        "PLOTS OF OUTLIERS FOR INCOMING CALLS"
      ],
      "id": "3158faa4"
    },
    {
      "cell_type": "code",
      "execution_count": 45,
      "metadata": {
        "id": "ce484a6a"
      },
      "outputs": [],
      "source": [
        "cols = [['loc_ic_mou_6','std_ic_mou_6','isd_ic_mou_6','roam_ic_mou_6','spl_ic_mou_6','ic_others_6','total_ic_mou_6'],\n",
        "        ['loc_ic_mou_7','std_ic_mou_7','isd_ic_mou_7','roam_ic_mou_7','spl_ic_mou_7','ic_others_7','total_ic_mou_7'],\n",
        "        ['loc_ic_mou_8','std_ic_mou_8','isd_ic_mou_8','roam_ic_mou_8','spl_ic_mou_8','ic_others_8','total_ic_mou_8']]"
      ],
      "id": "ce484a6a"
    },
    {
      "cell_type": "markdown",
      "metadata": {
        "id": "1aef3b37"
      },
      "source": [
        "describe() method is used for statistical analysis.\n",
        "melt() function is useful to massage a DataFrame into a format where one or more columns are identifier variables (id_vars), while all other columns, considered measured variables (value_vars), are “unpivoted” to the row axis, leaving just two non-identifier columns, ‘variable’ and ‘value’.\n",
        "melt function returns unpivoted dataframe.\n",
        "Unpivot a DataFrame from wide to long format, optionally leaving identifiers set. This function is useful to massage a DataFrame into a format where one or more columns are identifier variables ( id_vars ), while all other columns, considered measured variables ( value_vars ), are “unpivoted” to the row axis, leaving just two non-identifier."
      ],
      "id": "1aef3b37"
    },
    {
      "cell_type": "code",
      "execution_count": 46,
      "metadata": {
        "colab": {
          "base_uri": "https://localhost:8080/",
          "height": 1000
        },
        "id": "738b2c27",
        "outputId": "7820a427-ff80-4867-fb06-b48c93194fb6"
      },
      "outputs": [
        {
          "output_type": "display_data",
          "data": {
            "text/plain": [
              "       loc_ic_mou_6  std_ic_mou_6  isd_ic_mou_6  roam_ic_mou_6  spl_ic_mou_6  \\\n",
              "count  99999.000000  99999.000000  99999.000000   99999.000000  99999.000000   \n",
              "mean     160.896870     31.179327      7.166881       9.558277      0.059133   \n",
              "std      251.192138    104.361211     58.553452      71.403643      0.158174   \n",
              "min        0.000000      0.000000      0.000000       0.000000      0.000000   \n",
              "25%       24.680000      0.000000      0.000000       0.000000      0.000000   \n",
              "50%       86.040000      5.010000      0.000000       0.000000      0.000000   \n",
              "75%      200.580000     25.410000      0.000000       0.000000      0.000000   \n",
              "max     7454.630000   5712.110000   6789.410000   13724.380000     19.760000   \n",
              "\n",
              "        ic_others_6  total_ic_mou_6  \n",
              "count  99999.000000    99999.000000  \n",
              "mean       0.821007      200.130037  \n",
              "std       11.718638      291.651671  \n",
              "min        0.000000        0.000000  \n",
              "25%        0.000000       38.530000  \n",
              "50%        0.000000      114.740000  \n",
              "75%        0.000000      251.670000  \n",
              "max     1362.940000     7716.140000  "
            ],
            "text/html": [
              "\n",
              "  <div id=\"df-6637e9b6-67b1-4ac9-8bb1-e3ee6c05ac45\">\n",
              "    <div class=\"colab-df-container\">\n",
              "      <div>\n",
              "<style scoped>\n",
              "    .dataframe tbody tr th:only-of-type {\n",
              "        vertical-align: middle;\n",
              "    }\n",
              "\n",
              "    .dataframe tbody tr th {\n",
              "        vertical-align: top;\n",
              "    }\n",
              "\n",
              "    .dataframe thead th {\n",
              "        text-align: right;\n",
              "    }\n",
              "</style>\n",
              "<table border=\"1\" class=\"dataframe\">\n",
              "  <thead>\n",
              "    <tr style=\"text-align: right;\">\n",
              "      <th></th>\n",
              "      <th>loc_ic_mou_6</th>\n",
              "      <th>std_ic_mou_6</th>\n",
              "      <th>isd_ic_mou_6</th>\n",
              "      <th>roam_ic_mou_6</th>\n",
              "      <th>spl_ic_mou_6</th>\n",
              "      <th>ic_others_6</th>\n",
              "      <th>total_ic_mou_6</th>\n",
              "    </tr>\n",
              "  </thead>\n",
              "  <tbody>\n",
              "    <tr>\n",
              "      <th>count</th>\n",
              "      <td>99999.000000</td>\n",
              "      <td>99999.000000</td>\n",
              "      <td>99999.000000</td>\n",
              "      <td>99999.000000</td>\n",
              "      <td>99999.000000</td>\n",
              "      <td>99999.000000</td>\n",
              "      <td>99999.000000</td>\n",
              "    </tr>\n",
              "    <tr>\n",
              "      <th>mean</th>\n",
              "      <td>160.896870</td>\n",
              "      <td>31.179327</td>\n",
              "      <td>7.166881</td>\n",
              "      <td>9.558277</td>\n",
              "      <td>0.059133</td>\n",
              "      <td>0.821007</td>\n",
              "      <td>200.130037</td>\n",
              "    </tr>\n",
              "    <tr>\n",
              "      <th>std</th>\n",
              "      <td>251.192138</td>\n",
              "      <td>104.361211</td>\n",
              "      <td>58.553452</td>\n",
              "      <td>71.403643</td>\n",
              "      <td>0.158174</td>\n",
              "      <td>11.718638</td>\n",
              "      <td>291.651671</td>\n",
              "    </tr>\n",
              "    <tr>\n",
              "      <th>min</th>\n",
              "      <td>0.000000</td>\n",
              "      <td>0.000000</td>\n",
              "      <td>0.000000</td>\n",
              "      <td>0.000000</td>\n",
              "      <td>0.000000</td>\n",
              "      <td>0.000000</td>\n",
              "      <td>0.000000</td>\n",
              "    </tr>\n",
              "    <tr>\n",
              "      <th>25%</th>\n",
              "      <td>24.680000</td>\n",
              "      <td>0.000000</td>\n",
              "      <td>0.000000</td>\n",
              "      <td>0.000000</td>\n",
              "      <td>0.000000</td>\n",
              "      <td>0.000000</td>\n",
              "      <td>38.530000</td>\n",
              "    </tr>\n",
              "    <tr>\n",
              "      <th>50%</th>\n",
              "      <td>86.040000</td>\n",
              "      <td>5.010000</td>\n",
              "      <td>0.000000</td>\n",
              "      <td>0.000000</td>\n",
              "      <td>0.000000</td>\n",
              "      <td>0.000000</td>\n",
              "      <td>114.740000</td>\n",
              "    </tr>\n",
              "    <tr>\n",
              "      <th>75%</th>\n",
              "      <td>200.580000</td>\n",
              "      <td>25.410000</td>\n",
              "      <td>0.000000</td>\n",
              "      <td>0.000000</td>\n",
              "      <td>0.000000</td>\n",
              "      <td>0.000000</td>\n",
              "      <td>251.670000</td>\n",
              "    </tr>\n",
              "    <tr>\n",
              "      <th>max</th>\n",
              "      <td>7454.630000</td>\n",
              "      <td>5712.110000</td>\n",
              "      <td>6789.410000</td>\n",
              "      <td>13724.380000</td>\n",
              "      <td>19.760000</td>\n",
              "      <td>1362.940000</td>\n",
              "      <td>7716.140000</td>\n",
              "    </tr>\n",
              "  </tbody>\n",
              "</table>\n",
              "</div>\n",
              "      <button class=\"colab-df-convert\" onclick=\"convertToInteractive('df-6637e9b6-67b1-4ac9-8bb1-e3ee6c05ac45')\"\n",
              "              title=\"Convert this dataframe to an interactive table.\"\n",
              "              style=\"display:none;\">\n",
              "        \n",
              "  <svg xmlns=\"http://www.w3.org/2000/svg\" height=\"24px\"viewBox=\"0 0 24 24\"\n",
              "       width=\"24px\">\n",
              "    <path d=\"M0 0h24v24H0V0z\" fill=\"none\"/>\n",
              "    <path d=\"M18.56 5.44l.94 2.06.94-2.06 2.06-.94-2.06-.94-.94-2.06-.94 2.06-2.06.94zm-11 1L8.5 8.5l.94-2.06 2.06-.94-2.06-.94L8.5 2.5l-.94 2.06-2.06.94zm10 10l.94 2.06.94-2.06 2.06-.94-2.06-.94-.94-2.06-.94 2.06-2.06.94z\"/><path d=\"M17.41 7.96l-1.37-1.37c-.4-.4-.92-.59-1.43-.59-.52 0-1.04.2-1.43.59L10.3 9.45l-7.72 7.72c-.78.78-.78 2.05 0 2.83L4 21.41c.39.39.9.59 1.41.59.51 0 1.02-.2 1.41-.59l7.78-7.78 2.81-2.81c.8-.78.8-2.07 0-2.86zM5.41 20L4 18.59l7.72-7.72 1.47 1.35L5.41 20z\"/>\n",
              "  </svg>\n",
              "      </button>\n",
              "      \n",
              "  <style>\n",
              "    .colab-df-container {\n",
              "      display:flex;\n",
              "      flex-wrap:wrap;\n",
              "      gap: 12px;\n",
              "    }\n",
              "\n",
              "    .colab-df-convert {\n",
              "      background-color: #E8F0FE;\n",
              "      border: none;\n",
              "      border-radius: 50%;\n",
              "      cursor: pointer;\n",
              "      display: none;\n",
              "      fill: #1967D2;\n",
              "      height: 32px;\n",
              "      padding: 0 0 0 0;\n",
              "      width: 32px;\n",
              "    }\n",
              "\n",
              "    .colab-df-convert:hover {\n",
              "      background-color: #E2EBFA;\n",
              "      box-shadow: 0px 1px 2px rgba(60, 64, 67, 0.3), 0px 1px 3px 1px rgba(60, 64, 67, 0.15);\n",
              "      fill: #174EA6;\n",
              "    }\n",
              "\n",
              "    [theme=dark] .colab-df-convert {\n",
              "      background-color: #3B4455;\n",
              "      fill: #D2E3FC;\n",
              "    }\n",
              "\n",
              "    [theme=dark] .colab-df-convert:hover {\n",
              "      background-color: #434B5C;\n",
              "      box-shadow: 0px 1px 3px 1px rgba(0, 0, 0, 0.15);\n",
              "      filter: drop-shadow(0px 1px 2px rgba(0, 0, 0, 0.3));\n",
              "      fill: #FFFFFF;\n",
              "    }\n",
              "  </style>\n",
              "\n",
              "      <script>\n",
              "        const buttonEl =\n",
              "          document.querySelector('#df-6637e9b6-67b1-4ac9-8bb1-e3ee6c05ac45 button.colab-df-convert');\n",
              "        buttonEl.style.display =\n",
              "          google.colab.kernel.accessAllowed ? 'block' : 'none';\n",
              "\n",
              "        async function convertToInteractive(key) {\n",
              "          const element = document.querySelector('#df-6637e9b6-67b1-4ac9-8bb1-e3ee6c05ac45');\n",
              "          const dataTable =\n",
              "            await google.colab.kernel.invokeFunction('convertToInteractive',\n",
              "                                                     [key], {});\n",
              "          if (!dataTable) return;\n",
              "\n",
              "          const docLinkHtml = 'Like what you see? Visit the ' +\n",
              "            '<a target=\"_blank\" href=https://colab.research.google.com/notebooks/data_table.ipynb>data table notebook</a>'\n",
              "            + ' to learn more about interactive tables.';\n",
              "          element.innerHTML = '';\n",
              "          dataTable['output_type'] = 'display_data';\n",
              "          await google.colab.output.renderOutput(dataTable, element);\n",
              "          const docLink = document.createElement('div');\n",
              "          docLink.innerHTML = docLinkHtml;\n",
              "          element.appendChild(docLink);\n",
              "        }\n",
              "      </script>\n",
              "    </div>\n",
              "  </div>\n",
              "  "
            ]
          },
          "metadata": {}
        },
        {
          "output_type": "display_data",
          "data": {
            "text/plain": [
              "       loc_ic_mou_7  std_ic_mou_7  isd_ic_mou_7  roam_ic_mou_7  spl_ic_mou_7  \\\n",
              "count  99999.000000  99999.000000  99999.000000   99999.000000  99999.000000   \n",
              "mean     161.247178     32.580088      8.013288       6.873981      0.032289   \n",
              "std      253.318185    111.695196     63.969156      72.029965      0.152828   \n",
              "min        0.000000      0.000000      0.000000       0.000000      0.000000   \n",
              "25%       26.710000      0.000000      0.000000       0.000000      0.000000   \n",
              "50%       86.610000      5.060000      0.000000       0.000000      0.000000   \n",
              "75%      198.690000     26.640000      0.000000       0.000000      0.000000   \n",
              "max     9669.910000   6745.760000   5289.540000   15371.040000     21.330000   \n",
              "\n",
              "        ic_others_7  total_ic_mou_7  \n",
              "count  99999.000000    99999.000000  \n",
              "mean       0.973870      202.853055  \n",
              "std       12.427693      298.124954  \n",
              "min        0.000000        0.000000  \n",
              "25%        0.000000       41.190000  \n",
              "50%        0.000000      116.340000  \n",
              "75%        0.000000      250.660000  \n",
              "max     1495.940000     9699.010000  "
            ],
            "text/html": [
              "\n",
              "  <div id=\"df-70c4a8a9-5613-497c-a795-a0d2d5051844\">\n",
              "    <div class=\"colab-df-container\">\n",
              "      <div>\n",
              "<style scoped>\n",
              "    .dataframe tbody tr th:only-of-type {\n",
              "        vertical-align: middle;\n",
              "    }\n",
              "\n",
              "    .dataframe tbody tr th {\n",
              "        vertical-align: top;\n",
              "    }\n",
              "\n",
              "    .dataframe thead th {\n",
              "        text-align: right;\n",
              "    }\n",
              "</style>\n",
              "<table border=\"1\" class=\"dataframe\">\n",
              "  <thead>\n",
              "    <tr style=\"text-align: right;\">\n",
              "      <th></th>\n",
              "      <th>loc_ic_mou_7</th>\n",
              "      <th>std_ic_mou_7</th>\n",
              "      <th>isd_ic_mou_7</th>\n",
              "      <th>roam_ic_mou_7</th>\n",
              "      <th>spl_ic_mou_7</th>\n",
              "      <th>ic_others_7</th>\n",
              "      <th>total_ic_mou_7</th>\n",
              "    </tr>\n",
              "  </thead>\n",
              "  <tbody>\n",
              "    <tr>\n",
              "      <th>count</th>\n",
              "      <td>99999.000000</td>\n",
              "      <td>99999.000000</td>\n",
              "      <td>99999.000000</td>\n",
              "      <td>99999.000000</td>\n",
              "      <td>99999.000000</td>\n",
              "      <td>99999.000000</td>\n",
              "      <td>99999.000000</td>\n",
              "    </tr>\n",
              "    <tr>\n",
              "      <th>mean</th>\n",
              "      <td>161.247178</td>\n",
              "      <td>32.580088</td>\n",
              "      <td>8.013288</td>\n",
              "      <td>6.873981</td>\n",
              "      <td>0.032289</td>\n",
              "      <td>0.973870</td>\n",
              "      <td>202.853055</td>\n",
              "    </tr>\n",
              "    <tr>\n",
              "      <th>std</th>\n",
              "      <td>253.318185</td>\n",
              "      <td>111.695196</td>\n",
              "      <td>63.969156</td>\n",
              "      <td>72.029965</td>\n",
              "      <td>0.152828</td>\n",
              "      <td>12.427693</td>\n",
              "      <td>298.124954</td>\n",
              "    </tr>\n",
              "    <tr>\n",
              "      <th>min</th>\n",
              "      <td>0.000000</td>\n",
              "      <td>0.000000</td>\n",
              "      <td>0.000000</td>\n",
              "      <td>0.000000</td>\n",
              "      <td>0.000000</td>\n",
              "      <td>0.000000</td>\n",
              "      <td>0.000000</td>\n",
              "    </tr>\n",
              "    <tr>\n",
              "      <th>25%</th>\n",
              "      <td>26.710000</td>\n",
              "      <td>0.000000</td>\n",
              "      <td>0.000000</td>\n",
              "      <td>0.000000</td>\n",
              "      <td>0.000000</td>\n",
              "      <td>0.000000</td>\n",
              "      <td>41.190000</td>\n",
              "    </tr>\n",
              "    <tr>\n",
              "      <th>50%</th>\n",
              "      <td>86.610000</td>\n",
              "      <td>5.060000</td>\n",
              "      <td>0.000000</td>\n",
              "      <td>0.000000</td>\n",
              "      <td>0.000000</td>\n",
              "      <td>0.000000</td>\n",
              "      <td>116.340000</td>\n",
              "    </tr>\n",
              "    <tr>\n",
              "      <th>75%</th>\n",
              "      <td>198.690000</td>\n",
              "      <td>26.640000</td>\n",
              "      <td>0.000000</td>\n",
              "      <td>0.000000</td>\n",
              "      <td>0.000000</td>\n",
              "      <td>0.000000</td>\n",
              "      <td>250.660000</td>\n",
              "    </tr>\n",
              "    <tr>\n",
              "      <th>max</th>\n",
              "      <td>9669.910000</td>\n",
              "      <td>6745.760000</td>\n",
              "      <td>5289.540000</td>\n",
              "      <td>15371.040000</td>\n",
              "      <td>21.330000</td>\n",
              "      <td>1495.940000</td>\n",
              "      <td>9699.010000</td>\n",
              "    </tr>\n",
              "  </tbody>\n",
              "</table>\n",
              "</div>\n",
              "      <button class=\"colab-df-convert\" onclick=\"convertToInteractive('df-70c4a8a9-5613-497c-a795-a0d2d5051844')\"\n",
              "              title=\"Convert this dataframe to an interactive table.\"\n",
              "              style=\"display:none;\">\n",
              "        \n",
              "  <svg xmlns=\"http://www.w3.org/2000/svg\" height=\"24px\"viewBox=\"0 0 24 24\"\n",
              "       width=\"24px\">\n",
              "    <path d=\"M0 0h24v24H0V0z\" fill=\"none\"/>\n",
              "    <path d=\"M18.56 5.44l.94 2.06.94-2.06 2.06-.94-2.06-.94-.94-2.06-.94 2.06-2.06.94zm-11 1L8.5 8.5l.94-2.06 2.06-.94-2.06-.94L8.5 2.5l-.94 2.06-2.06.94zm10 10l.94 2.06.94-2.06 2.06-.94-2.06-.94-.94-2.06-.94 2.06-2.06.94z\"/><path d=\"M17.41 7.96l-1.37-1.37c-.4-.4-.92-.59-1.43-.59-.52 0-1.04.2-1.43.59L10.3 9.45l-7.72 7.72c-.78.78-.78 2.05 0 2.83L4 21.41c.39.39.9.59 1.41.59.51 0 1.02-.2 1.41-.59l7.78-7.78 2.81-2.81c.8-.78.8-2.07 0-2.86zM5.41 20L4 18.59l7.72-7.72 1.47 1.35L5.41 20z\"/>\n",
              "  </svg>\n",
              "      </button>\n",
              "      \n",
              "  <style>\n",
              "    .colab-df-container {\n",
              "      display:flex;\n",
              "      flex-wrap:wrap;\n",
              "      gap: 12px;\n",
              "    }\n",
              "\n",
              "    .colab-df-convert {\n",
              "      background-color: #E8F0FE;\n",
              "      border: none;\n",
              "      border-radius: 50%;\n",
              "      cursor: pointer;\n",
              "      display: none;\n",
              "      fill: #1967D2;\n",
              "      height: 32px;\n",
              "      padding: 0 0 0 0;\n",
              "      width: 32px;\n",
              "    }\n",
              "\n",
              "    .colab-df-convert:hover {\n",
              "      background-color: #E2EBFA;\n",
              "      box-shadow: 0px 1px 2px rgba(60, 64, 67, 0.3), 0px 1px 3px 1px rgba(60, 64, 67, 0.15);\n",
              "      fill: #174EA6;\n",
              "    }\n",
              "\n",
              "    [theme=dark] .colab-df-convert {\n",
              "      background-color: #3B4455;\n",
              "      fill: #D2E3FC;\n",
              "    }\n",
              "\n",
              "    [theme=dark] .colab-df-convert:hover {\n",
              "      background-color: #434B5C;\n",
              "      box-shadow: 0px 1px 3px 1px rgba(0, 0, 0, 0.15);\n",
              "      filter: drop-shadow(0px 1px 2px rgba(0, 0, 0, 0.3));\n",
              "      fill: #FFFFFF;\n",
              "    }\n",
              "  </style>\n",
              "\n",
              "      <script>\n",
              "        const buttonEl =\n",
              "          document.querySelector('#df-70c4a8a9-5613-497c-a795-a0d2d5051844 button.colab-df-convert');\n",
              "        buttonEl.style.display =\n",
              "          google.colab.kernel.accessAllowed ? 'block' : 'none';\n",
              "\n",
              "        async function convertToInteractive(key) {\n",
              "          const element = document.querySelector('#df-70c4a8a9-5613-497c-a795-a0d2d5051844');\n",
              "          const dataTable =\n",
              "            await google.colab.kernel.invokeFunction('convertToInteractive',\n",
              "                                                     [key], {});\n",
              "          if (!dataTable) return;\n",
              "\n",
              "          const docLinkHtml = 'Like what you see? Visit the ' +\n",
              "            '<a target=\"_blank\" href=https://colab.research.google.com/notebooks/data_table.ipynb>data table notebook</a>'\n",
              "            + ' to learn more about interactive tables.';\n",
              "          element.innerHTML = '';\n",
              "          dataTable['output_type'] = 'display_data';\n",
              "          await google.colab.output.renderOutput(dataTable, element);\n",
              "          const docLink = document.createElement('div');\n",
              "          docLink.innerHTML = docLinkHtml;\n",
              "          element.appendChild(docLink);\n",
              "        }\n",
              "      </script>\n",
              "    </div>\n",
              "  </div>\n",
              "  "
            ]
          },
          "metadata": {}
        },
        {
          "output_type": "display_data",
          "data": {
            "text/plain": [
              "       loc_ic_mou_8  std_ic_mou_8  isd_ic_mou_8  roam_ic_mou_8  spl_ic_mou_8  \\\n",
              "count  99999.000000  99999.000000  99999.000000   99999.000000  99999.000000   \n",
              "mean     158.427961     31.371656      7.987986       6.900761      0.038191   \n",
              "std      246.124674    107.385484     62.102622      66.558003      0.142454   \n",
              "min        0.000000      0.000000      0.000000       0.000000      0.000000   \n",
              "25%       24.590000      0.000000      0.000000       0.000000      0.000000   \n",
              "50%       84.990000      4.690000      0.000000       0.000000      0.000000   \n",
              "75%      197.540000     25.510000      0.000000       0.000000      0.000000   \n",
              "max    10830.160000   5957.140000   4127.010000   13095.360000     16.860000   \n",
              "\n",
              "        ic_others_8  total_ic_mou_8  \n",
              "count  99999.000000    99999.000000  \n",
              "mean       0.918590      198.750783  \n",
              "std       12.924043      289.321094  \n",
              "min        0.000000        0.000000  \n",
              "25%        0.000000       38.290000  \n",
              "50%        0.000000      114.660000  \n",
              "75%        0.000000      248.990000  \n",
              "max     2327.510000    10830.380000  "
            ],
            "text/html": [
              "\n",
              "  <div id=\"df-549b1123-ec08-46d7-a28d-d1aa25bbb43a\">\n",
              "    <div class=\"colab-df-container\">\n",
              "      <div>\n",
              "<style scoped>\n",
              "    .dataframe tbody tr th:only-of-type {\n",
              "        vertical-align: middle;\n",
              "    }\n",
              "\n",
              "    .dataframe tbody tr th {\n",
              "        vertical-align: top;\n",
              "    }\n",
              "\n",
              "    .dataframe thead th {\n",
              "        text-align: right;\n",
              "    }\n",
              "</style>\n",
              "<table border=\"1\" class=\"dataframe\">\n",
              "  <thead>\n",
              "    <tr style=\"text-align: right;\">\n",
              "      <th></th>\n",
              "      <th>loc_ic_mou_8</th>\n",
              "      <th>std_ic_mou_8</th>\n",
              "      <th>isd_ic_mou_8</th>\n",
              "      <th>roam_ic_mou_8</th>\n",
              "      <th>spl_ic_mou_8</th>\n",
              "      <th>ic_others_8</th>\n",
              "      <th>total_ic_mou_8</th>\n",
              "    </tr>\n",
              "  </thead>\n",
              "  <tbody>\n",
              "    <tr>\n",
              "      <th>count</th>\n",
              "      <td>99999.000000</td>\n",
              "      <td>99999.000000</td>\n",
              "      <td>99999.000000</td>\n",
              "      <td>99999.000000</td>\n",
              "      <td>99999.000000</td>\n",
              "      <td>99999.000000</td>\n",
              "      <td>99999.000000</td>\n",
              "    </tr>\n",
              "    <tr>\n",
              "      <th>mean</th>\n",
              "      <td>158.427961</td>\n",
              "      <td>31.371656</td>\n",
              "      <td>7.987986</td>\n",
              "      <td>6.900761</td>\n",
              "      <td>0.038191</td>\n",
              "      <td>0.918590</td>\n",
              "      <td>198.750783</td>\n",
              "    </tr>\n",
              "    <tr>\n",
              "      <th>std</th>\n",
              "      <td>246.124674</td>\n",
              "      <td>107.385484</td>\n",
              "      <td>62.102622</td>\n",
              "      <td>66.558003</td>\n",
              "      <td>0.142454</td>\n",
              "      <td>12.924043</td>\n",
              "      <td>289.321094</td>\n",
              "    </tr>\n",
              "    <tr>\n",
              "      <th>min</th>\n",
              "      <td>0.000000</td>\n",
              "      <td>0.000000</td>\n",
              "      <td>0.000000</td>\n",
              "      <td>0.000000</td>\n",
              "      <td>0.000000</td>\n",
              "      <td>0.000000</td>\n",
              "      <td>0.000000</td>\n",
              "    </tr>\n",
              "    <tr>\n",
              "      <th>25%</th>\n",
              "      <td>24.590000</td>\n",
              "      <td>0.000000</td>\n",
              "      <td>0.000000</td>\n",
              "      <td>0.000000</td>\n",
              "      <td>0.000000</td>\n",
              "      <td>0.000000</td>\n",
              "      <td>38.290000</td>\n",
              "    </tr>\n",
              "    <tr>\n",
              "      <th>50%</th>\n",
              "      <td>84.990000</td>\n",
              "      <td>4.690000</td>\n",
              "      <td>0.000000</td>\n",
              "      <td>0.000000</td>\n",
              "      <td>0.000000</td>\n",
              "      <td>0.000000</td>\n",
              "      <td>114.660000</td>\n",
              "    </tr>\n",
              "    <tr>\n",
              "      <th>75%</th>\n",
              "      <td>197.540000</td>\n",
              "      <td>25.510000</td>\n",
              "      <td>0.000000</td>\n",
              "      <td>0.000000</td>\n",
              "      <td>0.000000</td>\n",
              "      <td>0.000000</td>\n",
              "      <td>248.990000</td>\n",
              "    </tr>\n",
              "    <tr>\n",
              "      <th>max</th>\n",
              "      <td>10830.160000</td>\n",
              "      <td>5957.140000</td>\n",
              "      <td>4127.010000</td>\n",
              "      <td>13095.360000</td>\n",
              "      <td>16.860000</td>\n",
              "      <td>2327.510000</td>\n",
              "      <td>10830.380000</td>\n",
              "    </tr>\n",
              "  </tbody>\n",
              "</table>\n",
              "</div>\n",
              "      <button class=\"colab-df-convert\" onclick=\"convertToInteractive('df-549b1123-ec08-46d7-a28d-d1aa25bbb43a')\"\n",
              "              title=\"Convert this dataframe to an interactive table.\"\n",
              "              style=\"display:none;\">\n",
              "        \n",
              "  <svg xmlns=\"http://www.w3.org/2000/svg\" height=\"24px\"viewBox=\"0 0 24 24\"\n",
              "       width=\"24px\">\n",
              "    <path d=\"M0 0h24v24H0V0z\" fill=\"none\"/>\n",
              "    <path d=\"M18.56 5.44l.94 2.06.94-2.06 2.06-.94-2.06-.94-.94-2.06-.94 2.06-2.06.94zm-11 1L8.5 8.5l.94-2.06 2.06-.94-2.06-.94L8.5 2.5l-.94 2.06-2.06.94zm10 10l.94 2.06.94-2.06 2.06-.94-2.06-.94-.94-2.06-.94 2.06-2.06.94z\"/><path d=\"M17.41 7.96l-1.37-1.37c-.4-.4-.92-.59-1.43-.59-.52 0-1.04.2-1.43.59L10.3 9.45l-7.72 7.72c-.78.78-.78 2.05 0 2.83L4 21.41c.39.39.9.59 1.41.59.51 0 1.02-.2 1.41-.59l7.78-7.78 2.81-2.81c.8-.78.8-2.07 0-2.86zM5.41 20L4 18.59l7.72-7.72 1.47 1.35L5.41 20z\"/>\n",
              "  </svg>\n",
              "      </button>\n",
              "      \n",
              "  <style>\n",
              "    .colab-df-container {\n",
              "      display:flex;\n",
              "      flex-wrap:wrap;\n",
              "      gap: 12px;\n",
              "    }\n",
              "\n",
              "    .colab-df-convert {\n",
              "      background-color: #E8F0FE;\n",
              "      border: none;\n",
              "      border-radius: 50%;\n",
              "      cursor: pointer;\n",
              "      display: none;\n",
              "      fill: #1967D2;\n",
              "      height: 32px;\n",
              "      padding: 0 0 0 0;\n",
              "      width: 32px;\n",
              "    }\n",
              "\n",
              "    .colab-df-convert:hover {\n",
              "      background-color: #E2EBFA;\n",
              "      box-shadow: 0px 1px 2px rgba(60, 64, 67, 0.3), 0px 1px 3px 1px rgba(60, 64, 67, 0.15);\n",
              "      fill: #174EA6;\n",
              "    }\n",
              "\n",
              "    [theme=dark] .colab-df-convert {\n",
              "      background-color: #3B4455;\n",
              "      fill: #D2E3FC;\n",
              "    }\n",
              "\n",
              "    [theme=dark] .colab-df-convert:hover {\n",
              "      background-color: #434B5C;\n",
              "      box-shadow: 0px 1px 3px 1px rgba(0, 0, 0, 0.15);\n",
              "      filter: drop-shadow(0px 1px 2px rgba(0, 0, 0, 0.3));\n",
              "      fill: #FFFFFF;\n",
              "    }\n",
              "  </style>\n",
              "\n",
              "      <script>\n",
              "        const buttonEl =\n",
              "          document.querySelector('#df-549b1123-ec08-46d7-a28d-d1aa25bbb43a button.colab-df-convert');\n",
              "        buttonEl.style.display =\n",
              "          google.colab.kernel.accessAllowed ? 'block' : 'none';\n",
              "\n",
              "        async function convertToInteractive(key) {\n",
              "          const element = document.querySelector('#df-549b1123-ec08-46d7-a28d-d1aa25bbb43a');\n",
              "          const dataTable =\n",
              "            await google.colab.kernel.invokeFunction('convertToInteractive',\n",
              "                                                     [key], {});\n",
              "          if (!dataTable) return;\n",
              "\n",
              "          const docLinkHtml = 'Like what you see? Visit the ' +\n",
              "            '<a target=\"_blank\" href=https://colab.research.google.com/notebooks/data_table.ipynb>data table notebook</a>'\n",
              "            + ' to learn more about interactive tables.';\n",
              "          element.innerHTML = '';\n",
              "          dataTable['output_type'] = 'display_data';\n",
              "          await google.colab.output.renderOutput(dataTable, element);\n",
              "          const docLink = document.createElement('div');\n",
              "          docLink.innerHTML = docLinkHtml;\n",
              "          element.appendChild(docLink);\n",
              "        }\n",
              "      </script>\n",
              "    </div>\n",
              "  </div>\n",
              "  "
            ]
          },
          "metadata": {}
        },
        {
          "output_type": "display_data",
          "data": {
            "text/plain": [
              "<Figure size 1296x360 with 3 Axes>"
            ],
            "image/png": "[encoded data removed]"
          },
          "metadata": {
            "needs_background": "light"
          }
        }
      ],
      "source": [
        "# plot for the incoming calls usage\n",
        "plt.figure(figsize=(18, 5))\n",
        "for i in range(0,3):\n",
        "    display(data[cols[i]].describe())\n",
        "for i in range(0,3):\n",
        "    plt.subplot(1,3,i+1)\n",
        "    X = pd.concat([data[cols[i]], data['churn']], axis=1)\n",
        "    X = pd.melt(X,id_vars=\"churn\",var_name=\"features\",value_name='incoming_calls')\n",
        "    sns.boxplot(x=\"features\", y=\"incoming_calls\", hue=\"churn\", data=X)\n",
        "    plt.xticks(rotation=90)    \n",
        "    plt.suptitle('Incoming Calls Usage')"
      ],
      "id": "738b2c27"
    },
    {
      "cell_type": "markdown",
      "metadata": {
        "id": "fc14c3a6"
      },
      "source": [
        "outlier is at the top percetile"
      ],
      "id": "fc14c3a6"
    },
    {
      "cell_type": "markdown",
      "metadata": {
        "id": "ead6770d"
      },
      "source": [
        "PLOT OF OUTLIERS FOR OUTGOING CALLS"
      ],
      "id": "ead6770d"
    },
    {
      "cell_type": "code",
      "execution_count": 47,
      "metadata": {
        "colab": {
          "base_uri": "https://localhost:8080/",
          "height": 1000
        },
        "id": "de7648e2",
        "outputId": "2b509d47-e2ac-4eec-833a-b5c3f77186b1"
      },
      "outputs": [
        {
          "output_type": "display_data",
          "data": {
            "text/plain": [
              "       loc_og_mou_6  std_og_mou_6  isd_og_mou_6  roam_og_mou_6  spl_og_mou_6  \\\n",
              "count  99999.000000  99999.000000  99999.000000   99999.000000  99999.000000   \n",
              "mean     138.523918    161.636708      0.766849      13.363643      3.762604   \n",
              "std      248.334416    383.593393     25.253433      70.074931     14.659270   \n",
              "min        0.000000      0.000000      0.000000       0.000000      0.000000   \n",
              "25%       12.930000      0.000000      0.000000       0.000000      0.000000   \n",
              "50%       59.910000      9.180000      0.000000       0.000000      0.000000   \n",
              "75%      161.920000    132.490000      0.000000       0.000000      2.180000   \n",
              "max    10643.380000   8432.990000   5900.660000    3775.110000   1023.210000   \n",
              "\n",
              "        og_others_6  total_og_mou_6  \n",
              "count  99999.000000    99999.000000  \n",
              "mean       0.436277      305.133424  \n",
              "std        4.044839      463.419481  \n",
              "min        0.000000        0.000000  \n",
              "25%        0.000000       44.740000  \n",
              "50%        0.000000      145.140000  \n",
              "75%        0.000000      372.860000  \n",
              "max      800.890000    10674.030000  "
            ],
            "text/html": [
              "\n",
              "  <div id=\"df-813528a1-0bb0-4c7d-8bed-8cb18df84602\">\n",
              "    <div class=\"colab-df-container\">\n",
              "      <div>\n",
              "<style scoped>\n",
              "    .dataframe tbody tr th:only-of-type {\n",
              "        vertical-align: middle;\n",
              "    }\n",
              "\n",
              "    .dataframe tbody tr th {\n",
              "        vertical-align: top;\n",
              "    }\n",
              "\n",
              "    .dataframe thead th {\n",
              "        text-align: right;\n",
              "    }\n",
              "</style>\n",
              "<table border=\"1\" class=\"dataframe\">\n",
              "  <thead>\n",
              "    <tr style=\"text-align: right;\">\n",
              "      <th></th>\n",
              "      <th>loc_og_mou_6</th>\n",
              "      <th>std_og_mou_6</th>\n",
              "      <th>isd_og_mou_6</th>\n",
              "      <th>roam_og_mou_6</th>\n",
              "      <th>spl_og_mou_6</th>\n",
              "      <th>og_others_6</th>\n",
              "      <th>total_og_mou_6</th>\n",
              "    </tr>\n",
              "  </thead>\n",
              "  <tbody>\n",
              "    <tr>\n",
              "      <th>count</th>\n",
              "      <td>99999.000000</td>\n",
              "      <td>99999.000000</td>\n",
              "      <td>99999.000000</td>\n",
              "      <td>99999.000000</td>\n",
              "      <td>99999.000000</td>\n",
              "      <td>99999.000000</td>\n",
              "      <td>99999.000000</td>\n",
              "    </tr>\n",
              "    <tr>\n",
              "      <th>mean</th>\n",
              "      <td>138.523918</td>\n",
              "      <td>161.636708</td>\n",
              "      <td>0.766849</td>\n",
              "      <td>13.363643</td>\n",
              "      <td>3.762604</td>\n",
              "      <td>0.436277</td>\n",
              "      <td>305.133424</td>\n",
              "    </tr>\n",
              "    <tr>\n",
              "      <th>std</th>\n",
              "      <td>248.334416</td>\n",
              "      <td>383.593393</td>\n",
              "      <td>25.253433</td>\n",
              "      <td>70.074931</td>\n",
              "      <td>14.659270</td>\n",
              "      <td>4.044839</td>\n",
              "      <td>463.419481</td>\n",
              "    </tr>\n",
              "    <tr>\n",
              "      <th>min</th>\n",
              "      <td>0.000000</td>\n",
              "      <td>0.000000</td>\n",
              "      <td>0.000000</td>\n",
              "      <td>0.000000</td>\n",
              "      <td>0.000000</td>\n",
              "      <td>0.000000</td>\n",
              "      <td>0.000000</td>\n",
              "    </tr>\n",
              "    <tr>\n",
              "      <th>25%</th>\n",
              "      <td>12.930000</td>\n",
              "      <td>0.000000</td>\n",
              "      <td>0.000000</td>\n",
              "      <td>0.000000</td>\n",
              "      <td>0.000000</td>\n",
              "      <td>0.000000</td>\n",
              "      <td>44.740000</td>\n",
              "    </tr>\n",
              "    <tr>\n",
              "      <th>50%</th>\n",
              "      <td>59.910000</td>\n",
              "      <td>9.180000</td>\n",
              "      <td>0.000000</td>\n",
              "      <td>0.000000</td>\n",
              "      <td>0.000000</td>\n",
              "      <td>0.000000</td>\n",
              "      <td>145.140000</td>\n",
              "    </tr>\n",
              "    <tr>\n",
              "      <th>75%</th>\n",
              "      <td>161.920000</td>\n",
              "      <td>132.490000</td>\n",
              "      <td>0.000000</td>\n",
              "      <td>0.000000</td>\n",
              "      <td>2.180000</td>\n",
              "      <td>0.000000</td>\n",
              "      <td>372.860000</td>\n",
              "    </tr>\n",
              "    <tr>\n",
              "      <th>max</th>\n",
              "      <td>10643.380000</td>\n",
              "      <td>8432.990000</td>\n",
              "      <td>5900.660000</td>\n",
              "      <td>3775.110000</td>\n",
              "      <td>1023.210000</td>\n",
              "      <td>800.890000</td>\n",
              "      <td>10674.030000</td>\n",
              "    </tr>\n",
              "  </tbody>\n",
              "</table>\n",
              "</div>\n",
              "      <button class=\"colab-df-convert\" onclick=\"convertToInteractive('df-813528a1-0bb0-4c7d-8bed-8cb18df84602')\"\n",
              "              title=\"Convert this dataframe to an interactive table.\"\n",
              "              style=\"display:none;\">\n",
              "        \n",
              "  <svg xmlns=\"http://www.w3.org/2000/svg\" height=\"24px\"viewBox=\"0 0 24 24\"\n",
              "       width=\"24px\">\n",
              "    <path d=\"M0 0h24v24H0V0z\" fill=\"none\"/>\n",
              "    <path d=\"M18.56 5.44l.94 2.06.94-2.06 2.06-.94-2.06-.94-.94-2.06-.94 2.06-2.06.94zm-11 1L8.5 8.5l.94-2.06 2.06-.94-2.06-.94L8.5 2.5l-.94 2.06-2.06.94zm10 10l.94 2.06.94-2.06 2.06-.94-2.06-.94-.94-2.06-.94 2.06-2.06.94z\"/><path d=\"M17.41 7.96l-1.37-1.37c-.4-.4-.92-.59-1.43-.59-.52 0-1.04.2-1.43.59L10.3 9.45l-7.72 7.72c-.78.78-.78 2.05 0 2.83L4 21.41c.39.39.9.59 1.41.59.51 0 1.02-.2 1.41-.59l7.78-7.78 2.81-2.81c.8-.78.8-2.07 0-2.86zM5.41 20L4 18.59l7.72-7.72 1.47 1.35L5.41 20z\"/>\n",
              "  </svg>\n",
              "      </button>\n",
              "      \n",
              "  <style>\n",
              "    .colab-df-container {\n",
              "      display:flex;\n",
              "      flex-wrap:wrap;\n",
              "      gap: 12px;\n",
              "    }\n",
              "\n",
              "    .colab-df-convert {\n",
              "      background-color: #E8F0FE;\n",
              "      border: none;\n",
              "      border-radius: 50%;\n",
              "      cursor: pointer;\n",
              "      display: none;\n",
              "      fill: #1967D2;\n",
              "      height: 32px;\n",
              "      padding: 0 0 0 0;\n",
              "      width: 32px;\n",
              "    }\n",
              "\n",
              "    .colab-df-convert:hover {\n",
              "      background-color: #E2EBFA;\n",
              "      box-shadow: 0px 1px 2px rgba(60, 64, 67, 0.3), 0px 1px 3px 1px rgba(60, 64, 67, 0.15);\n",
              "      fill: #174EA6;\n",
              "    }\n",
              "\n",
              "    [theme=dark] .colab-df-convert {\n",
              "      background-color: #3B4455;\n",
              "      fill: #D2E3FC;\n",
              "    }\n",
              "\n",
              "    [theme=dark] .colab-df-convert:hover {\n",
              "      background-color: #434B5C;\n",
              "      box-shadow: 0px 1px 3px 1px rgba(0, 0, 0, 0.15);\n",
              "      filter: drop-shadow(0px 1px 2px rgba(0, 0, 0, 0.3));\n",
              "      fill: #FFFFFF;\n",
              "    }\n",
              "  </style>\n",
              "\n",
              "      <script>\n",
              "        const buttonEl =\n",
              "          document.querySelector('#df-813528a1-0bb0-4c7d-8bed-8cb18df84602 button.colab-df-convert');\n",
              "        buttonEl.style.display =\n",
              "          google.colab.kernel.accessAllowed ? 'block' : 'none';\n",
              "\n",
              "        async function convertToInteractive(key) {\n",
              "          const element = document.querySelector('#df-813528a1-0bb0-4c7d-8bed-8cb18df84602');\n",
              "          const dataTable =\n",
              "            await google.colab.kernel.invokeFunction('convertToInteractive',\n",
              "                                                     [key], {});\n",
              "          if (!dataTable) return;\n",
              "\n",
              "          const docLinkHtml = 'Like what you see? Visit the ' +\n",
              "            '<a target=\"_blank\" href=https://colab.research.google.com/notebooks/data_table.ipynb>data table notebook</a>'\n",
              "            + ' to learn more about interactive tables.';\n",
              "          element.innerHTML = '';\n",
              "          dataTable['output_type'] = 'display_data';\n",
              "          await google.colab.output.renderOutput(dataTable, element);\n",
              "          const docLink = document.createElement('div');\n",
              "          docLink.innerHTML = docLinkHtml;\n",
              "          element.appendChild(docLink);\n",
              "        }\n",
              "      </script>\n",
              "    </div>\n",
              "  </div>\n",
              "  "
            ]
          },
          "metadata": {}
        },
        {
          "output_type": "display_data",
          "data": {
            "text/plain": [
              "       loc_og_mou_7  std_og_mou_7  isd_og_mou_7  roam_og_mou_7  spl_og_mou_7  \\\n",
              "count  99999.000000  99999.000000  99999.000000   99999.000000  99999.000000   \n",
              "mean     136.203358    168.459573      0.746604       9.439823      4.786165   \n",
              "std      245.406396    402.372971     25.104616      57.347933     20.281655   \n",
              "min        0.000000      0.000000      0.000000       0.000000      0.000000   \n",
              "25%       13.480000      0.000000      0.000000       0.000000      0.000000   \n",
              "50%       58.860000      8.610000      0.000000       0.000000      0.000000   \n",
              "75%      157.970000    136.900000      0.000000       0.000000      3.380000   \n",
              "max     7674.780000  10936.730000   5490.280000    2812.040000   2372.510000   \n",
              "\n",
              "        og_others_7  total_og_mou_7  \n",
              "count  99999.000000    99999.000000  \n",
              "mean       0.029069      310.231175  \n",
              "std        2.119603      480.031178  \n",
              "min        0.000000        0.000000  \n",
              "25%        0.000000       43.010000  \n",
              "50%        0.000000      141.530000  \n",
              "75%        0.000000      378.570000  \n",
              "max      370.130000    11365.310000  "
            ],
            "text/html": [
              "\n",
              "  <div id=\"df-13e99f61-57e8-4130-a1a9-1d85ba6b3fb8\">\n",
              "    <div class=\"colab-df-container\">\n",
              "      <div>\n",
              "<style scoped>\n",
              "    .dataframe tbody tr th:only-of-type {\n",
              "        vertical-align: middle;\n",
              "    }\n",
              "\n",
              "    .dataframe tbody tr th {\n",
              "        vertical-align: top;\n",
              "    }\n",
              "\n",
              "    .dataframe thead th {\n",
              "        text-align: right;\n",
              "    }\n",
              "</style>\n",
              "<table border=\"1\" class=\"dataframe\">\n",
              "  <thead>\n",
              "    <tr style=\"text-align: right;\">\n",
              "      <th></th>\n",
              "      <th>loc_og_mou_7</th>\n",
              "      <th>std_og_mou_7</th>\n",
              "      <th>isd_og_mou_7</th>\n",
              "      <th>roam_og_mou_7</th>\n",
              "      <th>spl_og_mou_7</th>\n",
              "      <th>og_others_7</th>\n",
              "      <th>total_og_mou_7</th>\n",
              "    </tr>\n",
              "  </thead>\n",
              "  <tbody>\n",
              "    <tr>\n",
              "      <th>count</th>\n",
              "      <td>99999.000000</td>\n",
              "      <td>99999.000000</td>\n",
              "      <td>99999.000000</td>\n",
              "      <td>99999.000000</td>\n",
              "      <td>99999.000000</td>\n",
              "      <td>99999.000000</td>\n",
              "      <td>99999.000000</td>\n",
              "    </tr>\n",
              "    <tr>\n",
              "      <th>mean</th>\n",
              "      <td>136.203358</td>\n",
              "      <td>168.459573</td>\n",
              "      <td>0.746604</td>\n",
              "      <td>9.439823</td>\n",
              "      <td>4.786165</td>\n",
              "      <td>0.029069</td>\n",
              "      <td>310.231175</td>\n",
              "    </tr>\n",
              "    <tr>\n",
              "      <th>std</th>\n",
              "      <td>245.406396</td>\n",
              "      <td>402.372971</td>\n",
              "      <td>25.104616</td>\n",
              "      <td>57.347933</td>\n",
              "      <td>20.281655</td>\n",
              "      <td>2.119603</td>\n",
              "      <td>480.031178</td>\n",
              "    </tr>\n",
              "    <tr>\n",
              "      <th>min</th>\n",
              "      <td>0.000000</td>\n",
              "      <td>0.000000</td>\n",
              "      <td>0.000000</td>\n",
              "      <td>0.000000</td>\n",
              "      <td>0.000000</td>\n",
              "      <td>0.000000</td>\n",
              "      <td>0.000000</td>\n",
              "    </tr>\n",
              "    <tr>\n",
              "      <th>25%</th>\n",
              "      <td>13.480000</td>\n",
              "      <td>0.000000</td>\n",
              "      <td>0.000000</td>\n",
              "      <td>0.000000</td>\n",
              "      <td>0.000000</td>\n",
              "      <td>0.000000</td>\n",
              "      <td>43.010000</td>\n",
              "    </tr>\n",
              "    <tr>\n",
              "      <th>50%</th>\n",
              "      <td>58.860000</td>\n",
              "      <td>8.610000</td>\n",
              "      <td>0.000000</td>\n",
              "      <td>0.000000</td>\n",
              "      <td>0.000000</td>\n",
              "      <td>0.000000</td>\n",
              "      <td>141.530000</td>\n",
              "    </tr>\n",
              "    <tr>\n",
              "      <th>75%</th>\n",
              "      <td>157.970000</td>\n",
              "      <td>136.900000</td>\n",
              "      <td>0.000000</td>\n",
              "      <td>0.000000</td>\n",
              "      <td>3.380000</td>\n",
              "      <td>0.000000</td>\n",
              "      <td>378.570000</td>\n",
              "    </tr>\n",
              "    <tr>\n",
              "      <th>max</th>\n",
              "      <td>7674.780000</td>\n",
              "      <td>10936.730000</td>\n",
              "      <td>5490.280000</td>\n",
              "      <td>2812.040000</td>\n",
              "      <td>2372.510000</td>\n",
              "      <td>370.130000</td>\n",
              "      <td>11365.310000</td>\n",
              "    </tr>\n",
              "  </tbody>\n",
              "</table>\n",
              "</div>\n",
              "      <button class=\"colab-df-convert\" onclick=\"convertToInteractive('df-13e99f61-57e8-4130-a1a9-1d85ba6b3fb8')\"\n",
              "              title=\"Convert this dataframe to an interactive table.\"\n",
              "              style=\"display:none;\">\n",
              "        \n",
              "  <svg xmlns=\"http://www.w3.org/2000/svg\" height=\"24px\"viewBox=\"0 0 24 24\"\n",
              "       width=\"24px\">\n",
              "    <path d=\"M0 0h24v24H0V0z\" fill=\"none\"/>\n",
              "    <path d=\"M18.56 5.44l.94 2.06.94-2.06 2.06-.94-2.06-.94-.94-2.06-.94 2.06-2.06.94zm-11 1L8.5 8.5l.94-2.06 2.06-.94-2.06-.94L8.5 2.5l-.94 2.06-2.06.94zm10 10l.94 2.06.94-2.06 2.06-.94-2.06-.94-.94-2.06-.94 2.06-2.06.94z\"/><path d=\"M17.41 7.96l-1.37-1.37c-.4-.4-.92-.59-1.43-.59-.52 0-1.04.2-1.43.59L10.3 9.45l-7.72 7.72c-.78.78-.78 2.05 0 2.83L4 21.41c.39.39.9.59 1.41.59.51 0 1.02-.2 1.41-.59l7.78-7.78 2.81-2.81c.8-.78.8-2.07 0-2.86zM5.41 20L4 18.59l7.72-7.72 1.47 1.35L5.41 20z\"/>\n",
              "  </svg>\n",
              "      </button>\n",
              "      \n",
              "  <style>\n",
              "    .colab-df-container {\n",
              "      display:flex;\n",
              "      flex-wrap:wrap;\n",
              "      gap: 12px;\n",
              "    }\n",
              "\n",
              "    .colab-df-convert {\n",
              "      background-color: #E8F0FE;\n",
              "      border: none;\n",
              "      border-radius: 50%;\n",
              "      cursor: pointer;\n",
              "      display: none;\n",
              "      fill: #1967D2;\n",
              "      height: 32px;\n",
              "      padding: 0 0 0 0;\n",
              "      width: 32px;\n",
              "    }\n",
              "\n",
              "    .colab-df-convert:hover {\n",
              "      background-color: #E2EBFA;\n",
              "      box-shadow: 0px 1px 2px rgba(60, 64, 67, 0.3), 0px 1px 3px 1px rgba(60, 64, 67, 0.15);\n",
              "      fill: #174EA6;\n",
              "    }\n",
              "\n",
              "    [theme=dark] .colab-df-convert {\n",
              "      background-color: #3B4455;\n",
              "      fill: #D2E3FC;\n",
              "    }\n",
              "\n",
              "    [theme=dark] .colab-df-convert:hover {\n",
              "      background-color: #434B5C;\n",
              "      box-shadow: 0px 1px 3px 1px rgba(0, 0, 0, 0.15);\n",
              "      filter: drop-shadow(0px 1px 2px rgba(0, 0, 0, 0.3));\n",
              "      fill: #FFFFFF;\n",
              "    }\n",
              "  </style>\n",
              "\n",
              "      <script>\n",
              "        const buttonEl =\n",
              "          document.querySelector('#df-13e99f61-57e8-4130-a1a9-1d85ba6b3fb8 button.colab-df-convert');\n",
              "        buttonEl.style.display =\n",
              "          google.colab.kernel.accessAllowed ? 'block' : 'none';\n",
              "\n",
              "        async function convertToInteractive(key) {\n",
              "          const element = document.querySelector('#df-13e99f61-57e8-4130-a1a9-1d85ba6b3fb8');\n",
              "          const dataTable =\n",
              "            await google.colab.kernel.invokeFunction('convertToInteractive',\n",
              "                                                     [key], {});\n",
              "          if (!dataTable) return;\n",
              "\n",
              "          const docLinkHtml = 'Like what you see? Visit the ' +\n",
              "            '<a target=\"_blank\" href=https://colab.research.google.com/notebooks/data_table.ipynb>data table notebook</a>'\n",
              "            + ' to learn more about interactive tables.';\n",
              "          element.innerHTML = '';\n",
              "          dataTable['output_type'] = 'display_data';\n",
              "          await google.colab.output.renderOutput(dataTable, element);\n",
              "          const docLink = document.createElement('div');\n",
              "          docLink.innerHTML = docLinkHtml;\n",
              "          element.appendChild(docLink);\n",
              "        }\n",
              "      </script>\n",
              "    </div>\n",
              "  </div>\n",
              "  "
            ]
          },
          "metadata": {}
        },
        {
          "output_type": "display_data",
          "data": {
            "text/plain": [
              "       loc_og_mou_8  std_og_mou_8  isd_og_mou_8  roam_og_mou_8  spl_og_mou_8  \\\n",
              "count  99999.000000  99999.000000  99999.000000   99999.000000  99999.000000   \n",
              "mean     133.727502    164.823386      0.748693       9.435597      4.781974   \n",
              "std      241.325369    402.334570     24.848715      62.989180     17.405718   \n",
              "min        0.000000      0.000000      0.000000       0.000000      0.000000   \n",
              "25%       11.410000      0.000000      0.000000       0.000000      0.000000   \n",
              "50%       56.840000      7.250000      0.000000       0.000000      0.000000   \n",
              "75%      156.985000    129.415000      0.000000       0.000000      3.540000   \n",
              "max    11039.910000  13980.060000   5681.540000    5337.040000   1390.880000   \n",
              "\n",
              "        og_others_8  total_og_mou_8  \n",
              "count  99999.000000    99999.000000  \n",
              "mean       0.031577      304.119513  \n",
              "std        2.260134      478.150031  \n",
              "min        0.000000        0.000000  \n",
              "25%        0.000000       38.580000  \n",
              "50%        0.000000      138.610000  \n",
              "75%        0.000000      369.900000  \n",
              "max      394.930000    14043.060000  "
            ],
            "text/html": [
              "\n",
              "  <div id=\"df-09e8564c-3da2-42b0-aeaa-c8e810922939\">\n",
              "    <div class=\"colab-df-container\">\n",
              "      <div>\n",
              "<style scoped>\n",
              "    .dataframe tbody tr th:only-of-type {\n",
              "        vertical-align: middle;\n",
              "    }\n",
              "\n",
              "    .dataframe tbody tr th {\n",
              "        vertical-align: top;\n",
              "    }\n",
              "\n",
              "    .dataframe thead th {\n",
              "        text-align: right;\n",
              "    }\n",
              "</style>\n",
              "<table border=\"1\" class=\"dataframe\">\n",
              "  <thead>\n",
              "    <tr style=\"text-align: right;\">\n",
              "      <th></th>\n",
              "      <th>loc_og_mou_8</th>\n",
              "      <th>std_og_mou_8</th>\n",
              "      <th>isd_og_mou_8</th>\n",
              "      <th>roam_og_mou_8</th>\n",
              "      <th>spl_og_mou_8</th>\n",
              "      <th>og_others_8</th>\n",
              "      <th>total_og_mou_8</th>\n",
              "    </tr>\n",
              "  </thead>\n",
              "  <tbody>\n",
              "    <tr>\n",
              "      <th>count</th>\n",
              "      <td>99999.000000</td>\n",
              "      <td>99999.000000</td>\n",
              "      <td>99999.000000</td>\n",
              "      <td>99999.000000</td>\n",
              "      <td>99999.000000</td>\n",
              "      <td>99999.000000</td>\n",
              "      <td>99999.000000</td>\n",
              "    </tr>\n",
              "    <tr>\n",
              "      <th>mean</th>\n",
              "      <td>133.727502</td>\n",
              "      <td>164.823386</td>\n",
              "      <td>0.748693</td>\n",
              "      <td>9.435597</td>\n",
              "      <td>4.781974</td>\n",
              "      <td>0.031577</td>\n",
              "      <td>304.119513</td>\n",
              "    </tr>\n",
              "    <tr>\n",
              "      <th>std</th>\n",
              "      <td>241.325369</td>\n",
              "      <td>402.334570</td>\n",
              "      <td>24.848715</td>\n",
              "      <td>62.989180</td>\n",
              "      <td>17.405718</td>\n",
              "      <td>2.260134</td>\n",
              "      <td>478.150031</td>\n",
              "    </tr>\n",
              "    <tr>\n",
              "      <th>min</th>\n",
              "      <td>0.000000</td>\n",
              "      <td>0.000000</td>\n",
              "      <td>0.000000</td>\n",
              "      <td>0.000000</td>\n",
              "      <td>0.000000</td>\n",
              "      <td>0.000000</td>\n",
              "      <td>0.000000</td>\n",
              "    </tr>\n",
              "    <tr>\n",
              "      <th>25%</th>\n",
              "      <td>11.410000</td>\n",
              "      <td>0.000000</td>\n",
              "      <td>0.000000</td>\n",
              "      <td>0.000000</td>\n",
              "      <td>0.000000</td>\n",
              "      <td>0.000000</td>\n",
              "      <td>38.580000</td>\n",
              "    </tr>\n",
              "    <tr>\n",
              "      <th>50%</th>\n",
              "      <td>56.840000</td>\n",
              "      <td>7.250000</td>\n",
              "      <td>0.000000</td>\n",
              "      <td>0.000000</td>\n",
              "      <td>0.000000</td>\n",
              "      <td>0.000000</td>\n",
              "      <td>138.610000</td>\n",
              "    </tr>\n",
              "    <tr>\n",
              "      <th>75%</th>\n",
              "      <td>156.985000</td>\n",
              "      <td>129.415000</td>\n",
              "      <td>0.000000</td>\n",
              "      <td>0.000000</td>\n",
              "      <td>3.540000</td>\n",
              "      <td>0.000000</td>\n",
              "      <td>369.900000</td>\n",
              "    </tr>\n",
              "    <tr>\n",
              "      <th>max</th>\n",
              "      <td>11039.910000</td>\n",
              "      <td>13980.060000</td>\n",
              "      <td>5681.540000</td>\n",
              "      <td>5337.040000</td>\n",
              "      <td>1390.880000</td>\n",
              "      <td>394.930000</td>\n",
              "      <td>14043.060000</td>\n",
              "    </tr>\n",
              "  </tbody>\n",
              "</table>\n",
              "</div>\n",
              "      <button class=\"colab-df-convert\" onclick=\"convertToInteractive('df-09e8564c-3da2-42b0-aeaa-c8e810922939')\"\n",
              "              title=\"Convert this dataframe to an interactive table.\"\n",
              "              style=\"display:none;\">\n",
              "        \n",
              "  <svg xmlns=\"http://www.w3.org/2000/svg\" height=\"24px\"viewBox=\"0 0 24 24\"\n",
              "       width=\"24px\">\n",
              "    <path d=\"M0 0h24v24H0V0z\" fill=\"none\"/>\n",
              "    <path d=\"M18.56 5.44l.94 2.06.94-2.06 2.06-.94-2.06-.94-.94-2.06-.94 2.06-2.06.94zm-11 1L8.5 8.5l.94-2.06 2.06-.94-2.06-.94L8.5 2.5l-.94 2.06-2.06.94zm10 10l.94 2.06.94-2.06 2.06-.94-2.06-.94-.94-2.06-.94 2.06-2.06.94z\"/><path d=\"M17.41 7.96l-1.37-1.37c-.4-.4-.92-.59-1.43-.59-.52 0-1.04.2-1.43.59L10.3 9.45l-7.72 7.72c-.78.78-.78 2.05 0 2.83L4 21.41c.39.39.9.59 1.41.59.51 0 1.02-.2 1.41-.59l7.78-7.78 2.81-2.81c.8-.78.8-2.07 0-2.86zM5.41 20L4 18.59l7.72-7.72 1.47 1.35L5.41 20z\"/>\n",
              "  </svg>\n",
              "      </button>\n",
              "      \n",
              "  <style>\n",
              "    .colab-df-container {\n",
              "      display:flex;\n",
              "      flex-wrap:wrap;\n",
              "      gap: 12px;\n",
              "    }\n",
              "\n",
              "    .colab-df-convert {\n",
              "      background-color: #E8F0FE;\n",
              "      border: none;\n",
              "      border-radius: 50%;\n",
              "      cursor: pointer;\n",
              "      display: none;\n",
              "      fill: #1967D2;\n",
              "      height: 32px;\n",
              "      padding: 0 0 0 0;\n",
              "      width: 32px;\n",
              "    }\n",
              "\n",
              "    .colab-df-convert:hover {\n",
              "      background-color: #E2EBFA;\n",
              "      box-shadow: 0px 1px 2px rgba(60, 64, 67, 0.3), 0px 1px 3px 1px rgba(60, 64, 67, 0.15);\n",
              "      fill: #174EA6;\n",
              "    }\n",
              "\n",
              "    [theme=dark] .colab-df-convert {\n",
              "      background-color: #3B4455;\n",
              "      fill: #D2E3FC;\n",
              "    }\n",
              "\n",
              "    [theme=dark] .colab-df-convert:hover {\n",
              "      background-color: #434B5C;\n",
              "      box-shadow: 0px 1px 3px 1px rgba(0, 0, 0, 0.15);\n",
              "      filter: drop-shadow(0px 1px 2px rgba(0, 0, 0, 0.3));\n",
              "      fill: #FFFFFF;\n",
              "    }\n",
              "  </style>\n",
              "\n",
              "      <script>\n",
              "        const buttonEl =\n",
              "          document.querySelector('#df-09e8564c-3da2-42b0-aeaa-c8e810922939 button.colab-df-convert');\n",
              "        buttonEl.style.display =\n",
              "          google.colab.kernel.accessAllowed ? 'block' : 'none';\n",
              "\n",
              "        async function convertToInteractive(key) {\n",
              "          const element = document.querySelector('#df-09e8564c-3da2-42b0-aeaa-c8e810922939');\n",
              "          const dataTable =\n",
              "            await google.colab.kernel.invokeFunction('convertToInteractive',\n",
              "                                                     [key], {});\n",
              "          if (!dataTable) return;\n",
              "\n",
              "          const docLinkHtml = 'Like what you see? Visit the ' +\n",
              "            '<a target=\"_blank\" href=https://colab.research.google.com/notebooks/data_table.ipynb>data table notebook</a>'\n",
              "            + ' to learn more about interactive tables.';\n",
              "          element.innerHTML = '';\n",
              "          dataTable['output_type'] = 'display_data';\n",
              "          await google.colab.output.renderOutput(dataTable, element);\n",
              "          const docLink = document.createElement('div');\n",
              "          docLink.innerHTML = docLinkHtml;\n",
              "          element.appendChild(docLink);\n",
              "        }\n",
              "      </script>\n",
              "    </div>\n",
              "  </div>\n",
              "  "
            ]
          },
          "metadata": {}
        },
        {
          "output_type": "display_data",
          "data": {
            "text/plain": [
              "<Figure size 1296x360 with 3 Axes>"
            ],
            "image/png": "[encoded data removed]"
          },
          "metadata": {
            "needs_background": "light"
          }
        }
      ],
      "source": [
        "cols = [['loc_og_mou_6','std_og_mou_6','isd_og_mou_6','roam_og_mou_6','spl_og_mou_6','og_others_6','total_og_mou_6'],\n",
        "        ['loc_og_mou_7','std_og_mou_7','isd_og_mou_7','roam_og_mou_7','spl_og_mou_7','og_others_7','total_og_mou_7'],\n",
        "        ['loc_og_mou_8','std_og_mou_8','isd_og_mou_8','roam_og_mou_8','spl_og_mou_8','og_others_8','total_og_mou_8']]\n",
        "\n",
        "\n",
        "# plot for the outgoing calls usage\n",
        "plt.figure(figsize=(18, 5))\n",
        "#ic call usage\n",
        "for i in range(0,3):\n",
        "    display(data[cols[i]].describe())\n",
        "for i in range(0,3):\n",
        "    plt.subplot(1,3,i+1)\n",
        "    X = pd.concat([data[cols[i]], data['churn']], axis=1)\n",
        "    X = pd.melt(X,id_vars=\"churn\",var_name=\"features\",value_name='outgoing_calls')\n",
        "    sns.boxplot(x=\"features\", y=\"outgoing_calls\", hue=\"churn\", data=X)\n",
        "    plt.xticks(rotation=90)    \n",
        "    plt.suptitle('Outgoing Calls Usage')"
      ],
      "id": "de7648e2"
    },
    {
      "cell_type": "markdown",
      "metadata": {
        "id": "226285a9"
      },
      "source": [
        "outgoing call also have outliers at the the top percentile"
      ],
      "id": "226285a9"
    },
    {
      "cell_type": "markdown",
      "metadata": {
        "id": "205e47e6"
      },
      "source": [
        "OPERATORWISE CALLS USAGE"
      ],
      "id": "205e47e6"
    },
    {
      "cell_type": "code",
      "execution_count": 48,
      "metadata": {
        "colab": {
          "base_uri": "https://localhost:8080/",
          "height": 1000
        },
        "id": "1a81090c",
        "outputId": "d1163c4c-c1f3-47f9-cf61-165384ef521d"
      },
      "outputs": [
        {
          "output_type": "display_data",
          "data": {
            "text/plain": [
              "        onnet_mou_6  offnet_mou_6  loc_ic_t2t_mou_6  loc_ic_t2m_mou_6  \\\n",
              "count  99999.000000  99999.000000      99999.000000      99999.000000   \n",
              "mean     127.183397    190.142776         46.035643        103.244291   \n",
              "std      292.433718    312.928229        137.785270        169.592626   \n",
              "min        0.000000      0.000000          0.000000          0.000000   \n",
              "25%        5.430000     28.760000          2.060000         13.810000   \n",
              "50%       30.980000     89.680000         14.190000         52.360000   \n",
              "75%      112.610000    222.535000         44.690000        127.600000   \n",
              "max     7376.710000   8362.360000       6626.930000       4693.860000   \n",
              "\n",
              "       loc_ic_t2f_mou_6  std_ic_t2t_mou_6  std_ic_t2m_mou_6  std_ic_t2f_mou_6  \n",
              "count      99999.000000      99999.000000      99999.000000      99999.000000  \n",
              "mean          11.608541          9.198983         19.906397          2.071499  \n",
              "std           39.412899         53.282903         79.289474         16.173049  \n",
              "min            0.000000          0.000000          0.000000          0.000000  \n",
              "25%            0.000000          0.000000          0.000000          0.000000  \n",
              "50%            0.680000          0.000000          1.590000          0.000000  \n",
              "75%            7.530000          3.630000         13.980000          0.000000  \n",
              "max         1872.340000       5459.560000       5647.160000       1351.110000  "
            ],
            "text/html": [
              "\n",
              "  <div id=\"df-67493ff7-000f-4eab-886a-d2b4ebd0e3ad\">\n",
              "    <div class=\"colab-df-container\">\n",
              "      <div>\n",
              "<style scoped>\n",
              "    .dataframe tbody tr th:only-of-type {\n",
              "        vertical-align: middle;\n",
              "    }\n",
              "\n",
              "    .dataframe tbody tr th {\n",
              "        vertical-align: top;\n",
              "    }\n",
              "\n",
              "    .dataframe thead th {\n",
              "        text-align: right;\n",
              "    }\n",
              "</style>\n",
              "<table border=\"1\" class=\"dataframe\">\n",
              "  <thead>\n",
              "    <tr style=\"text-align: right;\">\n",
              "      <th></th>\n",
              "      <th>onnet_mou_6</th>\n",
              "      <th>offnet_mou_6</th>\n",
              "      <th>loc_ic_t2t_mou_6</th>\n",
              "      <th>loc_ic_t2m_mou_6</th>\n",
              "      <th>loc_ic_t2f_mou_6</th>\n",
              "      <th>std_ic_t2t_mou_6</th>\n",
              "      <th>std_ic_t2m_mou_6</th>\n",
              "      <th>std_ic_t2f_mou_6</th>\n",
              "    </tr>\n",
              "  </thead>\n",
              "  <tbody>\n",
              "    <tr>\n",
              "      <th>count</th>\n",
              "      <td>99999.000000</td>\n",
              "      <td>99999.000000</td>\n",
              "      <td>99999.000000</td>\n",
              "      <td>99999.000000</td>\n",
              "      <td>99999.000000</td>\n",
              "      <td>99999.000000</td>\n",
              "      <td>99999.000000</td>\n",
              "      <td>99999.000000</td>\n",
              "    </tr>\n",
              "    <tr>\n",
              "      <th>mean</th>\n",
              "      <td>127.183397</td>\n",
              "      <td>190.142776</td>\n",
              "      <td>46.035643</td>\n",
              "      <td>103.244291</td>\n",
              "      <td>11.608541</td>\n",
              "      <td>9.198983</td>\n",
              "      <td>19.906397</td>\n",
              "      <td>2.071499</td>\n",
              "    </tr>\n",
              "    <tr>\n",
              "      <th>std</th>\n",
              "      <td>292.433718</td>\n",
              "      <td>312.928229</td>\n",
              "      <td>137.785270</td>\n",
              "      <td>169.592626</td>\n",
              "      <td>39.412899</td>\n",
              "      <td>53.282903</td>\n",
              "      <td>79.289474</td>\n",
              "      <td>16.173049</td>\n",
              "    </tr>\n",
              "    <tr>\n",
              "      <th>min</th>\n",
              "      <td>0.000000</td>\n",
              "      <td>0.000000</td>\n",
              "      <td>0.000000</td>\n",
              "      <td>0.000000</td>\n",
              "      <td>0.000000</td>\n",
              "      <td>0.000000</td>\n",
              "      <td>0.000000</td>\n",
              "      <td>0.000000</td>\n",
              "    </tr>\n",
              "    <tr>\n",
              "      <th>25%</th>\n",
              "      <td>5.430000</td>\n",
              "      <td>28.760000</td>\n",
              "      <td>2.060000</td>\n",
              "      <td>13.810000</td>\n",
              "      <td>0.000000</td>\n",
              "      <td>0.000000</td>\n",
              "      <td>0.000000</td>\n",
              "      <td>0.000000</td>\n",
              "    </tr>\n",
              "    <tr>\n",
              "      <th>50%</th>\n",
              "      <td>30.980000</td>\n",
              "      <td>89.680000</td>\n",
              "      <td>14.190000</td>\n",
              "      <td>52.360000</td>\n",
              "      <td>0.680000</td>\n",
              "      <td>0.000000</td>\n",
              "      <td>1.590000</td>\n",
              "      <td>0.000000</td>\n",
              "    </tr>\n",
              "    <tr>\n",
              "      <th>75%</th>\n",
              "      <td>112.610000</td>\n",
              "      <td>222.535000</td>\n",
              "      <td>44.690000</td>\n",
              "      <td>127.600000</td>\n",
              "      <td>7.530000</td>\n",
              "      <td>3.630000</td>\n",
              "      <td>13.980000</td>\n",
              "      <td>0.000000</td>\n",
              "    </tr>\n",
              "    <tr>\n",
              "      <th>max</th>\n",
              "      <td>7376.710000</td>\n",
              "      <td>8362.360000</td>\n",
              "      <td>6626.930000</td>\n",
              "      <td>4693.860000</td>\n",
              "      <td>1872.340000</td>\n",
              "      <td>5459.560000</td>\n",
              "      <td>5647.160000</td>\n",
              "      <td>1351.110000</td>\n",
              "    </tr>\n",
              "  </tbody>\n",
              "</table>\n",
              "</div>\n",
              "      <button class=\"colab-df-convert\" onclick=\"convertToInteractive('df-67493ff7-000f-4eab-886a-d2b4ebd0e3ad')\"\n",
              "              title=\"Convert this dataframe to an interactive table.\"\n",
              "              style=\"display:none;\">\n",
              "        \n",
              "  <svg xmlns=\"http://www.w3.org/2000/svg\" height=\"24px\"viewBox=\"0 0 24 24\"\n",
              "       width=\"24px\">\n",
              "    <path d=\"M0 0h24v24H0V0z\" fill=\"none\"/>\n",
              "    <path d=\"M18.56 5.44l.94 2.06.94-2.06 2.06-.94-2.06-.94-.94-2.06-.94 2.06-2.06.94zm-11 1L8.5 8.5l.94-2.06 2.06-.94-2.06-.94L8.5 2.5l-.94 2.06-2.06.94zm10 10l.94 2.06.94-2.06 2.06-.94-2.06-.94-.94-2.06-.94 2.06-2.06.94z\"/><path d=\"M17.41 7.96l-1.37-1.37c-.4-.4-.92-.59-1.43-.59-.52 0-1.04.2-1.43.59L10.3 9.45l-7.72 7.72c-.78.78-.78 2.05 0 2.83L4 21.41c.39.39.9.59 1.41.59.51 0 1.02-.2 1.41-.59l7.78-7.78 2.81-2.81c.8-.78.8-2.07 0-2.86zM5.41 20L4 18.59l7.72-7.72 1.47 1.35L5.41 20z\"/>\n",
              "  </svg>\n",
              "      </button>\n",
              "      \n",
              "  <style>\n",
              "    .colab-df-container {\n",
              "      display:flex;\n",
              "      flex-wrap:wrap;\n",
              "      gap: 12px;\n",
              "    }\n",
              "\n",
              "    .colab-df-convert {\n",
              "      background-color: #E8F0FE;\n",
              "      border: none;\n",
              "      border-radius: 50%;\n",
              "      cursor: pointer;\n",
              "      display: none;\n",
              "      fill: #1967D2;\n",
              "      height: 32px;\n",
              "      padding: 0 0 0 0;\n",
              "      width: 32px;\n",
              "    }\n",
              "\n",
              "    .colab-df-convert:hover {\n",
              "      background-color: #E2EBFA;\n",
              "      box-shadow: 0px 1px 2px rgba(60, 64, 67, 0.3), 0px 1px 3px 1px rgba(60, 64, 67, 0.15);\n",
              "      fill: #174EA6;\n",
              "    }\n",
              "\n",
              "    [theme=dark] .colab-df-convert {\n",
              "      background-color: #3B4455;\n",
              "      fill: #D2E3FC;\n",
              "    }\n",
              "\n",
              "    [theme=dark] .colab-df-convert:hover {\n",
              "      background-color: #434B5C;\n",
              "      box-shadow: 0px 1px 3px 1px rgba(0, 0, 0, 0.15);\n",
              "      filter: drop-shadow(0px 1px 2px rgba(0, 0, 0, 0.3));\n",
              "      fill: #FFFFFF;\n",
              "    }\n",
              "  </style>\n",
              "\n",
              "      <script>\n",
              "        const buttonEl =\n",
              "          document.querySelector('#df-67493ff7-000f-4eab-886a-d2b4ebd0e3ad button.colab-df-convert');\n",
              "        buttonEl.style.display =\n",
              "          google.colab.kernel.accessAllowed ? 'block' : 'none';\n",
              "\n",
              "        async function convertToInteractive(key) {\n",
              "          const element = document.querySelector('#df-67493ff7-000f-4eab-886a-d2b4ebd0e3ad');\n",
              "          const dataTable =\n",
              "            await google.colab.kernel.invokeFunction('convertToInteractive',\n",
              "                                                     [key], {});\n",
              "          if (!dataTable) return;\n",
              "\n",
              "          const docLinkHtml = 'Like what you see? Visit the ' +\n",
              "            '<a target=\"_blank\" href=https://colab.research.google.com/notebooks/data_table.ipynb>data table notebook</a>'\n",
              "            + ' to learn more about interactive tables.';\n",
              "          element.innerHTML = '';\n",
              "          dataTable['output_type'] = 'display_data';\n",
              "          await google.colab.output.renderOutput(dataTable, element);\n",
              "          const docLink = document.createElement('div');\n",
              "          docLink.innerHTML = docLinkHtml;\n",
              "          element.appendChild(docLink);\n",
              "        }\n",
              "      </script>\n",
              "    </div>\n",
              "  </div>\n",
              "  "
            ]
          },
          "metadata": {}
        },
        {
          "output_type": "display_data",
          "data": {
            "text/plain": [
              "       loc_og_t2t_mou_6  loc_og_t2m_mou_6  loc_og_t2f_mou_6  loc_og_t2c_mou_6  \\\n",
              "count      99999.000000      99999.000000      99999.000000      99999.000000   \n",
              "mean          45.246387         89.667174          3.603334          1.078841   \n",
              "std          148.140370        160.573349         13.966557          5.345068   \n",
              "min            0.000000          0.000000          0.000000          0.000000   \n",
              "25%            0.990000          7.290000          0.000000          0.000000   \n",
              "50%           10.680000         37.690000          0.000000          0.000000   \n",
              "75%           38.820000        105.780000          1.860000          0.000000   \n",
              "max         6431.330000       4729.740000       1466.030000        342.860000   \n",
              "\n",
              "       std_og_t2t_mou_6  std_og_t2m_mou_6  std_og_t2f_mou_6  \n",
              "count      99999.000000      99999.000000      99999.000000  \n",
              "mean          76.686937         83.862603          1.084561  \n",
              "std          247.943052        251.109975          7.829284  \n",
              "min            0.000000          0.000000          0.000000  \n",
              "25%            0.000000          0.000000          0.000000  \n",
              "50%            0.000000          2.890000          0.000000  \n",
              "75%           26.910000         48.790000          0.000000  \n",
              "max         7366.580000       8314.760000        628.560000  "
            ],
            "text/html": [
              "\n",
              "  <div id=\"df-4ccf97c0-f1a9-423e-81c6-5807808d2f66\">\n",
              "    <div class=\"colab-df-container\">\n",
              "      <div>\n",
              "<style scoped>\n",
              "    .dataframe tbody tr th:only-of-type {\n",
              "        vertical-align: middle;\n",
              "    }\n",
              "\n",
              "    .dataframe tbody tr th {\n",
              "        vertical-align: top;\n",
              "    }\n",
              "\n",
              "    .dataframe thead th {\n",
              "        text-align: right;\n",
              "    }\n",
              "</style>\n",
              "<table border=\"1\" class=\"dataframe\">\n",
              "  <thead>\n",
              "    <tr style=\"text-align: right;\">\n",
              "      <th></th>\n",
              "      <th>loc_og_t2t_mou_6</th>\n",
              "      <th>loc_og_t2m_mou_6</th>\n",
              "      <th>loc_og_t2f_mou_6</th>\n",
              "      <th>loc_og_t2c_mou_6</th>\n",
              "      <th>std_og_t2t_mou_6</th>\n",
              "      <th>std_og_t2m_mou_6</th>\n",
              "      <th>std_og_t2f_mou_6</th>\n",
              "    </tr>\n",
              "  </thead>\n",
              "  <tbody>\n",
              "    <tr>\n",
              "      <th>count</th>\n",
              "      <td>99999.000000</td>\n",
              "      <td>99999.000000</td>\n",
              "      <td>99999.000000</td>\n",
              "      <td>99999.000000</td>\n",
              "      <td>99999.000000</td>\n",
              "      <td>99999.000000</td>\n",
              "      <td>99999.000000</td>\n",
              "    </tr>\n",
              "    <tr>\n",
              "      <th>mean</th>\n",
              "      <td>45.246387</td>\n",
              "      <td>89.667174</td>\n",
              "      <td>3.603334</td>\n",
              "      <td>1.078841</td>\n",
              "      <td>76.686937</td>\n",
              "      <td>83.862603</td>\n",
              "      <td>1.084561</td>\n",
              "    </tr>\n",
              "    <tr>\n",
              "      <th>std</th>\n",
              "      <td>148.140370</td>\n",
              "      <td>160.573349</td>\n",
              "      <td>13.966557</td>\n",
              "      <td>5.345068</td>\n",
              "      <td>247.943052</td>\n",
              "      <td>251.109975</td>\n",
              "      <td>7.829284</td>\n",
              "    </tr>\n",
              "    <tr>\n",
              "      <th>min</th>\n",
              "      <td>0.000000</td>\n",
              "      <td>0.000000</td>\n",
              "      <td>0.000000</td>\n",
              "      <td>0.000000</td>\n",
              "      <td>0.000000</td>\n",
              "      <td>0.000000</td>\n",
              "      <td>0.000000</td>\n",
              "    </tr>\n",
              "    <tr>\n",
              "      <th>25%</th>\n",
              "      <td>0.990000</td>\n",
              "      <td>7.290000</td>\n",
              "      <td>0.000000</td>\n",
              "      <td>0.000000</td>\n",
              "      <td>0.000000</td>\n",
              "      <td>0.000000</td>\n",
              "      <td>0.000000</td>\n",
              "    </tr>\n",
              "    <tr>\n",
              "      <th>50%</th>\n",
              "      <td>10.680000</td>\n",
              "      <td>37.690000</td>\n",
              "      <td>0.000000</td>\n",
              "      <td>0.000000</td>\n",
              "      <td>0.000000</td>\n",
              "      <td>2.890000</td>\n",
              "      <td>0.000000</td>\n",
              "    </tr>\n",
              "    <tr>\n",
              "      <th>75%</th>\n",
              "      <td>38.820000</td>\n",
              "      <td>105.780000</td>\n",
              "      <td>1.860000</td>\n",
              "      <td>0.000000</td>\n",
              "      <td>26.910000</td>\n",
              "      <td>48.790000</td>\n",
              "      <td>0.000000</td>\n",
              "    </tr>\n",
              "    <tr>\n",
              "      <th>max</th>\n",
              "      <td>6431.330000</td>\n",
              "      <td>4729.740000</td>\n",
              "      <td>1466.030000</td>\n",
              "      <td>342.860000</td>\n",
              "      <td>7366.580000</td>\n",
              "      <td>8314.760000</td>\n",
              "      <td>628.560000</td>\n",
              "    </tr>\n",
              "  </tbody>\n",
              "</table>\n",
              "</div>\n",
              "      <button class=\"colab-df-convert\" onclick=\"convertToInteractive('df-4ccf97c0-f1a9-423e-81c6-5807808d2f66')\"\n",
              "              title=\"Convert this dataframe to an interactive table.\"\n",
              "              style=\"display:none;\">\n",
              "        \n",
              "  <svg xmlns=\"http://www.w3.org/2000/svg\" height=\"24px\"viewBox=\"0 0 24 24\"\n",
              "       width=\"24px\">\n",
              "    <path d=\"M0 0h24v24H0V0z\" fill=\"none\"/>\n",
              "    <path d=\"M18.56 5.44l.94 2.06.94-2.06 2.06-.94-2.06-.94-.94-2.06-.94 2.06-2.06.94zm-11 1L8.5 8.5l.94-2.06 2.06-.94-2.06-.94L8.5 2.5l-.94 2.06-2.06.94zm10 10l.94 2.06.94-2.06 2.06-.94-2.06-.94-.94-2.06-.94 2.06-2.06.94z\"/><path d=\"M17.41 7.96l-1.37-1.37c-.4-.4-.92-.59-1.43-.59-.52 0-1.04.2-1.43.59L10.3 9.45l-7.72 7.72c-.78.78-.78 2.05 0 2.83L4 21.41c.39.39.9.59 1.41.59.51 0 1.02-.2 1.41-.59l7.78-7.78 2.81-2.81c.8-.78.8-2.07 0-2.86zM5.41 20L4 18.59l7.72-7.72 1.47 1.35L5.41 20z\"/>\n",
              "  </svg>\n",
              "      </button>\n",
              "      \n",
              "  <style>\n",
              "    .colab-df-container {\n",
              "      display:flex;\n",
              "      flex-wrap:wrap;\n",
              "      gap: 12px;\n",
              "    }\n",
              "\n",
              "    .colab-df-convert {\n",
              "      background-color: #E8F0FE;\n",
              "      border: none;\n",
              "      border-radius: 50%;\n",
              "      cursor: pointer;\n",
              "      display: none;\n",
              "      fill: #1967D2;\n",
              "      height: 32px;\n",
              "      padding: 0 0 0 0;\n",
              "      width: 32px;\n",
              "    }\n",
              "\n",
              "    .colab-df-convert:hover {\n",
              "      background-color: #E2EBFA;\n",
              "      box-shadow: 0px 1px 2px rgba(60, 64, 67, 0.3), 0px 1px 3px 1px rgba(60, 64, 67, 0.15);\n",
              "      fill: #174EA6;\n",
              "    }\n",
              "\n",
              "    [theme=dark] .colab-df-convert {\n",
              "      background-color: #3B4455;\n",
              "      fill: #D2E3FC;\n",
              "    }\n",
              "\n",
              "    [theme=dark] .colab-df-convert:hover {\n",
              "      background-color: #434B5C;\n",
              "      box-shadow: 0px 1px 3px 1px rgba(0, 0, 0, 0.15);\n",
              "      filter: drop-shadow(0px 1px 2px rgba(0, 0, 0, 0.3));\n",
              "      fill: #FFFFFF;\n",
              "    }\n",
              "  </style>\n",
              "\n",
              "      <script>\n",
              "        const buttonEl =\n",
              "          document.querySelector('#df-4ccf97c0-f1a9-423e-81c6-5807808d2f66 button.colab-df-convert');\n",
              "        buttonEl.style.display =\n",
              "          google.colab.kernel.accessAllowed ? 'block' : 'none';\n",
              "\n",
              "        async function convertToInteractive(key) {\n",
              "          const element = document.querySelector('#df-4ccf97c0-f1a9-423e-81c6-5807808d2f66');\n",
              "          const dataTable =\n",
              "            await google.colab.kernel.invokeFunction('convertToInteractive',\n",
              "                                                     [key], {});\n",
              "          if (!dataTable) return;\n",
              "\n",
              "          const docLinkHtml = 'Like what you see? Visit the ' +\n",
              "            '<a target=\"_blank\" href=https://colab.research.google.com/notebooks/data_table.ipynb>data table notebook</a>'\n",
              "            + ' to learn more about interactive tables.';\n",
              "          element.innerHTML = '';\n",
              "          dataTable['output_type'] = 'display_data';\n",
              "          await google.colab.output.renderOutput(dataTable, element);\n",
              "          const docLink = document.createElement('div');\n",
              "          docLink.innerHTML = docLinkHtml;\n",
              "          element.appendChild(docLink);\n",
              "        }\n",
              "      </script>\n",
              "    </div>\n",
              "  </div>\n",
              "  "
            ]
          },
          "metadata": {}
        },
        {
          "output_type": "display_data",
          "data": {
            "text/plain": [
              "        onnet_mou_7  offnet_mou_7  loc_ic_t2t_mou_7  loc_ic_t2m_mou_7  \\\n",
              "count  99999.000000  99999.000000      99999.000000      99999.000000   \n",
              "mean     128.512397    189.441086         46.138548        102.986672   \n",
              "std      303.869995    321.759659        143.252760        167.398842   \n",
              "min        0.000000      0.000000          0.000000          0.000000   \n",
              "25%        4.880000     26.650000          2.310000         14.990000   \n",
              "50%       29.230000     85.440000         14.330000         53.280000   \n",
              "75%      108.880000    217.830000         43.880000        126.680000   \n",
              "max     8157.780000   9667.130000       9324.660000       4455.830000   \n",
              "\n",
              "       loc_ic_t2f_mou_7  std_ic_t2t_mou_7  std_ic_t2m_mou_7  std_ic_t2f_mou_7  \n",
              "count      99999.000000      99999.000000      99999.000000      99999.000000  \n",
              "mean          12.113470          9.625541         20.820685          2.131371  \n",
              "std           42.209845         56.326309         84.937998         16.139100  \n",
              "min            0.000000          0.000000          0.000000          0.000000  \n",
              "25%            0.000000          0.000000          0.000000          0.000000  \n",
              "50%            0.730000          0.000000          1.600000          0.000000  \n",
              "75%            7.660000          3.780000         14.740000          0.000000  \n",
              "max         1983.010000       5800.930000       6141.880000       1136.080000  "
            ],
            "text/html": [
              "\n",
              "  <div id=\"df-8458f1b2-6946-4a26-a1d0-202fcae69996\">\n",
              "    <div class=\"colab-df-container\">\n",
              "      <div>\n",
              "<style scoped>\n",
              "    .dataframe tbody tr th:only-of-type {\n",
              "        vertical-align: middle;\n",
              "    }\n",
              "\n",
              "    .dataframe tbody tr th {\n",
              "        vertical-align: top;\n",
              "    }\n",
              "\n",
              "    .dataframe thead th {\n",
              "        text-align: right;\n",
              "    }\n",
              "</style>\n",
              "<table border=\"1\" class=\"dataframe\">\n",
              "  <thead>\n",
              "    <tr style=\"text-align: right;\">\n",
              "      <th></th>\n",
              "      <th>onnet_mou_7</th>\n",
              "      <th>offnet_mou_7</th>\n",
              "      <th>loc_ic_t2t_mou_7</th>\n",
              "      <th>loc_ic_t2m_mou_7</th>\n",
              "      <th>loc_ic_t2f_mou_7</th>\n",
              "      <th>std_ic_t2t_mou_7</th>\n",
              "      <th>std_ic_t2m_mou_7</th>\n",
              "      <th>std_ic_t2f_mou_7</th>\n",
              "    </tr>\n",
              "  </thead>\n",
              "  <tbody>\n",
              "    <tr>\n",
              "      <th>count</th>\n",
              "      <td>99999.000000</td>\n",
              "      <td>99999.000000</td>\n",
              "      <td>99999.000000</td>\n",
              "      <td>99999.000000</td>\n",
              "      <td>99999.000000</td>\n",
              "      <td>99999.000000</td>\n",
              "      <td>99999.000000</td>\n",
              "      <td>99999.000000</td>\n",
              "    </tr>\n",
              "    <tr>\n",
              "      <th>mean</th>\n",
              "      <td>128.512397</td>\n",
              "      <td>189.441086</td>\n",
              "      <td>46.138548</td>\n",
              "      <td>102.986672</td>\n",
              "      <td>12.113470</td>\n",
              "      <td>9.625541</td>\n",
              "      <td>20.820685</td>\n",
              "      <td>2.131371</td>\n",
              "    </tr>\n",
              "    <tr>\n",
              "      <th>std</th>\n",
              "      <td>303.869995</td>\n",
              "      <td>321.759659</td>\n",
              "      <td>143.252760</td>\n",
              "      <td>167.398842</td>\n",
              "      <td>42.209845</td>\n",
              "      <td>56.326309</td>\n",
              "      <td>84.937998</td>\n",
              "      <td>16.139100</td>\n",
              "    </tr>\n",
              "    <tr>\n",
              "      <th>min</th>\n",
              "      <td>0.000000</td>\n",
              "      <td>0.000000</td>\n",
              "      <td>0.000000</td>\n",
              "      <td>0.000000</td>\n",
              "      <td>0.000000</td>\n",
              "      <td>0.000000</td>\n",
              "      <td>0.000000</td>\n",
              "      <td>0.000000</td>\n",
              "    </tr>\n",
              "    <tr>\n",
              "      <th>25%</th>\n",
              "      <td>4.880000</td>\n",
              "      <td>26.650000</td>\n",
              "      <td>2.310000</td>\n",
              "      <td>14.990000</td>\n",
              "      <td>0.000000</td>\n",
              "      <td>0.000000</td>\n",
              "      <td>0.000000</td>\n",
              "      <td>0.000000</td>\n",
              "    </tr>\n",
              "    <tr>\n",
              "      <th>50%</th>\n",
              "      <td>29.230000</td>\n",
              "      <td>85.440000</td>\n",
              "      <td>14.330000</td>\n",
              "      <td>53.280000</td>\n",
              "      <td>0.730000</td>\n",
              "      <td>0.000000</td>\n",
              "      <td>1.600000</td>\n",
              "      <td>0.000000</td>\n",
              "    </tr>\n",
              "    <tr>\n",
              "      <th>75%</th>\n",
              "      <td>108.880000</td>\n",
              "      <td>217.830000</td>\n",
              "      <td>43.880000</td>\n",
              "      <td>126.680000</td>\n",
              "      <td>7.660000</td>\n",
              "      <td>3.780000</td>\n",
              "      <td>14.740000</td>\n",
              "      <td>0.000000</td>\n",
              "    </tr>\n",
              "    <tr>\n",
              "      <th>max</th>\n",
              "      <td>8157.780000</td>\n",
              "      <td>9667.130000</td>\n",
              "      <td>9324.660000</td>\n",
              "      <td>4455.830000</td>\n",
              "      <td>1983.010000</td>\n",
              "      <td>5800.930000</td>\n",
              "      <td>6141.880000</td>\n",
              "      <td>1136.080000</td>\n",
              "    </tr>\n",
              "  </tbody>\n",
              "</table>\n",
              "</div>\n",
              "      <button class=\"colab-df-convert\" onclick=\"convertToInteractive('df-8458f1b2-6946-4a26-a1d0-202fcae69996')\"\n",
              "              title=\"Convert this dataframe to an interactive table.\"\n",
              "              style=\"display:none;\">\n",
              "        \n",
              "  <svg xmlns=\"http://www.w3.org/2000/svg\" height=\"24px\"viewBox=\"0 0 24 24\"\n",
              "       width=\"24px\">\n",
              "    <path d=\"M0 0h24v24H0V0z\" fill=\"none\"/>\n",
              "    <path d=\"M18.56 5.44l.94 2.06.94-2.06 2.06-.94-2.06-.94-.94-2.06-.94 2.06-2.06.94zm-11 1L8.5 8.5l.94-2.06 2.06-.94-2.06-.94L8.5 2.5l-.94 2.06-2.06.94zm10 10l.94 2.06.94-2.06 2.06-.94-2.06-.94-.94-2.06-.94 2.06-2.06.94z\"/><path d=\"M17.41 7.96l-1.37-1.37c-.4-.4-.92-.59-1.43-.59-.52 0-1.04.2-1.43.59L10.3 9.45l-7.72 7.72c-.78.78-.78 2.05 0 2.83L4 21.41c.39.39.9.59 1.41.59.51 0 1.02-.2 1.41-.59l7.78-7.78 2.81-2.81c.8-.78.8-2.07 0-2.86zM5.41 20L4 18.59l7.72-7.72 1.47 1.35L5.41 20z\"/>\n",
              "  </svg>\n",
              "      </button>\n",
              "      \n",
              "  <style>\n",
              "    .colab-df-container {\n",
              "      display:flex;\n",
              "      flex-wrap:wrap;\n",
              "      gap: 12px;\n",
              "    }\n",
              "\n",
              "    .colab-df-convert {\n",
              "      background-color: #E8F0FE;\n",
              "      border: none;\n",
              "      border-radius: 50%;\n",
              "      cursor: pointer;\n",
              "      display: none;\n",
              "      fill: #1967D2;\n",
              "      height: 32px;\n",
              "      padding: 0 0 0 0;\n",
              "      width: 32px;\n",
              "    }\n",
              "\n",
              "    .colab-df-convert:hover {\n",
              "      background-color: #E2EBFA;\n",
              "      box-shadow: 0px 1px 2px rgba(60, 64, 67, 0.3), 0px 1px 3px 1px rgba(60, 64, 67, 0.15);\n",
              "      fill: #174EA6;\n",
              "    }\n",
              "\n",
              "    [theme=dark] .colab-df-convert {\n",
              "      background-color: #3B4455;\n",
              "      fill: #D2E3FC;\n",
              "    }\n",
              "\n",
              "    [theme=dark] .colab-df-convert:hover {\n",
              "      background-color: #434B5C;\n",
              "      box-shadow: 0px 1px 3px 1px rgba(0, 0, 0, 0.15);\n",
              "      filter: drop-shadow(0px 1px 2px rgba(0, 0, 0, 0.3));\n",
              "      fill: #FFFFFF;\n",
              "    }\n",
              "  </style>\n",
              "\n",
              "      <script>\n",
              "        const buttonEl =\n",
              "          document.querySelector('#df-8458f1b2-6946-4a26-a1d0-202fcae69996 button.colab-df-convert');\n",
              "        buttonEl.style.display =\n",
              "          google.colab.kernel.accessAllowed ? 'block' : 'none';\n",
              "\n",
              "        async function convertToInteractive(key) {\n",
              "          const element = document.querySelector('#df-8458f1b2-6946-4a26-a1d0-202fcae69996');\n",
              "          const dataTable =\n",
              "            await google.colab.kernel.invokeFunction('convertToInteractive',\n",
              "                                                     [key], {});\n",
              "          if (!dataTable) return;\n",
              "\n",
              "          const docLinkHtml = 'Like what you see? Visit the ' +\n",
              "            '<a target=\"_blank\" href=https://colab.research.google.com/notebooks/data_table.ipynb>data table notebook</a>'\n",
              "            + ' to learn more about interactive tables.';\n",
              "          element.innerHTML = '';\n",
              "          dataTable['output_type'] = 'display_data';\n",
              "          await google.colab.output.renderOutput(dataTable, element);\n",
              "          const docLink = document.createElement('div');\n",
              "          docLink.innerHTML = docLinkHtml;\n",
              "          element.appendChild(docLink);\n",
              "        }\n",
              "      </script>\n",
              "    </div>\n",
              "  </div>\n",
              "  "
            ]
          },
          "metadata": {}
        },
        {
          "output_type": "display_data",
          "data": {
            "text/plain": [
              "       loc_og_t2t_mou_7  loc_og_t2m_mou_7  loc_og_t2f_mou_7  loc_og_t2c_mou_7  \\\n",
              "count      99999.000000      99999.000000      99999.000000      99999.000000   \n",
              "mean          44.679599         87.870081          3.646613          1.315689   \n",
              "std          152.555137        155.423787         14.006097          7.391356   \n",
              "min            0.000000          0.000000          0.000000          0.000000   \n",
              "25%            1.000000          7.490000          0.000000          0.000000   \n",
              "50%           10.430000         37.230000          0.000000          0.000000   \n",
              "75%           37.890000        103.360000          1.890000          0.000000   \n",
              "max         7400.660000       4557.140000       1196.430000        916.240000   \n",
              "\n",
              "       std_og_t2t_mou_7  std_og_t2m_mou_7  std_og_t2f_mou_7  \n",
              "count      99999.000000      99999.000000      99999.000000  \n",
              "mean          80.085034         87.299970          1.071982  \n",
              "std          258.991617        264.678142          8.434579  \n",
              "min            0.000000          0.000000          0.000000  \n",
              "25%            0.000000          0.000000          0.000000  \n",
              "50%            0.000000          2.580000          0.000000  \n",
              "75%           27.255000         49.330000          0.000000  \n",
              "max         8133.660000       9284.740000        544.630000  "
            ],
            "text/html": [
              "\n",
              "  <div id=\"df-a37c1aaa-4955-4ff2-a77f-1975dc710a6e\">\n",
              "    <div class=\"colab-df-container\">\n",
              "      <div>\n",
              "<style scoped>\n",
              "    .dataframe tbody tr th:only-of-type {\n",
              "        vertical-align: middle;\n",
              "    }\n",
              "\n",
              "    .dataframe tbody tr th {\n",
              "        vertical-align: top;\n",
              "    }\n",
              "\n",
              "    .dataframe thead th {\n",
              "        text-align: right;\n",
              "    }\n",
              "</style>\n",
              "<table border=\"1\" class=\"dataframe\">\n",
              "  <thead>\n",
              "    <tr style=\"text-align: right;\">\n",
              "      <th></th>\n",
              "      <th>loc_og_t2t_mou_7</th>\n",
              "      <th>loc_og_t2m_mou_7</th>\n",
              "      <th>loc_og_t2f_mou_7</th>\n",
              "      <th>loc_og_t2c_mou_7</th>\n",
              "      <th>std_og_t2t_mou_7</th>\n",
              "      <th>std_og_t2m_mou_7</th>\n",
              "      <th>std_og_t2f_mou_7</th>\n",
              "    </tr>\n",
              "  </thead>\n",
              "  <tbody>\n",
              "    <tr>\n",
              "      <th>count</th>\n",
              "      <td>99999.000000</td>\n",
              "      <td>99999.000000</td>\n",
              "      <td>99999.000000</td>\n",
              "      <td>99999.000000</td>\n",
              "      <td>99999.000000</td>\n",
              "      <td>99999.000000</td>\n",
              "      <td>99999.000000</td>\n",
              "    </tr>\n",
              "    <tr>\n",
              "      <th>mean</th>\n",
              "      <td>44.679599</td>\n",
              "      <td>87.870081</td>\n",
              "      <td>3.646613</td>\n",
              "      <td>1.315689</td>\n",
              "      <td>80.085034</td>\n",
              "      <td>87.299970</td>\n",
              "      <td>1.071982</td>\n",
              "    </tr>\n",
              "    <tr>\n",
              "      <th>std</th>\n",
              "      <td>152.555137</td>\n",
              "      <td>155.423787</td>\n",
              "      <td>14.006097</td>\n",
              "      <td>7.391356</td>\n",
              "      <td>258.991617</td>\n",
              "      <td>264.678142</td>\n",
              "      <td>8.434579</td>\n",
              "    </tr>\n",
              "    <tr>\n",
              "      <th>min</th>\n",
              "      <td>0.000000</td>\n",
              "      <td>0.000000</td>\n",
              "      <td>0.000000</td>\n",
              "      <td>0.000000</td>\n",
              "      <td>0.000000</td>\n",
              "      <td>0.000000</td>\n",
              "      <td>0.000000</td>\n",
              "    </tr>\n",
              "    <tr>\n",
              "      <th>25%</th>\n",
              "      <td>1.000000</td>\n",
              "      <td>7.490000</td>\n",
              "      <td>0.000000</td>\n",
              "      <td>0.000000</td>\n",
              "      <td>0.000000</td>\n",
              "      <td>0.000000</td>\n",
              "      <td>0.000000</td>\n",
              "    </tr>\n",
              "    <tr>\n",
              "      <th>50%</th>\n",
              "      <td>10.430000</td>\n",
              "      <td>37.230000</td>\n",
              "      <td>0.000000</td>\n",
              "      <td>0.000000</td>\n",
              "      <td>0.000000</td>\n",
              "      <td>2.580000</td>\n",
              "      <td>0.000000</td>\n",
              "    </tr>\n",
              "    <tr>\n",
              "      <th>75%</th>\n",
              "      <td>37.890000</td>\n",
              "      <td>103.360000</td>\n",
              "      <td>1.890000</td>\n",
              "      <td>0.000000</td>\n",
              "      <td>27.255000</td>\n",
              "      <td>49.330000</td>\n",
              "      <td>0.000000</td>\n",
              "    </tr>\n",
              "    <tr>\n",
              "      <th>max</th>\n",
              "      <td>7400.660000</td>\n",
              "      <td>4557.140000</td>\n",
              "      <td>1196.430000</td>\n",
              "      <td>916.240000</td>\n",
              "      <td>8133.660000</td>\n",
              "      <td>9284.740000</td>\n",
              "      <td>544.630000</td>\n",
              "    </tr>\n",
              "  </tbody>\n",
              "</table>\n",
              "</div>\n",
              "      <button class=\"colab-df-convert\" onclick=\"convertToInteractive('df-a37c1aaa-4955-4ff2-a77f-1975dc710a6e')\"\n",
              "              title=\"Convert this dataframe to an interactive table.\"\n",
              "              style=\"display:none;\">\n",
              "        \n",
              "  <svg xmlns=\"http://www.w3.org/2000/svg\" height=\"24px\"viewBox=\"0 0 24 24\"\n",
              "       width=\"24px\">\n",
              "    <path d=\"M0 0h24v24H0V0z\" fill=\"none\"/>\n",
              "    <path d=\"M18.56 5.44l.94 2.06.94-2.06 2.06-.94-2.06-.94-.94-2.06-.94 2.06-2.06.94zm-11 1L8.5 8.5l.94-2.06 2.06-.94-2.06-.94L8.5 2.5l-.94 2.06-2.06.94zm10 10l.94 2.06.94-2.06 2.06-.94-2.06-.94-.94-2.06-.94 2.06-2.06.94z\"/><path d=\"M17.41 7.96l-1.37-1.37c-.4-.4-.92-.59-1.43-.59-.52 0-1.04.2-1.43.59L10.3 9.45l-7.72 7.72c-.78.78-.78 2.05 0 2.83L4 21.41c.39.39.9.59 1.41.59.51 0 1.02-.2 1.41-.59l7.78-7.78 2.81-2.81c.8-.78.8-2.07 0-2.86zM5.41 20L4 18.59l7.72-7.72 1.47 1.35L5.41 20z\"/>\n",
              "  </svg>\n",
              "      </button>\n",
              "      \n",
              "  <style>\n",
              "    .colab-df-container {\n",
              "      display:flex;\n",
              "      flex-wrap:wrap;\n",
              "      gap: 12px;\n",
              "    }\n",
              "\n",
              "    .colab-df-convert {\n",
              "      background-color: #E8F0FE;\n",
              "      border: none;\n",
              "      border-radius: 50%;\n",
              "      cursor: pointer;\n",
              "      display: none;\n",
              "      fill: #1967D2;\n",
              "      height: 32px;\n",
              "      padding: 0 0 0 0;\n",
              "      width: 32px;\n",
              "    }\n",
              "\n",
              "    .colab-df-convert:hover {\n",
              "      background-color: #E2EBFA;\n",
              "      box-shadow: 0px 1px 2px rgba(60, 64, 67, 0.3), 0px 1px 3px 1px rgba(60, 64, 67, 0.15);\n",
              "      fill: #174EA6;\n",
              "    }\n",
              "\n",
              "    [theme=dark] .colab-df-convert {\n",
              "      background-color: #3B4455;\n",
              "      fill: #D2E3FC;\n",
              "    }\n",
              "\n",
              "    [theme=dark] .colab-df-convert:hover {\n",
              "      background-color: #434B5C;\n",
              "      box-shadow: 0px 1px 3px 1px rgba(0, 0, 0, 0.15);\n",
              "      filter: drop-shadow(0px 1px 2px rgba(0, 0, 0, 0.3));\n",
              "      fill: #FFFFFF;\n",
              "    }\n",
              "  </style>\n",
              "\n",
              "      <script>\n",
              "        const buttonEl =\n",
              "          document.querySelector('#df-a37c1aaa-4955-4ff2-a77f-1975dc710a6e button.colab-df-convert');\n",
              "        buttonEl.style.display =\n",
              "          google.colab.kernel.accessAllowed ? 'block' : 'none';\n",
              "\n",
              "        async function convertToInteractive(key) {\n",
              "          const element = document.querySelector('#df-a37c1aaa-4955-4ff2-a77f-1975dc710a6e');\n",
              "          const dataTable =\n",
              "            await google.colab.kernel.invokeFunction('convertToInteractive',\n",
              "                                                     [key], {});\n",
              "          if (!dataTable) return;\n",
              "\n",
              "          const docLinkHtml = 'Like what you see? Visit the ' +\n",
              "            '<a target=\"_blank\" href=https://colab.research.google.com/notebooks/data_table.ipynb>data table notebook</a>'\n",
              "            + ' to learn more about interactive tables.';\n",
              "          element.innerHTML = '';\n",
              "          dataTable['output_type'] = 'display_data';\n",
              "          await google.colab.output.renderOutput(dataTable, element);\n",
              "          const docLink = document.createElement('div');\n",
              "          docLink.innerHTML = docLinkHtml;\n",
              "          element.appendChild(docLink);\n",
              "        }\n",
              "      </script>\n",
              "    </div>\n",
              "  </div>\n",
              "  "
            ]
          },
          "metadata": {}
        },
        {
          "output_type": "display_data",
          "data": {
            "text/plain": [
              "        onnet_mou_8  offnet_mou_8  loc_ic_t2t_mou_8  loc_ic_t2m_mou_8  \\\n",
              "count  99999.000000  99999.000000      99999.000000      99999.000000   \n",
              "mean     125.864313    186.002904         44.672310        102.627450   \n",
              "std      302.023240    321.325854        133.922257        166.899871   \n",
              "min        0.000000      0.000000          0.000000          0.000000   \n",
              "25%        4.090000     23.840000          2.000000         13.810000   \n",
              "50%       28.040000     83.130000         14.010000         52.680000   \n",
              "75%      106.740000    215.500000         43.540000        127.200000   \n",
              "max    10752.560000  14007.340000      10696.230000       6274.190000   \n",
              "\n",
              "       loc_ic_t2f_mou_8  std_ic_t2t_mou_8  std_ic_t2m_mou_8  std_ic_t2f_mou_8  \n",
              "count      99999.000000      99999.000000      99999.000000      99999.000000  \n",
              "mean          11.119814          9.352359         20.043967          1.972872  \n",
              "std           38.150956         53.618152         81.542312         15.388684  \n",
              "min            0.000000          0.000000          0.000000          0.000000  \n",
              "25%            0.000000          0.000000          0.000000          0.000000  \n",
              "50%            0.660000          0.000000          1.430000          0.000000  \n",
              "75%            7.260000          3.440000         13.960000          0.000000  \n",
              "max         2433.060000       4309.290000       5645.860000       1394.890000  "
            ],
            "text/html": [
              "\n",
              "  <div id=\"df-11b5316e-1b65-4f16-a7d4-d1bb35d549ec\">\n",
              "    <div class=\"colab-df-container\">\n",
              "      <div>\n",
              "<style scoped>\n",
              "    .dataframe tbody tr th:only-of-type {\n",
              "        vertical-align: middle;\n",
              "    }\n",
              "\n",
              "    .dataframe tbody tr th {\n",
              "        vertical-align: top;\n",
              "    }\n",
              "\n",
              "    .dataframe thead th {\n",
              "        text-align: right;\n",
              "    }\n",
              "</style>\n",
              "<table border=\"1\" class=\"dataframe\">\n",
              "  <thead>\n",
              "    <tr style=\"text-align: right;\">\n",
              "      <th></th>\n",
              "      <th>onnet_mou_8</th>\n",
              "      <th>offnet_mou_8</th>\n",
              "      <th>loc_ic_t2t_mou_8</th>\n",
              "      <th>loc_ic_t2m_mou_8</th>\n",
              "      <th>loc_ic_t2f_mou_8</th>\n",
              "      <th>std_ic_t2t_mou_8</th>\n",
              "      <th>std_ic_t2m_mou_8</th>\n",
              "      <th>std_ic_t2f_mou_8</th>\n",
              "    </tr>\n",
              "  </thead>\n",
              "  <tbody>\n",
              "    <tr>\n",
              "      <th>count</th>\n",
              "      <td>99999.000000</td>\n",
              "      <td>99999.000000</td>\n",
              "      <td>99999.000000</td>\n",
              "      <td>99999.000000</td>\n",
              "      <td>99999.000000</td>\n",
              "      <td>99999.000000</td>\n",
              "      <td>99999.000000</td>\n",
              "      <td>99999.000000</td>\n",
              "    </tr>\n",
              "    <tr>\n",
              "      <th>mean</th>\n",
              "      <td>125.864313</td>\n",
              "      <td>186.002904</td>\n",
              "      <td>44.672310</td>\n",
              "      <td>102.627450</td>\n",
              "      <td>11.119814</td>\n",
              "      <td>9.352359</td>\n",
              "      <td>20.043967</td>\n",
              "      <td>1.972872</td>\n",
              "    </tr>\n",
              "    <tr>\n",
              "      <th>std</th>\n",
              "      <td>302.023240</td>\n",
              "      <td>321.325854</td>\n",
              "      <td>133.922257</td>\n",
              "      <td>166.899871</td>\n",
              "      <td>38.150956</td>\n",
              "      <td>53.618152</td>\n",
              "      <td>81.542312</td>\n",
              "      <td>15.388684</td>\n",
              "    </tr>\n",
              "    <tr>\n",
              "      <th>min</th>\n",
              "      <td>0.000000</td>\n",
              "      <td>0.000000</td>\n",
              "      <td>0.000000</td>\n",
              "      <td>0.000000</td>\n",
              "      <td>0.000000</td>\n",
              "      <td>0.000000</td>\n",
              "      <td>0.000000</td>\n",
              "      <td>0.000000</td>\n",
              "    </tr>\n",
              "    <tr>\n",
              "      <th>25%</th>\n",
              "      <td>4.090000</td>\n",
              "      <td>23.840000</td>\n",
              "      <td>2.000000</td>\n",
              "      <td>13.810000</td>\n",
              "      <td>0.000000</td>\n",
              "      <td>0.000000</td>\n",
              "      <td>0.000000</td>\n",
              "      <td>0.000000</td>\n",
              "    </tr>\n",
              "    <tr>\n",
              "      <th>50%</th>\n",
              "      <td>28.040000</td>\n",
              "      <td>83.130000</td>\n",
              "      <td>14.010000</td>\n",
              "      <td>52.680000</td>\n",
              "      <td>0.660000</td>\n",
              "      <td>0.000000</td>\n",
              "      <td>1.430000</td>\n",
              "      <td>0.000000</td>\n",
              "    </tr>\n",
              "    <tr>\n",
              "      <th>75%</th>\n",
              "      <td>106.740000</td>\n",
              "      <td>215.500000</td>\n",
              "      <td>43.540000</td>\n",
              "      <td>127.200000</td>\n",
              "      <td>7.260000</td>\n",
              "      <td>3.440000</td>\n",
              "      <td>13.960000</td>\n",
              "      <td>0.000000</td>\n",
              "    </tr>\n",
              "    <tr>\n",
              "      <th>max</th>\n",
              "      <td>10752.560000</td>\n",
              "      <td>14007.340000</td>\n",
              "      <td>10696.230000</td>\n",
              "      <td>6274.190000</td>\n",
              "      <td>2433.060000</td>\n",
              "      <td>4309.290000</td>\n",
              "      <td>5645.860000</td>\n",
              "      <td>1394.890000</td>\n",
              "    </tr>\n",
              "  </tbody>\n",
              "</table>\n",
              "</div>\n",
              "      <button class=\"colab-df-convert\" onclick=\"convertToInteractive('df-11b5316e-1b65-4f16-a7d4-d1bb35d549ec')\"\n",
              "              title=\"Convert this dataframe to an interactive table.\"\n",
              "              style=\"display:none;\">\n",
              "        \n",
              "  <svg xmlns=\"http://www.w3.org/2000/svg\" height=\"24px\"viewBox=\"0 0 24 24\"\n",
              "       width=\"24px\">\n",
              "    <path d=\"M0 0h24v24H0V0z\" fill=\"none\"/>\n",
              "    <path d=\"M18.56 5.44l.94 2.06.94-2.06 2.06-.94-2.06-.94-.94-2.06-.94 2.06-2.06.94zm-11 1L8.5 8.5l.94-2.06 2.06-.94-2.06-.94L8.5 2.5l-.94 2.06-2.06.94zm10 10l.94 2.06.94-2.06 2.06-.94-2.06-.94-.94-2.06-.94 2.06-2.06.94z\"/><path d=\"M17.41 7.96l-1.37-1.37c-.4-.4-.92-.59-1.43-.59-.52 0-1.04.2-1.43.59L10.3 9.45l-7.72 7.72c-.78.78-.78 2.05 0 2.83L4 21.41c.39.39.9.59 1.41.59.51 0 1.02-.2 1.41-.59l7.78-7.78 2.81-2.81c.8-.78.8-2.07 0-2.86zM5.41 20L4 18.59l7.72-7.72 1.47 1.35L5.41 20z\"/>\n",
              "  </svg>\n",
              "      </button>\n",
              "      \n",
              "  <style>\n",
              "    .colab-df-container {\n",
              "      display:flex;\n",
              "      flex-wrap:wrap;\n",
              "      gap: 12px;\n",
              "    }\n",
              "\n",
              "    .colab-df-convert {\n",
              "      background-color: #E8F0FE;\n",
              "      border: none;\n",
              "      border-radius: 50%;\n",
              "      cursor: pointer;\n",
              "      display: none;\n",
              "      fill: #1967D2;\n",
              "      height: 32px;\n",
              "      padding: 0 0 0 0;\n",
              "      width: 32px;\n",
              "    }\n",
              "\n",
              "    .colab-df-convert:hover {\n",
              "      background-color: #E2EBFA;\n",
              "      box-shadow: 0px 1px 2px rgba(60, 64, 67, 0.3), 0px 1px 3px 1px rgba(60, 64, 67, 0.15);\n",
              "      fill: #174EA6;\n",
              "    }\n",
              "\n",
              "    [theme=dark] .colab-df-convert {\n",
              "      background-color: #3B4455;\n",
              "      fill: #D2E3FC;\n",
              "    }\n",
              "\n",
              "    [theme=dark] .colab-df-convert:hover {\n",
              "      background-color: #434B5C;\n",
              "      box-shadow: 0px 1px 3px 1px rgba(0, 0, 0, 0.15);\n",
              "      filter: drop-shadow(0px 1px 2px rgba(0, 0, 0, 0.3));\n",
              "      fill: #FFFFFF;\n",
              "    }\n",
              "  </style>\n",
              "\n",
              "      <script>\n",
              "        const buttonEl =\n",
              "          document.querySelector('#df-11b5316e-1b65-4f16-a7d4-d1bb35d549ec button.colab-df-convert');\n",
              "        buttonEl.style.display =\n",
              "          google.colab.kernel.accessAllowed ? 'block' : 'none';\n",
              "\n",
              "        async function convertToInteractive(key) {\n",
              "          const element = document.querySelector('#df-11b5316e-1b65-4f16-a7d4-d1bb35d549ec');\n",
              "          const dataTable =\n",
              "            await google.colab.kernel.invokeFunction('convertToInteractive',\n",
              "                                                     [key], {});\n",
              "          if (!dataTable) return;\n",
              "\n",
              "          const docLinkHtml = 'Like what you see? Visit the ' +\n",
              "            '<a target=\"_blank\" href=https://colab.research.google.com/notebooks/data_table.ipynb>data table notebook</a>'\n",
              "            + ' to learn more about interactive tables.';\n",
              "          element.innerHTML = '';\n",
              "          dataTable['output_type'] = 'display_data';\n",
              "          await google.colab.output.renderOutput(dataTable, element);\n",
              "          const docLink = document.createElement('div');\n",
              "          docLink.innerHTML = docLinkHtml;\n",
              "          element.appendChild(docLink);\n",
              "        }\n",
              "      </script>\n",
              "    </div>\n",
              "  </div>\n",
              "  "
            ]
          },
          "metadata": {}
        },
        {
          "output_type": "display_data",
          "data": {
            "text/plain": [
              "       loc_og_t2t_mou_8  loc_og_t2m_mou_8  loc_og_t2f_mou_8  loc_og_t2c_mou_8  \\\n",
              "count      99999.000000      99999.000000      99999.000000      99999.000000   \n",
              "mean          43.419935         86.820488          3.480186          1.356709   \n",
              "std          147.427075        153.669894         12.935836          6.606329   \n",
              "min            0.000000          0.000000          0.000000          0.000000   \n",
              "25%            0.760000          6.310000          0.000000          0.000000   \n",
              "50%           10.030000         35.890000          0.000000          0.000000   \n",
              "75%           37.360000        102.960000          1.780000          0.000000   \n",
              "max        10752.560000       4961.330000        928.490000        502.090000   \n",
              "\n",
              "       std_og_t2t_mou_8  std_og_t2m_mou_8  std_og_t2f_mou_8  \n",
              "count      99999.000000      99999.000000      99999.000000  \n",
              "mean          78.803686         85.006833          1.010365  \n",
              "std          258.930848        265.124794          7.694209  \n",
              "min            0.000000          0.000000          0.000000  \n",
              "25%            0.000000          0.000000          0.000000  \n",
              "50%            0.000000          2.030000          0.000000  \n",
              "75%           25.040000         45.980000          0.000000  \n",
              "max         8014.430000      13950.040000        516.910000  "
            ],
            "text/html": [
              "\n",
              "  <div id=\"df-3db6b7dd-5b1b-4646-a09e-082704ba83c6\">\n",
              "    <div class=\"colab-df-container\">\n",
              "      <div>\n",
              "<style scoped>\n",
              "    .dataframe tbody tr th:only-of-type {\n",
              "        vertical-align: middle;\n",
              "    }\n",
              "\n",
              "    .dataframe tbody tr th {\n",
              "        vertical-align: top;\n",
              "    }\n",
              "\n",
              "    .dataframe thead th {\n",
              "        text-align: right;\n",
              "    }\n",
              "</style>\n",
              "<table border=\"1\" class=\"dataframe\">\n",
              "  <thead>\n",
              "    <tr style=\"text-align: right;\">\n",
              "      <th></th>\n",
              "      <th>loc_og_t2t_mou_8</th>\n",
              "      <th>loc_og_t2m_mou_8</th>\n",
              "      <th>loc_og_t2f_mou_8</th>\n",
              "      <th>loc_og_t2c_mou_8</th>\n",
              "      <th>std_og_t2t_mou_8</th>\n",
              "      <th>std_og_t2m_mou_8</th>\n",
              "      <th>std_og_t2f_mou_8</th>\n",
              "    </tr>\n",
              "  </thead>\n",
              "  <tbody>\n",
              "    <tr>\n",
              "      <th>count</th>\n",
              "      <td>99999.000000</td>\n",
              "      <td>99999.000000</td>\n",
              "      <td>99999.000000</td>\n",
              "      <td>99999.000000</td>\n",
              "      <td>99999.000000</td>\n",
              "      <td>99999.000000</td>\n",
              "      <td>99999.000000</td>\n",
              "    </tr>\n",
              "    <tr>\n",
              "      <th>mean</th>\n",
              "      <td>43.419935</td>\n",
              "      <td>86.820488</td>\n",
              "      <td>3.480186</td>\n",
              "      <td>1.356709</td>\n",
              "      <td>78.803686</td>\n",
              "      <td>85.006833</td>\n",
              "      <td>1.010365</td>\n",
              "    </tr>\n",
              "    <tr>\n",
              "      <th>std</th>\n",
              "      <td>147.427075</td>\n",
              "      <td>153.669894</td>\n",
              "      <td>12.935836</td>\n",
              "      <td>6.606329</td>\n",
              "      <td>258.930848</td>\n",
              "      <td>265.124794</td>\n",
              "      <td>7.694209</td>\n",
              "    </tr>\n",
              "    <tr>\n",
              "      <th>min</th>\n",
              "      <td>0.000000</td>\n",
              "      <td>0.000000</td>\n",
              "      <td>0.000000</td>\n",
              "      <td>0.000000</td>\n",
              "      <td>0.000000</td>\n",
              "      <td>0.000000</td>\n",
              "      <td>0.000000</td>\n",
              "    </tr>\n",
              "    <tr>\n",
              "      <th>25%</th>\n",
              "      <td>0.760000</td>\n",
              "      <td>6.310000</td>\n",
              "      <td>0.000000</td>\n",
              "      <td>0.000000</td>\n",
              "      <td>0.000000</td>\n",
              "      <td>0.000000</td>\n",
              "      <td>0.000000</td>\n",
              "    </tr>\n",
              "    <tr>\n",
              "      <th>50%</th>\n",
              "      <td>10.030000</td>\n",
              "      <td>35.890000</td>\n",
              "      <td>0.000000</td>\n",
              "      <td>0.000000</td>\n",
              "      <td>0.000000</td>\n",
              "      <td>2.030000</td>\n",
              "      <td>0.000000</td>\n",
              "    </tr>\n",
              "    <tr>\n",
              "      <th>75%</th>\n",
              "      <td>37.360000</td>\n",
              "      <td>102.960000</td>\n",
              "      <td>1.780000</td>\n",
              "      <td>0.000000</td>\n",
              "      <td>25.040000</td>\n",
              "      <td>45.980000</td>\n",
              "      <td>0.000000</td>\n",
              "    </tr>\n",
              "    <tr>\n",
              "      <th>max</th>\n",
              "      <td>10752.560000</td>\n",
              "      <td>4961.330000</td>\n",
              "      <td>928.490000</td>\n",
              "      <td>502.090000</td>\n",
              "      <td>8014.430000</td>\n",
              "      <td>13950.040000</td>\n",
              "      <td>516.910000</td>\n",
              "    </tr>\n",
              "  </tbody>\n",
              "</table>\n",
              "</div>\n",
              "      <button class=\"colab-df-convert\" onclick=\"convertToInteractive('df-3db6b7dd-5b1b-4646-a09e-082704ba83c6')\"\n",
              "              title=\"Convert this dataframe to an interactive table.\"\n",
              "              style=\"display:none;\">\n",
              "        \n",
              "  <svg xmlns=\"http://www.w3.org/2000/svg\" height=\"24px\"viewBox=\"0 0 24 24\"\n",
              "       width=\"24px\">\n",
              "    <path d=\"M0 0h24v24H0V0z\" fill=\"none\"/>\n",
              "    <path d=\"M18.56 5.44l.94 2.06.94-2.06 2.06-.94-2.06-.94-.94-2.06-.94 2.06-2.06.94zm-11 1L8.5 8.5l.94-2.06 2.06-.94-2.06-.94L8.5 2.5l-.94 2.06-2.06.94zm10 10l.94 2.06.94-2.06 2.06-.94-2.06-.94-.94-2.06-.94 2.06-2.06.94z\"/><path d=\"M17.41 7.96l-1.37-1.37c-.4-.4-.92-.59-1.43-.59-.52 0-1.04.2-1.43.59L10.3 9.45l-7.72 7.72c-.78.78-.78 2.05 0 2.83L4 21.41c.39.39.9.59 1.41.59.51 0 1.02-.2 1.41-.59l7.78-7.78 2.81-2.81c.8-.78.8-2.07 0-2.86zM5.41 20L4 18.59l7.72-7.72 1.47 1.35L5.41 20z\"/>\n",
              "  </svg>\n",
              "      </button>\n",
              "      \n",
              "  <style>\n",
              "    .colab-df-container {\n",
              "      display:flex;\n",
              "      flex-wrap:wrap;\n",
              "      gap: 12px;\n",
              "    }\n",
              "\n",
              "    .colab-df-convert {\n",
              "      background-color: #E8F0FE;\n",
              "      border: none;\n",
              "      border-radius: 50%;\n",
              "      cursor: pointer;\n",
              "      display: none;\n",
              "      fill: #1967D2;\n",
              "      height: 32px;\n",
              "      padding: 0 0 0 0;\n",
              "      width: 32px;\n",
              "    }\n",
              "\n",
              "    .colab-df-convert:hover {\n",
              "      background-color: #E2EBFA;\n",
              "      box-shadow: 0px 1px 2px rgba(60, 64, 67, 0.3), 0px 1px 3px 1px rgba(60, 64, 67, 0.15);\n",
              "      fill: #174EA6;\n",
              "    }\n",
              "\n",
              "    [theme=dark] .colab-df-convert {\n",
              "      background-color: #3B4455;\n",
              "      fill: #D2E3FC;\n",
              "    }\n",
              "\n",
              "    [theme=dark] .colab-df-convert:hover {\n",
              "      background-color: #434B5C;\n",
              "      box-shadow: 0px 1px 3px 1px rgba(0, 0, 0, 0.15);\n",
              "      filter: drop-shadow(0px 1px 2px rgba(0, 0, 0, 0.3));\n",
              "      fill: #FFFFFF;\n",
              "    }\n",
              "  </style>\n",
              "\n",
              "      <script>\n",
              "        const buttonEl =\n",
              "          document.querySelector('#df-3db6b7dd-5b1b-4646-a09e-082704ba83c6 button.colab-df-convert');\n",
              "        buttonEl.style.display =\n",
              "          google.colab.kernel.accessAllowed ? 'block' : 'none';\n",
              "\n",
              "        async function convertToInteractive(key) {\n",
              "          const element = document.querySelector('#df-3db6b7dd-5b1b-4646-a09e-082704ba83c6');\n",
              "          const dataTable =\n",
              "            await google.colab.kernel.invokeFunction('convertToInteractive',\n",
              "                                                     [key], {});\n",
              "          if (!dataTable) return;\n",
              "\n",
              "          const docLinkHtml = 'Like what you see? Visit the ' +\n",
              "            '<a target=\"_blank\" href=https://colab.research.google.com/notebooks/data_table.ipynb>data table notebook</a>'\n",
              "            + ' to learn more about interactive tables.';\n",
              "          element.innerHTML = '';\n",
              "          dataTable['output_type'] = 'display_data';\n",
              "          await google.colab.output.renderOutput(dataTable, element);\n",
              "          const docLink = document.createElement('div');\n",
              "          docLink.innerHTML = docLinkHtml;\n",
              "          element.appendChild(docLink);\n",
              "        }\n",
              "      </script>\n",
              "    </div>\n",
              "  </div>\n",
              "  "
            ]
          },
          "metadata": {}
        },
        {
          "output_type": "display_data",
          "data": {
            "text/plain": [
              "<Figure size 1296x1296 with 6 Axes>"
            ],
            "image/png": "[encoded data removed]"
          },
          "metadata": {
            "needs_background": "light"
          }
        }
      ],
      "source": [
        "cols = [['onnet_mou_6','offnet_mou_6','loc_ic_t2t_mou_6','loc_ic_t2m_mou_6','loc_ic_t2f_mou_6','std_ic_t2t_mou_6','std_ic_t2m_mou_6','std_ic_t2f_mou_6'],\n",
        "        ['loc_og_t2t_mou_6','loc_og_t2m_mou_6','loc_og_t2f_mou_6','loc_og_t2c_mou_6','std_og_t2t_mou_6','std_og_t2m_mou_6','std_og_t2f_mou_6'],\n",
        "        ['onnet_mou_7','offnet_mou_7','loc_ic_t2t_mou_7','loc_ic_t2m_mou_7','loc_ic_t2f_mou_7','std_ic_t2t_mou_7','std_ic_t2m_mou_7','std_ic_t2f_mou_7'],\n",
        "        ['loc_og_t2t_mou_7','loc_og_t2m_mou_7','loc_og_t2f_mou_7','loc_og_t2c_mou_7','std_og_t2t_mou_7','std_og_t2m_mou_7','std_og_t2f_mou_7'],\n",
        "        ['onnet_mou_8','offnet_mou_8','loc_ic_t2t_mou_8','loc_ic_t2m_mou_8','loc_ic_t2f_mou_8','std_ic_t2t_mou_8','std_ic_t2m_mou_8','std_ic_t2f_mou_8'],\n",
        "        ['loc_og_t2t_mou_8','loc_og_t2m_mou_8','loc_og_t2f_mou_8','loc_og_t2c_mou_8','std_og_t2t_mou_8','std_og_t2m_mou_8','std_og_t2f_mou_8']]\n",
        "\n",
        "# column description stats\n",
        "for i in range(0,6):\n",
        "    display(data[cols[i]].describe())\n",
        "\n",
        "# plot for the operatorwise calls usage\n",
        "plt.figure(figsize=(18, 18))\n",
        "plt.subplots_adjust(hspace=0.5)\n",
        "for i in range(0,6):\n",
        "    plt.subplot(3,2,i+1)\n",
        "    X = pd.concat([data[cols[i]], data['churn']], axis=1)\n",
        "    X = pd.melt(X,id_vars=\"churn\",var_name=\"features\",value_name='value')\n",
        "    sns.boxplot(x=\"features\", y=\"value\", hue=\"churn\", data=X)\n",
        "    plt.xticks(rotation=90)    \n",
        "    plt.suptitle('Operatorwise Calls Usage')\n"
      ],
      "id": "1a81090c"
    },
    {
      "cell_type": "code",
      "execution_count": 49,
      "metadata": {
        "colab": {
          "base_uri": "https://localhost:8080/",
          "height": 1000
        },
        "id": "f9e104a8",
        "outputId": "441a8ea1-cde2-4c35-977c-b5136fb75af3"
      },
      "outputs": [
        {
          "output_type": "display_data",
          "data": {
            "text/plain": [
              "       total_rech_amt_6  total_rech_amt_7  total_rech_amt_8\n",
              "count      99999.000000      99999.000000      99999.000000\n",
              "mean         327.514615        322.962970        324.157122\n",
              "std          398.019701        408.114237        416.540455\n",
              "min            0.000000          0.000000          0.000000\n",
              "25%          109.000000        100.000000         90.000000\n",
              "50%          230.000000        220.000000        225.000000\n",
              "75%          437.500000        428.000000        434.500000\n",
              "max        35190.000000      40335.000000      45320.000000"
            ],
            "text/html": [
              "\n",
              "  <div id=\"df-394eb26b-a0e5-4725-a66d-c85e48d75bcb\">\n",
              "    <div class=\"colab-df-container\">\n",
              "      <div>\n",
              "<style scoped>\n",
              "    .dataframe tbody tr th:only-of-type {\n",
              "        vertical-align: middle;\n",
              "    }\n",
              "\n",
              "    .dataframe tbody tr th {\n",
              "        vertical-align: top;\n",
              "    }\n",
              "\n",
              "    .dataframe thead th {\n",
              "        text-align: right;\n",
              "    }\n",
              "</style>\n",
              "<table border=\"1\" class=\"dataframe\">\n",
              "  <thead>\n",
              "    <tr style=\"text-align: right;\">\n",
              "      <th></th>\n",
              "      <th>total_rech_amt_6</th>\n",
              "      <th>total_rech_amt_7</th>\n",
              "      <th>total_rech_amt_8</th>\n",
              "    </tr>\n",
              "  </thead>\n",
              "  <tbody>\n",
              "    <tr>\n",
              "      <th>count</th>\n",
              "      <td>99999.000000</td>\n",
              "      <td>99999.000000</td>\n",
              "      <td>99999.000000</td>\n",
              "    </tr>\n",
              "    <tr>\n",
              "      <th>mean</th>\n",
              "      <td>327.514615</td>\n",
              "      <td>322.962970</td>\n",
              "      <td>324.157122</td>\n",
              "    </tr>\n",
              "    <tr>\n",
              "      <th>std</th>\n",
              "      <td>398.019701</td>\n",
              "      <td>408.114237</td>\n",
              "      <td>416.540455</td>\n",
              "    </tr>\n",
              "    <tr>\n",
              "      <th>min</th>\n",
              "      <td>0.000000</td>\n",
              "      <td>0.000000</td>\n",
              "      <td>0.000000</td>\n",
              "    </tr>\n",
              "    <tr>\n",
              "      <th>25%</th>\n",
              "      <td>109.000000</td>\n",
              "      <td>100.000000</td>\n",
              "      <td>90.000000</td>\n",
              "    </tr>\n",
              "    <tr>\n",
              "      <th>50%</th>\n",
              "      <td>230.000000</td>\n",
              "      <td>220.000000</td>\n",
              "      <td>225.000000</td>\n",
              "    </tr>\n",
              "    <tr>\n",
              "      <th>75%</th>\n",
              "      <td>437.500000</td>\n",
              "      <td>428.000000</td>\n",
              "      <td>434.500000</td>\n",
              "    </tr>\n",
              "    <tr>\n",
              "      <th>max</th>\n",
              "      <td>35190.000000</td>\n",
              "      <td>40335.000000</td>\n",
              "      <td>45320.000000</td>\n",
              "    </tr>\n",
              "  </tbody>\n",
              "</table>\n",
              "</div>\n",
              "      <button class=\"colab-df-convert\" onclick=\"convertToInteractive('df-394eb26b-a0e5-4725-a66d-c85e48d75bcb')\"\n",
              "              title=\"Convert this dataframe to an interactive table.\"\n",
              "              style=\"display:none;\">\n",
              "        \n",
              "  <svg xmlns=\"http://www.w3.org/2000/svg\" height=\"24px\"viewBox=\"0 0 24 24\"\n",
              "       width=\"24px\">\n",
              "    <path d=\"M0 0h24v24H0V0z\" fill=\"none\"/>\n",
              "    <path d=\"M18.56 5.44l.94 2.06.94-2.06 2.06-.94-2.06-.94-.94-2.06-.94 2.06-2.06.94zm-11 1L8.5 8.5l.94-2.06 2.06-.94-2.06-.94L8.5 2.5l-.94 2.06-2.06.94zm10 10l.94 2.06.94-2.06 2.06-.94-2.06-.94-.94-2.06-.94 2.06-2.06.94z\"/><path d=\"M17.41 7.96l-1.37-1.37c-.4-.4-.92-.59-1.43-.59-.52 0-1.04.2-1.43.59L10.3 9.45l-7.72 7.72c-.78.78-.78 2.05 0 2.83L4 21.41c.39.39.9.59 1.41.59.51 0 1.02-.2 1.41-.59l7.78-7.78 2.81-2.81c.8-.78.8-2.07 0-2.86zM5.41 20L4 18.59l7.72-7.72 1.47 1.35L5.41 20z\"/>\n",
              "  </svg>\n",
              "      </button>\n",
              "      \n",
              "  <style>\n",
              "    .colab-df-container {\n",
              "      display:flex;\n",
              "      flex-wrap:wrap;\n",
              "      gap: 12px;\n",
              "    }\n",
              "\n",
              "    .colab-df-convert {\n",
              "      background-color: #E8F0FE;\n",
              "      border: none;\n",
              "      border-radius: 50%;\n",
              "      cursor: pointer;\n",
              "      display: none;\n",
              "      fill: #1967D2;\n",
              "      height: 32px;\n",
              "      padding: 0 0 0 0;\n",
              "      width: 32px;\n",
              "    }\n",
              "\n",
              "    .colab-df-convert:hover {\n",
              "      background-color: #E2EBFA;\n",
              "      box-shadow: 0px 1px 2px rgba(60, 64, 67, 0.3), 0px 1px 3px 1px rgba(60, 64, 67, 0.15);\n",
              "      fill: #174EA6;\n",
              "    }\n",
              "\n",
              "    [theme=dark] .colab-df-convert {\n",
              "      background-color: #3B4455;\n",
              "      fill: #D2E3FC;\n",
              "    }\n",
              "\n",
              "    [theme=dark] .colab-df-convert:hover {\n",
              "      background-color: #434B5C;\n",
              "      box-shadow: 0px 1px 3px 1px rgba(0, 0, 0, 0.15);\n",
              "      filter: drop-shadow(0px 1px 2px rgba(0, 0, 0, 0.3));\n",
              "      fill: #FFFFFF;\n",
              "    }\n",
              "  </style>\n",
              "\n",
              "      <script>\n",
              "        const buttonEl =\n",
              "          document.querySelector('#df-394eb26b-a0e5-4725-a66d-c85e48d75bcb button.colab-df-convert');\n",
              "        buttonEl.style.display =\n",
              "          google.colab.kernel.accessAllowed ? 'block' : 'none';\n",
              "\n",
              "        async function convertToInteractive(key) {\n",
              "          const element = document.querySelector('#df-394eb26b-a0e5-4725-a66d-c85e48d75bcb');\n",
              "          const dataTable =\n",
              "            await google.colab.kernel.invokeFunction('convertToInteractive',\n",
              "                                                     [key], {});\n",
              "          if (!dataTable) return;\n",
              "\n",
              "          const docLinkHtml = 'Like what you see? Visit the ' +\n",
              "            '<a target=\"_blank\" href=https://colab.research.google.com/notebooks/data_table.ipynb>data table notebook</a>'\n",
              "            + ' to learn more about interactive tables.';\n",
              "          element.innerHTML = '';\n",
              "          dataTable['output_type'] = 'display_data';\n",
              "          await google.colab.output.renderOutput(dataTable, element);\n",
              "          const docLink = document.createElement('div');\n",
              "          docLink.innerHTML = docLinkHtml;\n",
              "          element.appendChild(docLink);\n",
              "        }\n",
              "      </script>\n",
              "    </div>\n",
              "  </div>\n",
              "  "
            ]
          },
          "metadata": {}
        },
        {
          "output_type": "display_data",
          "data": {
            "text/plain": [
              "       total_rech_amt_voice_6  total_rech_amt_voice_7  total_rech_amt_voice_8\n",
              "count            99999.000000            99999.000000            99999.000000\n",
              "mean               326.898889              322.285643              323.463445\n",
              "std                397.775650              407.821763              416.227779\n",
              "min                  0.000000                0.000000                0.000000\n",
              "25%                108.000000              100.000000               90.000000\n",
              "50%                228.000000              220.000000              223.000000\n",
              "75%                436.000000              427.000000              433.000000\n",
              "max              35190.000000            40335.000000            45320.000000"
            ],
            "text/html": [
              "\n",
              "  <div id=\"df-acfe8628-6192-4f8c-b4c3-51319d7db132\">\n",
              "    <div class=\"colab-df-container\">\n",
              "      <div>\n",
              "<style scoped>\n",
              "    .dataframe tbody tr th:only-of-type {\n",
              "        vertical-align: middle;\n",
              "    }\n",
              "\n",
              "    .dataframe tbody tr th {\n",
              "        vertical-align: top;\n",
              "    }\n",
              "\n",
              "    .dataframe thead th {\n",
              "        text-align: right;\n",
              "    }\n",
              "</style>\n",
              "<table border=\"1\" class=\"dataframe\">\n",
              "  <thead>\n",
              "    <tr style=\"text-align: right;\">\n",
              "      <th></th>\n",
              "      <th>total_rech_amt_voice_6</th>\n",
              "      <th>total_rech_amt_voice_7</th>\n",
              "      <th>total_rech_amt_voice_8</th>\n",
              "    </tr>\n",
              "  </thead>\n",
              "  <tbody>\n",
              "    <tr>\n",
              "      <th>count</th>\n",
              "      <td>99999.000000</td>\n",
              "      <td>99999.000000</td>\n",
              "      <td>99999.000000</td>\n",
              "    </tr>\n",
              "    <tr>\n",
              "      <th>mean</th>\n",
              "      <td>326.898889</td>\n",
              "      <td>322.285643</td>\n",
              "      <td>323.463445</td>\n",
              "    </tr>\n",
              "    <tr>\n",
              "      <th>std</th>\n",
              "      <td>397.775650</td>\n",
              "      <td>407.821763</td>\n",
              "      <td>416.227779</td>\n",
              "    </tr>\n",
              "    <tr>\n",
              "      <th>min</th>\n",
              "      <td>0.000000</td>\n",
              "      <td>0.000000</td>\n",
              "      <td>0.000000</td>\n",
              "    </tr>\n",
              "    <tr>\n",
              "      <th>25%</th>\n",
              "      <td>108.000000</td>\n",
              "      <td>100.000000</td>\n",
              "      <td>90.000000</td>\n",
              "    </tr>\n",
              "    <tr>\n",
              "      <th>50%</th>\n",
              "      <td>228.000000</td>\n",
              "      <td>220.000000</td>\n",
              "      <td>223.000000</td>\n",
              "    </tr>\n",
              "    <tr>\n",
              "      <th>75%</th>\n",
              "      <td>436.000000</td>\n",
              "      <td>427.000000</td>\n",
              "      <td>433.000000</td>\n",
              "    </tr>\n",
              "    <tr>\n",
              "      <th>max</th>\n",
              "      <td>35190.000000</td>\n",
              "      <td>40335.000000</td>\n",
              "      <td>45320.000000</td>\n",
              "    </tr>\n",
              "  </tbody>\n",
              "</table>\n",
              "</div>\n",
              "      <button class=\"colab-df-convert\" onclick=\"convertToInteractive('df-acfe8628-6192-4f8c-b4c3-51319d7db132')\"\n",
              "              title=\"Convert this dataframe to an interactive table.\"\n",
              "              style=\"display:none;\">\n",
              "        \n",
              "  <svg xmlns=\"http://www.w3.org/2000/svg\" height=\"24px\"viewBox=\"0 0 24 24\"\n",
              "       width=\"24px\">\n",
              "    <path d=\"M0 0h24v24H0V0z\" fill=\"none\"/>\n",
              "    <path d=\"M18.56 5.44l.94 2.06.94-2.06 2.06-.94-2.06-.94-.94-2.06-.94 2.06-2.06.94zm-11 1L8.5 8.5l.94-2.06 2.06-.94-2.06-.94L8.5 2.5l-.94 2.06-2.06.94zm10 10l.94 2.06.94-2.06 2.06-.94-2.06-.94-.94-2.06-.94 2.06-2.06.94z\"/><path d=\"M17.41 7.96l-1.37-1.37c-.4-.4-.92-.59-1.43-.59-.52 0-1.04.2-1.43.59L10.3 9.45l-7.72 7.72c-.78.78-.78 2.05 0 2.83L4 21.41c.39.39.9.59 1.41.59.51 0 1.02-.2 1.41-.59l7.78-7.78 2.81-2.81c.8-.78.8-2.07 0-2.86zM5.41 20L4 18.59l7.72-7.72 1.47 1.35L5.41 20z\"/>\n",
              "  </svg>\n",
              "      </button>\n",
              "      \n",
              "  <style>\n",
              "    .colab-df-container {\n",
              "      display:flex;\n",
              "      flex-wrap:wrap;\n",
              "      gap: 12px;\n",
              "    }\n",
              "\n",
              "    .colab-df-convert {\n",
              "      background-color: #E8F0FE;\n",
              "      border: none;\n",
              "      border-radius: 50%;\n",
              "      cursor: pointer;\n",
              "      display: none;\n",
              "      fill: #1967D2;\n",
              "      height: 32px;\n",
              "      padding: 0 0 0 0;\n",
              "      width: 32px;\n",
              "    }\n",
              "\n",
              "    .colab-df-convert:hover {\n",
              "      background-color: #E2EBFA;\n",
              "      box-shadow: 0px 1px 2px rgba(60, 64, 67, 0.3), 0px 1px 3px 1px rgba(60, 64, 67, 0.15);\n",
              "      fill: #174EA6;\n",
              "    }\n",
              "\n",
              "    [theme=dark] .colab-df-convert {\n",
              "      background-color: #3B4455;\n",
              "      fill: #D2E3FC;\n",
              "    }\n",
              "\n",
              "    [theme=dark] .colab-df-convert:hover {\n",
              "      background-color: #434B5C;\n",
              "      box-shadow: 0px 1px 3px 1px rgba(0, 0, 0, 0.15);\n",
              "      filter: drop-shadow(0px 1px 2px rgba(0, 0, 0, 0.3));\n",
              "      fill: #FFFFFF;\n",
              "    }\n",
              "  </style>\n",
              "\n",
              "      <script>\n",
              "        const buttonEl =\n",
              "          document.querySelector('#df-acfe8628-6192-4f8c-b4c3-51319d7db132 button.colab-df-convert');\n",
              "        buttonEl.style.display =\n",
              "          google.colab.kernel.accessAllowed ? 'block' : 'none';\n",
              "\n",
              "        async function convertToInteractive(key) {\n",
              "          const element = document.querySelector('#df-acfe8628-6192-4f8c-b4c3-51319d7db132');\n",
              "          const dataTable =\n",
              "            await google.colab.kernel.invokeFunction('convertToInteractive',\n",
              "                                                     [key], {});\n",
              "          if (!dataTable) return;\n",
              "\n",
              "          const docLinkHtml = 'Like what you see? Visit the ' +\n",
              "            '<a target=\"_blank\" href=https://colab.research.google.com/notebooks/data_table.ipynb>data table notebook</a>'\n",
              "            + ' to learn more about interactive tables.';\n",
              "          element.innerHTML = '';\n",
              "          dataTable['output_type'] = 'display_data';\n",
              "          await google.colab.output.renderOutput(dataTable, element);\n",
              "          const docLink = document.createElement('div');\n",
              "          docLink.innerHTML = docLinkHtml;\n",
              "          element.appendChild(docLink);\n",
              "        }\n",
              "      </script>\n",
              "    </div>\n",
              "  </div>\n",
              "  "
            ]
          },
          "metadata": {}
        },
        {
          "output_type": "display_data",
          "data": {
            "text/plain": [
              "       total_rech_data_6  total_rech_data_7  total_rech_data_8\n",
              "count       99999.000000       99999.000000       99999.000000\n",
              "mean            0.619726           0.681837           0.698517\n",
              "std             1.760541           1.924382           1.963417\n",
              "min             0.000000           0.000000           0.000000\n",
              "25%             0.000000           0.000000           0.000000\n",
              "50%             0.000000           0.000000           0.000000\n",
              "75%             1.000000           1.000000           1.000000\n",
              "max            61.000000          54.000000          60.000000"
            ],
            "text/html": [
              "\n",
              "  <div id=\"df-1935671a-9459-496a-b72e-4d293a495de9\">\n",
              "    <div class=\"colab-df-container\">\n",
              "      <div>\n",
              "<style scoped>\n",
              "    .dataframe tbody tr th:only-of-type {\n",
              "        vertical-align: middle;\n",
              "    }\n",
              "\n",
              "    .dataframe tbody tr th {\n",
              "        vertical-align: top;\n",
              "    }\n",
              "\n",
              "    .dataframe thead th {\n",
              "        text-align: right;\n",
              "    }\n",
              "</style>\n",
              "<table border=\"1\" class=\"dataframe\">\n",
              "  <thead>\n",
              "    <tr style=\"text-align: right;\">\n",
              "      <th></th>\n",
              "      <th>total_rech_data_6</th>\n",
              "      <th>total_rech_data_7</th>\n",
              "      <th>total_rech_data_8</th>\n",
              "    </tr>\n",
              "  </thead>\n",
              "  <tbody>\n",
              "    <tr>\n",
              "      <th>count</th>\n",
              "      <td>99999.000000</td>\n",
              "      <td>99999.000000</td>\n",
              "      <td>99999.000000</td>\n",
              "    </tr>\n",
              "    <tr>\n",
              "      <th>mean</th>\n",
              "      <td>0.619726</td>\n",
              "      <td>0.681837</td>\n",
              "      <td>0.698517</td>\n",
              "    </tr>\n",
              "    <tr>\n",
              "      <th>std</th>\n",
              "      <td>1.760541</td>\n",
              "      <td>1.924382</td>\n",
              "      <td>1.963417</td>\n",
              "    </tr>\n",
              "    <tr>\n",
              "      <th>min</th>\n",
              "      <td>0.000000</td>\n",
              "      <td>0.000000</td>\n",
              "      <td>0.000000</td>\n",
              "    </tr>\n",
              "    <tr>\n",
              "      <th>25%</th>\n",
              "      <td>0.000000</td>\n",
              "      <td>0.000000</td>\n",
              "      <td>0.000000</td>\n",
              "    </tr>\n",
              "    <tr>\n",
              "      <th>50%</th>\n",
              "      <td>0.000000</td>\n",
              "      <td>0.000000</td>\n",
              "      <td>0.000000</td>\n",
              "    </tr>\n",
              "    <tr>\n",
              "      <th>75%</th>\n",
              "      <td>1.000000</td>\n",
              "      <td>1.000000</td>\n",
              "      <td>1.000000</td>\n",
              "    </tr>\n",
              "    <tr>\n",
              "      <th>max</th>\n",
              "      <td>61.000000</td>\n",
              "      <td>54.000000</td>\n",
              "      <td>60.000000</td>\n",
              "    </tr>\n",
              "  </tbody>\n",
              "</table>\n",
              "</div>\n",
              "      <button class=\"colab-df-convert\" onclick=\"convertToInteractive('df-1935671a-9459-496a-b72e-4d293a495de9')\"\n",
              "              title=\"Convert this dataframe to an interactive table.\"\n",
              "              style=\"display:none;\">\n",
              "        \n",
              "  <svg xmlns=\"http://www.w3.org/2000/svg\" height=\"24px\"viewBox=\"0 0 24 24\"\n",
              "       width=\"24px\">\n",
              "    <path d=\"M0 0h24v24H0V0z\" fill=\"none\"/>\n",
              "    <path d=\"M18.56 5.44l.94 2.06.94-2.06 2.06-.94-2.06-.94-.94-2.06-.94 2.06-2.06.94zm-11 1L8.5 8.5l.94-2.06 2.06-.94-2.06-.94L8.5 2.5l-.94 2.06-2.06.94zm10 10l.94 2.06.94-2.06 2.06-.94-2.06-.94-.94-2.06-.94 2.06-2.06.94z\"/><path d=\"M17.41 7.96l-1.37-1.37c-.4-.4-.92-.59-1.43-.59-.52 0-1.04.2-1.43.59L10.3 9.45l-7.72 7.72c-.78.78-.78 2.05 0 2.83L4 21.41c.39.39.9.59 1.41.59.51 0 1.02-.2 1.41-.59l7.78-7.78 2.81-2.81c.8-.78.8-2.07 0-2.86zM5.41 20L4 18.59l7.72-7.72 1.47 1.35L5.41 20z\"/>\n",
              "  </svg>\n",
              "      </button>\n",
              "      \n",
              "  <style>\n",
              "    .colab-df-container {\n",
              "      display:flex;\n",
              "      flex-wrap:wrap;\n",
              "      gap: 12px;\n",
              "    }\n",
              "\n",
              "    .colab-df-convert {\n",
              "      background-color: #E8F0FE;\n",
              "      border: none;\n",
              "      border-radius: 50%;\n",
              "      cursor: pointer;\n",
              "      display: none;\n",
              "      fill: #1967D2;\n",
              "      height: 32px;\n",
              "      padding: 0 0 0 0;\n",
              "      width: 32px;\n",
              "    }\n",
              "\n",
              "    .colab-df-convert:hover {\n",
              "      background-color: #E2EBFA;\n",
              "      box-shadow: 0px 1px 2px rgba(60, 64, 67, 0.3), 0px 1px 3px 1px rgba(60, 64, 67, 0.15);\n",
              "      fill: #174EA6;\n",
              "    }\n",
              "\n",
              "    [theme=dark] .colab-df-convert {\n",
              "      background-color: #3B4455;\n",
              "      fill: #D2E3FC;\n",
              "    }\n",
              "\n",
              "    [theme=dark] .colab-df-convert:hover {\n",
              "      background-color: #434B5C;\n",
              "      box-shadow: 0px 1px 3px 1px rgba(0, 0, 0, 0.15);\n",
              "      filter: drop-shadow(0px 1px 2px rgba(0, 0, 0, 0.3));\n",
              "      fill: #FFFFFF;\n",
              "    }\n",
              "  </style>\n",
              "\n",
              "      <script>\n",
              "        const buttonEl =\n",
              "          document.querySelector('#df-1935671a-9459-496a-b72e-4d293a495de9 button.colab-df-convert');\n",
              "        buttonEl.style.display =\n",
              "          google.colab.kernel.accessAllowed ? 'block' : 'none';\n",
              "\n",
              "        async function convertToInteractive(key) {\n",
              "          const element = document.querySelector('#df-1935671a-9459-496a-b72e-4d293a495de9');\n",
              "          const dataTable =\n",
              "            await google.colab.kernel.invokeFunction('convertToInteractive',\n",
              "                                                     [key], {});\n",
              "          if (!dataTable) return;\n",
              "\n",
              "          const docLinkHtml = 'Like what you see? Visit the ' +\n",
              "            '<a target=\"_blank\" href=https://colab.research.google.com/notebooks/data_table.ipynb>data table notebook</a>'\n",
              "            + ' to learn more about interactive tables.';\n",
              "          element.innerHTML = '';\n",
              "          dataTable['output_type'] = 'display_data';\n",
              "          await google.colab.output.renderOutput(dataTable, element);\n",
              "          const docLink = document.createElement('div');\n",
              "          docLink.innerHTML = docLinkHtml;\n",
              "          element.appendChild(docLink);\n",
              "        }\n",
              "      </script>\n",
              "    </div>\n",
              "  </div>\n",
              "  "
            ]
          },
          "metadata": {}
        },
        {
          "output_type": "display_data",
          "data": {
            "text/plain": [
              "       max_rech_amt_6  max_rech_amt_7  max_rech_amt_8\n",
              "count    99999.000000    99999.000000    99999.000000\n",
              "mean       104.637486      104.752398      107.728207\n",
              "std        120.614894      124.523970      126.902505\n",
              "min          0.000000        0.000000        0.000000\n",
              "25%         30.000000       30.000000       30.000000\n",
              "50%        110.000000      110.000000       98.000000\n",
              "75%        120.000000      128.000000      144.000000\n",
              "max       4010.000000     4010.000000     4449.000000"
            ],
            "text/html": [
              "\n",
              "  <div id=\"df-d63bb8d4-4926-4025-bce2-7d4903109b93\">\n",
              "    <div class=\"colab-df-container\">\n",
              "      <div>\n",
              "<style scoped>\n",
              "    .dataframe tbody tr th:only-of-type {\n",
              "        vertical-align: middle;\n",
              "    }\n",
              "\n",
              "    .dataframe tbody tr th {\n",
              "        vertical-align: top;\n",
              "    }\n",
              "\n",
              "    .dataframe thead th {\n",
              "        text-align: right;\n",
              "    }\n",
              "</style>\n",
              "<table border=\"1\" class=\"dataframe\">\n",
              "  <thead>\n",
              "    <tr style=\"text-align: right;\">\n",
              "      <th></th>\n",
              "      <th>max_rech_amt_6</th>\n",
              "      <th>max_rech_amt_7</th>\n",
              "      <th>max_rech_amt_8</th>\n",
              "    </tr>\n",
              "  </thead>\n",
              "  <tbody>\n",
              "    <tr>\n",
              "      <th>count</th>\n",
              "      <td>99999.000000</td>\n",
              "      <td>99999.000000</td>\n",
              "      <td>99999.000000</td>\n",
              "    </tr>\n",
              "    <tr>\n",
              "      <th>mean</th>\n",
              "      <td>104.637486</td>\n",
              "      <td>104.752398</td>\n",
              "      <td>107.728207</td>\n",
              "    </tr>\n",
              "    <tr>\n",
              "      <th>std</th>\n",
              "      <td>120.614894</td>\n",
              "      <td>124.523970</td>\n",
              "      <td>126.902505</td>\n",
              "    </tr>\n",
              "    <tr>\n",
              "      <th>min</th>\n",
              "      <td>0.000000</td>\n",
              "      <td>0.000000</td>\n",
              "      <td>0.000000</td>\n",
              "    </tr>\n",
              "    <tr>\n",
              "      <th>25%</th>\n",
              "      <td>30.000000</td>\n",
              "      <td>30.000000</td>\n",
              "      <td>30.000000</td>\n",
              "    </tr>\n",
              "    <tr>\n",
              "      <th>50%</th>\n",
              "      <td>110.000000</td>\n",
              "      <td>110.000000</td>\n",
              "      <td>98.000000</td>\n",
              "    </tr>\n",
              "    <tr>\n",
              "      <th>75%</th>\n",
              "      <td>120.000000</td>\n",
              "      <td>128.000000</td>\n",
              "      <td>144.000000</td>\n",
              "    </tr>\n",
              "    <tr>\n",
              "      <th>max</th>\n",
              "      <td>4010.000000</td>\n",
              "      <td>4010.000000</td>\n",
              "      <td>4449.000000</td>\n",
              "    </tr>\n",
              "  </tbody>\n",
              "</table>\n",
              "</div>\n",
              "      <button class=\"colab-df-convert\" onclick=\"convertToInteractive('df-d63bb8d4-4926-4025-bce2-7d4903109b93')\"\n",
              "              title=\"Convert this dataframe to an interactive table.\"\n",
              "              style=\"display:none;\">\n",
              "        \n",
              "  <svg xmlns=\"http://www.w3.org/2000/svg\" height=\"24px\"viewBox=\"0 0 24 24\"\n",
              "       width=\"24px\">\n",
              "    <path d=\"M0 0h24v24H0V0z\" fill=\"none\"/>\n",
              "    <path d=\"M18.56 5.44l.94 2.06.94-2.06 2.06-.94-2.06-.94-.94-2.06-.94 2.06-2.06.94zm-11 1L8.5 8.5l.94-2.06 2.06-.94-2.06-.94L8.5 2.5l-.94 2.06-2.06.94zm10 10l.94 2.06.94-2.06 2.06-.94-2.06-.94-.94-2.06-.94 2.06-2.06.94z\"/><path d=\"M17.41 7.96l-1.37-1.37c-.4-.4-.92-.59-1.43-.59-.52 0-1.04.2-1.43.59L10.3 9.45l-7.72 7.72c-.78.78-.78 2.05 0 2.83L4 21.41c.39.39.9.59 1.41.59.51 0 1.02-.2 1.41-.59l7.78-7.78 2.81-2.81c.8-.78.8-2.07 0-2.86zM5.41 20L4 18.59l7.72-7.72 1.47 1.35L5.41 20z\"/>\n",
              "  </svg>\n",
              "      </button>\n",
              "      \n",
              "  <style>\n",
              "    .colab-df-container {\n",
              "      display:flex;\n",
              "      flex-wrap:wrap;\n",
              "      gap: 12px;\n",
              "    }\n",
              "\n",
              "    .colab-df-convert {\n",
              "      background-color: #E8F0FE;\n",
              "      border: none;\n",
              "      border-radius: 50%;\n",
              "      cursor: pointer;\n",
              "      display: none;\n",
              "      fill: #1967D2;\n",
              "      height: 32px;\n",
              "      padding: 0 0 0 0;\n",
              "      width: 32px;\n",
              "    }\n",
              "\n",
              "    .colab-df-convert:hover {\n",
              "      background-color: #E2EBFA;\n",
              "      box-shadow: 0px 1px 2px rgba(60, 64, 67, 0.3), 0px 1px 3px 1px rgba(60, 64, 67, 0.15);\n",
              "      fill: #174EA6;\n",
              "    }\n",
              "\n",
              "    [theme=dark] .colab-df-convert {\n",
              "      background-color: #3B4455;\n",
              "      fill: #D2E3FC;\n",
              "    }\n",
              "\n",
              "    [theme=dark] .colab-df-convert:hover {\n",
              "      background-color: #434B5C;\n",
              "      box-shadow: 0px 1px 3px 1px rgba(0, 0, 0, 0.15);\n",
              "      filter: drop-shadow(0px 1px 2px rgba(0, 0, 0, 0.3));\n",
              "      fill: #FFFFFF;\n",
              "    }\n",
              "  </style>\n",
              "\n",
              "      <script>\n",
              "        const buttonEl =\n",
              "          document.querySelector('#df-d63bb8d4-4926-4025-bce2-7d4903109b93 button.colab-df-convert');\n",
              "        buttonEl.style.display =\n",
              "          google.colab.kernel.accessAllowed ? 'block' : 'none';\n",
              "\n",
              "        async function convertToInteractive(key) {\n",
              "          const element = document.querySelector('#df-d63bb8d4-4926-4025-bce2-7d4903109b93');\n",
              "          const dataTable =\n",
              "            await google.colab.kernel.invokeFunction('convertToInteractive',\n",
              "                                                     [key], {});\n",
              "          if (!dataTable) return;\n",
              "\n",
              "          const docLinkHtml = 'Like what you see? Visit the ' +\n",
              "            '<a target=\"_blank\" href=https://colab.research.google.com/notebooks/data_table.ipynb>data table notebook</a>'\n",
              "            + ' to learn more about interactive tables.';\n",
              "          element.innerHTML = '';\n",
              "          dataTable['output_type'] = 'display_data';\n",
              "          await google.colab.output.renderOutput(dataTable, element);\n",
              "          const docLink = document.createElement('div');\n",
              "          docLink.innerHTML = docLinkHtml;\n",
              "          element.appendChild(docLink);\n",
              "        }\n",
              "      </script>\n",
              "    </div>\n",
              "  </div>\n",
              "  "
            ]
          },
          "metadata": {}
        },
        {
          "output_type": "display_data",
          "data": {
            "text/plain": [
              "<Figure size 1296x720 with 4 Axes>"
            ],
            "image/png": "[encoded data removed]"
          },
          "metadata": {
            "needs_background": "light"
          }
        }
      ],
      "source": [
        "data['total_rech_amt_voice_6'] = np.where((data['total_rech_amt_6'] >= data['total_rech_data_6']), (data['total_rech_amt_6'] - data['total_rech_data_6']), 0)\n",
        "data['total_rech_amt_voice_7'] = np.where((data['total_rech_amt_7'] >= data['total_rech_data_7']), (data['total_rech_amt_7'] - data['total_rech_data_7']), 0)\n",
        "data['total_rech_amt_voice_8'] = np.where((data['total_rech_amt_8'] >= data['total_rech_data_8']), (data['total_rech_amt_8'] - data['total_rech_data_8']), 0)\n",
        "\n",
        "cols = [\n",
        "        ['total_rech_amt_6','total_rech_amt_7','total_rech_amt_8'],\n",
        "        ['total_rech_amt_voice_6','total_rech_amt_voice_7','total_rech_amt_voice_8'],\n",
        "        ['total_rech_data_6','total_rech_data_7','total_rech_data_8'],\n",
        "        ['max_rech_amt_6','max_rech_amt_7','max_rech_amt_8']\n",
        "       ]\n",
        "\n",
        "# column description stats\n",
        "for i in range(0,4):\n",
        "    display(data[cols[i]].describe())\n",
        "\n",
        "# plot for the recharge amount columns\n",
        "plt.figure(figsize=(18, 10))\n",
        "plt.subplots_adjust(hspace=0.5)\n",
        "for i in range(0,4):\n",
        "    plt.subplot(2,2,i+1)\n",
        "    X = pd.concat([data[cols[i]], data['churn']], axis=1)\n",
        "    X = pd.melt(X,id_vars=\"churn\",var_name=\"features\",value_name='value')\n",
        "    sns.boxplot(x=\"features\", y=\"value\", hue=\"churn\", data=X)\n",
        "    plt.xticks(rotation=90)    \n",
        "    plt.suptitle('Recharge Amount')"
      ],
      "id": "f9e104a8"
    },
    {
      "cell_type": "markdown",
      "metadata": {
        "id": "ee8a59f2"
      },
      "source": [
        "# OUTLIER TREATMENT"
      ],
      "id": "ee8a59f2"
    },
    {
      "cell_type": "code",
      "execution_count": 50,
      "metadata": {
        "id": "4064d766"
      },
      "outputs": [],
      "source": [
        "#These columns donot have outliers thats why we will exclude these columns while removing the outliers.\n",
        "cols_to_exclude = ['night_pck_user_6','night_pck_user_7','night_pck_user_8',\n",
        "                   'fb_user_6','fb_user_7','fb_user_8',\n",
        "                   'monthly_2g_6','monthly_2g_7','monthly_2g_8',\n",
        "                   'monthly_3g_6','monthly_3g_7','monthly_3g_8',\n",
        "                   'sachet_2g_6','sachet_2g_7','sachet_2g_8',\n",
        "                   'sachet_3g_6','sachet_3g_7','sachet_3g_8',\n",
        "                   'date_of_last_rech_6','date_of_last_rech_7','date_of_last_rech_8','date_of_last_rech_data_6','date_of_last_rech_data_7','date_of_last_rech_data_8',\n",
        "                   'spl_ic_mou_6','spl_ic_mou_7','spl_ic_mou_8','spl_og_mou_6','og_others_6','spl_og_mou_7','og_others_7','spl_og_mou_8','og_others_8',\n",
        "                   'loc_og_t2c_mou_6','std_og_t2f_mou_6','std_ic_t2f_mou_6','loc_ic_t2f_mou_6',\n",
        "                   'loc_og_t2c_mou_7','std_og_t2f_mou_7','std_ic_t2f_mou_7','loc_ic_t2f_mou_7',\n",
        "                   'loc_og_t2c_mou_8','std_og_t2f_mou_8','std_ic_t2f_mou_8','loc_ic_t2f_mou_8',\n",
        "                   'aon','churn'\n",
        "                  ]"
      ],
      "id": "4064d766"
    },
    {
      "cell_type": "code",
      "execution_count": 51,
      "metadata": {
        "colab": {
          "base_uri": "https://localhost:8080/"
        },
        "id": "8d276e5f",
        "outputId": "456b0344-7b7a-4d7f-e5d1-180da997347c",
        "scrolled": true
      },
      "outputs": [
        {
          "output_type": "stream",
          "name": "stderr",
          "text": [
            "/usr/local/lib/python3.7/dist-packages/ipykernel_launcher.py:6: SettingWithCopyWarning: \n",
            "A value is trying to be set on a copy of a slice from a DataFrame\n",
            "\n",
            "See the caveats in the documentation: https://pandas.pydata.org/pandas-docs/stable/user_guide/indexing.html#returning-a-view-versus-a-copy\n",
            "  \n",
            "/usr/local/lib/python3.7/dist-packages/ipykernel_launcher.py:6: SettingWithCopyWarning: \n",
            "A value is trying to be set on a copy of a slice from a DataFrame\n",
            "\n",
            "See the caveats in the documentation: https://pandas.pydata.org/pandas-docs/stable/user_guide/indexing.html#returning-a-view-versus-a-copy\n",
            "  \n"
          ]
        }
      ],
      "source": [
        "cols = list(set(data.columns).difference(set(cols_to_exclude)))\n",
        "\n",
        "# iterate through the columns and cap the values with the 99th percentile\n",
        "for col in cols:\n",
        "    percentiles = data[col].quantile([0.01,0.99]).values\n",
        "    data[col][data[col] >= percentiles[1]] = percentiles[1]"
      ],
      "id": "8d276e5f"
    },
    {
      "cell_type": "markdown",
      "metadata": {
        "id": "a2a2849d"
      },
      "source": [
        "we have capped the outliers at the 99th percentile"
      ],
      "id": "a2a2849d"
    },
    {
      "cell_type": "markdown",
      "metadata": {
        "id": "b3a24321"
      },
      "source": [
        "# FEATURE ENGINEERING"
      ],
      "id": "b3a24321"
    },
    {
      "cell_type": "markdown",
      "metadata": {
        "id": "40ed495b"
      },
      "source": [
        "Here we are dealing with date columns ,we are tarnsforming date columns into date datatype"
      ],
      "id": "40ed495b"
    },
    {
      "cell_type": "code",
      "execution_count": 52,
      "metadata": {
        "id": "ff4903f0"
      },
      "outputs": [],
      "source": [
        "# Convert date columns to date format\n",
        "for col in date_cols:\n",
        "    #print(col)\n",
        "    data[col] = pd.to_datetime(data[col], format='%m/%d/%Y')"
      ],
      "id": "ff4903f0"
    },
    {
      "cell_type": "markdown",
      "metadata": {
        "id": "0d7f396d"
      },
      "source": [
        "To get the recent recharge date ,we will find the last recharge date of august month"
      ],
      "id": "0d7f396d"
    },
    {
      "cell_type": "code",
      "execution_count": 53,
      "metadata": {
        "colab": {
          "base_uri": "https://localhost:8080/"
        },
        "id": "e3079244",
        "outputId": "d6f51349-67b9-4469-f2d3-7325aed3dc10"
      },
      "outputs": [
        {
          "output_type": "execute_result",
          "data": {
            "text/plain": [
              "0       2014-08-08\n",
              "1       2014-08-28\n",
              "2       2014-08-14\n",
              "3       2014-08-31\n",
              "4       2014-08-09\n",
              "           ...    \n",
              "99994   2014-08-26\n",
              "99995   2014-08-24\n",
              "99996   2014-07-26\n",
              "99997   2014-08-20\n",
              "99998   2014-06-16\n",
              "Name: last_rech_date, Length: 99999, dtype: datetime64[ns]"
            ]
          },
          "metadata": {},
          "execution_count": 53
        }
      ],
      "source": [
        "cols = ['date_of_last_rech_6','date_of_last_rech_7','date_of_last_rech_8']\n",
        "# get the recent date of recharge in the last 3 months\n",
        "data['last_rech_date'] = data[cols].max(axis=1)\n",
        "data['last_rech_date']"
      ],
      "id": "e3079244"
    },
    {
      "cell_type": "markdown",
      "metadata": {
        "id": "80668988"
      },
      "source": [
        "number of days between the last recharge and last date of month"
      ],
      "id": "80668988"
    },
    {
      "cell_type": "markdown",
      "metadata": {
        "id": "4f60c3a2"
      },
      "source": [
        "DataFrame.astype() method is used to cast a pandas object to a specified dtype. \n",
        "Timedelta is a subclass of datetime.timedelta, and behaves in a similar manner, \n",
        "but allows compatibility with np.timedelta64 types as well as a host of custom representation, parsing, and attributes."
      ],
      "id": "4f60c3a2"
    },
    {
      "cell_type": "code",
      "execution_count": 54,
      "metadata": {
        "id": "643d76fd"
      },
      "outputs": [],
      "source": [
        "# get the number of days from the recent recharge date till the last date of august month\n",
        "data['days_since_last_rech'] = np.floor(( pd.to_datetime('2014-08-31', format='%Y-%m-%d') - data['last_rech_date'] ).astype('timedelta64[D]'))\n",
        "# fill the null values as 0\n",
        "data['days_since_last_rech'] = data['days_since_last_rech'].fillna(0)"
      ],
      "id": "643d76fd"
    },
    {
      "cell_type": "markdown",
      "metadata": {
        "id": "426e1ae6"
      },
      "source": [
        "To find the weighatge of each row ,we will subtract null values from length of columns\n",
        "and drop the unwanted columns "
      ],
      "id": "426e1ae6"
    },
    {
      "cell_type": "code",
      "execution_count": 55,
      "metadata": {
        "id": "287911b9"
      },
      "outputs": [],
      "source": [
        "# subtract it from 3 to add higher weightage for values present in all the columns. \n",
        "# len(cols) = 3,  means present in all columns, 0 means not present in any column\n",
        "data['rech_weightage'] = len(cols) - (data[cols].isnull().sum(axis=1))\n",
        "data.drop(['last_rech_date','date_of_last_rech_6','date_of_last_rech_7','date_of_last_rech_8'], axis=1, inplace=True)\n"
      ],
      "id": "287911b9"
    },
    {
      "cell_type": "markdown",
      "metadata": {
        "id": "ec52ec34"
      },
      "source": [
        "Same process done with data columns as done with recharge columns"
      ],
      "id": "ec52ec34"
    },
    {
      "cell_type": "code",
      "execution_count": 56,
      "metadata": {
        "id": "b977623b"
      },
      "outputs": [],
      "source": [
        "cols = ['date_of_last_rech_data_6','date_of_last_rech_data_7','date_of_last_rech_data_8']\n",
        "# get the recent date of recharge data in the last 3 months\n",
        "data['last_rech_data_date'] = data[cols].max(axis=1)\n",
        "# get the number of days from the recent recharge data date till the last date of august month\n",
        "data['days_since_last_data_rech'] = np.floor(( pd.to_datetime('2014-08-31', format='%Y-%m-%d') - data['last_rech_data_date'] ).astype('timedelta64[D]'))\n",
        "# fill the null values as 0\n",
        "data['days_since_last_data_rech'] = data['days_since_last_data_rech'].fillna(0)\n",
        "\n",
        "# subtract it from 3 to add higher weightage for values present in all the columns. \n",
        "# len(cols) = 3, means present in all columns, 0 means not present in any column\n",
        "data['rech_data_weightage'] = len(cols) - (data[cols].isnull().sum(axis=1))\n",
        "\n",
        "# drop the unwanted columns\n",
        "data.drop(['last_rech_data_date','date_of_last_rech_data_6','date_of_last_rech_data_7','date_of_last_rech_data_8'], axis=1, inplace=True)"
      ],
      "id": "b977623b"
    },
    {
      "cell_type": "markdown",
      "metadata": {
        "id": "7c00d2bf"
      },
      "source": [
        "# NUMERICAL COLUMNS-CALLS"
      ],
      "id": "7c00d2bf"
    },
    {
      "cell_type": "markdown",
      "metadata": {
        "id": "a8e2ff06"
      },
      "source": [
        "to find the means of onnet and offnet columns"
      ],
      "id": "a8e2ff06"
    },
    {
      "cell_type": "code",
      "execution_count": 57,
      "metadata": {
        "id": "f0fa30fd"
      },
      "outputs": [],
      "source": [
        "# network columns\n",
        "# get the mean of onnet mou in the last 3 months\n",
        "cols = ['onnet_mou_6','onnet_mou_7','onnet_mou_8']\n",
        "data['mean_onnet_mou'] = round(data[cols].mean(axis=1),2)\n",
        "\n",
        "# get the mean of offnet mou in the last 3 months\n",
        "cols = ['offnet_mou_6','offnet_mou_7','offnet_mou_8']\n",
        "data['mean_offnet_mou'] = round(data[cols].mean(axis=1),2)\n",
        "\n",
        "# get the mean total of both onnet and offnet mou in the last 3 months\n",
        "data['mean_onnet_offnet_mou'] = data['mean_onnet_mou'] + data['mean_offnet_mou']"
      ],
      "id": "f0fa30fd"
    },
    {
      "cell_type": "markdown",
      "metadata": {
        "id": "db40e234"
      },
      "source": [
        "extraction of mean of roaming columns for last 3months"
      ],
      "id": "db40e234"
    },
    {
      "cell_type": "code",
      "execution_count": 58,
      "metadata": {
        "id": "54a520f5"
      },
      "outputs": [],
      "source": [
        "# Roaming columns\n",
        "# get the mean of roam ic mou in the last 3 months\n",
        "cols = ['roam_ic_mou_6','roam_ic_mou_7','roam_ic_mou_8']\n",
        "data['mean_roam_ic_mou'] = round(data[cols].mean(axis=1),2)\n",
        "\n",
        "# get the mean of roam og mou in the last 3 months\n",
        "cols = ['roam_og_mou_6','roam_og_mou_7','roam_og_mou_8']\n",
        "data['mean_roam_og_mou'] = round(data[cols].mean(axis=1),2)\n",
        "\n",
        "# get the mean total of both roam ic and og mou in the last 3 months\n",
        "data['mean_roam_mou'] = data['mean_roam_ic_mou'] + data['mean_roam_og_mou']"
      ],
      "id": "54a520f5"
    },
    {
      "cell_type": "code",
      "execution_count": 59,
      "metadata": {
        "id": "a94e4032"
      },
      "outputs": [],
      "source": [
        "# loc-t2t columns\n",
        "cols = ['loc_ic_t2t_mou_6','loc_ic_t2t_mou_7','loc_ic_t2t_mou_8']\n",
        "data['mean_loc_ic_t2t_mou'] = round(data[cols].mean(axis=1),2)\n",
        "\n",
        "cols = ['loc_og_t2t_mou_6','loc_og_t2t_mou_7','loc_og_t2t_mou_8']\n",
        "data['mean_loc_og_t2t_mou'] = round(data[cols].mean(axis=1),2)\n",
        "\n",
        "data['mean_loc_t2t_mou'] = data['mean_loc_ic_t2t_mou'] + data['mean_loc_og_t2t_mou']"
      ],
      "id": "a94e4032"
    },
    {
      "cell_type": "code",
      "execution_count": 60,
      "metadata": {
        "id": "27359aa8"
      },
      "outputs": [],
      "source": [
        "# loc-t2m columns\n",
        "cols = ['loc_ic_t2m_mou_6','loc_ic_t2m_mou_7','loc_ic_t2m_mou_8']\n",
        "data['mean_loc_ic_t2m_mou'] = round(data[cols].mean(axis=1),2)\n",
        "\n",
        "cols = ['loc_og_t2m_mou_6','loc_og_t2m_mou_7','loc_og_t2m_mou_8']\n",
        "data['mean_loc_og_t2m_mou'] = round(data[cols].mean(axis=1),2)\n",
        "\n",
        "data['mean_loc_t2m_mou'] = data['mean_loc_ic_t2m_mou'] + data['mean_loc_og_t2m_mou']"
      ],
      "id": "27359aa8"
    },
    {
      "cell_type": "code",
      "execution_count": 61,
      "metadata": {
        "id": "cd919767"
      },
      "outputs": [],
      "source": [
        "# loc-t2f columns\n",
        "cols = ['loc_ic_t2f_mou_6','loc_ic_t2f_mou_7','loc_ic_t2f_mou_8']\n",
        "data['mean_loc_ic_t2f_mou'] = round(data[cols].mean(axis=1),2)\n",
        "\n",
        "cols = ['loc_og_t2f_mou_6','loc_og_t2f_mou_7','loc_og_t2f_mou_8']\n",
        "data['mean_loc_og_t2f_mou'] = round(data[cols].mean(axis=1),2)\n",
        "\n",
        "data['mean_loc_t2f_mou'] = data['mean_loc_ic_t2f_mou'] + data['mean_loc_og_t2f_mou']"
      ],
      "id": "cd919767"
    },
    {
      "cell_type": "code",
      "execution_count": 62,
      "metadata": {
        "id": "3c02cda3"
      },
      "outputs": [],
      "source": [
        "# loc-t2c columns\n",
        "cols = ['loc_og_t2c_mou_6','loc_og_t2c_mou_7','loc_og_t2c_mou_8']\n",
        "data['mean_loc_og_t2c_mou'] = round(data[cols].mean(axis=1),2)"
      ],
      "id": "3c02cda3"
    },
    {
      "cell_type": "code",
      "execution_count": 63,
      "metadata": {
        "id": "7e60ab10"
      },
      "outputs": [],
      "source": [
        "# std-t2m columns\n",
        "cols = ['std_ic_t2m_mou_6','std_ic_t2m_mou_7','std_ic_t2m_mou_8']\n",
        "data['mean_std_ic_t2m_mou'] = round(data[cols].mean(axis=1),2)\n",
        "\n",
        "cols = ['std_og_t2m_mou_6','std_og_t2m_mou_7','std_og_t2m_mou_8']\n",
        "data['mean_std_og_t2m_mou'] = round(data[cols].mean(axis=1),2)\n",
        "\n",
        "data['mean_std_t2m_mou'] = data['mean_std_ic_t2m_mou'] + data['mean_std_og_t2m_mou']"
      ],
      "id": "7e60ab10"
    },
    {
      "cell_type": "code",
      "execution_count": 64,
      "metadata": {
        "id": "bfdad7af"
      },
      "outputs": [],
      "source": [
        "# std-t2f columns\n",
        "cols = ['std_ic_t2f_mou_6','std_ic_t2f_mou_7','std_ic_t2f_mou_8']\n",
        "data['mean_std_ic_t2f_mou'] = round(data[cols].mean(axis=1),2)\n",
        "\n",
        "cols = ['std_og_t2f_mou_6','std_og_t2f_mou_7','std_og_t2f_mou_8']\n",
        "data['mean_std_og_t2f_mou'] = round(data[cols].mean(axis=1),2)\n",
        "\n",
        "data['mean_std_t2f_mou'] = data['mean_std_ic_t2f_mou'] + data['mean_std_og_t2f_mou']"
      ],
      "id": "bfdad7af"
    },
    {
      "cell_type": "code",
      "execution_count": 65,
      "metadata": {
        "id": "b9aa802b"
      },
      "outputs": [],
      "source": [
        "# loc columns\n",
        "cols = ['loc_ic_mou_6','loc_ic_mou_7','loc_ic_mou_8']\n",
        "data['mean_loc_ic_mou'] = round(data[cols].mean(axis=1),2)\n",
        "\n",
        "cols = ['loc_og_mou_6','loc_og_mou_7','loc_og_mou_8']\n",
        "data['mean_loc_og_mou'] = round(data[cols].mean(axis=1),2)\n",
        "\n",
        "data['mean_loc_mou'] = data['mean_loc_ic_mou'] + data['mean_loc_og_mou']"
      ],
      "id": "b9aa802b"
    },
    {
      "cell_type": "code",
      "execution_count": 66,
      "metadata": {
        "id": "80fff430"
      },
      "outputs": [],
      "source": [
        "# std columns\n",
        "cols = ['std_ic_mou_6','std_ic_mou_7','std_ic_mou_8']\n",
        "data['mean_std_ic_mou'] = round(data[cols].mean(axis=1),2)\n",
        "\n",
        "cols = ['std_og_mou_6','std_og_mou_7','std_og_mou_8']\n",
        "data['mean_std_og_mou'] = round(data[cols].mean(axis=1),2)\n",
        "\n",
        "data['mean_std_mou'] = data['mean_std_ic_mou'] + data['mean_std_og_mou']"
      ],
      "id": "80fff430"
    },
    {
      "cell_type": "code",
      "execution_count": 67,
      "metadata": {
        "id": "0d02e2e3"
      },
      "outputs": [],
      "source": [
        "# isd columns\n",
        "cols = ['isd_ic_mou_6','isd_ic_mou_7','isd_ic_mou_8']\n",
        "data['mean_isd_ic_mou'] = round(data[cols].mean(axis=1),2)\n",
        "\n",
        "cols = ['isd_og_mou_6','isd_og_mou_7','isd_og_mou_8']\n",
        "data['mean_isd_og_mou'] = round(data[cols].mean(axis=1),2)\n",
        "\n",
        "data['mean_isd_mou'] = data['mean_isd_ic_mou'] + data['mean_isd_og_mou']\n"
      ],
      "id": "0d02e2e3"
    },
    {
      "cell_type": "code",
      "execution_count": 68,
      "metadata": {
        "id": "caa70123"
      },
      "outputs": [],
      "source": [
        "# spl columns\n",
        "cols = ['spl_ic_mou_6','spl_ic_mou_7','spl_ic_mou_8']\n",
        "data['mean_spl_ic_mou'] = round(data[cols].mean(axis=1),2)\n",
        "\n",
        "cols = ['spl_og_mou_6','spl_og_mou_7','spl_og_mou_8']\n",
        "data['mean_spl_og_mou'] = round(data[cols].mean(axis=1),2)\n",
        "\n",
        "data['mean_spl_mou'] = data['mean_spl_ic_mou'] + data['mean_spl_og_mou']"
      ],
      "id": "caa70123"
    },
    {
      "cell_type": "code",
      "execution_count": 69,
      "metadata": {
        "id": "b1ecb968"
      },
      "outputs": [],
      "source": [
        "# spl columns\n",
        "cols = ['spl_ic_mou_6','spl_ic_mou_7','spl_ic_mou_8']\n",
        "data['mean_spl_ic_mou'] = round(data[cols].mean(axis=1),2)\n",
        "\n",
        "cols = ['spl_og_mou_6','spl_og_mou_7','spl_og_mou_8']\n",
        "data['mean_spl_og_mou'] = round(data[cols].mean(axis=1),2)\n",
        "\n",
        "data['mean_spl_mou'] = data['mean_spl_ic_mou'] + data['mean_spl_og_mou']"
      ],
      "id": "b1ecb968"
    },
    {
      "cell_type": "code",
      "execution_count": 70,
      "metadata": {
        "id": "e918fbb8"
      },
      "outputs": [],
      "source": [
        "# total columns\n",
        "cols = ['total_ic_mou_6','total_ic_mou_7','total_ic_mou_8']\n",
        "data['mean_total_ic_mou'] = round(data[cols].mean(axis=1),2)\n",
        "# Weightage for ic for the last 3 months\n",
        "df = data[cols].astype(bool)\n",
        "data['total_ic_weightage'] = ( df['total_ic_mou_6'] * 1 ) + ( df['total_ic_mou_7'] * 10 ) + ( df['total_ic_mou_8'] * 100 )\n",
        "\n",
        "cols = ['total_og_mou_6','total_og_mou_7','total_og_mou_8']\n",
        "data['mean_total_og_mou'] = round(data[cols].mean(axis=1),2)\n",
        "# Weightage for og for the last 3 months\n",
        "df = data[cols].astype(bool)\n",
        "data['total_og_weightage'] = ( df['total_og_mou_6'] * 1 ) + ( df['total_og_mou_7'] * 10 ) + ( df['total_og_mou_8'] * 100 )\n",
        "\n",
        "data['mean_total_mou'] = data['mean_total_ic_mou'] + data['mean_total_og_mou']\n",
        "\n",
        "data['mean_total_mou_6'] = round(data[['total_ic_mou_6','total_og_mou_6']].mean(axis=1),2)\n",
        "data['mean_total_mou_7'] = round(data[['total_ic_mou_7','total_og_mou_7']].mean(axis=1),2)\n",
        "data['mean_total_mou_8'] = round(data[['total_ic_mou_8','total_og_mou_8']].mean(axis=1),2)"
      ],
      "id": "e918fbb8"
    },
    {
      "cell_type": "markdown",
      "metadata": {
        "id": "5f8febd7"
      },
      "source": [
        "# Numeric Columns - Recharge\n"
      ],
      "id": "5f8febd7"
    },
    {
      "cell_type": "code",
      "execution_count": 71,
      "metadata": {
        "id": "2ec3e22b"
      },
      "outputs": [],
      "source": [
        "# total_rech_num columns\n",
        "cols = ['total_rech_num_6','total_rech_num_7','total_rech_num_8']\n",
        "# mean of total recharge number\n",
        "data['mean_total_rech_num'] = round(data[cols].mean(axis=1),2)\n",
        "# Minimum of total recharge number\n",
        "data['min_total_rech_num'] = data[cols].min(axis=1)\n",
        "# Maximum of total recharge number\n",
        "data['max_total_rech_num'] = data[cols].max(axis=1)"
      ],
      "id": "2ec3e22b"
    },
    {
      "cell_type": "code",
      "execution_count": 72,
      "metadata": {
        "id": "e49ae0e2"
      },
      "outputs": [],
      "source": [
        "\n",
        "#total_rech_amt columns\n",
        "\n",
        "cols = ['total_rech_amt_6','total_rech_amt_7','total_rech_amt_8']\n",
        "data['mean_total_rech_amt'] = round(data[cols].mean(axis=1),2)\n",
        "data['min_total_rech_amt'] = data[cols].min(axis=1)\n",
        "data['max_total_rech_amt'] = data[cols].max(axis=1)"
      ],
      "id": "e49ae0e2"
    },
    {
      "cell_type": "code",
      "execution_count": 73,
      "metadata": {
        "id": "9a787481"
      },
      "outputs": [],
      "source": [
        "# max_rech_amt columns\n",
        "cols = ['max_rech_amt_6','max_rech_amt_7','max_rech_amt_8']\n",
        "data['mean_max_rech_amt'] = round(data[cols].mean(axis=1),2)\n",
        "\n",
        "# last_day_rch_amt columns\n",
        "cols = ['last_day_rch_amt_6','last_day_rch_amt_7','last_day_rch_amt_8']\n",
        "data['mean_last_day_rch_amt'] = round(data[cols].mean(axis=1),2)"
      ],
      "id": "9a787481"
    },
    {
      "cell_type": "code",
      "execution_count": 74,
      "metadata": {
        "id": "ea818200"
      },
      "outputs": [],
      "source": [
        "# total_rech_data columns\n",
        "cols = ['total_rech_data_6','total_rech_data_7','total_rech_data_8']\n",
        "data['mean_total_rech_data'] = round(data[cols].mean(axis=1),2)\n",
        "data['min_total_rech_data'] = data[cols].min(axis=1)\n",
        "data['max_total_rech_data'] = data[cols].max(axis=1)"
      ],
      "id": "ea818200"
    },
    {
      "cell_type": "code",
      "execution_count": 75,
      "metadata": {
        "id": "077ea921"
      },
      "outputs": [],
      "source": [
        "# total_rech_amt_data columns\n",
        "cols = ['total_rech_data_6','total_rech_data_7','total_rech_data_8']\n",
        "data['mean_total_rech_amt_data'] = round(data[cols].mean(axis=1),2)\n",
        "data['min_total_rech_amt_data'] = data[cols].min(axis=1)\n",
        "data['max_total_rech_amt_data'] = data[cols].max(axis=1)"
      ],
      "id": "077ea921"
    },
    {
      "cell_type": "code",
      "execution_count": 76,
      "metadata": {
        "id": "cb5a1d7e"
      },
      "outputs": [],
      "source": [
        "# total_rech_voice columns\n",
        "data['mean_total_rech_voice'] = data['mean_total_rech_num'] - data['mean_total_rech_data']\n",
        "data['min_total_rech_voice'] = data['min_total_rech_num'] - data['min_total_rech_data']\n",
        "data['max_total_rech_voice'] = data['max_total_rech_num'] - data['max_total_rech_data']"
      ],
      "id": "cb5a1d7e"
    },
    {
      "cell_type": "code",
      "execution_count": 77,
      "metadata": {
        "id": "5115f98e"
      },
      "outputs": [],
      "source": [
        "# total_rech_amt_voice columns\n",
        "data['mean_total_rech_amt_voice'] = data['mean_total_rech_amt'] - data['mean_total_rech_amt_data']\n",
        "data['min_total_rech_amt_voice'] = data['min_total_rech_amt'] - data['min_total_rech_amt_data']\n",
        "data['max_total_rech_amt_voice'] = data['max_total_rech_amt'] - data['max_total_rech_amt_data']"
      ],
      "id": "5115f98e"
    },
    {
      "cell_type": "code",
      "execution_count": 78,
      "metadata": {
        "id": "1264b2fa"
      },
      "outputs": [],
      "source": [
        "# max_rech_data columns\n",
        "cols = ['max_rech_data_6','max_rech_data_7','max_rech_data_8']\n",
        "data['mean_max_rech_data'] = round(data[cols].mean(axis=1),2)\n",
        "\n",
        "# count_rech_2g columns\n",
        "cols = ['count_rech_2g_6','count_rech_2g_7','count_rech_2g_8']\n",
        "data['mean_count_rech_2g'] = round(data[cols].mean(axis=1),2)\n",
        "\n",
        "# count_rech_3g columns\n",
        "cols = ['count_rech_3g_6','count_rech_3g_7','count_rech_3g_8']\n",
        "data['mean_count_rech_3g'] = round(data[cols].mean(axis=1),2)"
      ],
      "id": "1264b2fa"
    },
    {
      "cell_type": "code",
      "execution_count": 79,
      "metadata": {
        "id": "28c1b7d5"
      },
      "outputs": [],
      "source": [
        "#get recharge num weightage for the last three months\n",
        "cols = ['total_rech_num_6','total_rech_num_7','total_rech_num_8']\n",
        "df = data[cols].astype(bool)\n",
        "data['rech_num_weightage'] = ( df['total_rech_num_6'] * 1 ) + ( df['total_rech_num_7'] * 10 ) + ( df['total_rech_num_8'] * 100 )"
      ],
      "id": "28c1b7d5"
    },
    {
      "cell_type": "code",
      "execution_count": 80,
      "metadata": {
        "id": "df038b20"
      },
      "outputs": [],
      "source": [
        "#get recharge amount weightage for the last three months\n",
        "cols = ['total_rech_amt_6','total_rech_amt_7','total_rech_amt_8']\n",
        "df = data[cols].astype(bool)\n",
        "data['rech_amt_weightage'] = ( df['total_rech_amt_6'] * 1 ) + ( df['total_rech_amt_7'] * 10 ) + ( df['total_rech_amt_8'] * 100 )"
      ],
      "id": "df038b20"
    },
    {
      "cell_type": "code",
      "execution_count": 81,
      "metadata": {
        "id": "89e31f03"
      },
      "outputs": [],
      "source": [
        "# arpu columns\n",
        "# ARPU = Total Revenue / Average Subscribers\n",
        "cols = ['arpu_6','arpu_7','arpu_8']\n",
        "data['mean_arpu'] = round(data[cols].mean(axis=1),2)\n",
        "\n",
        "cols = ['arpu_2g_6','arpu_2g_7','arpu_2g_8']\n",
        "data['mean_arpu_2g_data'] = round(data[cols].mean(axis=1),2)\n",
        "\n",
        "cols = ['arpu_3g_6','arpu_3g_7','arpu_3g_8']\n",
        "data['mean_arpu_3g_data'] = round(data[cols].mean(axis=1),2)\n",
        "\n",
        "cols = ['vol_2g_mb_6','vol_2g_mb_7','vol_2g_mb_8']\n",
        "data['mean_vol_2g_mb_data'] = round(data[cols].mean(axis=1),2)\n",
        "\n",
        "cols = ['vol_3g_mb_6','vol_3g_mb_7','vol_3g_mb_8']\n",
        "data['mean_vol_3g_mb_data'] = round(data[cols].mean(axis=1),2)\n"
      ],
      "id": "89e31f03"
    },
    {
      "cell_type": "code",
      "execution_count": 82,
      "metadata": {
        "id": "01614797"
      },
      "outputs": [],
      "source": [
        "#get night_pck_user weightage for the last three months\n",
        "cols = ['night_pck_user_6','night_pck_user_7','night_pck_user_8']\n",
        "data['night_pck_weightage'] = ( data['night_pck_user_6'] * 1 ) + ( data['night_pck_user_7'] * 10 ) + ( data['night_pck_user_8'] * 100 )"
      ],
      "id": "01614797"
    },
    {
      "cell_type": "code",
      "execution_count": 83,
      "metadata": {
        "id": "90fc6415"
      },
      "outputs": [],
      "source": [
        "#get fb_user weightage for the last three months\n",
        "cols = ['fb_user_6','fb_user_7','fb_user_8']\n",
        "data['fb_user_weightage'] = ( data['fb_user_6'] * 1 ) + ( data['fb_user_7'] * 10 ) + ( data['fb_user_8'] * 100 )"
      ],
      "id": "90fc6415"
    },
    {
      "cell_type": "code",
      "execution_count": 84,
      "metadata": {
        "id": "1dca944c"
      },
      "outputs": [],
      "source": [
        "#get vbc mean for the last three months\n",
        "cols = ['jun_vbc_3g','jul_vbc_3g','aug_vbc_3g']\n",
        "data['mean_vbc_3g'] = round(data[cols].mean(axis=1),2)"
      ],
      "id": "1dca944c"
    },
    {
      "cell_type": "code",
      "execution_count": 85,
      "metadata": {
        "id": "2f589467"
      },
      "outputs": [],
      "source": [
        "#get monthly pack weightage for the last three months\n",
        "data['monthly_2g_weightage'] = ( data['monthly_2g_6'] * 1 ) + ( data['monthly_2g_7'] * 10 ) + ( data['monthly_2g_8'] * 100 )\n",
        "data['monthly_3g_weightage'] = ( data['monthly_3g_6'] * 1 ) + ( data['monthly_3g_7'] * 10 ) + ( data['monthly_3g_8'] * 100 )\n",
        "\n",
        "#get sachet pack weightage for the last three months\n",
        "data['sachet_2g_weightage'] = ( data['sachet_2g_6'] * 1 ) + ( data['sachet_2g_7'] * 10 ) + ( data['sachet_2g_8'] * 100 )\n",
        "data['sachet_3g_weightage'] = ( data['sachet_3g_6'] * 1 ) + ( data['sachet_3g_7'] * 10 ) + ( data['sachet_3g_8'] * 100 )"
      ],
      "id": "2f589467"
    },
    {
      "cell_type": "markdown",
      "metadata": {
        "id": "1c2c63ce"
      },
      "source": [
        "# MODEL1 CUSTOMER CHURN PREDICTION"
      ],
      "id": "1c2c63ce"
    },
    {
      "cell_type": "markdown",
      "metadata": {
        "id": "3e42ea71"
      },
      "source": [
        "# Feature Selection and Dimensionality Reuction Using PCA"
      ],
      "id": "3e42ea71"
    },
    {
      "cell_type": "code",
      "execution_count": 86,
      "metadata": {
        "id": "ad7407e9"
      },
      "outputs": [],
      "source": [
        "#copy of dataframe\n",
        "master_df=data.copy()"
      ],
      "id": "ad7407e9"
    },
    {
      "cell_type": "markdown",
      "metadata": {
        "id": "21c0152d"
      },
      "source": [
        "seperating the category columns for encoding"
      ],
      "id": "21c0152d"
    },
    {
      "cell_type": "code",
      "execution_count": 87,
      "metadata": {
        "id": "43cfc146"
      },
      "outputs": [],
      "source": [
        "# prepare the dataset\n",
        "#seperating the target variable\n",
        "churn = data['churn']\n",
        "data = data.drop('churn', axis=1)\n",
        "\n",
        "#split the columns into category and numerical\n",
        "cat_cols = ['night_pck_user_6','monthly_2g_6','sachet_2g_6','monthly_3g_6','sachet_3g_6','fb_user_6',\n",
        "            'night_pck_user_7','monthly_2g_7','sachet_2g_7','monthly_3g_7','sachet_3g_7','fb_user_7',\n",
        "            'night_pck_user_8','monthly_2g_8','sachet_2g_8','monthly_3g_8','sachet_3g_8','fb_user_8'] \n",
        "\n",
        "num_cols = list(set(data.columns).difference(set(cat_cols)))"
      ],
      "id": "43cfc146"
    },
    {
      "cell_type": "code",
      "execution_count": 88,
      "metadata": {
        "id": "422b4192"
      },
      "outputs": [],
      "source": [
        "# dummy encode the categorical columns\n",
        "data = pd.concat([data,pd.get_dummies(data[cat_cols], drop_first=True)], axis=1)\n",
        "\n",
        "# drop the original columns\n",
        "data.drop(cat_cols, axis=1, inplace=True)"
      ],
      "id": "422b4192"
    },
    {
      "cell_type": "code",
      "execution_count": 89,
      "metadata": {
        "id": "c268050b"
      },
      "outputs": [],
      "source": [
        "from sklearn.preprocessing import FunctionTransformer\n",
        "from sklearn.compose import ColumnTransformer"
      ],
      "id": "c268050b"
    },
    {
      "cell_type": "markdown",
      "metadata": {
        "id": "77905071"
      },
      "source": [
        "log transform is a function transformer.\n",
        "In log transform,log is taken on each every data element.log cant be taken for negative values.log transformation applied on right skewed data i.e. positively skewed  data will make the data at centre that means it will try to normalize the data.log transofrm will try to convert the additive scale to multiplicative scale.\n",
        "\n",
        "As data is right skewed Hence we are using satandard scalar so that mean=0 and sd=1"
      ],
      "id": "77905071"
    },
    {
      "cell_type": "code",
      "execution_count": 90,
      "metadata": {
        "id": "03c133c2"
      },
      "outputs": [],
      "source": [
        "data[num_cols] = np.log((10000 + data[num_cols]))\n",
        "data = np.log((10000 + data))"
      ],
      "id": "03c133c2"
    },
    {
      "cell_type": "markdown",
      "metadata": {
        "id": "4babd44b"
      },
      "source": [
        "standard scalar includes the mean centring and scaling by the factor of standard deviation\n",
        "mean=0 and sd=1"
      ],
      "id": "4babd44b"
    },
    {
      "cell_type": "code",
      "execution_count": 91,
      "metadata": {
        "id": "2d9e0cd8"
      },
      "outputs": [],
      "source": [
        "from sklearn.preprocessing import StandardScaler\n",
        "\n",
        "scaler = StandardScaler()\n",
        "\n",
        "# fit the scaler to the train set, it will learn the parameters\n",
        "scaler.fit(data)\n",
        "\n",
        "# transform train and test sets\n",
        "data_scaled = scaler.transform(data)\n"
      ],
      "id": "2d9e0cd8"
    },
    {
      "cell_type": "code",
      "execution_count": 92,
      "metadata": {
        "colab": {
          "base_uri": "https://localhost:8080/",
          "height": 50
        },
        "id": "23492e71",
        "outputId": "2c5c0e5d-e244-4308-8999-a8af24e8baa6"
      },
      "outputs": [
        {
          "output_type": "execute_result",
          "data": {
            "text/plain": [
              "Empty DataFrame\n",
              "Columns: [index, missing_cnt]\n",
              "Index: []"
            ],
            "text/html": [
              "\n",
              "  <div id=\"df-cc16c5d0-052f-4597-a85c-d1b999088071\">\n",
              "    <div class=\"colab-df-container\">\n",
              "      <div>\n",
              "<style scoped>\n",
              "    .dataframe tbody tr th:only-of-type {\n",
              "        vertical-align: middle;\n",
              "    }\n",
              "\n",
              "    .dataframe tbody tr th {\n",
              "        vertical-align: top;\n",
              "    }\n",
              "\n",
              "    .dataframe thead th {\n",
              "        text-align: right;\n",
              "    }\n",
              "</style>\n",
              "<table border=\"1\" class=\"dataframe\">\n",
              "  <thead>\n",
              "    <tr style=\"text-align: right;\">\n",
              "      <th></th>\n",
              "      <th>index</th>\n",
              "      <th>missing_cnt</th>\n",
              "    </tr>\n",
              "  </thead>\n",
              "  <tbody>\n",
              "  </tbody>\n",
              "</table>\n",
              "</div>\n",
              "      <button class=\"colab-df-convert\" onclick=\"convertToInteractive('df-cc16c5d0-052f-4597-a85c-d1b999088071')\"\n",
              "              title=\"Convert this dataframe to an interactive table.\"\n",
              "              style=\"display:none;\">\n",
              "        \n",
              "  <svg xmlns=\"http://www.w3.org/2000/svg\" height=\"24px\"viewBox=\"0 0 24 24\"\n",
              "       width=\"24px\">\n",
              "    <path d=\"M0 0h24v24H0V0z\" fill=\"none\"/>\n",
              "    <path d=\"M18.56 5.44l.94 2.06.94-2.06 2.06-.94-2.06-.94-.94-2.06-.94 2.06-2.06.94zm-11 1L8.5 8.5l.94-2.06 2.06-.94-2.06-.94L8.5 2.5l-.94 2.06-2.06.94zm10 10l.94 2.06.94-2.06 2.06-.94-2.06-.94-.94-2.06-.94 2.06-2.06.94z\"/><path d=\"M17.41 7.96l-1.37-1.37c-.4-.4-.92-.59-1.43-.59-.52 0-1.04.2-1.43.59L10.3 9.45l-7.72 7.72c-.78.78-.78 2.05 0 2.83L4 21.41c.39.39.9.59 1.41.59.51 0 1.02-.2 1.41-.59l7.78-7.78 2.81-2.81c.8-.78.8-2.07 0-2.86zM5.41 20L4 18.59l7.72-7.72 1.47 1.35L5.41 20z\"/>\n",
              "  </svg>\n",
              "      </button>\n",
              "      \n",
              "  <style>\n",
              "    .colab-df-container {\n",
              "      display:flex;\n",
              "      flex-wrap:wrap;\n",
              "      gap: 12px;\n",
              "    }\n",
              "\n",
              "    .colab-df-convert {\n",
              "      background-color: #E8F0FE;\n",
              "      border: none;\n",
              "      border-radius: 50%;\n",
              "      cursor: pointer;\n",
              "      display: none;\n",
              "      fill: #1967D2;\n",
              "      height: 32px;\n",
              "      padding: 0 0 0 0;\n",
              "      width: 32px;\n",
              "    }\n",
              "\n",
              "    .colab-df-convert:hover {\n",
              "      background-color: #E2EBFA;\n",
              "      box-shadow: 0px 1px 2px rgba(60, 64, 67, 0.3), 0px 1px 3px 1px rgba(60, 64, 67, 0.15);\n",
              "      fill: #174EA6;\n",
              "    }\n",
              "\n",
              "    [theme=dark] .colab-df-convert {\n",
              "      background-color: #3B4455;\n",
              "      fill: #D2E3FC;\n",
              "    }\n",
              "\n",
              "    [theme=dark] .colab-df-convert:hover {\n",
              "      background-color: #434B5C;\n",
              "      box-shadow: 0px 1px 3px 1px rgba(0, 0, 0, 0.15);\n",
              "      filter: drop-shadow(0px 1px 2px rgba(0, 0, 0, 0.3));\n",
              "      fill: #FFFFFF;\n",
              "    }\n",
              "  </style>\n",
              "\n",
              "      <script>\n",
              "        const buttonEl =\n",
              "          document.querySelector('#df-cc16c5d0-052f-4597-a85c-d1b999088071 button.colab-df-convert');\n",
              "        buttonEl.style.display =\n",
              "          google.colab.kernel.accessAllowed ? 'block' : 'none';\n",
              "\n",
              "        async function convertToInteractive(key) {\n",
              "          const element = document.querySelector('#df-cc16c5d0-052f-4597-a85c-d1b999088071');\n",
              "          const dataTable =\n",
              "            await google.colab.kernel.invokeFunction('convertToInteractive',\n",
              "                                                     [key], {});\n",
              "          if (!dataTable) return;\n",
              "\n",
              "          const docLinkHtml = 'Like what you see? Visit the ' +\n",
              "            '<a target=\"_blank\" href=https://colab.research.google.com/notebooks/data_table.ipynb>data table notebook</a>'\n",
              "            + ' to learn more about interactive tables.';\n",
              "          element.innerHTML = '';\n",
              "          dataTable['output_type'] = 'display_data';\n",
              "          await google.colab.output.renderOutput(dataTable, element);\n",
              "          const docLink = document.createElement('div');\n",
              "          docLink.innerHTML = docLinkHtml;\n",
              "          element.appendChild(docLink);\n",
              "        }\n",
              "      </script>\n",
              "    </div>\n",
              "  </div>\n",
              "  "
            ]
          },
          "metadata": {},
          "execution_count": 92
        }
      ],
      "source": [
        "# Check for missing values count\n",
        "#data = data.replace([np.inf, -np.inf], np.nan)\n",
        "df = data.isnull().sum().reset_index(name='missing_cnt')\n",
        "df.loc[df['missing_cnt']>0].sort_values('missing_cnt', ascending=False)"
      ],
      "id": "23492e71"
    },
    {
      "cell_type": "markdown",
      "metadata": {
        "id": "e8505702"
      },
      "source": [
        "# AS WE KNOW THAT THERE IS CLASS IMBALANCE IN OUR DATA HENCE TO HANDLE CLASS IMBALANCING USING SMOTE OR ADASYN"
      ],
      "id": "e8505702"
    },
    {
      "cell_type": "code",
      "execution_count": 93,
      "metadata": {
        "colab": {
          "base_uri": "https://localhost:8080/"
        },
        "id": "6b01ac3b",
        "outputId": "b6d4ec19-4728-43e8-b186-512a9df4f7f3"
      },
      "outputs": [
        {
          "output_type": "stream",
          "name": "stdout",
          "text": [
            "Requirement already satisfied: imbalanced-learn in /usr/local/lib/python3.7/dist-packages (0.8.1)\n",
            "Requirement already satisfied: joblib>=0.11 in /usr/local/lib/python3.7/dist-packages (from imbalanced-learn) (1.1.0)\n",
            "Requirement already satisfied: scipy>=0.19.1 in /usr/local/lib/python3.7/dist-packages (from imbalanced-learn) (1.4.1)\n",
            "Requirement already satisfied: scikit-learn>=0.24 in /usr/local/lib/python3.7/dist-packages (from imbalanced-learn) (1.0.2)\n",
            "Requirement already satisfied: numpy>=1.13.3 in /usr/local/lib/python3.7/dist-packages (from imbalanced-learn) (1.21.5)\n",
            "Requirement already satisfied: threadpoolctl>=2.0.0 in /usr/local/lib/python3.7/dist-packages (from scikit-learn>=0.24->imbalanced-learn) (3.1.0)\n"
          ]
        }
      ],
      "source": [
        "#install to handle class imbalance\n",
        "\n",
        "!pip install imbalanced-learn\n"
      ],
      "id": "6b01ac3b"
    },
    {
      "cell_type": "markdown",
      "metadata": {
        "id": "5d3e2043"
      },
      "source": [
        "Imbalance data can result in the biased predictions.Therfore,analysis is done by remove this imbalancing from the datasets.\n",
        "\n",
        "Methods to handle class imabalance are:\n",
        "1.)Under Sampling\n",
        "2.)Over Sampling\n",
        "     i)SMOTE---SYTHETIC MINORITY OVER SAMPLING TECHNIQUE\n",
        "     ii)ADASYN: Adaptive Synthetic Sampling Approach for Imbalanced Learning.\n",
        "\n",
        "WE WILL PREFER ADASYN AS SMOTE INTRODUCES MORE NOISE TO THE DATASETS"
      ],
      "id": "5d3e2043"
    },
    {
      "cell_type": "code",
      "execution_count": 94,
      "metadata": {
        "id": "28a70d1d"
      },
      "outputs": [],
      "source": [
        "from collections import Counter\n",
        "from imblearn.over_sampling import SMOTE, ADASYN"
      ],
      "id": "28a70d1d"
    },
    {
      "cell_type": "code",
      "execution_count": 95,
      "metadata": {
        "colab": {
          "base_uri": "https://localhost:8080/"
        },
        "id": "f1158b2b",
        "outputId": "38ca9096-75b8-4f59-dbfd-0f9c26c9deb9"
      },
      "outputs": [
        {
          "output_type": "stream",
          "name": "stdout",
          "text": [
            "Class Balance count :  Counter({0: 89808, 1: 87346})\n"
          ]
        }
      ],
      "source": [
        "X = data\n",
        "Y = churn\n",
        "\n",
        "#smote = SMOTE(random_state=RANDOM_STATE, ratio=1.0)\n",
        "#X, Y = smote.fit_sample(X, Y)\n",
        "\n",
        "adasyn = ADASYN(random_state=RANDOM_STATE)\n",
        "X, Y = adasyn.fit_resample(X, Y)\n",
        "\n",
        "print('Class Balance count : ',Counter(Y))"
      ],
      "id": "f1158b2b"
    },
    {
      "cell_type": "markdown",
      "metadata": {
        "id": "5fa7f171"
      },
      "source": [
        "class in balanced now,we can do the train test split"
      ],
      "id": "5fa7f171"
    },
    {
      "cell_type": "markdown",
      "metadata": {
        "id": "e9f1aabc"
      },
      "source": [
        "# TRAIN TEST SPLIT"
      ],
      "id": "e9f1aabc"
    },
    {
      "cell_type": "code",
      "execution_count": 96,
      "metadata": {
        "colab": {
          "base_uri": "https://localhost:8080/"
        },
        "id": "47913f03",
        "outputId": "67348f57-6507-47d5-a271-d4d5e5a4fef7"
      },
      "outputs": [
        {
          "output_type": "stream",
          "name": "stdout",
          "text": [
            "(124007, 219) (124007,)\n",
            "(53147, 219) (53147,)\n"
          ]
        }
      ],
      "source": [
        "X_train, X_test, Y_train, Y_test = train_test_split(X,Y, test_size=0.3, random_state=RANDOM_STATE)\n",
        "print(X_train.shape, Y_train.shape)\n",
        "print(X_test.shape, Y_test.shape)"
      ],
      "id": "47913f03"
    },
    {
      "cell_type": "markdown",
      "metadata": {
        "id": "f1a6b052"
      },
      "source": [
        "# PCA(FOR DIMENSIONALITY REDUCTION)"
      ],
      "id": "f1a6b052"
    },
    {
      "cell_type": "markdown",
      "metadata": {
        "id": "486fd058"
      },
      "source": [
        "Let's apply PCA on the training dataset for dimensionality reduction and feature selection.\n",
        "SVD is another decomposition method for both real and complex matrices. It decomposes a matrix into the product of two unitary matrices (U, V*) and a rectangular diagonal matrix of singular values"
      ],
      "id": "486fd058"
    },
    {
      "cell_type": "code",
      "execution_count": 97,
      "metadata": {
        "colab": {
          "base_uri": "https://localhost:8080/"
        },
        "id": "c9d642cb",
        "outputId": "6e5ee9dc-422c-4500-fcf8-48ced648a000"
      },
      "outputs": [
        {
          "output_type": "execute_result",
          "data": {
            "text/plain": [
              "PCA(random_state=42, svd_solver='randomized')"
            ]
          },
          "metadata": {},
          "execution_count": 97
        }
      ],
      "source": [
        "#initialize the pca with randomized\n",
        "pca = PCA(svd_solver='randomized', random_state=RANDOM_STATE)\n",
        "# fit the training dataset\n",
        "pca.fit(X_train)"
      ],
      "id": "c9d642cb"
    },
    {
      "cell_type": "markdown",
      "metadata": {
        "id": "4cb2a9dc"
      },
      "source": [
        "Draw the screeplot for the PCA components and pick the right number of PC components to build the model\n",
        "explained_variance_ratio_ method of PCA is used to get the ration of variance (eigenvalue / total eigenvalues) "
      ],
      "id": "4cb2a9dc"
    },
    {
      "cell_type": "code",
      "execution_count": 98,
      "metadata": {
        "colab": {
          "base_uri": "https://localhost:8080/",
          "height": 334
        },
        "id": "bfc07ed0",
        "outputId": "b300dcec-e87c-4b37-faeb-0d98c1250d1e"
      },
      "outputs": [
        {
          "output_type": "display_data",
          "data": {
            "text/plain": [
              "<Figure size 360x360 with 1 Axes>"
            ],
            "image/png": "[encoded data removed]"
          },
          "metadata": {
            "needs_background": "light"
          }
        }
      ],
      "source": [
        "#Screeplot for the PCA components\n",
        "%matplotlib inline\n",
        "fig = plt.figure(figsize = (5,5))\n",
        "plt.plot(np.cumsum(pca.explained_variance_ratio_))\n",
        "plt.xlabel('number of components')\n",
        "plt.ylabel('cumulative explained variance')\n",
        "plt.show()\n"
      ],
      "id": "bfc07ed0"
    },
    {
      "cell_type": "markdown",
      "metadata": {
        "id": "b746b9c3"
      },
      "source": [
        "There is more  variations in 50 features.So,These are used as principal components."
      ],
      "id": "b746b9c3"
    },
    {
      "cell_type": "code",
      "execution_count": 99,
      "metadata": {
        "id": "0ffaed16"
      },
      "outputs": [],
      "source": [
        "# Initialize pca with 50 components\n",
        "pca = PCA(n_components=50, random_state=RANDOM_STATE)\n",
        "# fit and transform the training dataset\n",
        "X_train_pca = pca.fit_transform(X_train)\n",
        "# transform the testing dataset\n",
        "X_test_pca = pca.transform(X_test)\n",
        "# fit and transform the whole dataset\n",
        "X_pca = pca.fit_transform(X)"
      ],
      "id": "0ffaed16"
    },
    {
      "cell_type": "markdown",
      "metadata": {
        "id": "c8fdfdc8"
      },
      "source": [
        "# BASELINE MODEL BUILDING"
      ],
      "id": "c8fdfdc8"
    },
    {
      "cell_type": "code",
      "execution_count": 100,
      "metadata": {
        "id": "50f0a198"
      },
      "outputs": [],
      "source": [
        "model_score_list = []\n"
      ],
      "id": "50f0a198"
    },
    {
      "cell_type": "code",
      "execution_count": 101,
      "metadata": {
        "id": "2d838760"
      },
      "outputs": [],
      "source": [
        "'''\n",
        "Method Name : evaluate_model\n",
        "Input(s)    : 2 series\n",
        "Output(s)   : 4 float values  \n",
        "Description :\n",
        "- This method gets 2 series (actual and predicted) as inputs and compute the accuracy, ROC, Precision and Recall scores  \n",
        "- Then returns the computed scores. \n",
        "`'''\n",
        "def evaluate_model(actual, pred):\n",
        "    # Accuracy Score\n",
        "    acc_score = round(accuracy_score(actual, pred)*100,2)\n",
        "    print('Accuracy Score : ',acc_score)\n",
        "    # ROC AUC score\n",
        "    roc_score = round(roc_auc_score(actual, pred)*100,2)\n",
        "    print('ROC AUC score : ',roc_score)\n",
        "    # Precision score\n",
        "    prec_score = round(precision_score(actual, pred)*100,2)\n",
        "    print('Precision score : ', prec_score)\n",
        "    # Recall score\n",
        "    rec_score = round(recall_score(actual, pred)*100,2)\n",
        "    print('Recall score : ', rec_score)\n",
        "    #F1 Score\n",
        "    F1_score=round(f1_score(actual,pred)*100,2)\n",
        "    print('F1 score : ', F1_score)\n",
        "\n",
        "\n",
        "    return acc_score, roc_score, prec_score, rec_score,F1_score\n",
        "    \n"
      ],
      "id": "2d838760"
    },
    {
      "cell_type": "markdown",
      "metadata": {
        "id": "a967ed98"
      },
      "source": [
        "# LOGISTIC REGRESSION\n",
        "Logistic regression models a relationship between predictor variables and a categorical response variable.\n",
        "Logistic regression helps us to estimate a probability of falling into a certain level of the categorical response given a set of predictors."
      ],
      "id": "a967ed98"
    },
    {
      "cell_type": "code",
      "execution_count": 102,
      "metadata": {
        "colab": {
          "base_uri": "https://localhost:8080/"
        },
        "id": "5baef4a6",
        "outputId": "56c0a0fe-e9cd-45d5-dc0e-421760e249cc",
        "scrolled": true
      },
      "outputs": [
        {
          "output_type": "stream",
          "name": "stdout",
          "text": [
            "Accuracy Score :  67.27\n",
            "ROC AUC score :  67.38\n",
            "Precision score :  63.69\n",
            "Recall score :  78.99\n",
            "F1 score :  70.52\n"
          ]
        }
      ],
      "source": [
        "\n",
        "# Initialize the Logistic regression\n",
        "model = LogisticRegression(class_weight='balanced', random_state=RANDOM_STATE)\n",
        "# fit the pca training data\n",
        "model.fit(X_train_pca, Y_train)\n",
        "# predict the testing pca data\n",
        "Y_pred = model.predict(X_test_pca)\n",
        "\n",
        "# Model evaluation\n",
        "acc_score, roc_score, prec_score, rec_score,F1_score = evaluate_model(Y_test, Y_pred)\n",
        "# add the model scores to score list \n",
        "model_score_list.append({'model_name':'LogisticRegression', 'acc_score':acc_score, 'roc_score':roc_score, 'precision_score':prec_score, 'recall_score':rec_score,'F1_score':F1_score})\n"
      ],
      "id": "5baef4a6"
    },
    {
      "cell_type": "markdown",
      "metadata": {
        "id": "1d215890"
      },
      "source": [
        "# RIDGE CLASSIFIER\n",
        "This classifier first converts the target values into {-1, 1} and then treats the problem as a regression task (multi-output regression in the multiclass case).\n",
        "\n"
      ],
      "id": "1d215890"
    },
    {
      "cell_type": "code",
      "execution_count": 103,
      "metadata": {
        "colab": {
          "base_uri": "https://localhost:8080/"
        },
        "id": "4856eaa8",
        "outputId": "0d37b60b-f83e-42e4-b89f-aee5dcad3f35"
      },
      "outputs": [
        {
          "output_type": "stream",
          "name": "stdout",
          "text": [
            "Accuracy Score :  67.27\n",
            "ROC AUC score :  67.38\n",
            "Precision score :  63.69\n",
            "Recall score :  78.99\n",
            "F1 score :  70.52\n"
          ]
        }
      ],
      "source": [
        "# initialize the Ridge Classifier\n",
        "model = RidgeClassifier(class_weight='balanced', random_state=RANDOM_STATE)\n",
        "# fit the pca training data\n",
        "model.fit(X_train_pca, Y_train)\n",
        "# predict the pca testing data\n",
        "Y_pred = model.predict(X_test_pca)\n",
        "\n",
        "# Model evaluation\n",
        "acc_score, roc_score, prec_score, rec_score,F1_score = evaluate_model(Y_test, Y_pred)\n",
        "# add the model scores to score list\n",
        "model_score_list.append({'model_name':'RidgeClassifier', 'acc_score':acc_score, 'roc_score':roc_score, 'precision_score':prec_score, 'recall_score':rec_score,'F1_score':F1_score})"
      ],
      "id": "4856eaa8"
    },
    {
      "cell_type": "markdown",
      "metadata": {
        "id": "KAgVhEXIABkY"
      },
      "source": [
        "#RandomForestClassifier"
      ],
      "id": "KAgVhEXIABkY"
    },
    {
      "cell_type": "code",
      "execution_count": 104,
      "metadata": {
        "colab": {
          "base_uri": "https://localhost:8080/"
        },
        "id": "IHoRLF2CAAgE",
        "outputId": "2dd5e89d-977a-48e9-9fc4-2763a58c52aa"
      },
      "outputs": [
        {
          "output_type": "stream",
          "name": "stdout",
          "text": [
            "Accuracy Score :  57.69\n",
            "ROC AUC score :  58.06\n",
            "Precision score :  53.97\n",
            "Recall score :  99.27\n",
            "F1 score :  69.93\n"
          ]
        }
      ],
      "source": [
        "# initialize the randomforest\n",
        "model = RandomForestClassifier(class_weight='balanced', random_state=RANDOM_STATE)\n",
        "# fit the pca training data\n",
        "model.fit(X_train_pca, Y_train)\n",
        "# predict the pca testing data\n",
        "Y_pred = model.predict(X_test_pca)\n",
        "\n",
        "# Model evaluation\n",
        "acc_score, roc_score, prec_score, rec_score,F1_score = evaluate_model(Y_test, Y_pred)\n",
        "# add the model scores to score list\n",
        "model_score_list.append({'model_name':'RandomForestClassifier', 'acc_score':acc_score, 'roc_score':roc_score, 'precision_score':prec_score, 'recall_score':rec_score,'F1_score':F1_score})"
      ],
      "id": "IHoRLF2CAAgE"
    },
    {
      "cell_type": "markdown",
      "metadata": {
        "id": "206853f1"
      },
      "source": [
        "# EXTRA TREES\n",
        "Extremely Randomized Trees Classifier(Extra Trees Classifier) is a type of ensemble learning technique which aggregates the results of multiple de-correlated decision trees collected in a “forest” to output it’s classification result. In concept, it is very similar to a Random Forest Classifier and only differs from it in the manner of construction of the decision trees in the forest."
      ],
      "id": "206853f1"
    },
    {
      "cell_type": "code",
      "execution_count": 105,
      "metadata": {
        "colab": {
          "base_uri": "https://localhost:8080/"
        },
        "id": "62099afe",
        "outputId": "2d75e44b-4e2f-4ac5-84bb-36fdb6bf4abd"
      },
      "outputs": [
        {
          "output_type": "stream",
          "name": "stdout",
          "text": [
            "Accuracy Score :  96.03\n",
            "ROC AUC score :  96.04\n",
            "Precision score :  95.56\n",
            "Recall score :  96.48\n",
            "F1 score :  96.02\n"
          ]
        }
      ],
      "source": [
        "# initialize the ExtraTreesClassifier\n",
        "model = ExtraTreesClassifier(class_weight='balanced', random_state=RANDOM_STATE)\n",
        "# fit the pca training data\n",
        "model.fit(X_train_pca, Y_train)\n",
        "# predict the pca testing data\n",
        "Y_pred = model.predict(X_test_pca)\n",
        "\n",
        "# Model evaluation\n",
        "acc_score, roc_score, prec_score, rec_score,F1_score = evaluate_model(Y_test, Y_pred)\n",
        "# add the model scores to score list\n",
        "model_score_list.append({'model_name':'ExtraTreesClassifier', 'acc_score':acc_score, 'roc_score':roc_score, 'precision_score':prec_score, 'recall_score':rec_score,'F1_score':F1_score})\n"
      ],
      "id": "62099afe"
    },
    {
      "cell_type": "markdown",
      "metadata": {
        "id": "6zqLrQ7F5SZo"
      },
      "source": [
        "#XGBoost Classifier"
      ],
      "id": "6zqLrQ7F5SZo"
    },
    {
      "cell_type": "code",
      "execution_count": 106,
      "metadata": {
        "colab": {
          "base_uri": "https://localhost:8080/"
        },
        "id": "obUATPpK5PDj",
        "outputId": "58248a97-805a-415b-82f8-312e81e0b831"
      },
      "outputs": [
        {
          "output_type": "stream",
          "name": "stdout",
          "text": [
            "Accuracy Score :  83.58\n",
            "ROC AUC score :  83.54\n",
            "Precision score :  86.22\n",
            "Recall score :  79.57\n",
            "F1 score :  82.77\n"
          ]
        }
      ],
      "source": [
        "# initialize the XGBoostClassifier\n",
        "model = XGBClassifier(objective='binary:logistic')\n",
        "# fit the pca training data\n",
        "model.fit(X_train_pca, Y_train)\n",
        "# predict the pca testing data\n",
        "Y_pred = model.predict(X_test_pca)\n",
        "\n",
        "# Model evaluation\n",
        "acc_score, roc_score, prec_score, rec_score,F1_score = evaluate_model(Y_test, Y_pred)\n",
        "# add the model scores to score list\n",
        "model_score_list.append({'model_name':'XGBClassifier', 'acc_score':acc_score, 'roc_score':roc_score, 'precision_score':prec_score, 'recall_score':rec_score,'F1_score':F1_score})\n"
      ],
      "id": "obUATPpK5PDj"
    },
    {
      "cell_type": "code",
      "execution_count": 107,
      "metadata": {
        "colab": {
          "base_uri": "https://localhost:8080/",
          "height": 206
        },
        "id": "c4aaa399",
        "outputId": "ef1b1e45-0be0-47af-bce3-61aa22b0540e"
      },
      "outputs": [
        {
          "output_type": "execute_result",
          "data": {
            "text/plain": [
              "               model_name  acc_score  roc_score  precision_score  \\\n",
              "3    ExtraTreesClassifier      96.03      96.04            95.56   \n",
              "4           XGBClassifier      83.58      83.54            86.22   \n",
              "0      LogisticRegression      67.27      67.38            63.69   \n",
              "1         RidgeClassifier      67.27      67.38            63.69   \n",
              "2  RandomForestClassifier      57.69      58.06            53.97   \n",
              "\n",
              "   recall_score  F1_score  \n",
              "3         96.48     96.02  \n",
              "4         79.57     82.77  \n",
              "0         78.99     70.52  \n",
              "1         78.99     70.52  \n",
              "2         99.27     69.93  "
            ],
            "text/html": [
              "\n",
              "  <div id=\"df-e7369fdc-beb3-4fae-969c-078a2507d119\">\n",
              "    <div class=\"colab-df-container\">\n",
              "      <div>\n",
              "<style scoped>\n",
              "    .dataframe tbody tr th:only-of-type {\n",
              "        vertical-align: middle;\n",
              "    }\n",
              "\n",
              "    .dataframe tbody tr th {\n",
              "        vertical-align: top;\n",
              "    }\n",
              "\n",
              "    .dataframe thead th {\n",
              "        text-align: right;\n",
              "    }\n",
              "</style>\n",
              "<table border=\"1\" class=\"dataframe\">\n",
              "  <thead>\n",
              "    <tr style=\"text-align: right;\">\n",
              "      <th></th>\n",
              "      <th>model_name</th>\n",
              "      <th>acc_score</th>\n",
              "      <th>roc_score</th>\n",
              "      <th>precision_score</th>\n",
              "      <th>recall_score</th>\n",
              "      <th>F1_score</th>\n",
              "    </tr>\n",
              "  </thead>\n",
              "  <tbody>\n",
              "    <tr>\n",
              "      <th>3</th>\n",
              "      <td>ExtraTreesClassifier</td>\n",
              "      <td>96.03</td>\n",
              "      <td>96.04</td>\n",
              "      <td>95.56</td>\n",
              "      <td>96.48</td>\n",
              "      <td>96.02</td>\n",
              "    </tr>\n",
              "    <tr>\n",
              "      <th>4</th>\n",
              "      <td>XGBClassifier</td>\n",
              "      <td>83.58</td>\n",
              "      <td>83.54</td>\n",
              "      <td>86.22</td>\n",
              "      <td>79.57</td>\n",
              "      <td>82.77</td>\n",
              "    </tr>\n",
              "    <tr>\n",
              "      <th>0</th>\n",
              "      <td>LogisticRegression</td>\n",
              "      <td>67.27</td>\n",
              "      <td>67.38</td>\n",
              "      <td>63.69</td>\n",
              "      <td>78.99</td>\n",
              "      <td>70.52</td>\n",
              "    </tr>\n",
              "    <tr>\n",
              "      <th>1</th>\n",
              "      <td>RidgeClassifier</td>\n",
              "      <td>67.27</td>\n",
              "      <td>67.38</td>\n",
              "      <td>63.69</td>\n",
              "      <td>78.99</td>\n",
              "      <td>70.52</td>\n",
              "    </tr>\n",
              "    <tr>\n",
              "      <th>2</th>\n",
              "      <td>RandomForestClassifier</td>\n",
              "      <td>57.69</td>\n",
              "      <td>58.06</td>\n",
              "      <td>53.97</td>\n",
              "      <td>99.27</td>\n",
              "      <td>69.93</td>\n",
              "    </tr>\n",
              "  </tbody>\n",
              "</table>\n",
              "</div>\n",
              "      <button class=\"colab-df-convert\" onclick=\"convertToInteractive('df-e7369fdc-beb3-4fae-969c-078a2507d119')\"\n",
              "              title=\"Convert this dataframe to an interactive table.\"\n",
              "              style=\"display:none;\">\n",
              "        \n",
              "  <svg xmlns=\"http://www.w3.org/2000/svg\" height=\"24px\"viewBox=\"0 0 24 24\"\n",
              "       width=\"24px\">\n",
              "    <path d=\"M0 0h24v24H0V0z\" fill=\"none\"/>\n",
              "    <path d=\"M18.56 5.44l.94 2.06.94-2.06 2.06-.94-2.06-.94-.94-2.06-.94 2.06-2.06.94zm-11 1L8.5 8.5l.94-2.06 2.06-.94-2.06-.94L8.5 2.5l-.94 2.06-2.06.94zm10 10l.94 2.06.94-2.06 2.06-.94-2.06-.94-.94-2.06-.94 2.06-2.06.94z\"/><path d=\"M17.41 7.96l-1.37-1.37c-.4-.4-.92-.59-1.43-.59-.52 0-1.04.2-1.43.59L10.3 9.45l-7.72 7.72c-.78.78-.78 2.05 0 2.83L4 21.41c.39.39.9.59 1.41.59.51 0 1.02-.2 1.41-.59l7.78-7.78 2.81-2.81c.8-.78.8-2.07 0-2.86zM5.41 20L4 18.59l7.72-7.72 1.47 1.35L5.41 20z\"/>\n",
              "  </svg>\n",
              "      </button>\n",
              "      \n",
              "  <style>\n",
              "    .colab-df-container {\n",
              "      display:flex;\n",
              "      flex-wrap:wrap;\n",
              "      gap: 12px;\n",
              "    }\n",
              "\n",
              "    .colab-df-convert {\n",
              "      background-color: #E8F0FE;\n",
              "      border: none;\n",
              "      border-radius: 50%;\n",
              "      cursor: pointer;\n",
              "      display: none;\n",
              "      fill: #1967D2;\n",
              "      height: 32px;\n",
              "      padding: 0 0 0 0;\n",
              "      width: 32px;\n",
              "    }\n",
              "\n",
              "    .colab-df-convert:hover {\n",
              "      background-color: #E2EBFA;\n",
              "      box-shadow: 0px 1px 2px rgba(60, 64, 67, 0.3), 0px 1px 3px 1px rgba(60, 64, 67, 0.15);\n",
              "      fill: #174EA6;\n",
              "    }\n",
              "\n",
              "    [theme=dark] .colab-df-convert {\n",
              "      background-color: #3B4455;\n",
              "      fill: #D2E3FC;\n",
              "    }\n",
              "\n",
              "    [theme=dark] .colab-df-convert:hover {\n",
              "      background-color: #434B5C;\n",
              "      box-shadow: 0px 1px 3px 1px rgba(0, 0, 0, 0.15);\n",
              "      filter: drop-shadow(0px 1px 2px rgba(0, 0, 0, 0.3));\n",
              "      fill: #FFFFFF;\n",
              "    }\n",
              "  </style>\n",
              "\n",
              "      <script>\n",
              "        const buttonEl =\n",
              "          document.querySelector('#df-e7369fdc-beb3-4fae-969c-078a2507d119 button.colab-df-convert');\n",
              "        buttonEl.style.display =\n",
              "          google.colab.kernel.accessAllowed ? 'block' : 'none';\n",
              "\n",
              "        async function convertToInteractive(key) {\n",
              "          const element = document.querySelector('#df-e7369fdc-beb3-4fae-969c-078a2507d119');\n",
              "          const dataTable =\n",
              "            await google.colab.kernel.invokeFunction('convertToInteractive',\n",
              "                                                     [key], {});\n",
              "          if (!dataTable) return;\n",
              "\n",
              "          const docLinkHtml = 'Like what you see? Visit the ' +\n",
              "            '<a target=\"_blank\" href=https://colab.research.google.com/notebooks/data_table.ipynb>data table notebook</a>'\n",
              "            + ' to learn more about interactive tables.';\n",
              "          element.innerHTML = '';\n",
              "          dataTable['output_type'] = 'display_data';\n",
              "          await google.colab.output.renderOutput(dataTable, element);\n",
              "          const docLink = document.createElement('div');\n",
              "          docLink.innerHTML = docLinkHtml;\n",
              "          element.appendChild(docLink);\n",
              "        }\n",
              "      </script>\n",
              "    </div>\n",
              "  </div>\n",
              "  "
            ]
          },
          "metadata": {},
          "execution_count": 107
        }
      ],
      "source": [
        "# convert the model scores to dataframe\n",
        "model_score_df = pd.DataFrame(model_score_list,columns=['model_name', 'acc_score', 'roc_score','precision_score','recall_score','F1_score'])\n",
        "\n",
        "# Order by highest recall score and roc_auc_score\n",
        "model_score_df.sort_values(['F1_score','recall_score','roc_score'], ascending=False)"
      ],
      "id": "c4aaa399"
    },
    {
      "cell_type": "markdown",
      "metadata": {
        "id": "0e85cf69"
      },
      "source": [
        "## TOP 2 MODELS BASED ON THE BASIC OF F1 SCORE AND RECALL SCORE\n",
        "#####ExtraTreesClassifier\n",
        "#####XGBClassifier\n"
      ],
      "id": "0e85cf69"
    },
    {
      "cell_type": "markdown",
      "metadata": {
        "id": "fd3c70d2"
      },
      "source": [
        "## LETS CHECK OVERFITTING FOR TOP 2 MODELS USING CROSS VALIDATION AND SELECT A MODEL"
      ],
      "id": "fd3c70d2"
    },
    {
      "cell_type": "markdown",
      "metadata": {
        "id": "e0917b00"
      },
      "source": [
        "### CROSS VALIDATION FOR TOP 2 MODELS AND MODEL SELECTION"
      ],
      "id": "e0917b00"
    },
    {
      "cell_type": "markdown",
      "metadata": {
        "id": "3dad05d4"
      },
      "source": [
        "SELECT THE TOP MODEL FROM THE BEST 2 MODELS ON THE BASES OF MEAN SCORE"
      ],
      "id": "3dad05d4"
    },
    {
      "cell_type": "markdown",
      "metadata": {
        "id": "6183442f"
      },
      "source": [
        "cross_val_score returns score of test fold.For the cross_val_score() , you are using the average of the output, which will be affected by the number of folds because then it may have some folds which may have high error (not fit correctly)."
      ],
      "id": "6183442f"
    },
    {
      "cell_type": "code",
      "execution_count": 108,
      "metadata": {
        "colab": {
          "base_uri": "https://localhost:8080/"
        },
        "id": "2e04ba95",
        "outputId": "53edb8c9-2765-4295-bb77-cac0416a42f4"
      },
      "outputs": [
        {
          "output_type": "stream",
          "name": "stdout",
          "text": [
            "ExtraTreesClassifier cv_score_mean :  96.9\n",
            "ExtraTreesClassifier cv_score_std :  0.17\n"
          ]
        }
      ],
      "source": [
        "# Cross validation for ExtraTreesClassifier\n",
        "# initialize Stratified KFold with 5 splits\n",
        "n_splits = 5\n",
        "skf = StratifiedKFold(n_splits=n_splits, shuffle = True, random_state = RANDOM_STATE)\n",
        "model = ExtraTreesClassifier(random_state=RANDOM_STATE)\n",
        "etc_cv_scores = cross_val_score(model, X_pca, Y, scoring='recall', cv = skf, n_jobs=-1)\n",
        "print('ExtraTreesClassifier cv_score_mean : ', round(etc_cv_scores.mean() * 100, 2))\n",
        "print('ExtraTreesClassifier cv_score_std : ', round(etc_cv_scores.std() * 100, 2))"
      ],
      "id": "2e04ba95"
    },
    {
      "cell_type": "code",
      "execution_count": 114,
      "metadata": {
        "colab": {
          "base_uri": "https://localhost:8080/"
        },
        "id": "EWZIqE1Szp_f",
        "outputId": "cc3d11ff-8b1f-4ec1-c5cd-484897b8a17f"
      },
      "outputs": [
        {
          "output_type": "stream",
          "name": "stdout",
          "text": [
            "XGBClassifier cv_score_mean :  96.9\n",
            "XGBClassifier cv_score_std :  0.17\n"
          ]
        }
      ],
      "source": [
        "# Cross validation for XGBClassifie\n",
        "from sklearn.model_selection import KFold\n",
        "model = XGBClassifier(objective='binary:logistic')\n",
        "kfold = KFold(n_splits=n_splits, random_state=RANDOM_STATE,shuffle=True)\n",
        "xgbc_cv_scores = cross_val_score(model, X_pca, Y, scoring='recall',cv=kfold)\n",
        "print('XGBClassifier cv_score_mean : ', round(etc_cv_scores.mean() * 100, 2))\n",
        "print('XGBClassifier cv_score_std : ', round(etc_cv_scores.std() * 100, 2))\n"
      ],
      "id": "EWZIqE1Szp_f"
    },
    {
      "cell_type": "markdown",
      "metadata": {
        "id": "116bc0da"
      },
      "source": [
        "# Plot the cvscores for top 2 models"
      ],
      "id": "116bc0da"
    },
    {
      "cell_type": "markdown",
      "metadata": {
        "id": "e34bc6fb"
      },
      "source": [
        "The NumPy linspace function (sometimes called np.linspace) is a tool in Python for creating numeric sequences.\n",
        "start,stop and num paramters will be given in linespace function."
      ],
      "id": "e34bc6fb"
    },
    {
      "cell_type": "code",
      "execution_count": 115,
      "metadata": {
        "colab": {
          "base_uri": "https://localhost:8080/",
          "height": 296
        },
        "id": "ccb32fbe",
        "outputId": "8041643b-3498-4d82-9295-5ee221136105"
      },
      "outputs": [
        {
          "output_type": "execute_result",
          "data": {
            "text/plain": [
              "<matplotlib.axes._subplots.AxesSubplot at 0x7fa12d6d5dd0>"
            ]
          },
          "metadata": {},
          "execution_count": 115
        },
        {
          "output_type": "display_data",
          "data": {
            "text/plain": [
              "<Figure size 432x288 with 1 Axes>"
            ],
            "image/png": "[encoded data removed]"
          },
          "metadata": {
            "needs_background": "light"
          }
        }
      ],
      "source": [
        "# plot the cv scores for the above 2 models\n",
        "cv_scores_df = pd.DataFrame({'index':np.linspace(1,n_splits,n_splits), 'etc':etc_cv_scores, 'xgbc':xgbc_cv_scores})\n",
        "cv_scores_df.plot.line(x='index', y=['etc','xgbc'])\n"
      ],
      "id": "ccb32fbe"
    },
    {
      "cell_type": "markdown",
      "metadata": {
        "id": "jjQlZ7GxBEtD"
      },
      "source": [
        "#Hypertunning For Extra Trees Classifier\n"
      ],
      "id": "jjQlZ7GxBEtD"
    },
    {
      "cell_type": "code",
      "execution_count": 116,
      "metadata": {
        "id": "IOTqClOqBEEl"
      },
      "outputs": [],
      "source": [
        "from sklearn.model_selection import RandomizedSearchCV\n",
        "param_grid = {\n",
        "    'n_estimators':[10,50,100],\n",
        "    'min_samples_split': [2,4,6],\n",
        "    'min_samples_leaf': [1,2,3]\n",
        "}"
      ],
      "id": "IOTqClOqBEEl"
    },
    {
      "cell_type": "code",
      "execution_count": 117,
      "metadata": {
        "id": "ttP2-8I4Bvfk"
      },
      "outputs": [],
      "source": [
        "model = ExtraTreesClassifier()\n",
        "grid = RandomizedSearchCV(estimator=model, param_distributions=param_grid,verbose=3,random_state=RANDOM_STATE)"
      ],
      "id": "ttP2-8I4Bvfk"
    },
    {
      "cell_type": "code",
      "execution_count": 118,
      "metadata": {
        "colab": {
          "base_uri": "https://localhost:8080/"
        },
        "id": "JN99zcItCBS5",
        "outputId": "6a183b8c-1447-49ce-ce2a-3bf030795eb5"
      },
      "outputs": [
        {
          "output_type": "stream",
          "name": "stdout",
          "text": [
            "Fitting 5 folds for each of 10 candidates, totalling 50 fits\n",
            "[CV 1/5] END min_samples_leaf=1, min_samples_split=6, n_estimators=100;, score=0.947 total time=  28.4s\n",
            "[CV 2/5] END min_samples_leaf=1, min_samples_split=6, n_estimators=100;, score=0.947 total time=  28.0s\n",
            "[CV 3/5] END min_samples_leaf=1, min_samples_split=6, n_estimators=100;, score=0.947 total time=  27.7s\n",
            "[CV 4/5] END min_samples_leaf=1, min_samples_split=6, n_estimators=100;, score=0.948 total time=  27.8s\n",
            "[CV 5/5] END min_samples_leaf=1, min_samples_split=6, n_estimators=100;, score=0.950 total time=  27.6s\n",
            "[CV 1/5] END min_samples_leaf=2, min_samples_split=4, n_estimators=50;, score=0.945 total time=  14.4s\n",
            "[CV 2/5] END min_samples_leaf=2, min_samples_split=4, n_estimators=50;, score=0.944 total time=  14.3s\n",
            "[CV 3/5] END min_samples_leaf=2, min_samples_split=4, n_estimators=50;, score=0.944 total time=  14.6s\n",
            "[CV 4/5] END min_samples_leaf=2, min_samples_split=4, n_estimators=50;, score=0.944 total time=  14.3s\n",
            "[CV 5/5] END min_samples_leaf=2, min_samples_split=4, n_estimators=50;, score=0.945 total time=  14.0s\n",
            "[CV 1/5] END min_samples_leaf=2, min_samples_split=2, n_estimators=10;, score=0.928 total time=   3.0s\n",
            "[CV 2/5] END min_samples_leaf=2, min_samples_split=2, n_estimators=10;, score=0.926 total time=   2.8s\n",
            "[CV 3/5] END min_samples_leaf=2, min_samples_split=2, n_estimators=10;, score=0.929 total time=   2.8s\n",
            "[CV 4/5] END min_samples_leaf=2, min_samples_split=2, n_estimators=10;, score=0.928 total time=   3.0s\n",
            "[CV 5/5] END min_samples_leaf=2, min_samples_split=2, n_estimators=10;, score=0.929 total time=   2.9s\n",
            "[CV 1/5] END min_samples_leaf=3, min_samples_split=4, n_estimators=10;, score=0.918 total time=   2.7s\n",
            "[CV 2/5] END min_samples_leaf=3, min_samples_split=4, n_estimators=10;, score=0.918 total time=   2.7s\n",
            "[CV 3/5] END min_samples_leaf=3, min_samples_split=4, n_estimators=10;, score=0.922 total time=   2.8s\n",
            "[CV 4/5] END min_samples_leaf=3, min_samples_split=4, n_estimators=10;, score=0.919 total time=   2.7s\n",
            "[CV 5/5] END min_samples_leaf=3, min_samples_split=4, n_estimators=10;, score=0.922 total time=   2.6s\n",
            "[CV 1/5] END min_samples_leaf=1, min_samples_split=2, n_estimators=10;, score=0.931 total time=   2.8s\n",
            "[CV 2/5] END min_samples_leaf=1, min_samples_split=2, n_estimators=10;, score=0.930 total time=   2.9s\n",
            "[CV 3/5] END min_samples_leaf=1, min_samples_split=2, n_estimators=10;, score=0.932 total time=   2.9s\n",
            "[CV 4/5] END min_samples_leaf=1, min_samples_split=2, n_estimators=10;, score=0.933 total time=   2.9s\n",
            "[CV 5/5] END min_samples_leaf=1, min_samples_split=2, n_estimators=10;, score=0.936 total time=   3.0s\n",
            "[CV 1/5] END min_samples_leaf=2, min_samples_split=2, n_estimators=100;, score=0.947 total time=  27.7s\n",
            "[CV 2/5] END min_samples_leaf=2, min_samples_split=2, n_estimators=100;, score=0.945 total time=  28.5s\n",
            "[CV 3/5] END min_samples_leaf=2, min_samples_split=2, n_estimators=100;, score=0.947 total time=  28.5s\n",
            "[CV 4/5] END min_samples_leaf=2, min_samples_split=2, n_estimators=100;, score=0.946 total time=  28.0s\n",
            "[CV 5/5] END min_samples_leaf=2, min_samples_split=2, n_estimators=100;, score=0.947 total time=  28.0s\n",
            "[CV 1/5] END min_samples_leaf=2, min_samples_split=6, n_estimators=50;, score=0.941 total time=  14.2s\n",
            "[CV 2/5] END min_samples_leaf=2, min_samples_split=6, n_estimators=50;, score=0.942 total time=  13.9s\n",
            "[CV 3/5] END min_samples_leaf=2, min_samples_split=6, n_estimators=50;, score=0.943 total time=  14.0s\n",
            "[CV 4/5] END min_samples_leaf=2, min_samples_split=6, n_estimators=50;, score=0.940 total time=  13.9s\n",
            "[CV 5/5] END min_samples_leaf=2, min_samples_split=6, n_estimators=50;, score=0.943 total time=  14.1s\n",
            "[CV 1/5] END min_samples_leaf=2, min_samples_split=6, n_estimators=100;, score=0.944 total time=  27.3s\n",
            "[CV 2/5] END min_samples_leaf=2, min_samples_split=6, n_estimators=100;, score=0.942 total time=  27.9s\n",
            "[CV 3/5] END min_samples_leaf=2, min_samples_split=6, n_estimators=100;, score=0.943 total time=  27.3s\n",
            "[CV 4/5] END min_samples_leaf=2, min_samples_split=6, n_estimators=100;, score=0.943 total time=  27.7s\n",
            "[CV 5/5] END min_samples_leaf=2, min_samples_split=6, n_estimators=100;, score=0.944 total time=  27.7s\n",
            "[CV 1/5] END min_samples_leaf=2, min_samples_split=4, n_estimators=10;, score=0.929 total time=   2.9s\n",
            "[CV 2/5] END min_samples_leaf=2, min_samples_split=4, n_estimators=10;, score=0.928 total time=   2.9s\n",
            "[CV 3/5] END min_samples_leaf=2, min_samples_split=4, n_estimators=10;, score=0.931 total time=   2.9s\n",
            "[CV 4/5] END min_samples_leaf=2, min_samples_split=4, n_estimators=10;, score=0.930 total time=   2.7s\n",
            "[CV 5/5] END min_samples_leaf=2, min_samples_split=4, n_estimators=10;, score=0.928 total time=   2.8s\n",
            "[CV 1/5] END min_samples_leaf=3, min_samples_split=6, n_estimators=10;, score=0.922 total time=   2.7s\n",
            "[CV 2/5] END min_samples_leaf=3, min_samples_split=6, n_estimators=10;, score=0.918 total time=   2.8s\n",
            "[CV 3/5] END min_samples_leaf=3, min_samples_split=6, n_estimators=10;, score=0.920 total time=   2.6s\n",
            "[CV 4/5] END min_samples_leaf=3, min_samples_split=6, n_estimators=10;, score=0.920 total time=   2.6s\n",
            "[CV 5/5] END min_samples_leaf=3, min_samples_split=6, n_estimators=10;, score=0.920 total time=   2.7s\n"
          ]
        },
        {
          "output_type": "execute_result",
          "data": {
            "text/plain": [
              "RandomizedSearchCV(estimator=ExtraTreesClassifier(),\n",
              "                   param_distributions={'min_samples_leaf': [1, 2, 3],\n",
              "                                        'min_samples_split': [2, 4, 6],\n",
              "                                        'n_estimators': [10, 50, 100]},\n",
              "                   random_state=42, verbose=3)"
            ]
          },
          "metadata": {},
          "execution_count": 118
        }
      ],
      "source": [
        "grid.fit(X_train_pca,Y_train)"
      ],
      "id": "JN99zcItCBS5"
    },
    {
      "cell_type": "code",
      "execution_count": 119,
      "metadata": {
        "colab": {
          "base_uri": "https://localhost:8080/"
        },
        "id": "3o6_3O37v2w6",
        "outputId": "737f9947-ddb3-4af2-ce1d-97fed44c743c"
      },
      "outputs": [
        {
          "output_type": "execute_result",
          "data": {
            "text/plain": [
              "{'min_samples_leaf': 1, 'min_samples_split': 6, 'n_estimators': 100}"
            ]
          },
          "metadata": {},
          "execution_count": 119
        }
      ],
      "source": [
        "grid.best_params_\n"
      ],
      "id": "3o6_3O37v2w6"
    },
    {
      "cell_type": "markdown",
      "metadata": {
        "id": "e9269474"
      },
      "source": [
        "# Fitting the best estimator"
      ],
      "id": "e9269474"
    },
    {
      "cell_type": "markdown",
      "metadata": {
        "id": "zuN4neZKw9NJ"
      },
      "source": [
        "##ExtraTreesClassifier with best estimator"
      ],
      "id": "zuN4neZKw9NJ"
    },
    {
      "cell_type": "code",
      "execution_count": 120,
      "metadata": {
        "colab": {
          "base_uri": "https://localhost:8080/"
        },
        "id": "UUOyVeTdwSG7",
        "outputId": "0c42f046-7211-423a-f2e3-0076dfed292e"
      },
      "outputs": [
        {
          "output_type": "stream",
          "name": "stdout",
          "text": [
            "Accuracy Score :  95.53\n",
            "ROC AUC score :  95.53\n",
            "Precision score :  95.26\n",
            "Recall score :  95.74\n",
            "F1 score :  95.5\n"
          ]
        }
      ],
      "source": [
        "# initialize the ExtraTreesClassifier\n",
        "etc_model = ExtraTreesClassifier(min_samples_leaf= 1, min_samples_split = 6, n_estimators = 100)\n",
        "# fit the pca training data\n",
        "etc_model.fit(X_train_pca, Y_train)\n",
        "# predict the pca testing data\n",
        "Y_pred = etc_model.predict(X_test_pca)\n",
        "\n",
        "# Model evaluation\n",
        "acc_score, roc_score, prec_score, rec_score,F1_score = evaluate_model(Y_test, Y_pred)\n",
        "# add the model scores to score list\n",
        "model_score_list.append({'model_name':'ExtraTreesClassifier', 'acc_score':acc_score, 'roc_score':roc_score, 'precision_score':prec_score, 'recall_score':rec_score,'F1_score':F1_score})"
      ],
      "id": "UUOyVeTdwSG7"
    },
    {
      "cell_type": "markdown",
      "metadata": {
        "id": "72ae8dc5"
      },
      "source": [
        "# MODEL EVALUATION"
      ],
      "id": "72ae8dc5"
    },
    {
      "cell_type": "markdown",
      "metadata": {
        "id": "85e26915"
      },
      "source": [
        "plt.xlim() function used to give limits in x-axes.\n",
        "In plt.legend() function,The elements to be added to the legend are automatically determined, when you do not pass in any extra arguments.\n",
        "roc_curve() function returns fpr,tpr and thresholds and drop_intermediate is used to check Whether to drop some suboptimal thresholds which would not appear on a plotted ROC curve. This is useful in order to create lighter ROC curves.\n",
        "\n",
        "roc_auc_score() Compute Area Under the Receiver Operating Characteristic Curve (ROC AUC) from prediction scores.\n",
        "auc----area under the curve\n",
        "plot() function is used to plot a line from one point to another point.\n",
        "\n"
      ],
      "id": "85e26915"
    },
    {
      "cell_type": "code",
      "execution_count": 121,
      "metadata": {
        "id": "f0c2c492"
      },
      "outputs": [],
      "source": [
        "'''\n",
        "Method Name : draw_roc\n",
        "Input(s)    : 2 Series\n",
        "Output(s)   : None  \n",
        "Description :\n",
        "- This method reads the Actual and predicted series of values\n",
        "- Compute the roc_auc values\n",
        "- Compute the roc_auc_score \n",
        "- Then plot the roc_auc curve. \n",
        "'''\n",
        "def draw_roc( actual, probs ):\n",
        "    fpr, tpr, thresholds = roc_curve( actual, probs, drop_intermediate = False )\n",
        "    auc_score = roc_auc_score( actual, probs )\n",
        "    plt.figure(figsize=(6, 6))\n",
        "    plt.plot( fpr, tpr, label='ROC curve (area = %0.2f)' % auc_score )\n",
        "    plt.plot([0, 1], [0, 1], 'k--')\n",
        "    plt.xlim([0.0, 1.0])\n",
        "    plt.ylim([0.0, 1.05])\n",
        "    plt.xlabel('False Positive Rate or [1 - True Negative Rate]')\n",
        "    plt.ylabel('True Positive Rate')\n",
        "    plt.title('ROC Curve')\n",
        "    plt.legend(loc=\"lower right\")\n",
        "    plt.show()"
      ],
      "id": "f0c2c492"
    },
    {
      "cell_type": "markdown",
      "metadata": {
        "id": "978988ab"
      },
      "source": [
        "sklearn.metrics.confusion_matrix(y_actual, y_predict) to extract tn, fp, fn, tp."
      ],
      "id": "978988ab"
    },
    {
      "cell_type": "code",
      "execution_count": 122,
      "metadata": {
        "id": "b5425ed7",
        "outputId": "ce8ac6db-2821-4838-a9a1-fe57f22e6c60",
        "colab": {
          "base_uri": "https://localhost:8080/"
        }
      },
      "outputs": [
        {
          "output_type": "stream",
          "name": "stdout",
          "text": [
            "\n",
            "Classification Report : \n",
            "\n",
            "               precision    recall  f1-score   support\n",
            "\n",
            "           0       0.96      0.95      0.96     26813\n",
            "           1       0.95      0.96      0.95     26334\n",
            "\n",
            "    accuracy                           0.96     53147\n",
            "   macro avg       0.96      0.96      0.96     53147\n",
            "weighted avg       0.96      0.96      0.96     53147\n",
            "\n",
            "\n",
            "TN = 25559, FP = 1254, FN = 1123, TP = 25211\n",
            "\n",
            "\n",
            "Accuracy Score :  95.53\n",
            "ROC AUC score :  95.53\n",
            "Precision score :  95.26\n",
            "Recall score :  95.74\n",
            "F1 score :  95.5\n"
          ]
        }
      ],
      "source": [
        "# Classification Report\n",
        "print('\\nClassification Report : \\n\\n', classification_report(Y_test, Y_pred))\n",
        "\n",
        "# Confusion matrix\n",
        "tn, fp, fn, tp = confusion_matrix(Y_test, Y_pred).ravel()\n",
        "print('\\nTN = {0}, FP = {1}, FN = {2}, TP = {3}\\n\\n'.format(tn, fp, fn, tp))\n",
        "\n",
        "# Model evaluation\n",
        "acc_score, roc_score, prec_score, rec_score, F1_score = evaluate_model(Y_test, Y_pred)"
      ],
      "id": "b5425ed7"
    },
    {
      "cell_type": "code",
      "execution_count": 123,
      "metadata": {
        "id": "e9e443e1",
        "outputId": "f72d7187-b0be-49c5-fc62-5df7209bc0d9",
        "colab": {
          "base_uri": "https://localhost:8080/",
          "height": 404
        }
      },
      "outputs": [
        {
          "output_type": "display_data",
          "data": {
            "text/plain": [
              "<Figure size 432x432 with 1 Axes>"
            ],
            "image/png": "[encoded data removed]"
          },
          "metadata": {
            "needs_background": "light"
          }
        }
      ],
      "source": [
        "# ROC-AUC curve\n",
        "draw_roc(Y_test, Y_pred)"
      ],
      "id": "e9e443e1"
    },
    {
      "cell_type": "markdown",
      "metadata": {
        "id": "10cb1214"
      },
      "source": [
        "# Observation"
      ],
      "id": "10cb1214"
    },
    {
      "cell_type": "markdown",
      "metadata": {
        "id": "620809c5"
      },
      "source": [
        "We have got the recall score 99.59% which is slightyly better than recall with cross validation.\n",
        "we have  109 churned customers predicted as non churned and 4910 non churned customer predicted as churned.\n",
        "We can increase the recall score by changing the probability cutoff.\n",
        "Roc Curve seems to be in a good shape."
      ],
      "id": "620809c5"
    },
    {
      "cell_type": "code",
      "source": [
        "master_df.head(10)"
      ],
      "metadata": {
        "colab": {
          "base_uri": "https://localhost:8080/",
          "height": 456
        },
        "id": "yZNORQDlj9a-",
        "outputId": "b8f1b10f-0de0-4847-dd89-33560046091a"
      },
      "id": "yZNORQDlj9a-",
      "execution_count": 124,
      "outputs": [
        {
          "output_type": "execute_result",
          "data": {
            "text/plain": [
              "     arpu_6    arpu_7      arpu_8  onnet_mou_6  onnet_mou_7  onnet_mou_8  \\\n",
              "0   197.385   214.816   213.80300         0.00         0.00         0.00   \n",
              "1    34.047   355.074   268.32100        24.11        78.68         7.68   \n",
              "2   167.690   189.058   210.22600        11.54        55.24        37.26   \n",
              "3   221.338   251.102   508.05400        99.91        54.39       310.98   \n",
              "4   261.636   309.876   238.17400        50.31       149.44        83.89   \n",
              "5    50.258    58.810    83.38600        50.16        43.63        85.48   \n",
              "6   429.023   190.704   255.11400        71.03        45.03        76.66   \n",
              "7  1069.180  1349.850  1455.53996        57.84        54.68        52.29   \n",
              "8   378.721   492.223   137.36200       413.69       351.03        35.08   \n",
              "9   119.518   247.435   170.23100        33.89        30.11        22.43   \n",
              "\n",
              "   offnet_mou_6  offnet_mou_7  offnet_mou_8  roam_ic_mou_6  ...  \\\n",
              "0          0.00          0.00          0.00           0.00  ...   \n",
              "1         15.74         99.84        304.76           0.00  ...   \n",
              "2        143.33        220.59        208.36           0.00  ...   \n",
              "3        123.31        109.01         71.68           0.00  ...   \n",
              "4         76.96         91.88        124.26           0.00  ...   \n",
              "5         19.28         13.44         14.46           0.00  ...   \n",
              "6        262.73         49.24         92.08           0.00  ...   \n",
              "7        453.43        567.16        325.91          16.23  ...   \n",
              "8         94.66         80.63        136.48           0.00  ...   \n",
              "9         63.48         54.16         78.34           0.00  ...   \n",
              "\n",
              "   mean_arpu_3g_data  mean_vol_2g_mb_data  mean_vol_3g_mb_data  \\\n",
              "0             212.17                12.40               114.65   \n",
              "1               0.00               157.85                 0.00   \n",
              "2               0.00                 0.00                 0.00   \n",
              "3               0.00                 0.00                 0.00   \n",
              "4               0.00                 0.00                 0.00   \n",
              "5               0.00                 0.00                 0.00   \n",
              "6               0.00                 0.00                 0.00   \n",
              "7               0.00                 0.00                 0.00   \n",
              "8               6.61               118.68               254.30   \n",
              "9               0.00                 2.46                 0.00   \n",
              "\n",
              "   night_pck_weightage  fb_user_weightage  mean_vbc_3g  monthly_2g_weightage  \\\n",
              "0                  0.0              111.0        43.87                     0   \n",
              "1                  2.0              112.0         0.00                    10   \n",
              "2                222.0              222.0         1.39                     0   \n",
              "3                222.0              222.0         0.00                     0   \n",
              "4                220.0              220.0         0.00                     0   \n",
              "5                222.0              222.0         0.00                     0   \n",
              "6                222.0              222.0         0.00                     0   \n",
              "7                222.0              222.0        31.95                     0   \n",
              "8                  2.0              112.0       351.28                    10   \n",
              "9                202.0              212.0         0.00                    10   \n",
              "\n",
              "   monthly_3g_weightage  sachet_2g_weightage  sachet_3g_weightage  \n",
              "0                   111                    0                    0  \n",
              "1                     0                  200                    0  \n",
              "2                     0                    0                    0  \n",
              "3                     0                    0                    0  \n",
              "4                     0                    1                    0  \n",
              "5                     0                    0                    0  \n",
              "6                     0                    0                    0  \n",
              "7                     0                    0                    0  \n",
              "8                     0                  310                    0  \n",
              "9                     0                    0                    0  \n",
              "\n",
              "[10 rows x 238 columns]"
            ],
            "text/html": [
              "\n",
              "  <div id=\"df-205b4648-ab16-4d7d-8ae9-166a4f8faeae\">\n",
              "    <div class=\"colab-df-container\">\n",
              "      <div>\n",
              "<style scoped>\n",
              "    .dataframe tbody tr th:only-of-type {\n",
              "        vertical-align: middle;\n",
              "    }\n",
              "\n",
              "    .dataframe tbody tr th {\n",
              "        vertical-align: top;\n",
              "    }\n",
              "\n",
              "    .dataframe thead th {\n",
              "        text-align: right;\n",
              "    }\n",
              "</style>\n",
              "<table border=\"1\" class=\"dataframe\">\n",
              "  <thead>\n",
              "    <tr style=\"text-align: right;\">\n",
              "      <th></th>\n",
              "      <th>arpu_6</th>\n",
              "      <th>arpu_7</th>\n",
              "      <th>arpu_8</th>\n",
              "      <th>onnet_mou_6</th>\n",
              "      <th>onnet_mou_7</th>\n",
              "      <th>onnet_mou_8</th>\n",
              "      <th>offnet_mou_6</th>\n",
              "      <th>offnet_mou_7</th>\n",
              "      <th>offnet_mou_8</th>\n",
              "      <th>roam_ic_mou_6</th>\n",
              "      <th>...</th>\n",
              "      <th>mean_arpu_3g_data</th>\n",
              "      <th>mean_vol_2g_mb_data</th>\n",
              "      <th>mean_vol_3g_mb_data</th>\n",
              "      <th>night_pck_weightage</th>\n",
              "      <th>fb_user_weightage</th>\n",
              "      <th>mean_vbc_3g</th>\n",
              "      <th>monthly_2g_weightage</th>\n",
              "      <th>monthly_3g_weightage</th>\n",
              "      <th>sachet_2g_weightage</th>\n",
              "      <th>sachet_3g_weightage</th>\n",
              "    </tr>\n",
              "  </thead>\n",
              "  <tbody>\n",
              "    <tr>\n",
              "      <th>0</th>\n",
              "      <td>197.385</td>\n",
              "      <td>214.816</td>\n",
              "      <td>213.80300</td>\n",
              "      <td>0.00</td>\n",
              "      <td>0.00</td>\n",
              "      <td>0.00</td>\n",
              "      <td>0.00</td>\n",
              "      <td>0.00</td>\n",
              "      <td>0.00</td>\n",
              "      <td>0.00</td>\n",
              "      <td>...</td>\n",
              "      <td>212.17</td>\n",
              "      <td>12.40</td>\n",
              "      <td>114.65</td>\n",
              "      <td>0.0</td>\n",
              "      <td>111.0</td>\n",
              "      <td>43.87</td>\n",
              "      <td>0</td>\n",
              "      <td>111</td>\n",
              "      <td>0</td>\n",
              "      <td>0</td>\n",
              "    </tr>\n",
              "    <tr>\n",
              "      <th>1</th>\n",
              "      <td>34.047</td>\n",
              "      <td>355.074</td>\n",
              "      <td>268.32100</td>\n",
              "      <td>24.11</td>\n",
              "      <td>78.68</td>\n",
              "      <td>7.68</td>\n",
              "      <td>15.74</td>\n",
              "      <td>99.84</td>\n",
              "      <td>304.76</td>\n",
              "      <td>0.00</td>\n",
              "      <td>...</td>\n",
              "      <td>0.00</td>\n",
              "      <td>157.85</td>\n",
              "      <td>0.00</td>\n",
              "      <td>2.0</td>\n",
              "      <td>112.0</td>\n",
              "      <td>0.00</td>\n",
              "      <td>10</td>\n",
              "      <td>0</td>\n",
              "      <td>200</td>\n",
              "      <td>0</td>\n",
              "    </tr>\n",
              "    <tr>\n",
              "      <th>2</th>\n",
              "      <td>167.690</td>\n",
              "      <td>189.058</td>\n",
              "      <td>210.22600</td>\n",
              "      <td>11.54</td>\n",
              "      <td>55.24</td>\n",
              "      <td>37.26</td>\n",
              "      <td>143.33</td>\n",
              "      <td>220.59</td>\n",
              "      <td>208.36</td>\n",
              "      <td>0.00</td>\n",
              "      <td>...</td>\n",
              "      <td>0.00</td>\n",
              "      <td>0.00</td>\n",
              "      <td>0.00</td>\n",
              "      <td>222.0</td>\n",
              "      <td>222.0</td>\n",
              "      <td>1.39</td>\n",
              "      <td>0</td>\n",
              "      <td>0</td>\n",
              "      <td>0</td>\n",
              "      <td>0</td>\n",
              "    </tr>\n",
              "    <tr>\n",
              "      <th>3</th>\n",
              "      <td>221.338</td>\n",
              "      <td>251.102</td>\n",
              "      <td>508.05400</td>\n",
              "      <td>99.91</td>\n",
              "      <td>54.39</td>\n",
              "      <td>310.98</td>\n",
              "      <td>123.31</td>\n",
              "      <td>109.01</td>\n",
              "      <td>71.68</td>\n",
              "      <td>0.00</td>\n",
              "      <td>...</td>\n",
              "      <td>0.00</td>\n",
              "      <td>0.00</td>\n",
              "      <td>0.00</td>\n",
              "      <td>222.0</td>\n",
              "      <td>222.0</td>\n",
              "      <td>0.00</td>\n",
              "      <td>0</td>\n",
              "      <td>0</td>\n",
              "      <td>0</td>\n",
              "      <td>0</td>\n",
              "    </tr>\n",
              "    <tr>\n",
              "      <th>4</th>\n",
              "      <td>261.636</td>\n",
              "      <td>309.876</td>\n",
              "      <td>238.17400</td>\n",
              "      <td>50.31</td>\n",
              "      <td>149.44</td>\n",
              "      <td>83.89</td>\n",
              "      <td>76.96</td>\n",
              "      <td>91.88</td>\n",
              "      <td>124.26</td>\n",
              "      <td>0.00</td>\n",
              "      <td>...</td>\n",
              "      <td>0.00</td>\n",
              "      <td>0.00</td>\n",
              "      <td>0.00</td>\n",
              "      <td>220.0</td>\n",
              "      <td>220.0</td>\n",
              "      <td>0.00</td>\n",
              "      <td>0</td>\n",
              "      <td>0</td>\n",
              "      <td>1</td>\n",
              "      <td>0</td>\n",
              "    </tr>\n",
              "    <tr>\n",
              "      <th>5</th>\n",
              "      <td>50.258</td>\n",
              "      <td>58.810</td>\n",
              "      <td>83.38600</td>\n",
              "      <td>50.16</td>\n",
              "      <td>43.63</td>\n",
              "      <td>85.48</td>\n",
              "      <td>19.28</td>\n",
              "      <td>13.44</td>\n",
              "      <td>14.46</td>\n",
              "      <td>0.00</td>\n",
              "      <td>...</td>\n",
              "      <td>0.00</td>\n",
              "      <td>0.00</td>\n",
              "      <td>0.00</td>\n",
              "      <td>222.0</td>\n",
              "      <td>222.0</td>\n",
              "      <td>0.00</td>\n",
              "      <td>0</td>\n",
              "      <td>0</td>\n",
              "      <td>0</td>\n",
              "      <td>0</td>\n",
              "    </tr>\n",
              "    <tr>\n",
              "      <th>6</th>\n",
              "      <td>429.023</td>\n",
              "      <td>190.704</td>\n",
              "      <td>255.11400</td>\n",
              "      <td>71.03</td>\n",
              "      <td>45.03</td>\n",
              "      <td>76.66</td>\n",
              "      <td>262.73</td>\n",
              "      <td>49.24</td>\n",
              "      <td>92.08</td>\n",
              "      <td>0.00</td>\n",
              "      <td>...</td>\n",
              "      <td>0.00</td>\n",
              "      <td>0.00</td>\n",
              "      <td>0.00</td>\n",
              "      <td>222.0</td>\n",
              "      <td>222.0</td>\n",
              "      <td>0.00</td>\n",
              "      <td>0</td>\n",
              "      <td>0</td>\n",
              "      <td>0</td>\n",
              "      <td>0</td>\n",
              "    </tr>\n",
              "    <tr>\n",
              "      <th>7</th>\n",
              "      <td>1069.180</td>\n",
              "      <td>1349.850</td>\n",
              "      <td>1455.53996</td>\n",
              "      <td>57.84</td>\n",
              "      <td>54.68</td>\n",
              "      <td>52.29</td>\n",
              "      <td>453.43</td>\n",
              "      <td>567.16</td>\n",
              "      <td>325.91</td>\n",
              "      <td>16.23</td>\n",
              "      <td>...</td>\n",
              "      <td>0.00</td>\n",
              "      <td>0.00</td>\n",
              "      <td>0.00</td>\n",
              "      <td>222.0</td>\n",
              "      <td>222.0</td>\n",
              "      <td>31.95</td>\n",
              "      <td>0</td>\n",
              "      <td>0</td>\n",
              "      <td>0</td>\n",
              "      <td>0</td>\n",
              "    </tr>\n",
              "    <tr>\n",
              "      <th>8</th>\n",
              "      <td>378.721</td>\n",
              "      <td>492.223</td>\n",
              "      <td>137.36200</td>\n",
              "      <td>413.69</td>\n",
              "      <td>351.03</td>\n",
              "      <td>35.08</td>\n",
              "      <td>94.66</td>\n",
              "      <td>80.63</td>\n",
              "      <td>136.48</td>\n",
              "      <td>0.00</td>\n",
              "      <td>...</td>\n",
              "      <td>6.61</td>\n",
              "      <td>118.68</td>\n",
              "      <td>254.30</td>\n",
              "      <td>2.0</td>\n",
              "      <td>112.0</td>\n",
              "      <td>351.28</td>\n",
              "      <td>10</td>\n",
              "      <td>0</td>\n",
              "      <td>310</td>\n",
              "      <td>0</td>\n",
              "    </tr>\n",
              "    <tr>\n",
              "      <th>9</th>\n",
              "      <td>119.518</td>\n",
              "      <td>247.435</td>\n",
              "      <td>170.23100</td>\n",
              "      <td>33.89</td>\n",
              "      <td>30.11</td>\n",
              "      <td>22.43</td>\n",
              "      <td>63.48</td>\n",
              "      <td>54.16</td>\n",
              "      <td>78.34</td>\n",
              "      <td>0.00</td>\n",
              "      <td>...</td>\n",
              "      <td>0.00</td>\n",
              "      <td>2.46</td>\n",
              "      <td>0.00</td>\n",
              "      <td>202.0</td>\n",
              "      <td>212.0</td>\n",
              "      <td>0.00</td>\n",
              "      <td>10</td>\n",
              "      <td>0</td>\n",
              "      <td>0</td>\n",
              "      <td>0</td>\n",
              "    </tr>\n",
              "  </tbody>\n",
              "</table>\n",
              "<p>10 rows × 238 columns</p>\n",
              "</div>\n",
              "      <button class=\"colab-df-convert\" onclick=\"convertToInteractive('df-205b4648-ab16-4d7d-8ae9-166a4f8faeae')\"\n",
              "              title=\"Convert this dataframe to an interactive table.\"\n",
              "              style=\"display:none;\">\n",
              "        \n",
              "  <svg xmlns=\"http://www.w3.org/2000/svg\" height=\"24px\"viewBox=\"0 0 24 24\"\n",
              "       width=\"24px\">\n",
              "    <path d=\"M0 0h24v24H0V0z\" fill=\"none\"/>\n",
              "    <path d=\"M18.56 5.44l.94 2.06.94-2.06 2.06-.94-2.06-.94-.94-2.06-.94 2.06-2.06.94zm-11 1L8.5 8.5l.94-2.06 2.06-.94-2.06-.94L8.5 2.5l-.94 2.06-2.06.94zm10 10l.94 2.06.94-2.06 2.06-.94-2.06-.94-.94-2.06-.94 2.06-2.06.94z\"/><path d=\"M17.41 7.96l-1.37-1.37c-.4-.4-.92-.59-1.43-.59-.52 0-1.04.2-1.43.59L10.3 9.45l-7.72 7.72c-.78.78-.78 2.05 0 2.83L4 21.41c.39.39.9.59 1.41.59.51 0 1.02-.2 1.41-.59l7.78-7.78 2.81-2.81c.8-.78.8-2.07 0-2.86zM5.41 20L4 18.59l7.72-7.72 1.47 1.35L5.41 20z\"/>\n",
              "  </svg>\n",
              "      </button>\n",
              "      \n",
              "  <style>\n",
              "    .colab-df-container {\n",
              "      display:flex;\n",
              "      flex-wrap:wrap;\n",
              "      gap: 12px;\n",
              "    }\n",
              "\n",
              "    .colab-df-convert {\n",
              "      background-color: #E8F0FE;\n",
              "      border: none;\n",
              "      border-radius: 50%;\n",
              "      cursor: pointer;\n",
              "      display: none;\n",
              "      fill: #1967D2;\n",
              "      height: 32px;\n",
              "      padding: 0 0 0 0;\n",
              "      width: 32px;\n",
              "    }\n",
              "\n",
              "    .colab-df-convert:hover {\n",
              "      background-color: #E2EBFA;\n",
              "      box-shadow: 0px 1px 2px rgba(60, 64, 67, 0.3), 0px 1px 3px 1px rgba(60, 64, 67, 0.15);\n",
              "      fill: #174EA6;\n",
              "    }\n",
              "\n",
              "    [theme=dark] .colab-df-convert {\n",
              "      background-color: #3B4455;\n",
              "      fill: #D2E3FC;\n",
              "    }\n",
              "\n",
              "    [theme=dark] .colab-df-convert:hover {\n",
              "      background-color: #434B5C;\n",
              "      box-shadow: 0px 1px 3px 1px rgba(0, 0, 0, 0.15);\n",
              "      filter: drop-shadow(0px 1px 2px rgba(0, 0, 0, 0.3));\n",
              "      fill: #FFFFFF;\n",
              "    }\n",
              "  </style>\n",
              "\n",
              "      <script>\n",
              "        const buttonEl =\n",
              "          document.querySelector('#df-205b4648-ab16-4d7d-8ae9-166a4f8faeae button.colab-df-convert');\n",
              "        buttonEl.style.display =\n",
              "          google.colab.kernel.accessAllowed ? 'block' : 'none';\n",
              "\n",
              "        async function convertToInteractive(key) {\n",
              "          const element = document.querySelector('#df-205b4648-ab16-4d7d-8ae9-166a4f8faeae');\n",
              "          const dataTable =\n",
              "            await google.colab.kernel.invokeFunction('convertToInteractive',\n",
              "                                                     [key], {});\n",
              "          if (!dataTable) return;\n",
              "\n",
              "          const docLinkHtml = 'Like what you see? Visit the ' +\n",
              "            '<a target=\"_blank\" href=https://colab.research.google.com/notebooks/data_table.ipynb>data table notebook</a>'\n",
              "            + ' to learn more about interactive tables.';\n",
              "          element.innerHTML = '';\n",
              "          dataTable['output_type'] = 'display_data';\n",
              "          await google.colab.output.renderOutput(dataTable, element);\n",
              "          const docLink = document.createElement('div');\n",
              "          docLink.innerHTML = docLinkHtml;\n",
              "          element.appendChild(docLink);\n",
              "        }\n",
              "      </script>\n",
              "    </div>\n",
              "  </div>\n",
              "  "
            ]
          },
          "metadata": {},
          "execution_count": 124
        }
      ]
    },
    {
      "cell_type": "markdown",
      "metadata": {
        "id": "ac1017db"
      },
      "source": [
        "# Identifying the Strong Predictors of churn(Important Features)"
      ],
      "id": "ac1017db"
    },
    {
      "cell_type": "code",
      "execution_count": 125,
      "metadata": {
        "id": "9409dd92"
      },
      "outputs": [],
      "source": [
        "# Get the copy of the master_df and assign it in the dataset\n",
        "data = master_df.copy()\n",
        "\n",
        "churn = data['churn']\n",
        "data = data.drop('churn', axis=1)\n",
        "\n",
        "X = data\n",
        "Y = churn"
      ],
      "id": "9409dd92"
    },
    {
      "cell_type": "code",
      "source": [
        "data.columns"
      ],
      "metadata": {
        "colab": {
          "base_uri": "https://localhost:8080/"
        },
        "id": "xodNOHfwWA0r",
        "outputId": "1bdf75a9-f0e4-409f-b2fa-1073784d9060"
      },
      "id": "xodNOHfwWA0r",
      "execution_count": 126,
      "outputs": [
        {
          "output_type": "execute_result",
          "data": {
            "text/plain": [
              "Index(['arpu_6', 'arpu_7', 'arpu_8', 'onnet_mou_6', 'onnet_mou_7',\n",
              "       'onnet_mou_8', 'offnet_mou_6', 'offnet_mou_7', 'offnet_mou_8',\n",
              "       'roam_ic_mou_6',\n",
              "       ...\n",
              "       'mean_arpu_3g_data', 'mean_vol_2g_mb_data', 'mean_vol_3g_mb_data',\n",
              "       'night_pck_weightage', 'fb_user_weightage', 'mean_vbc_3g',\n",
              "       'monthly_2g_weightage', 'monthly_3g_weightage', 'sachet_2g_weightage',\n",
              "       'sachet_3g_weightage'],\n",
              "      dtype='object', length=237)"
            ]
          },
          "metadata": {},
          "execution_count": 126
        }
      ]
    },
    {
      "cell_type": "code",
      "execution_count": 127,
      "metadata": {
        "colab": {
          "base_uri": "https://localhost:8080/",
          "height": 1000
        },
        "id": "e87924e0",
        "outputId": "804fb403-46a6-4b1c-f35a-1a7670583ff7"
      },
      "outputs": [
        {
          "output_type": "execute_result",
          "data": {
            "text/plain": [
              "    index                 Feature     Score\n",
              "0     193      total_ic_weightage  0.138129\n",
              "1     195      total_og_weightage  0.086648\n",
              "2     224      rech_amt_weightage  0.046785\n",
              "3     223      rech_num_weightage  0.015455\n",
              "4      80          total_ic_mou_8  0.014081\n",
              "5     199        mean_total_mou_8  0.011561\n",
              "6     154    days_since_last_rech  0.011411\n",
              "7      59        loc_ic_t2m_mou_8  0.011049\n",
              "8      65            loc_ic_mou_8  0.010685\n",
              "9     155          rech_weightage  0.009839\n",
              "10     14           roam_og_mou_8  0.009273\n",
              "11     53          total_og_mou_8  0.009046\n",
              "12     95        total_rech_amt_8  0.008860\n",
              "13     20        loc_og_t2m_mou_8  0.007962\n",
              "14     98          max_rech_amt_8  0.007767\n",
              "15     29            loc_og_mou_8  0.007080\n",
              "16     92        total_rech_num_8  0.006627\n",
              "17     58        loc_ic_t2m_mou_7  0.006579\n",
              "18     11           roam_ic_mou_8  0.006429\n",
              "19    147                     aon  0.005780\n",
              "20    169        mean_loc_t2m_mou  0.005549\n",
              "21    101      last_day_rch_amt_8  0.005398\n",
              "22    192       mean_total_ic_mou  0.005278\n",
              "23    153  total_rech_amt_voice_8  0.005277\n",
              "24      8            offnet_mou_8  0.005228\n",
              "25      2                  arpu_8  0.005222\n",
              "26    202      max_total_rech_num  0.004928\n",
              "27     91        total_rech_num_7  0.004857\n",
              "28    201      min_total_rech_num  0.004800\n",
              "29    182            mean_loc_mou  0.004790\n",
              "30      7            offnet_mou_7  0.004549\n",
              "31    215    min_total_rech_voice  0.004535\n",
              "32    216    max_total_rech_voice  0.004534\n",
              "33     13           roam_og_mou_7  0.004495\n",
              "34    131        night_pck_user_8  0.004491\n",
              "35    200     mean_total_rech_num  0.004382\n",
              "36     28            loc_og_mou_7  0.004346\n",
              "37      1                  arpu_7  0.004346\n",
              "38    167     mean_loc_ic_t2m_mou  0.004305\n",
              "39     77            std_ic_mou_8  0.004300\n",
              "40    162        mean_roam_og_mou  0.004279\n",
              "41     64            loc_ic_mou_7  0.004244\n",
              "42    207   mean_last_day_rch_amt  0.004209\n",
              "43    196          mean_total_mou  0.004176\n",
              "44     90        total_rech_num_6  0.004166\n",
              "45     93        total_rech_amt_6  0.004161\n",
              "46      0                  arpu_6  0.004139\n",
              "47    214   mean_total_rech_voice  0.004138\n",
              "48    163           mean_roam_mou  0.004129\n",
              "49    231       fb_user_weightage  0.004113"
            ],
            "text/html": [
              "\n",
              "  <div id=\"df-546624da-e827-462f-b0d9-551f5fe63aa7\">\n",
              "    <div class=\"colab-df-container\">\n",
              "      <div>\n",
              "<style scoped>\n",
              "    .dataframe tbody tr th:only-of-type {\n",
              "        vertical-align: middle;\n",
              "    }\n",
              "\n",
              "    .dataframe tbody tr th {\n",
              "        vertical-align: top;\n",
              "    }\n",
              "\n",
              "    .dataframe thead th {\n",
              "        text-align: right;\n",
              "    }\n",
              "</style>\n",
              "<table border=\"1\" class=\"dataframe\">\n",
              "  <thead>\n",
              "    <tr style=\"text-align: right;\">\n",
              "      <th></th>\n",
              "      <th>index</th>\n",
              "      <th>Feature</th>\n",
              "      <th>Score</th>\n",
              "    </tr>\n",
              "  </thead>\n",
              "  <tbody>\n",
              "    <tr>\n",
              "      <th>0</th>\n",
              "      <td>193</td>\n",
              "      <td>total_ic_weightage</td>\n",
              "      <td>0.138129</td>\n",
              "    </tr>\n",
              "    <tr>\n",
              "      <th>1</th>\n",
              "      <td>195</td>\n",
              "      <td>total_og_weightage</td>\n",
              "      <td>0.086648</td>\n",
              "    </tr>\n",
              "    <tr>\n",
              "      <th>2</th>\n",
              "      <td>224</td>\n",
              "      <td>rech_amt_weightage</td>\n",
              "      <td>0.046785</td>\n",
              "    </tr>\n",
              "    <tr>\n",
              "      <th>3</th>\n",
              "      <td>223</td>\n",
              "      <td>rech_num_weightage</td>\n",
              "      <td>0.015455</td>\n",
              "    </tr>\n",
              "    <tr>\n",
              "      <th>4</th>\n",
              "      <td>80</td>\n",
              "      <td>total_ic_mou_8</td>\n",
              "      <td>0.014081</td>\n",
              "    </tr>\n",
              "    <tr>\n",
              "      <th>5</th>\n",
              "      <td>199</td>\n",
              "      <td>mean_total_mou_8</td>\n",
              "      <td>0.011561</td>\n",
              "    </tr>\n",
              "    <tr>\n",
              "      <th>6</th>\n",
              "      <td>154</td>\n",
              "      <td>days_since_last_rech</td>\n",
              "      <td>0.011411</td>\n",
              "    </tr>\n",
              "    <tr>\n",
              "      <th>7</th>\n",
              "      <td>59</td>\n",
              "      <td>loc_ic_t2m_mou_8</td>\n",
              "      <td>0.011049</td>\n",
              "    </tr>\n",
              "    <tr>\n",
              "      <th>8</th>\n",
              "      <td>65</td>\n",
              "      <td>loc_ic_mou_8</td>\n",
              "      <td>0.010685</td>\n",
              "    </tr>\n",
              "    <tr>\n",
              "      <th>9</th>\n",
              "      <td>155</td>\n",
              "      <td>rech_weightage</td>\n",
              "      <td>0.009839</td>\n",
              "    </tr>\n",
              "    <tr>\n",
              "      <th>10</th>\n",
              "      <td>14</td>\n",
              "      <td>roam_og_mou_8</td>\n",
              "      <td>0.009273</td>\n",
              "    </tr>\n",
              "    <tr>\n",
              "      <th>11</th>\n",
              "      <td>53</td>\n",
              "      <td>total_og_mou_8</td>\n",
              "      <td>0.009046</td>\n",
              "    </tr>\n",
              "    <tr>\n",
              "      <th>12</th>\n",
              "      <td>95</td>\n",
              "      <td>total_rech_amt_8</td>\n",
              "      <td>0.008860</td>\n",
              "    </tr>\n",
              "    <tr>\n",
              "      <th>13</th>\n",
              "      <td>20</td>\n",
              "      <td>loc_og_t2m_mou_8</td>\n",
              "      <td>0.007962</td>\n",
              "    </tr>\n",
              "    <tr>\n",
              "      <th>14</th>\n",
              "      <td>98</td>\n",
              "      <td>max_rech_amt_8</td>\n",
              "      <td>0.007767</td>\n",
              "    </tr>\n",
              "    <tr>\n",
              "      <th>15</th>\n",
              "      <td>29</td>\n",
              "      <td>loc_og_mou_8</td>\n",
              "      <td>0.007080</td>\n",
              "    </tr>\n",
              "    <tr>\n",
              "      <th>16</th>\n",
              "      <td>92</td>\n",
              "      <td>total_rech_num_8</td>\n",
              "      <td>0.006627</td>\n",
              "    </tr>\n",
              "    <tr>\n",
              "      <th>17</th>\n",
              "      <td>58</td>\n",
              "      <td>loc_ic_t2m_mou_7</td>\n",
              "      <td>0.006579</td>\n",
              "    </tr>\n",
              "    <tr>\n",
              "      <th>18</th>\n",
              "      <td>11</td>\n",
              "      <td>roam_ic_mou_8</td>\n",
              "      <td>0.006429</td>\n",
              "    </tr>\n",
              "    <tr>\n",
              "      <th>19</th>\n",
              "      <td>147</td>\n",
              "      <td>aon</td>\n",
              "      <td>0.005780</td>\n",
              "    </tr>\n",
              "    <tr>\n",
              "      <th>20</th>\n",
              "      <td>169</td>\n",
              "      <td>mean_loc_t2m_mou</td>\n",
              "      <td>0.005549</td>\n",
              "    </tr>\n",
              "    <tr>\n",
              "      <th>21</th>\n",
              "      <td>101</td>\n",
              "      <td>last_day_rch_amt_8</td>\n",
              "      <td>0.005398</td>\n",
              "    </tr>\n",
              "    <tr>\n",
              "      <th>22</th>\n",
              "      <td>192</td>\n",
              "      <td>mean_total_ic_mou</td>\n",
              "      <td>0.005278</td>\n",
              "    </tr>\n",
              "    <tr>\n",
              "      <th>23</th>\n",
              "      <td>153</td>\n",
              "      <td>total_rech_amt_voice_8</td>\n",
              "      <td>0.005277</td>\n",
              "    </tr>\n",
              "    <tr>\n",
              "      <th>24</th>\n",
              "      <td>8</td>\n",
              "      <td>offnet_mou_8</td>\n",
              "      <td>0.005228</td>\n",
              "    </tr>\n",
              "    <tr>\n",
              "      <th>25</th>\n",
              "      <td>2</td>\n",
              "      <td>arpu_8</td>\n",
              "      <td>0.005222</td>\n",
              "    </tr>\n",
              "    <tr>\n",
              "      <th>26</th>\n",
              "      <td>202</td>\n",
              "      <td>max_total_rech_num</td>\n",
              "      <td>0.004928</td>\n",
              "    </tr>\n",
              "    <tr>\n",
              "      <th>27</th>\n",
              "      <td>91</td>\n",
              "      <td>total_rech_num_7</td>\n",
              "      <td>0.004857</td>\n",
              "    </tr>\n",
              "    <tr>\n",
              "      <th>28</th>\n",
              "      <td>201</td>\n",
              "      <td>min_total_rech_num</td>\n",
              "      <td>0.004800</td>\n",
              "    </tr>\n",
              "    <tr>\n",
              "      <th>29</th>\n",
              "      <td>182</td>\n",
              "      <td>mean_loc_mou</td>\n",
              "      <td>0.004790</td>\n",
              "    </tr>\n",
              "    <tr>\n",
              "      <th>30</th>\n",
              "      <td>7</td>\n",
              "      <td>offnet_mou_7</td>\n",
              "      <td>0.004549</td>\n",
              "    </tr>\n",
              "    <tr>\n",
              "      <th>31</th>\n",
              "      <td>215</td>\n",
              "      <td>min_total_rech_voice</td>\n",
              "      <td>0.004535</td>\n",
              "    </tr>\n",
              "    <tr>\n",
              "      <th>32</th>\n",
              "      <td>216</td>\n",
              "      <td>max_total_rech_voice</td>\n",
              "      <td>0.004534</td>\n",
              "    </tr>\n",
              "    <tr>\n",
              "      <th>33</th>\n",
              "      <td>13</td>\n",
              "      <td>roam_og_mou_7</td>\n",
              "      <td>0.004495</td>\n",
              "    </tr>\n",
              "    <tr>\n",
              "      <th>34</th>\n",
              "      <td>131</td>\n",
              "      <td>night_pck_user_8</td>\n",
              "      <td>0.004491</td>\n",
              "    </tr>\n",
              "    <tr>\n",
              "      <th>35</th>\n",
              "      <td>200</td>\n",
              "      <td>mean_total_rech_num</td>\n",
              "      <td>0.004382</td>\n",
              "    </tr>\n",
              "    <tr>\n",
              "      <th>36</th>\n",
              "      <td>28</td>\n",
              "      <td>loc_og_mou_7</td>\n",
              "      <td>0.004346</td>\n",
              "    </tr>\n",
              "    <tr>\n",
              "      <th>37</th>\n",
              "      <td>1</td>\n",
              "      <td>arpu_7</td>\n",
              "      <td>0.004346</td>\n",
              "    </tr>\n",
              "    <tr>\n",
              "      <th>38</th>\n",
              "      <td>167</td>\n",
              "      <td>mean_loc_ic_t2m_mou</td>\n",
              "      <td>0.004305</td>\n",
              "    </tr>\n",
              "    <tr>\n",
              "      <th>39</th>\n",
              "      <td>77</td>\n",
              "      <td>std_ic_mou_8</td>\n",
              "      <td>0.004300</td>\n",
              "    </tr>\n",
              "    <tr>\n",
              "      <th>40</th>\n",
              "      <td>162</td>\n",
              "      <td>mean_roam_og_mou</td>\n",
              "      <td>0.004279</td>\n",
              "    </tr>\n",
              "    <tr>\n",
              "      <th>41</th>\n",
              "      <td>64</td>\n",
              "      <td>loc_ic_mou_7</td>\n",
              "      <td>0.004244</td>\n",
              "    </tr>\n",
              "    <tr>\n",
              "      <th>42</th>\n",
              "      <td>207</td>\n",
              "      <td>mean_last_day_rch_amt</td>\n",
              "      <td>0.004209</td>\n",
              "    </tr>\n",
              "    <tr>\n",
              "      <th>43</th>\n",
              "      <td>196</td>\n",
              "      <td>mean_total_mou</td>\n",
              "      <td>0.004176</td>\n",
              "    </tr>\n",
              "    <tr>\n",
              "      <th>44</th>\n",
              "      <td>90</td>\n",
              "      <td>total_rech_num_6</td>\n",
              "      <td>0.004166</td>\n",
              "    </tr>\n",
              "    <tr>\n",
              "      <th>45</th>\n",
              "      <td>93</td>\n",
              "      <td>total_rech_amt_6</td>\n",
              "      <td>0.004161</td>\n",
              "    </tr>\n",
              "    <tr>\n",
              "      <th>46</th>\n",
              "      <td>0</td>\n",
              "      <td>arpu_6</td>\n",
              "      <td>0.004139</td>\n",
              "    </tr>\n",
              "    <tr>\n",
              "      <th>47</th>\n",
              "      <td>214</td>\n",
              "      <td>mean_total_rech_voice</td>\n",
              "      <td>0.004138</td>\n",
              "    </tr>\n",
              "    <tr>\n",
              "      <th>48</th>\n",
              "      <td>163</td>\n",
              "      <td>mean_roam_mou</td>\n",
              "      <td>0.004129</td>\n",
              "    </tr>\n",
              "    <tr>\n",
              "      <th>49</th>\n",
              "      <td>231</td>\n",
              "      <td>fb_user_weightage</td>\n",
              "      <td>0.004113</td>\n",
              "    </tr>\n",
              "  </tbody>\n",
              "</table>\n",
              "</div>\n",
              "      <button class=\"colab-df-convert\" onclick=\"convertToInteractive('df-546624da-e827-462f-b0d9-551f5fe63aa7')\"\n",
              "              title=\"Convert this dataframe to an interactive table.\"\n",
              "              style=\"display:none;\">\n",
              "        \n",
              "  <svg xmlns=\"http://www.w3.org/2000/svg\" height=\"24px\"viewBox=\"0 0 24 24\"\n",
              "       width=\"24px\">\n",
              "    <path d=\"M0 0h24v24H0V0z\" fill=\"none\"/>\n",
              "    <path d=\"M18.56 5.44l.94 2.06.94-2.06 2.06-.94-2.06-.94-.94-2.06-.94 2.06-2.06.94zm-11 1L8.5 8.5l.94-2.06 2.06-.94-2.06-.94L8.5 2.5l-.94 2.06-2.06.94zm10 10l.94 2.06.94-2.06 2.06-.94-2.06-.94-.94-2.06-.94 2.06-2.06.94z\"/><path d=\"M17.41 7.96l-1.37-1.37c-.4-.4-.92-.59-1.43-.59-.52 0-1.04.2-1.43.59L10.3 9.45l-7.72 7.72c-.78.78-.78 2.05 0 2.83L4 21.41c.39.39.9.59 1.41.59.51 0 1.02-.2 1.41-.59l7.78-7.78 2.81-2.81c.8-.78.8-2.07 0-2.86zM5.41 20L4 18.59l7.72-7.72 1.47 1.35L5.41 20z\"/>\n",
              "  </svg>\n",
              "      </button>\n",
              "      \n",
              "  <style>\n",
              "    .colab-df-container {\n",
              "      display:flex;\n",
              "      flex-wrap:wrap;\n",
              "      gap: 12px;\n",
              "    }\n",
              "\n",
              "    .colab-df-convert {\n",
              "      background-color: #E8F0FE;\n",
              "      border: none;\n",
              "      border-radius: 50%;\n",
              "      cursor: pointer;\n",
              "      display: none;\n",
              "      fill: #1967D2;\n",
              "      height: 32px;\n",
              "      padding: 0 0 0 0;\n",
              "      width: 32px;\n",
              "    }\n",
              "\n",
              "    .colab-df-convert:hover {\n",
              "      background-color: #E2EBFA;\n",
              "      box-shadow: 0px 1px 2px rgba(60, 64, 67, 0.3), 0px 1px 3px 1px rgba(60, 64, 67, 0.15);\n",
              "      fill: #174EA6;\n",
              "    }\n",
              "\n",
              "    [theme=dark] .colab-df-convert {\n",
              "      background-color: #3B4455;\n",
              "      fill: #D2E3FC;\n",
              "    }\n",
              "\n",
              "    [theme=dark] .colab-df-convert:hover {\n",
              "      background-color: #434B5C;\n",
              "      box-shadow: 0px 1px 3px 1px rgba(0, 0, 0, 0.15);\n",
              "      filter: drop-shadow(0px 1px 2px rgba(0, 0, 0, 0.3));\n",
              "      fill: #FFFFFF;\n",
              "    }\n",
              "  </style>\n",
              "\n",
              "      <script>\n",
              "        const buttonEl =\n",
              "          document.querySelector('#df-546624da-e827-462f-b0d9-551f5fe63aa7 button.colab-df-convert');\n",
              "        buttonEl.style.display =\n",
              "          google.colab.kernel.accessAllowed ? 'block' : 'none';\n",
              "\n",
              "        async function convertToInteractive(key) {\n",
              "          const element = document.querySelector('#df-546624da-e827-462f-b0d9-551f5fe63aa7');\n",
              "          const dataTable =\n",
              "            await google.colab.kernel.invokeFunction('convertToInteractive',\n",
              "                                                     [key], {});\n",
              "          if (!dataTable) return;\n",
              "\n",
              "          const docLinkHtml = 'Like what you see? Visit the ' +\n",
              "            '<a target=\"_blank\" href=https://colab.research.google.com/notebooks/data_table.ipynb>data table notebook</a>'\n",
              "            + ' to learn more about interactive tables.';\n",
              "          element.innerHTML = '';\n",
              "          dataTable['output_type'] = 'display_data';\n",
              "          await google.colab.output.renderOutput(dataTable, element);\n",
              "          const docLink = document.createElement('div');\n",
              "          docLink.innerHTML = docLinkHtml;\n",
              "          element.appendChild(docLink);\n",
              "        }\n",
              "      </script>\n",
              "    </div>\n",
              "  </div>\n",
              "  "
            ]
          },
          "metadata": {},
          "execution_count": 127
        }
      ],
      "source": [
        "# Fit the ExtraTreesClassifier model with default params\n",
        "model = ExtraTreesClassifier(n_jobs=-1, random_state=RANDOM_STATE)\n",
        "model.fit(X, Y)\n",
        "\n",
        "# Check the feature importance score for each feature\n",
        "feature_imp_df = pd.DataFrame({'Feature':data.columns, 'Score':model.feature_importances_})\n",
        "# Order the features by max score\n",
        "feature_imp_df = feature_imp_df.sort_values('Score', ascending=False).reset_index()\n",
        "feature_imp_df.head(50)\n"
      ],
      "id": "e87924e0"
    },
    {
      "cell_type": "code",
      "execution_count": 128,
      "metadata": {
        "colab": {
          "base_uri": "https://localhost:8080/",
          "height": 483
        },
        "id": "D_wJI7_oxis1",
        "outputId": "f0f53397-55ea-432e-c09a-54496d212bfd"
      },
      "outputs": [
        {
          "output_type": "display_data",
          "data": {
            "text/plain": [
              "<Figure size 864x576 with 1 Axes>"
            ],
            "image/png": "[encoded data removed]"
          },
          "metadata": {
            "needs_background": "light"
          }
        }
      ],
      "source": [
        "#plot graph of feature importance for better visualization\n",
        "\n",
        "plt.figure(figsize = (12,8))\n",
        "feat_importance = pd.Series(model.feature_importances_,index=data.columns)\n",
        "feat_importance.nlargest(20).plot(kind='barh')\n",
        "plt.show()"
      ],
      "id": "D_wJI7_oxis1"
    },
    {
      "cell_type": "code",
      "source": [
        "cols = ['total_og_weightage','max_rech_amt_8','days_since_last_rech','loc_og_t2m_mou_8','roam_og_mou_8',\n",
        "        'total_og_mou_8','total_rech_num_8','arpu_8','fb_user_weightage','aon']\n",
        "\n",
        "X = data[cols]\n",
        "Y = churn\n",
        "\n",
        "# fit the data in GLM model\n",
        "logm = sm.GLM(Y,(sm.add_constant(X)), family = sm.families.Binomial())\n",
        "modres = logm.fit()\n",
        "# print the summary results\n",
        "logm.fit().summary()"
      ],
      "metadata": {
        "colab": {
          "base_uri": "https://localhost:8080/",
          "height": 532
        },
        "id": "_DU6P3nSYdTm",
        "outputId": "d6033c81-c197-405d-f90e-f7608624240e"
      },
      "id": "_DU6P3nSYdTm",
      "execution_count": 129,
      "outputs": [
        {
          "output_type": "stream",
          "name": "stderr",
          "text": [
            "/usr/local/lib/python3.7/dist-packages/statsmodels/tsa/tsatools.py:117: FutureWarning: In a future version of pandas all arguments of concat except for the argument 'objs' will be keyword-only\n",
            "  x = pd.concat(x[::order], 1)\n"
          ]
        },
        {
          "output_type": "execute_result",
          "data": {
            "text/plain": [
              "<class 'statsmodels.iolib.summary.Summary'>\n",
              "\"\"\"\n",
              "                 Generalized Linear Model Regression Results                  \n",
              "==============================================================================\n",
              "Dep. Variable:                  churn   No. Observations:                99999\n",
              "Model:                            GLM   Df Residuals:                    99988\n",
              "Model Family:                Binomial   Df Model:                           10\n",
              "Link Function:                  logit   Scale:                          1.0000\n",
              "Method:                          IRLS   Log-Likelihood:                -20309.\n",
              "Date:                Fri, 08 Apr 2022   Deviance:                       40618.\n",
              "Time:                        10:41:48   Pearson chi2:                 1.55e+05\n",
              "No. Iterations:                     8                                         \n",
              "Covariance Type:            nonrobust                                         \n",
              "========================================================================================\n",
              "                           coef    std err          z      P>|z|      [0.025      0.975]\n",
              "----------------------------------------------------------------------------------------\n",
              "const                   -1.2915      0.088    -14.627      0.000      -1.464      -1.118\n",
              "total_og_weightage      -0.0255      0.000    -81.205      0.000      -0.026      -0.025\n",
              "max_rech_amt_8          -0.0030      0.000    -12.670      0.000      -0.003      -0.003\n",
              "days_since_last_rech     0.0275      0.001     23.696      0.000       0.025       0.030\n",
              "loc_og_t2m_mou_8        -0.0057      0.000    -17.130      0.000      -0.006      -0.005\n",
              "roam_og_mou_8            0.0079      0.000     19.185      0.000       0.007       0.009\n",
              "total_og_mou_8        6.655e-05   7.26e-05      0.917      0.359   -7.57e-05       0.000\n",
              "total_rech_num_8        -0.0327      0.004     -8.114      0.000      -0.041      -0.025\n",
              "arpu_8                   0.0005      0.000      3.256      0.001       0.000       0.001\n",
              "fb_user_weightage        0.0092      0.000     23.507      0.000       0.008       0.010\n",
              "aon                     -0.0004   1.81e-05    -23.605      0.000      -0.000      -0.000\n",
              "========================================================================================\n",
              "\"\"\""
            ],
            "text/html": [
              "<table class=\"simpletable\">\n",
              "<caption>Generalized Linear Model Regression Results</caption>\n",
              "<tr>\n",
              "  <th>Dep. Variable:</th>         <td>churn</td>      <th>  No. Observations:  </th>  <td> 99999</td> \n",
              "</tr>\n",
              "<tr>\n",
              "  <th>Model:</th>                  <td>GLM</td>       <th>  Df Residuals:      </th>  <td> 99988</td> \n",
              "</tr>\n",
              "<tr>\n",
              "  <th>Model Family:</th>        <td>Binomial</td>     <th>  Df Model:          </th>  <td>    10</td> \n",
              "</tr>\n",
              "<tr>\n",
              "  <th>Link Function:</th>         <td>logit</td>      <th>  Scale:             </th> <td>  1.0000</td>\n",
              "</tr>\n",
              "<tr>\n",
              "  <th>Method:</th>                <td>IRLS</td>       <th>  Log-Likelihood:    </th> <td> -20309.</td>\n",
              "</tr>\n",
              "<tr>\n",
              "  <th>Date:</th>            <td>Fri, 08 Apr 2022</td> <th>  Deviance:          </th> <td>  40618.</td>\n",
              "</tr>\n",
              "<tr>\n",
              "  <th>Time:</th>                <td>10:41:48</td>     <th>  Pearson chi2:      </th> <td>1.55e+05</td>\n",
              "</tr>\n",
              "<tr>\n",
              "  <th>No. Iterations:</th>          <td>8</td>        <th>                     </th>     <td> </td>   \n",
              "</tr>\n",
              "<tr>\n",
              "  <th>Covariance Type:</th>     <td>nonrobust</td>    <th>                     </th>     <td> </td>   \n",
              "</tr>\n",
              "</table>\n",
              "<table class=\"simpletable\">\n",
              "<tr>\n",
              "            <td></td>              <th>coef</th>     <th>std err</th>      <th>z</th>      <th>P>|z|</th>  <th>[0.025</th>    <th>0.975]</th>  \n",
              "</tr>\n",
              "<tr>\n",
              "  <th>const</th>                <td>   -1.2915</td> <td>    0.088</td> <td>  -14.627</td> <td> 0.000</td> <td>   -1.464</td> <td>   -1.118</td>\n",
              "</tr>\n",
              "<tr>\n",
              "  <th>total_og_weightage</th>   <td>   -0.0255</td> <td>    0.000</td> <td>  -81.205</td> <td> 0.000</td> <td>   -0.026</td> <td>   -0.025</td>\n",
              "</tr>\n",
              "<tr>\n",
              "  <th>max_rech_amt_8</th>       <td>   -0.0030</td> <td>    0.000</td> <td>  -12.670</td> <td> 0.000</td> <td>   -0.003</td> <td>   -0.003</td>\n",
              "</tr>\n",
              "<tr>\n",
              "  <th>days_since_last_rech</th> <td>    0.0275</td> <td>    0.001</td> <td>   23.696</td> <td> 0.000</td> <td>    0.025</td> <td>    0.030</td>\n",
              "</tr>\n",
              "<tr>\n",
              "  <th>loc_og_t2m_mou_8</th>     <td>   -0.0057</td> <td>    0.000</td> <td>  -17.130</td> <td> 0.000</td> <td>   -0.006</td> <td>   -0.005</td>\n",
              "</tr>\n",
              "<tr>\n",
              "  <th>roam_og_mou_8</th>        <td>    0.0079</td> <td>    0.000</td> <td>   19.185</td> <td> 0.000</td> <td>    0.007</td> <td>    0.009</td>\n",
              "</tr>\n",
              "<tr>\n",
              "  <th>total_og_mou_8</th>       <td> 6.655e-05</td> <td> 7.26e-05</td> <td>    0.917</td> <td> 0.359</td> <td>-7.57e-05</td> <td>    0.000</td>\n",
              "</tr>\n",
              "<tr>\n",
              "  <th>total_rech_num_8</th>     <td>   -0.0327</td> <td>    0.004</td> <td>   -8.114</td> <td> 0.000</td> <td>   -0.041</td> <td>   -0.025</td>\n",
              "</tr>\n",
              "<tr>\n",
              "  <th>arpu_8</th>               <td>    0.0005</td> <td>    0.000</td> <td>    3.256</td> <td> 0.001</td> <td>    0.000</td> <td>    0.001</td>\n",
              "</tr>\n",
              "<tr>\n",
              "  <th>fb_user_weightage</th>    <td>    0.0092</td> <td>    0.000</td> <td>   23.507</td> <td> 0.000</td> <td>    0.008</td> <td>    0.010</td>\n",
              "</tr>\n",
              "<tr>\n",
              "  <th>aon</th>                  <td>   -0.0004</td> <td> 1.81e-05</td> <td>  -23.605</td> <td> 0.000</td> <td>   -0.000</td> <td>   -0.000</td>\n",
              "</tr>\n",
              "</table>"
            ]
          },
          "metadata": {},
          "execution_count": 129
        }
      ]
    },
    {
      "cell_type": "code",
      "execution_count": 130,
      "metadata": {
        "id": "TYuZZgERgB6i"
      },
      "outputs": [],
      "source": [
        "#selected features with less p-value\n",
        "cols = ['total_og_weightage','max_rech_amt_8','days_since_last_rech','loc_og_t2m_mou_8','roam_og_mou_8',\n",
        "        'total_rech_num_8','arpu_8','fb_user_weightage','aon']\n",
        "data = data[cols]"
      ],
      "id": "TYuZZgERgB6i"
    },
    {
      "cell_type": "code",
      "source": [
        "data.columns"
      ],
      "metadata": {
        "colab": {
          "base_uri": "https://localhost:8080/"
        },
        "id": "kwQdDBZKYuF4",
        "outputId": "79c8ddc8-346c-4212-f457-c47049bf24e2"
      },
      "id": "kwQdDBZKYuF4",
      "execution_count": 131,
      "outputs": [
        {
          "output_type": "execute_result",
          "data": {
            "text/plain": [
              "Index(['total_og_weightage', 'max_rech_amt_8', 'days_since_last_rech',\n",
              "       'loc_og_t2m_mou_8', 'roam_og_mou_8', 'total_rech_num_8', 'arpu_8',\n",
              "       'fb_user_weightage', 'aon'],\n",
              "      dtype='object')"
            ]
          },
          "metadata": {},
          "execution_count": 131
        }
      ]
    },
    {
      "cell_type": "code",
      "source": [
        "\n",
        "data.dtypes\n",
        "\n"
      ],
      "metadata": {
        "colab": {
          "base_uri": "https://localhost:8080/"
        },
        "id": "3K_-8Yv0P4PU",
        "outputId": "047a1ea1-aafd-4fb0-a595-9f75498739d9"
      },
      "id": "3K_-8Yv0P4PU",
      "execution_count": 132,
      "outputs": [
        {
          "output_type": "execute_result",
          "data": {
            "text/plain": [
              "total_og_weightage        int64\n",
              "max_rech_amt_8            int64\n",
              "days_since_last_rech    float64\n",
              "loc_og_t2m_mou_8        float64\n",
              "roam_og_mou_8           float64\n",
              "total_rech_num_8          int64\n",
              "arpu_8                  float64\n",
              "fb_user_weightage       float64\n",
              "aon                       int64\n",
              "dtype: object"
            ]
          },
          "metadata": {},
          "execution_count": 132
        }
      ]
    },
    {
      "cell_type": "code",
      "source": [
        "data.head(5)"
      ],
      "metadata": {
        "id": "OADgiTOW1g7K",
        "colab": {
          "base_uri": "https://localhost:8080/",
          "height": 250
        },
        "outputId": "e8159a35-bacd-4fa4-c046-e9b137402904"
      },
      "id": "OADgiTOW1g7K",
      "execution_count": 133,
      "outputs": [
        {
          "output_type": "execute_result",
          "data": {
            "text/plain": [
              "   total_og_weightage  max_rech_amt_8  days_since_last_rech  loc_og_t2m_mou_8  \\\n",
              "0                   0             252                  23.0              0.00   \n",
              "1                 111              65                   3.0            291.86   \n",
              "2                 111              86                  17.0             38.46   \n",
              "3                 111              50                   0.0             22.46   \n",
              "4                 111             110                  22.0            124.26   \n",
              "\n",
              "   roam_og_mou_8  total_rech_num_8   arpu_8  fb_user_weightage   aon  \n",
              "0           0.00                 2  213.803              111.0   968  \n",
              "1           0.00                11  268.321              112.0  1006  \n",
              "2           0.00                 2  210.226              222.0  1103  \n",
              "3          39.04                18  508.054              222.0  2491  \n",
              "4           0.00                 3  238.174              220.0  1526  "
            ],
            "text/html": [
              "\n",
              "  <div id=\"df-f9500b4b-7bc3-417a-81b8-903e404f942a\">\n",
              "    <div class=\"colab-df-container\">\n",
              "      <div>\n",
              "<style scoped>\n",
              "    .dataframe tbody tr th:only-of-type {\n",
              "        vertical-align: middle;\n",
              "    }\n",
              "\n",
              "    .dataframe tbody tr th {\n",
              "        vertical-align: top;\n",
              "    }\n",
              "\n",
              "    .dataframe thead th {\n",
              "        text-align: right;\n",
              "    }\n",
              "</style>\n",
              "<table border=\"1\" class=\"dataframe\">\n",
              "  <thead>\n",
              "    <tr style=\"text-align: right;\">\n",
              "      <th></th>\n",
              "      <th>total_og_weightage</th>\n",
              "      <th>max_rech_amt_8</th>\n",
              "      <th>days_since_last_rech</th>\n",
              "      <th>loc_og_t2m_mou_8</th>\n",
              "      <th>roam_og_mou_8</th>\n",
              "      <th>total_rech_num_8</th>\n",
              "      <th>arpu_8</th>\n",
              "      <th>fb_user_weightage</th>\n",
              "      <th>aon</th>\n",
              "    </tr>\n",
              "  </thead>\n",
              "  <tbody>\n",
              "    <tr>\n",
              "      <th>0</th>\n",
              "      <td>0</td>\n",
              "      <td>252</td>\n",
              "      <td>23.0</td>\n",
              "      <td>0.00</td>\n",
              "      <td>0.00</td>\n",
              "      <td>2</td>\n",
              "      <td>213.803</td>\n",
              "      <td>111.0</td>\n",
              "      <td>968</td>\n",
              "    </tr>\n",
              "    <tr>\n",
              "      <th>1</th>\n",
              "      <td>111</td>\n",
              "      <td>65</td>\n",
              "      <td>3.0</td>\n",
              "      <td>291.86</td>\n",
              "      <td>0.00</td>\n",
              "      <td>11</td>\n",
              "      <td>268.321</td>\n",
              "      <td>112.0</td>\n",
              "      <td>1006</td>\n",
              "    </tr>\n",
              "    <tr>\n",
              "      <th>2</th>\n",
              "      <td>111</td>\n",
              "      <td>86</td>\n",
              "      <td>17.0</td>\n",
              "      <td>38.46</td>\n",
              "      <td>0.00</td>\n",
              "      <td>2</td>\n",
              "      <td>210.226</td>\n",
              "      <td>222.0</td>\n",
              "      <td>1103</td>\n",
              "    </tr>\n",
              "    <tr>\n",
              "      <th>3</th>\n",
              "      <td>111</td>\n",
              "      <td>50</td>\n",
              "      <td>0.0</td>\n",
              "      <td>22.46</td>\n",
              "      <td>39.04</td>\n",
              "      <td>18</td>\n",
              "      <td>508.054</td>\n",
              "      <td>222.0</td>\n",
              "      <td>2491</td>\n",
              "    </tr>\n",
              "    <tr>\n",
              "      <th>4</th>\n",
              "      <td>111</td>\n",
              "      <td>110</td>\n",
              "      <td>22.0</td>\n",
              "      <td>124.26</td>\n",
              "      <td>0.00</td>\n",
              "      <td>3</td>\n",
              "      <td>238.174</td>\n",
              "      <td>220.0</td>\n",
              "      <td>1526</td>\n",
              "    </tr>\n",
              "  </tbody>\n",
              "</table>\n",
              "</div>\n",
              "      <button class=\"colab-df-convert\" onclick=\"convertToInteractive('df-f9500b4b-7bc3-417a-81b8-903e404f942a')\"\n",
              "              title=\"Convert this dataframe to an interactive table.\"\n",
              "              style=\"display:none;\">\n",
              "        \n",
              "  <svg xmlns=\"http://www.w3.org/2000/svg\" height=\"24px\"viewBox=\"0 0 24 24\"\n",
              "       width=\"24px\">\n",
              "    <path d=\"M0 0h24v24H0V0z\" fill=\"none\"/>\n",
              "    <path d=\"M18.56 5.44l.94 2.06.94-2.06 2.06-.94-2.06-.94-.94-2.06-.94 2.06-2.06.94zm-11 1L8.5 8.5l.94-2.06 2.06-.94-2.06-.94L8.5 2.5l-.94 2.06-2.06.94zm10 10l.94 2.06.94-2.06 2.06-.94-2.06-.94-.94-2.06-.94 2.06-2.06.94z\"/><path d=\"M17.41 7.96l-1.37-1.37c-.4-.4-.92-.59-1.43-.59-.52 0-1.04.2-1.43.59L10.3 9.45l-7.72 7.72c-.78.78-.78 2.05 0 2.83L4 21.41c.39.39.9.59 1.41.59.51 0 1.02-.2 1.41-.59l7.78-7.78 2.81-2.81c.8-.78.8-2.07 0-2.86zM5.41 20L4 18.59l7.72-7.72 1.47 1.35L5.41 20z\"/>\n",
              "  </svg>\n",
              "      </button>\n",
              "      \n",
              "  <style>\n",
              "    .colab-df-container {\n",
              "      display:flex;\n",
              "      flex-wrap:wrap;\n",
              "      gap: 12px;\n",
              "    }\n",
              "\n",
              "    .colab-df-convert {\n",
              "      background-color: #E8F0FE;\n",
              "      border: none;\n",
              "      border-radius: 50%;\n",
              "      cursor: pointer;\n",
              "      display: none;\n",
              "      fill: #1967D2;\n",
              "      height: 32px;\n",
              "      padding: 0 0 0 0;\n",
              "      width: 32px;\n",
              "    }\n",
              "\n",
              "    .colab-df-convert:hover {\n",
              "      background-color: #E2EBFA;\n",
              "      box-shadow: 0px 1px 2px rgba(60, 64, 67, 0.3), 0px 1px 3px 1px rgba(60, 64, 67, 0.15);\n",
              "      fill: #174EA6;\n",
              "    }\n",
              "\n",
              "    [theme=dark] .colab-df-convert {\n",
              "      background-color: #3B4455;\n",
              "      fill: #D2E3FC;\n",
              "    }\n",
              "\n",
              "    [theme=dark] .colab-df-convert:hover {\n",
              "      background-color: #434B5C;\n",
              "      box-shadow: 0px 1px 3px 1px rgba(0, 0, 0, 0.15);\n",
              "      filter: drop-shadow(0px 1px 2px rgba(0, 0, 0, 0.3));\n",
              "      fill: #FFFFFF;\n",
              "    }\n",
              "  </style>\n",
              "\n",
              "      <script>\n",
              "        const buttonEl =\n",
              "          document.querySelector('#df-f9500b4b-7bc3-417a-81b8-903e404f942a button.colab-df-convert');\n",
              "        buttonEl.style.display =\n",
              "          google.colab.kernel.accessAllowed ? 'block' : 'none';\n",
              "\n",
              "        async function convertToInteractive(key) {\n",
              "          const element = document.querySelector('#df-f9500b4b-7bc3-417a-81b8-903e404f942a');\n",
              "          const dataTable =\n",
              "            await google.colab.kernel.invokeFunction('convertToInteractive',\n",
              "                                                     [key], {});\n",
              "          if (!dataTable) return;\n",
              "\n",
              "          const docLinkHtml = 'Like what you see? Visit the ' +\n",
              "            '<a target=\"_blank\" href=https://colab.research.google.com/notebooks/data_table.ipynb>data table notebook</a>'\n",
              "            + ' to learn more about interactive tables.';\n",
              "          element.innerHTML = '';\n",
              "          dataTable['output_type'] = 'display_data';\n",
              "          await google.colab.output.renderOutput(dataTable, element);\n",
              "          const docLink = document.createElement('div');\n",
              "          docLink.innerHTML = docLinkHtml;\n",
              "          element.appendChild(docLink);\n",
              "        }\n",
              "      </script>\n",
              "    </div>\n",
              "  </div>\n",
              "  "
            ]
          },
          "metadata": {},
          "execution_count": 133
        }
      ]
    },
    {
      "cell_type": "code",
      "source": [
        ""
      ],
      "metadata": {
        "id": "Vx5JI9ZTaj2e"
      },
      "id": "Vx5JI9ZTaj2e",
      "execution_count": 133,
      "outputs": []
    },
    {
      "cell_type": "code",
      "source": [
        "# Prepare the data\n",
        "X = data\n",
        "Y = churn\n",
        "\n",
        "# Handle class imbalance\n",
        "#smote = SMOTE(random_state=RANDOM_STATE, ratio=1.0)\n",
        "#X, Y = smote.fit_sample(X, Y)\n",
        "\n",
        "adasyn = ADASYN(random_state=RANDOM_STATE)\n",
        "X, Y = adasyn.fit_resample(X, Y)\n",
        "\n",
        "print('Class Balance count : ',Counter(Y))"
      ],
      "metadata": {
        "colab": {
          "base_uri": "https://localhost:8080/"
        },
        "id": "wpe4Lcur31cG",
        "outputId": "b3873866-a934-407f-a85a-2d6ba83cd438"
      },
      "id": "wpe4Lcur31cG",
      "execution_count": 134,
      "outputs": [
        {
          "output_type": "stream",
          "name": "stdout",
          "text": [
            "Class Balance count :  Counter({1: 90078, 0: 89808})\n"
          ]
        }
      ]
    },
    {
      "cell_type": "markdown",
      "source": [
        "##Split into train test"
      ],
      "metadata": {
        "id": "SodTYgYu49YE"
      },
      "id": "SodTYgYu49YE"
    },
    {
      "cell_type": "code",
      "source": [
        "X_train, X_test, Y_train, Y_test = train_test_split(X,Y, test_size=0.3, random_state=RANDOM_STATE)\n",
        "print(X_train.shape, Y_train.shape)\n",
        "print(X_test.shape, Y_test.shape)"
      ],
      "metadata": {
        "colab": {
          "base_uri": "https://localhost:8080/"
        },
        "id": "uZl_LjPy332k",
        "outputId": "a7657081-e61b-4a7a-b95d-ed92d3d492db"
      },
      "id": "uZl_LjPy332k",
      "execution_count": 135,
      "outputs": [
        {
          "output_type": "stream",
          "name": "stdout",
          "text": [
            "(125920, 9) (125920,)\n",
            "(53966, 9) (53966,)\n"
          ]
        }
      ]
    },
    {
      "cell_type": "code",
      "source": [
        "print('Y_train :', Counter(Y_train))\n",
        "print('Y_test :', Counter(Y_test))"
      ],
      "metadata": {
        "colab": {
          "base_uri": "https://localhost:8080/"
        },
        "id": "bP8RPPabZGFt",
        "outputId": "79e138ac-2e8e-45dc-a06e-f7e1fefd825d"
      },
      "id": "bP8RPPabZGFt",
      "execution_count": 136,
      "outputs": [
        {
          "output_type": "stream",
          "name": "stdout",
          "text": [
            "Y_train : Counter({0: 62982, 1: 62938})\n",
            "Y_test : Counter({1: 27140, 0: 26826})\n"
          ]
        }
      ]
    },
    {
      "cell_type": "markdown",
      "source": [
        "#Model Building"
      ],
      "metadata": {
        "id": "kJWElOsu5Bgh"
      },
      "id": "kJWElOsu5Bgh"
    },
    {
      "cell_type": "code",
      "source": [
        "model = ExtraTreesClassifier(bootstrap=False, class_weight='balanced', criterion='gini', max_depth=60, max_features='sqrt',\n",
        "            max_leaf_nodes=None, min_impurity_decrease=0.0, min_samples_leaf=1, min_samples_split=2, \n",
        "            min_weight_fraction_leaf=0.0, n_estimators=600, n_jobs=-1, oob_score=False, random_state=RANDOM_STATE, verbose=0, warm_start=False)\n",
        "model.fit(X_train, Y_train)\n",
        "Y_pred = model.predict(X_test)"
      ],
      "metadata": {
        "id": "MPhxJg4i4boc"
      },
      "id": "MPhxJg4i4boc",
      "execution_count": 137,
      "outputs": []
    },
    {
      "cell_type": "markdown",
      "source": [
        "##Model Evaluation"
      ],
      "metadata": {
        "id": "pXQzYyXC6Ej9"
      },
      "id": "pXQzYyXC6Ej9"
    },
    {
      "cell_type": "code",
      "source": [
        "# Classification Report\n",
        "print('\\nClassification Report : \\n\\n', classification_report(Y_test, Y_pred))\n",
        "\n",
        "# Confusion matrix\n",
        "tn, fp, fn, tp = confusion_matrix(Y_test, Y_pred).ravel()\n",
        "print('\\nTN = {0}, FP = {1}, FN = {2}, TP = {3}\\n\\n'.format(tn, fp, fn, tp))\n",
        "\n",
        "# Model evaluation\n",
        "acc_score, roc_score, prec_score, rec_score,F1_score= evaluate_model(Y_test, Y_pred)"
      ],
      "metadata": {
        "colab": {
          "base_uri": "https://localhost:8080/"
        },
        "id": "f7kFAqg76JTH",
        "outputId": "7e794e3c-0178-4468-abeb-c2a16b5a3e2e"
      },
      "id": "f7kFAqg76JTH",
      "execution_count": 138,
      "outputs": [
        {
          "output_type": "stream",
          "name": "stdout",
          "text": [
            "\n",
            "Classification Report : \n",
            "\n",
            "               precision    recall  f1-score   support\n",
            "\n",
            "           0       0.97      0.94      0.96     26826\n",
            "           1       0.94      0.97      0.96     27140\n",
            "\n",
            "    accuracy                           0.96     53966\n",
            "   macro avg       0.96      0.96      0.96     53966\n",
            "weighted avg       0.96      0.96      0.96     53966\n",
            "\n",
            "\n",
            "TN = 25228, FP = 1598, FN = 756, TP = 26384\n",
            "\n",
            "\n",
            "Accuracy Score :  95.64\n",
            "ROC AUC score :  95.63\n",
            "Precision score :  94.29\n",
            "Recall score :  97.21\n",
            "F1 score :  95.73\n"
          ]
        }
      ]
    },
    {
      "cell_type": "markdown",
      "source": [
        "##Save Model"
      ],
      "metadata": {
        "id": "Lpm09yb_zQbv"
      },
      "id": "Lpm09yb_zQbv"
    },
    {
      "cell_type": "code",
      "source": [
        "import pickle\n",
        "file = 'etc_model.pkl'\n",
        "pickle.dump(model,open(file, 'wb'))\n"
      ],
      "metadata": {
        "id": "7hhaGmhXzSxM"
      },
      "execution_count": 140,
      "outputs": [],
      "id": "7hhaGmhXzSxM"
    },
    {
      "cell_type": "code",
      "source": [
        "load_model = pickle.load(open(file, 'rb'))"
      ],
      "metadata": {
        "id": "vPUqkX8c0ZoW"
      },
      "execution_count": 141,
      "outputs": [],
      "id": "vPUqkX8c0ZoW"
    },
    {
      "cell_type": "code",
      "source": [
        "y_pred = load_model.predict(X_test)\n",
        "y_pred"
      ],
      "metadata": {
        "colab": {
          "base_uri": "https://localhost:8080/"
        },
        "id": "Ua1GLCtI0kOZ",
        "outputId": "11c835b8-41f3-4095-b4cb-d29e9b56fde6"
      },
      "execution_count": 142,
      "outputs": [
        {
          "output_type": "execute_result",
          "data": {
            "text/plain": [
              "array([1, 1, 1, ..., 0, 1, 1])"
            ]
          },
          "metadata": {},
          "execution_count": 142
        }
      ],
      "id": "Ua1GLCtI0kOZ"
    },
    {
      "cell_type": "code",
      "source": [
        "confusion = confusion_matrix(Y_test, y_pred)\n",
        "confusion"
      ],
      "metadata": {
        "colab": {
          "base_uri": "https://localhost:8080/"
        },
        "id": "iFz6C_S-yTTS",
        "outputId": "ece74764-c042-4b7e-e908-ab5375c84934"
      },
      "id": "iFz6C_S-yTTS",
      "execution_count": 149,
      "outputs": [
        {
          "output_type": "execute_result",
          "data": {
            "text/plain": [
              "array([[25228,  1598],\n",
              "       [  756, 26384]])"
            ]
          },
          "metadata": {},
          "execution_count": 149
        }
      ]
    },
    {
      "cell_type": "code",
      "source": [
        ""
      ],
      "metadata": {
        "colab": {
          "base_uri": "https://localhost:8080/"
        },
        "id": "rr9aBO5mzX4x",
        "outputId": "e069d61d-1c1b-41cb-bcf7-75a2183a5fab"
      },
      "id": "rr9aBO5mzX4x",
      "execution_count": 152,
      "outputs": [
        {
          "output_type": "execute_result",
          "data": {
            "text/plain": [
              "(        total_og_weightage  max_rech_amt_8  days_since_last_rech  \\\n",
              " 137268                 111               0              5.000000   \n",
              " 138908                  11               0              7.000000   \n",
              " 130960                 108              79              7.191753   \n",
              " 32673                  111              20              3.000000   \n",
              " 125841                 111             128              3.401465   \n",
              " ...                    ...             ...                   ...   \n",
              " 49462                  111              50              2.000000   \n",
              " 178299                  11              14             16.952417   \n",
              " 76786                  101             100              8.000000   \n",
              " 116476                 109             255             16.076608   \n",
              " 168426                 111             110              5.000000   \n",
              " \n",
              "         loc_og_t2m_mou_8  roam_og_mou_8  total_rech_num_8       arpu_8  \\\n",
              " 137268          1.119292       2.963806                 3    25.526456   \n",
              " 138908          0.000000       0.000000                 4     0.000000   \n",
              " 130960        198.355154      13.886471                 7  1149.126159   \n",
              " 32673           1.300000       0.000000                 2    36.042000   \n",
              " 125841         35.633517      16.512863                 5   242.716796   \n",
              " ...                  ...            ...               ...          ...   \n",
              " 49462          29.140000       0.000000                 9   355.156000   \n",
              " 178299          0.000000     188.161670                 2   358.644905   \n",
              " 76786          19.680000      21.830000                 1   142.602000   \n",
              " 116476         52.362180      13.551210                 3   293.000708   \n",
              " 168426         37.716692       5.246987                 7   232.303851   \n",
              " \n",
              "         fb_user_weightage   aon  \n",
              " 137268         222.000000  1185  \n",
              " 138908         221.140882   331  \n",
              " 130960         104.218568   350  \n",
              " 32673          222.000000   503  \n",
              " 125841         221.799267   967  \n",
              " ...                   ...   ...  \n",
              " 49462          222.000000  2251  \n",
              " 178299           7.471622   778  \n",
              " 76786          222.000000  2973  \n",
              " 116476         211.113141   327  \n",
              " 168426         222.000000   495  \n",
              " \n",
              " [53966 rows x 9 columns], array([1, 1, 1, ..., 0, 1, 1]))"
            ]
          },
          "metadata": {},
          "execution_count": 152
        }
      ]
    },
    {
      "cell_type": "code",
      "source": [
        ""
      ],
      "metadata": {
        "colab": {
          "base_uri": "https://localhost:8080/"
        },
        "id": "D4So_-mkzmOL",
        "outputId": "f028196e-199f-4eb9-f003-64feb29e9850"
      },
      "id": "D4So_-mkzmOL",
      "execution_count": 153,
      "outputs": [
        {
          "output_type": "execute_result",
          "data": {
            "text/plain": [
              "(        total_og_weightage  max_rech_amt_8  days_since_last_rech  \\\n",
              " 137268                 111               0              5.000000   \n",
              " 138908                  11               0              7.000000   \n",
              " 130960                 108              79              7.191753   \n",
              " 32673                  111              20              3.000000   \n",
              " 125841                 111             128              3.401465   \n",
              " ...                    ...             ...                   ...   \n",
              " 49462                  111              50              2.000000   \n",
              " 178299                  11              14             16.952417   \n",
              " 76786                  101             100              8.000000   \n",
              " 116476                 109             255             16.076608   \n",
              " 168426                 111             110              5.000000   \n",
              " \n",
              "         loc_og_t2m_mou_8  roam_og_mou_8  total_rech_num_8       arpu_8  \\\n",
              " 137268          1.119292       2.963806                 3    25.526456   \n",
              " 138908          0.000000       0.000000                 4     0.000000   \n",
              " 130960        198.355154      13.886471                 7  1149.126159   \n",
              " 32673           1.300000       0.000000                 2    36.042000   \n",
              " 125841         35.633517      16.512863                 5   242.716796   \n",
              " ...                  ...            ...               ...          ...   \n",
              " 49462          29.140000       0.000000                 9   355.156000   \n",
              " 178299          0.000000     188.161670                 2   358.644905   \n",
              " 76786          19.680000      21.830000                 1   142.602000   \n",
              " 116476         52.362180      13.551210                 3   293.000708   \n",
              " 168426         37.716692       5.246987                 7   232.303851   \n",
              " \n",
              "         fb_user_weightage   aon  \n",
              " 137268         222.000000  1185  \n",
              " 138908         221.140882   331  \n",
              " 130960         104.218568   350  \n",
              " 32673          222.000000   503  \n",
              " 125841         221.799267   967  \n",
              " ...                   ...   ...  \n",
              " 49462          222.000000  2251  \n",
              " 178299           7.471622   778  \n",
              " 76786          222.000000  2973  \n",
              " 116476         211.113141   327  \n",
              " 168426         222.000000   495  \n",
              " \n",
              " [53966 rows x 9 columns], 137268    1\n",
              " 138908    1\n",
              " 130960    1\n",
              " 32673     1\n",
              " 125841    1\n",
              "          ..\n",
              " 49462     0\n",
              " 178299    1\n",
              " 76786     0\n",
              " 116476    1\n",
              " 168426    1\n",
              " Name: churn, Length: 53966, dtype: int64)"
            ]
          },
          "metadata": {},
          "execution_count": 153
        }
      ]
    },
    {
      "cell_type": "code",
      "source": [
        ""
      ],
      "metadata": {
        "id": "BWjLz7l63znV"
      },
      "id": "BWjLz7l63znV",
      "execution_count": null,
      "outputs": []
    }
  ],
  "metadata": {
    "colab": {
      "collapsed_sections": [],
      "name": "TELECOM_CHURN_PREIDCTION_FINAL.ipynb",
      "provenance": []
    },
    "kernelspec": {
      "display_name": "Python 3 (ipykernel)",
      "language": "python",
      "name": "python3"
    },
    "language_info": {
      "codemirror_mode": {
        "name": "ipython",
        "version": 3
      },
      "file_extension": ".py",
      "mimetype": "text/x-python",
      "name": "python",
      "nbconvert_exporter": "python",
      "pygments_lexer": "ipython3",
      "version": "3.9.7"
    }
  },
  "nbformat": 4,
  "nbformat_minor": 5
}